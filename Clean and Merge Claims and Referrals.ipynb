{
 "cells": [
  {
   "cell_type": "markdown",
   "metadata": {},
   "source": [
    "Separately run referrals and claims queries.\n",
    "This file imports the results of those queries, cleans and standardizes each, and merges them for analysis."
   ]
  },
  {
   "cell_type": "code",
   "execution_count": 150,
   "metadata": {},
   "outputs": [],
   "source": [
    "import pandas as pd\n",
    "import numpy as np\n",
    "from datetime import datetime, timedelta\n",
    "import matplotlib.pyplot as plt\n",
    "import pyodbc\n",
    "import os"
   ]
  },
  {
   "cell_type": "markdown",
   "metadata": {},
   "source": [
    "## Import Data"
   ]
  },
  {
   "cell_type": "code",
   "execution_count": 2,
   "metadata": {},
   "outputs": [],
   "source": [
    "# with open('referrals.sql', 'r') as myfile:\n",
    "#     cpts_sql_str=myfile.read().replace('\\n', ' ')\n",
    "\n",
    "# cnxn_cpts = pyodbc.connect('DRIVER={SQL Server};SERVER=colo-dwrpt01;DATABASE=IADS_V3')\n",
    "\n",
    "# cpts = pd.read_sql(cpts_sql_str, cnxn_cpts)\n",
    "\n",
    "# cnxn_cpts.close()"
   ]
  },
  {
   "cell_type": "code",
   "execution_count": 3,
   "metadata": {},
   "outputs": [],
   "source": [
    "# cpts.to_csv('../Data/cpts_raw.csv', sep='|')"
   ]
  },
  {
   "cell_type": "code",
   "execution_count": 4,
   "metadata": {},
   "outputs": [],
   "source": [
    "# with open('claims.sql', 'r') as myfile:\n",
    "#     claims_sql_str=myfile.read().replace('\\n', ' ')\n",
    "\n",
    "# cnxn_claims = pyodbc.connect('DRIVER={SQL Server};SERVER=colo-dwrpt01;DATABASE=NATIONAL_ANALYTICS')\n",
    "\n",
    "# claims = pd.read_sql(claims_sql_str, cnxn_claims)\n",
    "\n",
    "# cnxn_claims.close()"
   ]
  },
  {
   "cell_type": "code",
   "execution_count": 5,
   "metadata": {},
   "outputs": [],
   "source": [
    "# claims.to_csv('../Data/claims_raw.csv', sep='|')"
   ]
  },
  {
   "cell_type": "code",
   "execution_count": 6,
   "metadata": {},
   "outputs": [],
   "source": [
    "# with open('referrals_new.sql', 'r') as myfile:\n",
    "#     cpts_new_sql_str=myfile.read().replace('\\n', ' ')\n",
    "\n",
    "# cnxn_cpts_new = pyodbc.connect('DRIVER={SQL Server};SERVER=colo-dwrpt01;DATABASE=IADS_V3')\n",
    "\n",
    "# cpts_new = pd.read_sql(cpts_new_sql_str, cnxn_cpts_new)\n",
    "\n",
    "# cnxn_cpts_new.close()"
   ]
  },
  {
   "cell_type": "code",
   "execution_count": 7,
   "metadata": {},
   "outputs": [],
   "source": [
    "# cpts_new.to_csv('../Data/cpts_new_raw.csv', sep='|')"
   ]
  },
  {
   "cell_type": "code",
   "execution_count": 8,
   "metadata": {},
   "outputs": [],
   "source": [
    "# with open('cpt_desc.sql', 'r') as myfile:\n",
    "#     cpt_desc_sql_str=myfile.read().replace('\\n', ' ')\n",
    "\n",
    "# cnxn_cpt_desc = pyodbc.connect('DRIVER={SQL Server};SERVER=colo-dwrpt01;DATABASE=IADS_V3')\n",
    "\n",
    "# cpt_desc = pd.read_sql(cpt_desc_sql_str, cnxn_cpt_desc)\n",
    "\n",
    "# cnxn_cpt_desc.close()"
   ]
  },
  {
   "cell_type": "code",
   "execution_count": 9,
   "metadata": {},
   "outputs": [],
   "source": [
    "# cpt_desc.to_csv('../Data/cpt_desc_raw.csv', sep='|')"
   ]
  },
  {
   "cell_type": "code",
   "execution_count": 151,
   "metadata": {},
   "outputs": [],
   "source": [
    "clinical_decisions_20190503_remove = pd.read_csv('../data/clinical_decision_20190503_remove.csv')"
   ]
  },
  {
   "cell_type": "code",
   "execution_count": 152,
   "metadata": {},
   "outputs": [],
   "source": [
    "clinical_decisions_20190503_add = pd.read_csv('../data/clinical_decision_20190503_add.csv')"
   ]
  },
  {
   "cell_type": "code",
   "execution_count": 153,
   "metadata": {},
   "outputs": [],
   "source": [
    "clinical_decisions_20190517 = pd.read_csv('../data/clinical_decision_20190517.csv')"
   ]
  },
  {
   "cell_type": "code",
   "execution_count": 154,
   "metadata": {},
   "outputs": [],
   "source": [
    "cpts = pd.read_csv('../Data/cpts_raw.csv', sep='|')"
   ]
  },
  {
   "cell_type": "code",
   "execution_count": 155,
   "metadata": {},
   "outputs": [],
   "source": [
    "cpts.drop(['Unnamed: 0'], inplace=True, axis=1)"
   ]
  },
  {
   "cell_type": "code",
   "execution_count": 156,
   "metadata": {},
   "outputs": [],
   "source": [
    "claims = pd.read_csv('../Data/claims_raw.csv', sep='|')"
   ]
  },
  {
   "cell_type": "code",
   "execution_count": 157,
   "metadata": {},
   "outputs": [],
   "source": [
    "claims.drop(['Unnamed: 0'], inplace=True, axis=1)"
   ]
  },
  {
   "cell_type": "code",
   "execution_count": 158,
   "metadata": {},
   "outputs": [],
   "source": [
    "cpts_new = pd.read_csv('../Data/cpts_new_raw.csv', sep='|')"
   ]
  },
  {
   "cell_type": "code",
   "execution_count": 159,
   "metadata": {},
   "outputs": [],
   "source": [
    "cpts_new.drop(['Unnamed: 0'], inplace=True, axis=1)"
   ]
  },
  {
   "cell_type": "code",
   "execution_count": 160,
   "metadata": {},
   "outputs": [],
   "source": [
    "cpt_desc = pd.read_csv('../Data/cpt_desc_raw.csv', sep='|')"
   ]
  },
  {
   "cell_type": "code",
   "execution_count": 161,
   "metadata": {},
   "outputs": [],
   "source": [
    "cpt_desc.drop(['Unnamed: 0'], inplace=True, axis=1)"
   ]
  },
  {
   "cell_type": "markdown",
   "metadata": {},
   "source": [
    "## Clean cpts"
   ]
  },
  {
   "cell_type": "code",
   "execution_count": 162,
   "metadata": {},
   "outputs": [],
   "source": [
    "list_o_specs_original = list(set(cpts['Specialty'].unique().tolist() + cpts_new['Specialty'].unique().tolist()))"
   ]
  },
  {
   "cell_type": "code",
   "execution_count": 163,
   "metadata": {},
   "outputs": [],
   "source": [
    "cpts_head = cpts.drop_duplicates(subset='HCP_CONNECT_AUTH_NUMBER').reset_index()\n",
    "\n",
    "cpts_head.drop(columns = ['index', 'CPT_Code', 'Date_Decision',\n",
    "       'Date_Received', 'ref_type', 'region', 'UNITS'], inplace=True)\n",
    "\n",
    "cpts_head = cpts_head[cpts_head['HCP_CONNECT_AUTH_NUMBER'].isna()==False].reset_index()"
   ]
  },
  {
   "cell_type": "code",
   "execution_count": 164,
   "metadata": {},
   "outputs": [],
   "source": [
    "cpts['Date_Decision'] = pd.to_datetime(cpts['Date_Decision'])"
   ]
  },
  {
   "cell_type": "code",
   "execution_count": 165,
   "metadata": {},
   "outputs": [],
   "source": [
    "cpts['Date_Received'] = pd.to_datetime(cpts['Date_Received'])"
   ]
  },
  {
   "cell_type": "code",
   "execution_count": 166,
   "metadata": {},
   "outputs": [
    {
     "data": {
      "text/plain": [
       "0"
      ]
     },
     "execution_count": 166,
     "metadata": {},
     "output_type": "execute_result"
    }
   ],
   "source": [
    "cpts['LOB'].isna().sum()"
   ]
  },
  {
   "cell_type": "code",
   "execution_count": 167,
   "metadata": {},
   "outputs": [],
   "source": [
    "new_lob = {'COMMERCIAL': '_b',\n",
    "               'SENIOR': '_s',\n",
    "          'MEDI-CAL': '_s'}\n",
    "cpts['LOB'] = cpts['LOB'].replace(new_lob)"
   ]
  },
  {
   "cell_type": "code",
   "execution_count": 168,
   "metadata": {},
   "outputs": [],
   "source": [
    "## Define a list of specialties that will be broken out into LOB for the purposes of AA\n",
    "specs_w_lob_distinct = ['RADIOLOGY']"
   ]
  },
  {
   "cell_type": "code",
   "execution_count": 169,
   "metadata": {},
   "outputs": [],
   "source": [
    "for spec in list_o_specs_original:\n",
    "    if spec in specs_w_lob_distinct:\n",
    "        cpts['Specialty'] = np.where(cpts['Specialty']==spec, cpts['Specialty']+cpts['LOB'], cpts['Specialty'])\n",
    "    "
   ]
  },
  {
   "cell_type": "markdown",
   "metadata": {},
   "source": [
    "## Clean Claims"
   ]
  },
  {
   "cell_type": "code",
   "execution_count": 170,
   "metadata": {},
   "outputs": [],
   "source": [
    "## Claims sum is used for the cost of a cpt code when it doesn't exist in claims for the associated specialty\n",
    "claims_sum = claims.groupby(['CPT_Code'], as_index=False).agg({'avg_hcp_cost': 'mean'})"
   ]
  },
  {
   "cell_type": "markdown",
   "metadata": {},
   "source": [
    "## Clean Clinical Decisions"
   ]
  },
  {
   "cell_type": "code",
   "execution_count": 171,
   "metadata": {},
   "outputs": [
    {
     "data": {
      "text/plain": [
       "array(['Concern for Over-Utilization',\n",
       "       'Cost  containment with this speciality', 'GUIDELINE REQ',\n",
       "       'Inappropriate location', 'NEEDS BENEFIT CHECK', 'Needs Review',\n",
       "       'needs review', 'Not CMS benefit',\n",
       "       'RNL Stauts, intentionally surpressed, not currently reviewed; additional discussion',\n",
       "       'Unclassified Drugs', ' Capped Providers/Employed ', 'drug?',\n",
       "       'Facility Code', 'Heavy cap volume',\n",
       "       'ok to AA to employed/cap providers. R1,II,III,VI', 'Old code',\n",
       "       'UPCODING', nan], dtype=object)"
      ]
     },
     "execution_count": 171,
     "metadata": {},
     "output_type": "execute_result"
    }
   ],
   "source": [
    "clinical_decisions_20190503_remove['Notes'].unique()"
   ]
  },
  {
   "cell_type": "code",
   "execution_count": 172,
   "metadata": {},
   "outputs": [],
   "source": [
    "new_reason = {' Capped Providers/Employed ': 'capped providers',\n",
    "               'Concern for Over-Utilization': 'overutilization concern',\n",
    "               'Cost  containment with this speciality': 'cost containment',\n",
    "               'drug?': 'UD',\n",
    "               'Facility Code': 'facility code',\n",
    "               'GUIDELINE REQ': 'guideline req', \n",
    "               'Heavy cap volume': 'heavy cap vol', \n",
    "               'Inappropriate location': 'inappropriate loc',\n",
    "               'NEEDS BENEFIT CHECK': 'bene check', \n",
    "               'Needs Review': 'needs review', \n",
    "               'needs review': 'needs review',\n",
    "               'Not CMS benefit': 'not CMS bene',\n",
    "               'ok to AA to employed/cap providers. R1,II,III,VI': 'can approve',\n",
    "               'Old code': 'old code',\n",
    "               'RNL Stauts, intentionally surpressed, not currently reviewed; additional discussion': 'RNL',\n",
    "               'Unclassified Drugs': 'unclassified drug', \n",
    "               'UPCODING': 'upcode'}\n",
    "clinical_decisions_20190503_remove['Notes'] = clinical_decisions_20190503_remove['Notes'].replace(new_reason)\n",
    "clinical_decisions_20190503_add['Notes'] = clinical_decisions_20190503_add['Notes'].replace(new_reason)"
   ]
  },
  {
   "cell_type": "markdown",
   "metadata": {},
   "source": [
    "## Feature Engineering"
   ]
  },
  {
   "cell_type": "code",
   "execution_count": 173,
   "metadata": {},
   "outputs": [],
   "source": [
    "## flag retro statuses with 1 and 0\n",
    "retro_conditions = [\n",
    " (cpts['status_name'] == 'APPROVED - RETRO REVIEW') |\n",
    " (cpts['status_name'] == 'DENIED - RETRO REVIEW') |\n",
    " (cpts['status_name'] == 'APPROVED - COB RETRO') |\n",
    " (cpts['status_name'] == 'PENDING - RETRO REVIEW') \n",
    "  ]"
   ]
  },
  {
   "cell_type": "code",
   "execution_count": 174,
   "metadata": {},
   "outputs": [],
   "source": [
    "## Create Refs - the older set of referrals from which we make the rules"
   ]
  },
  {
   "cell_type": "code",
   "execution_count": 175,
   "metadata": {},
   "outputs": [],
   "source": [
    "choices = [1]\n",
    "cpts['is_retro'] = np.select(retro_conditions, choices, default=0)"
   ]
  },
  {
   "cell_type": "code",
   "execution_count": 176,
   "metadata": {},
   "outputs": [],
   "source": [
    "## remove retros from list and drop 'is_retro' as it is no longer needed\n",
    "cpts = cpts[cpts['is_retro']==0]\n",
    "\n",
    "cpts.drop(columns='is_retro', inplace=True)"
   ]
  },
  {
   "cell_type": "code",
   "execution_count": 177,
   "metadata": {},
   "outputs": [],
   "source": [
    "cpts_det = cpts\n",
    "\n",
    "cpts_det.drop(columns = ['PPL', 'Date_Decision',\n",
    "       'Date_Received', 'ref_type', 'status_cat', 'status_name', 'Specialty',\n",
    "       'region', 'UNITS'])\n",
    "\n",
    "cpts_det = cpts_det[cpts_det['HCP_CONNECT_AUTH_NUMBER'].isna()==False].reset_index()"
   ]
  },
  {
   "cell_type": "code",
   "execution_count": 178,
   "metadata": {},
   "outputs": [],
   "source": [
    "cpts['is_autoapp'] = np.where(cpts['status_name']=='APPROVED - AUTO', 1, 0)"
   ]
  },
  {
   "cell_type": "code",
   "execution_count": 179,
   "metadata": {},
   "outputs": [],
   "source": [
    "cpts.PPL.fillna(\"N\", inplace=True)"
   ]
  },
  {
   "cell_type": "code",
   "execution_count": 180,
   "metadata": {},
   "outputs": [],
   "source": [
    "cpts['is_PPL'] = np.where(cpts['PPL']=='Y', 1, 0)"
   ]
  },
  {
   "cell_type": "code",
   "execution_count": 181,
   "metadata": {},
   "outputs": [],
   "source": [
    "den_conditions = [\n",
    " (cpts['status_name'] == 'DENIED - CM') |\n",
    " (cpts['status_name'] == 'DENIED - BENEFIT CARVE OUT') |\n",
    " (cpts['status_name'] == 'DENIED - NOT A COVERED BENEFIT') |\n",
    " (cpts['status_name'] == 'DENIED - APPEAL') |\n",
    " (cpts['status_name'] == 'DENIED - CLINICAL TRIAL/EXP/INV') |\n",
    " (cpts['status_name'] == 'DENIED - TRANSPLANT') |\n",
    " (cpts['status_name'] == 'DENIED - MD') |\n",
    " (cpts['status_name'] == 'DENIED - CM/MD') |\n",
    " (cpts['status_name'] == 'DENIED - REDIRECT OSVN') |\n",
    " (cpts['status_name'] == 'DENIED - TICKLER')\n",
    "  ]"
   ]
  },
  {
   "cell_type": "code",
   "execution_count": 182,
   "metadata": {},
   "outputs": [],
   "source": [
    "choices = [1]\n",
    "cpts['is_den'] = np.select(den_conditions, choices, default=0)"
   ]
  },
  {
   "cell_type": "code",
   "execution_count": 183,
   "metadata": {},
   "outputs": [],
   "source": [
    "cpts['is_app'] = np.where(cpts['status_cat']=='APPROVED', 1, 0)"
   ]
  },
  {
   "cell_type": "markdown",
   "metadata": {},
   "source": [
    "## Clean cpts_new - a new set of referrals to apply the rules to."
   ]
  },
  {
   "cell_type": "code",
   "execution_count": 184,
   "metadata": {},
   "outputs": [],
   "source": [
    "cpts_new['Date_Decision'] = pd.to_datetime(cpts_new['Date_Decision'])"
   ]
  },
  {
   "cell_type": "code",
   "execution_count": 185,
   "metadata": {},
   "outputs": [],
   "source": [
    "cpts_new['Date_Received'] = pd.to_datetime(cpts_new['Date_Received'])"
   ]
  },
  {
   "cell_type": "code",
   "execution_count": 186,
   "metadata": {},
   "outputs": [],
   "source": [
    "new_lob = {'COMMERCIAL': '_b',\n",
    "               'SENIOR': '_s',\n",
    "          'MEDI-CAL': '_s'}\n",
    "cpts_new['LOB'] = cpts_new['LOB'].replace(new_lob)"
   ]
  },
  {
   "cell_type": "code",
   "execution_count": 187,
   "metadata": {},
   "outputs": [],
   "source": [
    "for spec in list_o_specs_original:\n",
    "    if spec in specs_w_lob_distinct:\n",
    "        cpts_new['Specialty'] = np.where(cpts_new['Specialty']==spec, cpts_new['Specialty']+cpts_new['LOB'], cpts_new['Specialty'])\n",
    "    "
   ]
  },
  {
   "cell_type": "code",
   "execution_count": 188,
   "metadata": {},
   "outputs": [],
   "source": [
    "## flag retro statuses with 1 and 0\n",
    "retro_conditions_new = [\n",
    " (cpts_new['status_name'] == 'APPROVED - RETRO REVIEW') |\n",
    " (cpts_new['status_name'] == 'DENIED - RETRO REVIEW') |\n",
    " (cpts_new['status_name'] == 'APPROVED - COB RETRO') |\n",
    " (cpts_new['status_name'] == 'PENDING - RETRO REVIEW') \n",
    "  ]"
   ]
  },
  {
   "cell_type": "code",
   "execution_count": 189,
   "metadata": {},
   "outputs": [],
   "source": [
    "choices = [1]\n",
    "cpts_new['is_retro'] = np.select(retro_conditions_new, choices, default=0)"
   ]
  },
  {
   "cell_type": "code",
   "execution_count": 190,
   "metadata": {},
   "outputs": [],
   "source": [
    "## remove retros from list and drop 'is_retro' as it is no longer needed\n",
    "cpts_new = cpts_new[cpts_new['is_retro']==0]\n",
    "\n",
    "cpts_new.drop(columns='is_retro', inplace=True)"
   ]
  },
  {
   "cell_type": "code",
   "execution_count": 191,
   "metadata": {},
   "outputs": [],
   "source": [
    "cpts_new['is_autoapp'] = np.where(cpts_new['status_name']=='APPROVED - AUTO', 1, 0)"
   ]
  },
  {
   "cell_type": "code",
   "execution_count": 192,
   "metadata": {},
   "outputs": [],
   "source": [
    "cpts_new.PPL.fillna(\"N\", inplace=True)"
   ]
  },
  {
   "cell_type": "code",
   "execution_count": 193,
   "metadata": {},
   "outputs": [],
   "source": [
    "cpts_new['is_PPL'] = np.where(cpts_new['PPL']=='Y', 1, 0)"
   ]
  },
  {
   "cell_type": "code",
   "execution_count": 194,
   "metadata": {},
   "outputs": [],
   "source": [
    "cpts_new['is_app'] = np.where(cpts_new['status_cat']=='APPROVED', 1, 0)"
   ]
  },
  {
   "cell_type": "code",
   "execution_count": 195,
   "metadata": {},
   "outputs": [],
   "source": [
    "cpts_new['UNITS'] = 1"
   ]
  },
  {
   "cell_type": "code",
   "execution_count": 196,
   "metadata": {},
   "outputs": [],
   "source": [
    "den_conditions_new = [\n",
    " (cpts_new['status_name'] == 'DENIED - CM') |\n",
    " (cpts_new['status_name'] == 'DENIED - BENEFIT CARVE OUT') |\n",
    " (cpts_new['status_name'] == 'DENIED - NOT A COVERED BENEFIT') |\n",
    " (cpts_new['status_name'] == 'DENIED - APPEAL') |\n",
    " (cpts_new['status_name'] == 'DENIED - CLINICAL TRIAL/EXP/INV') |\n",
    " (cpts_new['status_name'] == 'DENIED - TRANSPLANT') |\n",
    " (cpts_new['status_name'] == 'DENIED - MD') |\n",
    " (cpts_new['status_name'] == 'DENIED - CM/MD') |\n",
    " (cpts_new['status_name'] == 'DENIED - REDIRECT OSVN') |\n",
    " (cpts_new['status_name'] == 'DENIED - TICKLER')\n",
    "  ]"
   ]
  },
  {
   "cell_type": "code",
   "execution_count": 197,
   "metadata": {},
   "outputs": [],
   "source": [
    "choices = [1]\n",
    "cpts_new['is_den'] = np.select(den_conditions_new, choices, default=0)"
   ]
  },
  {
   "cell_type": "code",
   "execution_count": 198,
   "metadata": {},
   "outputs": [],
   "source": [
    "cpts_new = cpts_new[cpts_new['HCP_CONNECT_AUTH_NUMBER'].isna()==False].reset_index()"
   ]
  },
  {
   "cell_type": "code",
   "execution_count": 199,
   "metadata": {},
   "outputs": [
    {
     "data": {
      "text/html": [
       "<div>\n",
       "<style scoped>\n",
       "    .dataframe tbody tr th:only-of-type {\n",
       "        vertical-align: middle;\n",
       "    }\n",
       "\n",
       "    .dataframe tbody tr th {\n",
       "        vertical-align: top;\n",
       "    }\n",
       "\n",
       "    .dataframe thead th {\n",
       "        text-align: right;\n",
       "    }\n",
       "</style>\n",
       "<table border=\"1\" class=\"dataframe\">\n",
       "  <thead>\n",
       "    <tr style=\"text-align: right;\">\n",
       "      <th></th>\n",
       "      <th></th>\n",
       "      <th>HCP_CONNECT_AUTH_NUMBER</th>\n",
       "    </tr>\n",
       "    <tr>\n",
       "      <th>is_autoapp</th>\n",
       "      <th>is_den</th>\n",
       "      <th></th>\n",
       "    </tr>\n",
       "  </thead>\n",
       "  <tbody>\n",
       "    <tr>\n",
       "      <th rowspan=\"2\" valign=\"top\">0</th>\n",
       "      <th>0</th>\n",
       "      <td>639658</td>\n",
       "    </tr>\n",
       "    <tr>\n",
       "      <th>1</th>\n",
       "      <td>16975</td>\n",
       "    </tr>\n",
       "    <tr>\n",
       "      <th>1</th>\n",
       "      <th>0</th>\n",
       "      <td>294252</td>\n",
       "    </tr>\n",
       "    <tr>\n",
       "      <th>All</th>\n",
       "      <th></th>\n",
       "      <td>950885</td>\n",
       "    </tr>\n",
       "  </tbody>\n",
       "</table>\n",
       "</div>"
      ],
      "text/plain": [
       "                   HCP_CONNECT_AUTH_NUMBER\n",
       "is_autoapp is_den                         \n",
       "0          0                        639658\n",
       "           1                         16975\n",
       "1          0                        294252\n",
       "All                                 950885"
      ]
     },
     "execution_count": 199,
     "metadata": {},
     "output_type": "execute_result"
    }
   ],
   "source": [
    "cpts_new.pivot_table(values='HCP_CONNECT_AUTH_NUMBER', index=['is_autoapp', 'is_den'], aggfunc='count', margins=True)"
   ]
  },
  {
   "cell_type": "code",
   "execution_count": 200,
   "metadata": {},
   "outputs": [],
   "source": [
    "cpts_new.drop(labels=['index', 'REF_TYPE_KEY', 'PPL', 'Date_Received', 'Date_Decision', 'status_cat'], axis=1, inplace=True)"
   ]
  },
  {
   "cell_type": "code",
   "execution_count": 201,
   "metadata": {},
   "outputs": [],
   "source": [
    "list_o_specs = list(set(cpts['Specialty'].unique().tolist() + cpts_new['Specialty'].unique().tolist()))"
   ]
  },
  {
   "cell_type": "markdown",
   "metadata": {},
   "source": [
    "## Switch Point - old referrals vs new referrals"
   ]
  },
  {
   "cell_type": "code",
   "execution_count": 70,
   "metadata": {},
   "outputs": [],
   "source": [
    "#cpts_new = cpts"
   ]
  },
  {
   "cell_type": "markdown",
   "metadata": {},
   "source": [
    "## Create cpts_manual"
   ]
  },
  {
   "cell_type": "code",
   "execution_count": 71,
   "metadata": {},
   "outputs": [],
   "source": [
    "## This is a cpt_code level list of all manually reviewed referrals"
   ]
  },
  {
   "cell_type": "code",
   "execution_count": 202,
   "metadata": {},
   "outputs": [],
   "source": [
    "cpts_manual = cpts[cpts['is_autoapp']==0]"
   ]
  },
  {
   "cell_type": "code",
   "execution_count": 203,
   "metadata": {},
   "outputs": [
    {
     "data": {
      "text/html": [
       "<div>\n",
       "<style scoped>\n",
       "    .dataframe tbody tr th:only-of-type {\n",
       "        vertical-align: middle;\n",
       "    }\n",
       "\n",
       "    .dataframe tbody tr th {\n",
       "        vertical-align: top;\n",
       "    }\n",
       "\n",
       "    .dataframe thead th {\n",
       "        text-align: right;\n",
       "    }\n",
       "</style>\n",
       "<table border=\"1\" class=\"dataframe\">\n",
       "  <thead>\n",
       "    <tr style=\"text-align: right;\">\n",
       "      <th></th>\n",
       "      <th></th>\n",
       "      <th>HCP_CONNECT_AUTH_NUMBER</th>\n",
       "    </tr>\n",
       "    <tr>\n",
       "      <th>is_autoapp</th>\n",
       "      <th>is_den</th>\n",
       "      <th></th>\n",
       "    </tr>\n",
       "  </thead>\n",
       "  <tbody>\n",
       "    <tr>\n",
       "      <th rowspan=\"2\" valign=\"top\">0</th>\n",
       "      <th>0</th>\n",
       "      <td>2532456</td>\n",
       "    </tr>\n",
       "    <tr>\n",
       "      <th>1</th>\n",
       "      <td>59258</td>\n",
       "    </tr>\n",
       "    <tr>\n",
       "      <th>All</th>\n",
       "      <th></th>\n",
       "      <td>2591714</td>\n",
       "    </tr>\n",
       "  </tbody>\n",
       "</table>\n",
       "</div>"
      ],
      "text/plain": [
       "                   HCP_CONNECT_AUTH_NUMBER\n",
       "is_autoapp is_den                         \n",
       "0          0                       2532456\n",
       "           1                         59258\n",
       "All                                2591714"
      ]
     },
     "execution_count": 203,
     "metadata": {},
     "output_type": "execute_result"
    }
   ],
   "source": [
    "cpts_manual.pivot_table(values='HCP_CONNECT_AUTH_NUMBER', index=['is_autoapp', 'is_den'], aggfunc='count', margins=True)"
   ]
  },
  {
   "cell_type": "code",
   "execution_count": 204,
   "metadata": {},
   "outputs": [],
   "source": [
    "## Calculate Cost per manually reviewed CPT code\n",
    "\n",
    "ga_cpt = 6500000 / cpts[cpts['is_autoapp']==0].shape[0]"
   ]
  },
  {
   "cell_type": "code",
   "execution_count": 205,
   "metadata": {},
   "outputs": [],
   "source": [
    "ga_cpt = 2.53"
   ]
  },
  {
   "cell_type": "code",
   "execution_count": 206,
   "metadata": {},
   "outputs": [],
   "source": [
    "## This is a grouped list of refs_manual that summarizes the volume of manually reviewed cpt_codes"
   ]
  },
  {
   "cell_type": "code",
   "execution_count": 207,
   "metadata": {},
   "outputs": [],
   "source": [
    "cpts_manual = cpts_manual.groupby(['Specialty', 'CPT_Code', 'is_PPL'], as_index=False).agg({\n",
    "    'UNITS' : 'count'\n",
    "})"
   ]
  },
  {
   "cell_type": "code",
   "execution_count": 208,
   "metadata": {},
   "outputs": [],
   "source": [
    "cpts_manual.rename(index=str, columns={'UNITS': 'UNITS_man'}, inplace=True)"
   ]
  },
  {
   "cell_type": "code",
   "execution_count": 209,
   "metadata": {},
   "outputs": [],
   "source": [
    "cpts_manual['cost_to_review'] = cpts_manual['UNITS_man']*ga_cpt"
   ]
  },
  {
   "cell_type": "markdown",
   "metadata": {},
   "source": [
    "## Create cptssum"
   ]
  },
  {
   "cell_type": "code",
   "execution_count": 210,
   "metadata": {},
   "outputs": [],
   "source": [
    "cptssum = cpts.groupby(['Specialty', 'CPT_Code', 'is_PPL'], as_index=False).agg({\n",
    "    'UNITS': 'count',\n",
    "    'is_autoapp': 'mean',\n",
    "    'is_den': 'mean',\n",
    "})"
   ]
  },
  {
   "cell_type": "code",
   "execution_count": 211,
   "metadata": {},
   "outputs": [],
   "source": [
    "cpts_w_claims0 = pd.merge(cptssum, cpts_manual, on=['Specialty', 'CPT_Code', 'is_PPL'], how='left')"
   ]
  },
  {
   "cell_type": "code",
   "execution_count": 212,
   "metadata": {},
   "outputs": [
    {
     "data": {
      "text/html": [
       "<div>\n",
       "<style scoped>\n",
       "    .dataframe tbody tr th:only-of-type {\n",
       "        vertical-align: middle;\n",
       "    }\n",
       "\n",
       "    .dataframe tbody tr th {\n",
       "        vertical-align: top;\n",
       "    }\n",
       "\n",
       "    .dataframe thead th {\n",
       "        text-align: right;\n",
       "    }\n",
       "</style>\n",
       "<table border=\"1\" class=\"dataframe\">\n",
       "  <thead>\n",
       "    <tr style=\"text-align: right;\">\n",
       "      <th></th>\n",
       "      <th>Specialty</th>\n",
       "      <th>CPT_Code</th>\n",
       "      <th>is_PPL</th>\n",
       "      <th>UNITS</th>\n",
       "      <th>is_autoapp</th>\n",
       "      <th>is_den</th>\n",
       "      <th>UNITS_man</th>\n",
       "      <th>cost_to_review</th>\n",
       "    </tr>\n",
       "  </thead>\n",
       "  <tbody>\n",
       "    <tr>\n",
       "      <th>0</th>\n",
       "      <td>ACUPUNCTURE</td>\n",
       "      <td>20550</td>\n",
       "      <td>1</td>\n",
       "      <td>1</td>\n",
       "      <td>0.0</td>\n",
       "      <td>0.000000</td>\n",
       "      <td>1.0</td>\n",
       "      <td>2.53</td>\n",
       "    </tr>\n",
       "    <tr>\n",
       "      <th>1</th>\n",
       "      <td>ACUPUNCTURE</td>\n",
       "      <td>20552</td>\n",
       "      <td>1</td>\n",
       "      <td>2</td>\n",
       "      <td>0.0</td>\n",
       "      <td>0.000000</td>\n",
       "      <td>2.0</td>\n",
       "      <td>5.06</td>\n",
       "    </tr>\n",
       "    <tr>\n",
       "      <th>2</th>\n",
       "      <td>ACUPUNCTURE</td>\n",
       "      <td>20610</td>\n",
       "      <td>1</td>\n",
       "      <td>2</td>\n",
       "      <td>0.0</td>\n",
       "      <td>0.000000</td>\n",
       "      <td>2.0</td>\n",
       "      <td>5.06</td>\n",
       "    </tr>\n",
       "    <tr>\n",
       "      <th>3</th>\n",
       "      <td>ACUPUNCTURE</td>\n",
       "      <td>2101</td>\n",
       "      <td>0</td>\n",
       "      <td>12</td>\n",
       "      <td>0.0</td>\n",
       "      <td>1.000000</td>\n",
       "      <td>12.0</td>\n",
       "      <td>30.36</td>\n",
       "    </tr>\n",
       "    <tr>\n",
       "      <th>4</th>\n",
       "      <td>ACUPUNCTURE</td>\n",
       "      <td>2101</td>\n",
       "      <td>1</td>\n",
       "      <td>7</td>\n",
       "      <td>0.0</td>\n",
       "      <td>0.857143</td>\n",
       "      <td>7.0</td>\n",
       "      <td>17.71</td>\n",
       "    </tr>\n",
       "  </tbody>\n",
       "</table>\n",
       "</div>"
      ],
      "text/plain": [
       "     Specialty CPT_Code  is_PPL  UNITS  is_autoapp    is_den  UNITS_man  \\\n",
       "0  ACUPUNCTURE    20550       1      1         0.0  0.000000        1.0   \n",
       "1  ACUPUNCTURE    20552       1      2         0.0  0.000000        2.0   \n",
       "2  ACUPUNCTURE    20610       1      2         0.0  0.000000        2.0   \n",
       "3  ACUPUNCTURE     2101       0     12         0.0  1.000000       12.0   \n",
       "4  ACUPUNCTURE     2101       1      7         0.0  0.857143        7.0   \n",
       "\n",
       "   cost_to_review  \n",
       "0            2.53  \n",
       "1            5.06  \n",
       "2            5.06  \n",
       "3           30.36  \n",
       "4           17.71  "
      ]
     },
     "execution_count": 212,
     "metadata": {},
     "output_type": "execute_result"
    }
   ],
   "source": [
    "cpts_w_claims0.head()"
   ]
  },
  {
   "cell_type": "code",
   "execution_count": 213,
   "metadata": {},
   "outputs": [
    {
     "data": {
      "text/html": [
       "<div>\n",
       "<style scoped>\n",
       "    .dataframe tbody tr th:only-of-type {\n",
       "        vertical-align: middle;\n",
       "    }\n",
       "\n",
       "    .dataframe tbody tr th {\n",
       "        vertical-align: top;\n",
       "    }\n",
       "\n",
       "    .dataframe thead th {\n",
       "        text-align: right;\n",
       "    }\n",
       "</style>\n",
       "<table border=\"1\" class=\"dataframe\">\n",
       "  <thead>\n",
       "    <tr style=\"text-align: right;\">\n",
       "      <th></th>\n",
       "      <th>Specialty</th>\n",
       "      <th>CPT_Code</th>\n",
       "      <th>cnt_hcp_cost</th>\n",
       "      <th>avg_hcp_cost</th>\n",
       "      <th>sd_hcp_cost</th>\n",
       "    </tr>\n",
       "  </thead>\n",
       "  <tbody>\n",
       "    <tr>\n",
       "      <th>0</th>\n",
       "      <td>ACUPUNCTURE</td>\n",
       "      <td>97010</td>\n",
       "      <td>9</td>\n",
       "      <td>65.0000</td>\n",
       "      <td>0.000000</td>\n",
       "    </tr>\n",
       "    <tr>\n",
       "      <th>1</th>\n",
       "      <td>ACUPUNCTURE</td>\n",
       "      <td>97016</td>\n",
       "      <td>171</td>\n",
       "      <td>19.5935</td>\n",
       "      <td>16.730112</td>\n",
       "    </tr>\n",
       "    <tr>\n",
       "      <th>2</th>\n",
       "      <td>ACUPUNCTURE</td>\n",
       "      <td>97024</td>\n",
       "      <td>1</td>\n",
       "      <td>10.0000</td>\n",
       "      <td>NaN</td>\n",
       "    </tr>\n",
       "    <tr>\n",
       "      <th>3</th>\n",
       "      <td>ACUPUNCTURE</td>\n",
       "      <td>97026</td>\n",
       "      <td>252</td>\n",
       "      <td>4.6179</td>\n",
       "      <td>1.371409</td>\n",
       "    </tr>\n",
       "    <tr>\n",
       "      <th>4</th>\n",
       "      <td>ACUPUNCTURE</td>\n",
       "      <td>97110</td>\n",
       "      <td>7</td>\n",
       "      <td>41.4285</td>\n",
       "      <td>7.480132</td>\n",
       "    </tr>\n",
       "  </tbody>\n",
       "</table>\n",
       "</div>"
      ],
      "text/plain": [
       "     Specialty CPT_Code  cnt_hcp_cost  avg_hcp_cost  sd_hcp_cost\n",
       "0  ACUPUNCTURE    97010             9       65.0000     0.000000\n",
       "1  ACUPUNCTURE    97016           171       19.5935    16.730112\n",
       "2  ACUPUNCTURE    97024             1       10.0000          NaN\n",
       "3  ACUPUNCTURE    97026           252        4.6179     1.371409\n",
       "4  ACUPUNCTURE    97110             7       41.4285     7.480132"
      ]
     },
     "execution_count": 213,
     "metadata": {},
     "output_type": "execute_result"
    }
   ],
   "source": [
    "claims.head()"
   ]
  },
  {
   "cell_type": "code",
   "execution_count": 214,
   "metadata": {},
   "outputs": [],
   "source": [
    "cpts_w_claims1 = pd.merge(cpts_w_claims0, claims, on=['Specialty', 'CPT_Code'], how='left')"
   ]
  },
  {
   "cell_type": "code",
   "execution_count": 215,
   "metadata": {},
   "outputs": [],
   "source": [
    "## For spec/cpt combos that don't have claims data associated, use the average of that cpt across specialties\n",
    "cpts_w_claims2 = pd.merge(cpts_w_claims1, claims_sum, on='CPT_Code', how='left')"
   ]
  },
  {
   "cell_type": "code",
   "execution_count": 216,
   "metadata": {},
   "outputs": [],
   "source": [
    "cpts_w_claims2['avg_hcp_cost_x'] = np.where(cpts_w_claims2['avg_hcp_cost_x'].isnull(), \n",
    "                                             cpts_w_claims2['avg_hcp_cost_y'],\n",
    "                                             cpts_w_claims2['avg_hcp_cost_x'])"
   ]
  },
  {
   "cell_type": "code",
   "execution_count": 217,
   "metadata": {},
   "outputs": [],
   "source": [
    "cpts_w_claims2.drop(columns=['avg_hcp_cost_y', 'sd_hcp_cost'], inplace=True)"
   ]
  },
  {
   "cell_type": "code",
   "execution_count": 218,
   "metadata": {},
   "outputs": [],
   "source": [
    "cpts_w_claims2.rename(index=str, columns={'avg_hcp_cost_x': 'avg_hcp_cost'}, inplace=True)"
   ]
  },
  {
   "cell_type": "code",
   "execution_count": 219,
   "metadata": {},
   "outputs": [
    {
     "data": {
      "text/html": [
       "<div>\n",
       "<style scoped>\n",
       "    .dataframe tbody tr th:only-of-type {\n",
       "        vertical-align: middle;\n",
       "    }\n",
       "\n",
       "    .dataframe tbody tr th {\n",
       "        vertical-align: top;\n",
       "    }\n",
       "\n",
       "    .dataframe thead th {\n",
       "        text-align: right;\n",
       "    }\n",
       "</style>\n",
       "<table border=\"1\" class=\"dataframe\">\n",
       "  <thead>\n",
       "    <tr style=\"text-align: right;\">\n",
       "      <th></th>\n",
       "      <th>Specialty</th>\n",
       "      <th>CPT_Code</th>\n",
       "      <th>is_PPL</th>\n",
       "      <th>UNITS</th>\n",
       "      <th>is_autoapp</th>\n",
       "      <th>is_den</th>\n",
       "      <th>UNITS_man</th>\n",
       "      <th>cost_to_review</th>\n",
       "      <th>cnt_hcp_cost</th>\n",
       "      <th>avg_hcp_cost</th>\n",
       "    </tr>\n",
       "  </thead>\n",
       "  <tbody>\n",
       "    <tr>\n",
       "      <th>3748</th>\n",
       "      <td>CARDIOLOGY</td>\n",
       "      <td>0095T</td>\n",
       "      <td>0</td>\n",
       "      <td>1</td>\n",
       "      <td>0.000000</td>\n",
       "      <td>0.000000</td>\n",
       "      <td>1.0</td>\n",
       "      <td>2.53</td>\n",
       "      <td>NaN</td>\n",
       "      <td>NaN</td>\n",
       "    </tr>\n",
       "    <tr>\n",
       "      <th>3749</th>\n",
       "      <td>CARDIOLOGY</td>\n",
       "      <td>01922</td>\n",
       "      <td>0</td>\n",
       "      <td>2</td>\n",
       "      <td>0.000000</td>\n",
       "      <td>0.000000</td>\n",
       "      <td>2.0</td>\n",
       "      <td>5.06</td>\n",
       "      <td>NaN</td>\n",
       "      <td>604.377183</td>\n",
       "    </tr>\n",
       "    <tr>\n",
       "      <th>3750</th>\n",
       "      <td>CARDIOLOGY</td>\n",
       "      <td>0295T</td>\n",
       "      <td>0</td>\n",
       "      <td>51</td>\n",
       "      <td>0.000000</td>\n",
       "      <td>0.000000</td>\n",
       "      <td>51.0</td>\n",
       "      <td>129.03</td>\n",
       "      <td>4.0</td>\n",
       "      <td>73.437500</td>\n",
       "    </tr>\n",
       "    <tr>\n",
       "      <th>3751</th>\n",
       "      <td>CARDIOLOGY</td>\n",
       "      <td>0295T</td>\n",
       "      <td>1</td>\n",
       "      <td>132</td>\n",
       "      <td>0.833333</td>\n",
       "      <td>0.007576</td>\n",
       "      <td>22.0</td>\n",
       "      <td>55.66</td>\n",
       "      <td>4.0</td>\n",
       "      <td>73.437500</td>\n",
       "    </tr>\n",
       "    <tr>\n",
       "      <th>3752</th>\n",
       "      <td>CARDIOLOGY</td>\n",
       "      <td>0296T</td>\n",
       "      <td>0</td>\n",
       "      <td>100</td>\n",
       "      <td>0.000000</td>\n",
       "      <td>0.000000</td>\n",
       "      <td>100.0</td>\n",
       "      <td>253.00</td>\n",
       "      <td>38.0</td>\n",
       "      <td>63.700700</td>\n",
       "    </tr>\n",
       "  </tbody>\n",
       "</table>\n",
       "</div>"
      ],
      "text/plain": [
       "       Specialty CPT_Code  is_PPL  UNITS  is_autoapp    is_den  UNITS_man  \\\n",
       "3748  CARDIOLOGY    0095T       0      1    0.000000  0.000000        1.0   \n",
       "3749  CARDIOLOGY    01922       0      2    0.000000  0.000000        2.0   \n",
       "3750  CARDIOLOGY    0295T       0     51    0.000000  0.000000       51.0   \n",
       "3751  CARDIOLOGY    0295T       1    132    0.833333  0.007576       22.0   \n",
       "3752  CARDIOLOGY    0296T       0    100    0.000000  0.000000      100.0   \n",
       "\n",
       "      cost_to_review  cnt_hcp_cost  avg_hcp_cost  \n",
       "3748            2.53           NaN           NaN  \n",
       "3749            5.06           NaN    604.377183  \n",
       "3750          129.03           4.0     73.437500  \n",
       "3751           55.66           4.0     73.437500  \n",
       "3752          253.00          38.0     63.700700  "
      ]
     },
     "execution_count": 219,
     "metadata": {},
     "output_type": "execute_result"
    }
   ],
   "source": [
    "cpts_w_claims2[cpts_w_claims2['Specialty']=='CARDIOLOGY'].head()"
   ]
  },
  {
   "cell_type": "code",
   "execution_count": 220,
   "metadata": {},
   "outputs": [],
   "source": [
    "cpts_w_claims_fin = cpts_w_claims2"
   ]
  },
  {
   "cell_type": "code",
   "execution_count": 221,
   "metadata": {},
   "outputs": [
    {
     "data": {
      "text/plain": [
       "1726"
      ]
     },
     "execution_count": 221,
     "metadata": {},
     "output_type": "execute_result"
    }
   ],
   "source": [
    "cpts_w_claims_fin[(cpts_w_claims_fin['UNITS_man'].isnull())].shape[0]"
   ]
  },
  {
   "cell_type": "markdown",
   "metadata": {},
   "source": [
    "## Calculate ROI"
   ]
  },
  {
   "cell_type": "code",
   "execution_count": 222,
   "metadata": {},
   "outputs": [],
   "source": [
    "cpts_w_claims_fin['sum_cost_denied'] = cpts_w_claims_fin['is_den']*cpts_w_claims_fin['UNITS']*cpts_w_claims_fin['avg_hcp_cost']"
   ]
  },
  {
   "cell_type": "code",
   "execution_count": 223,
   "metadata": {},
   "outputs": [],
   "source": [
    "cpts_w_claims_fin['UNITS_man'] = np.where(cpts_w_claims_fin['UNITS_man'].isnull(), 0, cpts_w_claims_fin['UNITS_man'])"
   ]
  },
  {
   "cell_type": "code",
   "execution_count": 224,
   "metadata": {},
   "outputs": [],
   "source": [
    "cpts_w_claims_fin['ROI'] = cpts_w_claims_fin['sum_cost_denied']/cpts_w_claims_fin['cost_to_review']"
   ]
  },
  {
   "cell_type": "code",
   "execution_count": 225,
   "metadata": {},
   "outputs": [
    {
     "data": {
      "text/html": [
       "<div>\n",
       "<style scoped>\n",
       "    .dataframe tbody tr th:only-of-type {\n",
       "        vertical-align: middle;\n",
       "    }\n",
       "\n",
       "    .dataframe tbody tr th {\n",
       "        vertical-align: top;\n",
       "    }\n",
       "\n",
       "    .dataframe thead th {\n",
       "        text-align: right;\n",
       "    }\n",
       "</style>\n",
       "<table border=\"1\" class=\"dataframe\">\n",
       "  <thead>\n",
       "    <tr style=\"text-align: right;\">\n",
       "      <th></th>\n",
       "      <th>Specialty</th>\n",
       "      <th>CPT_Code</th>\n",
       "      <th>is_PPL</th>\n",
       "      <th>UNITS</th>\n",
       "      <th>is_autoapp</th>\n",
       "      <th>is_den</th>\n",
       "      <th>UNITS_man</th>\n",
       "      <th>cost_to_review</th>\n",
       "      <th>cnt_hcp_cost</th>\n",
       "      <th>avg_hcp_cost</th>\n",
       "      <th>sum_cost_denied</th>\n",
       "      <th>ROI</th>\n",
       "    </tr>\n",
       "  </thead>\n",
       "  <tbody>\n",
       "    <tr>\n",
       "      <th>3748</th>\n",
       "      <td>CARDIOLOGY</td>\n",
       "      <td>0095T</td>\n",
       "      <td>0</td>\n",
       "      <td>1</td>\n",
       "      <td>0.0</td>\n",
       "      <td>0.0</td>\n",
       "      <td>1.0</td>\n",
       "      <td>2.53</td>\n",
       "      <td>NaN</td>\n",
       "      <td>NaN</td>\n",
       "      <td>NaN</td>\n",
       "      <td>NaN</td>\n",
       "    </tr>\n",
       "    <tr>\n",
       "      <th>3760</th>\n",
       "      <td>CARDIOLOGY</td>\n",
       "      <td>0389T</td>\n",
       "      <td>1</td>\n",
       "      <td>1</td>\n",
       "      <td>1.0</td>\n",
       "      <td>0.0</td>\n",
       "      <td>0.0</td>\n",
       "      <td>NaN</td>\n",
       "      <td>2.0</td>\n",
       "      <td>51.31500</td>\n",
       "      <td>0.0</td>\n",
       "      <td>NaN</td>\n",
       "    </tr>\n",
       "    <tr>\n",
       "      <th>3763</th>\n",
       "      <td>CARDIOLOGY</td>\n",
       "      <td>0399T</td>\n",
       "      <td>1</td>\n",
       "      <td>4</td>\n",
       "      <td>1.0</td>\n",
       "      <td>0.0</td>\n",
       "      <td>0.0</td>\n",
       "      <td>NaN</td>\n",
       "      <td>NaN</td>\n",
       "      <td>456.35500</td>\n",
       "      <td>0.0</td>\n",
       "      <td>NaN</td>\n",
       "    </tr>\n",
       "    <tr>\n",
       "      <th>3764</th>\n",
       "      <td>CARDIOLOGY</td>\n",
       "      <td>0545F</td>\n",
       "      <td>1</td>\n",
       "      <td>1</td>\n",
       "      <td>1.0</td>\n",
       "      <td>0.0</td>\n",
       "      <td>0.0</td>\n",
       "      <td>NaN</td>\n",
       "      <td>NaN</td>\n",
       "      <td>NaN</td>\n",
       "      <td>NaN</td>\n",
       "      <td>NaN</td>\n",
       "    </tr>\n",
       "    <tr>\n",
       "      <th>3765</th>\n",
       "      <td>CARDIOLOGY</td>\n",
       "      <td>1111F</td>\n",
       "      <td>1</td>\n",
       "      <td>1</td>\n",
       "      <td>1.0</td>\n",
       "      <td>0.0</td>\n",
       "      <td>0.0</td>\n",
       "      <td>NaN</td>\n",
       "      <td>NaN</td>\n",
       "      <td>NaN</td>\n",
       "      <td>NaN</td>\n",
       "      <td>NaN</td>\n",
       "    </tr>\n",
       "    <tr>\n",
       "      <th>3768</th>\n",
       "      <td>CARDIOLOGY</td>\n",
       "      <td>300</td>\n",
       "      <td>0</td>\n",
       "      <td>0</td>\n",
       "      <td>0.0</td>\n",
       "      <td>0.0</td>\n",
       "      <td>0.0</td>\n",
       "      <td>0.00</td>\n",
       "      <td>NaN</td>\n",
       "      <td>308.81595</td>\n",
       "      <td>0.0</td>\n",
       "      <td>NaN</td>\n",
       "    </tr>\n",
       "    <tr>\n",
       "      <th>3769</th>\n",
       "      <td>CARDIOLOGY</td>\n",
       "      <td>3120F</td>\n",
       "      <td>1</td>\n",
       "      <td>2</td>\n",
       "      <td>0.0</td>\n",
       "      <td>0.0</td>\n",
       "      <td>2.0</td>\n",
       "      <td>5.06</td>\n",
       "      <td>NaN</td>\n",
       "      <td>NaN</td>\n",
       "      <td>NaN</td>\n",
       "      <td>NaN</td>\n",
       "    </tr>\n",
       "    <tr>\n",
       "      <th>3780</th>\n",
       "      <td>CARDIOLOGY</td>\n",
       "      <td>33220</td>\n",
       "      <td>0</td>\n",
       "      <td>1</td>\n",
       "      <td>0.0</td>\n",
       "      <td>0.0</td>\n",
       "      <td>1.0</td>\n",
       "      <td>2.53</td>\n",
       "      <td>NaN</td>\n",
       "      <td>NaN</td>\n",
       "      <td>NaN</td>\n",
       "      <td>NaN</td>\n",
       "    </tr>\n",
       "    <tr>\n",
       "      <th>3804</th>\n",
       "      <td>CARDIOLOGY</td>\n",
       "      <td>33271</td>\n",
       "      <td>0</td>\n",
       "      <td>1</td>\n",
       "      <td>0.0</td>\n",
       "      <td>0.0</td>\n",
       "      <td>1.0</td>\n",
       "      <td>2.53</td>\n",
       "      <td>NaN</td>\n",
       "      <td>NaN</td>\n",
       "      <td>NaN</td>\n",
       "      <td>NaN</td>\n",
       "    </tr>\n",
       "    <tr>\n",
       "      <th>3806</th>\n",
       "      <td>CARDIOLOGY</td>\n",
       "      <td>33273</td>\n",
       "      <td>0</td>\n",
       "      <td>1</td>\n",
       "      <td>0.0</td>\n",
       "      <td>0.0</td>\n",
       "      <td>1.0</td>\n",
       "      <td>2.53</td>\n",
       "      <td>NaN</td>\n",
       "      <td>NaN</td>\n",
       "      <td>NaN</td>\n",
       "      <td>NaN</td>\n",
       "    </tr>\n",
       "    <tr>\n",
       "      <th>3839</th>\n",
       "      <td>CARDIOLOGY</td>\n",
       "      <td>36254</td>\n",
       "      <td>0</td>\n",
       "      <td>1</td>\n",
       "      <td>0.0</td>\n",
       "      <td>0.0</td>\n",
       "      <td>1.0</td>\n",
       "      <td>2.53</td>\n",
       "      <td>NaN</td>\n",
       "      <td>NaN</td>\n",
       "      <td>NaN</td>\n",
       "      <td>NaN</td>\n",
       "    </tr>\n",
       "    <tr>\n",
       "      <th>3845</th>\n",
       "      <td>CARDIOLOGY</td>\n",
       "      <td>36474</td>\n",
       "      <td>0</td>\n",
       "      <td>1</td>\n",
       "      <td>0.0</td>\n",
       "      <td>0.0</td>\n",
       "      <td>1.0</td>\n",
       "      <td>2.53</td>\n",
       "      <td>NaN</td>\n",
       "      <td>NaN</td>\n",
       "      <td>NaN</td>\n",
       "      <td>NaN</td>\n",
       "    </tr>\n",
       "    <tr>\n",
       "      <th>3849</th>\n",
       "      <td>CARDIOLOGY</td>\n",
       "      <td>36476</td>\n",
       "      <td>1</td>\n",
       "      <td>2</td>\n",
       "      <td>1.0</td>\n",
       "      <td>0.0</td>\n",
       "      <td>0.0</td>\n",
       "      <td>NaN</td>\n",
       "      <td>NaN</td>\n",
       "      <td>245.23375</td>\n",
       "      <td>0.0</td>\n",
       "      <td>NaN</td>\n",
       "    </tr>\n",
       "    <tr>\n",
       "      <th>3851</th>\n",
       "      <td>CARDIOLOGY</td>\n",
       "      <td>36478</td>\n",
       "      <td>1</td>\n",
       "      <td>1</td>\n",
       "      <td>1.0</td>\n",
       "      <td>0.0</td>\n",
       "      <td>0.0</td>\n",
       "      <td>NaN</td>\n",
       "      <td>6.0</td>\n",
       "      <td>1177.21830</td>\n",
       "      <td>0.0</td>\n",
       "      <td>NaN</td>\n",
       "    </tr>\n",
       "    <tr>\n",
       "      <th>3867</th>\n",
       "      <td>CARDIOLOGY</td>\n",
       "      <td>37218</td>\n",
       "      <td>0</td>\n",
       "      <td>1</td>\n",
       "      <td>0.0</td>\n",
       "      <td>0.0</td>\n",
       "      <td>1.0</td>\n",
       "      <td>2.53</td>\n",
       "      <td>NaN</td>\n",
       "      <td>NaN</td>\n",
       "      <td>NaN</td>\n",
       "      <td>NaN</td>\n",
       "    </tr>\n",
       "  </tbody>\n",
       "</table>\n",
       "</div>"
      ],
      "text/plain": [
       "       Specialty CPT_Code  is_PPL  UNITS  is_autoapp  is_den  UNITS_man  \\\n",
       "3748  CARDIOLOGY    0095T       0      1         0.0     0.0        1.0   \n",
       "3760  CARDIOLOGY    0389T       1      1         1.0     0.0        0.0   \n",
       "3763  CARDIOLOGY    0399T       1      4         1.0     0.0        0.0   \n",
       "3764  CARDIOLOGY    0545F       1      1         1.0     0.0        0.0   \n",
       "3765  CARDIOLOGY    1111F       1      1         1.0     0.0        0.0   \n",
       "3768  CARDIOLOGY      300       0      0         0.0     0.0        0.0   \n",
       "3769  CARDIOLOGY    3120F       1      2         0.0     0.0        2.0   \n",
       "3780  CARDIOLOGY    33220       0      1         0.0     0.0        1.0   \n",
       "3804  CARDIOLOGY    33271       0      1         0.0     0.0        1.0   \n",
       "3806  CARDIOLOGY    33273       0      1         0.0     0.0        1.0   \n",
       "3839  CARDIOLOGY    36254       0      1         0.0     0.0        1.0   \n",
       "3845  CARDIOLOGY    36474       0      1         0.0     0.0        1.0   \n",
       "3849  CARDIOLOGY    36476       1      2         1.0     0.0        0.0   \n",
       "3851  CARDIOLOGY    36478       1      1         1.0     0.0        0.0   \n",
       "3867  CARDIOLOGY    37218       0      1         0.0     0.0        1.0   \n",
       "\n",
       "      cost_to_review  cnt_hcp_cost  avg_hcp_cost  sum_cost_denied  ROI  \n",
       "3748            2.53           NaN           NaN              NaN  NaN  \n",
       "3760             NaN           2.0      51.31500              0.0  NaN  \n",
       "3763             NaN           NaN     456.35500              0.0  NaN  \n",
       "3764             NaN           NaN           NaN              NaN  NaN  \n",
       "3765             NaN           NaN           NaN              NaN  NaN  \n",
       "3768            0.00           NaN     308.81595              0.0  NaN  \n",
       "3769            5.06           NaN           NaN              NaN  NaN  \n",
       "3780            2.53           NaN           NaN              NaN  NaN  \n",
       "3804            2.53           NaN           NaN              NaN  NaN  \n",
       "3806            2.53           NaN           NaN              NaN  NaN  \n",
       "3839            2.53           NaN           NaN              NaN  NaN  \n",
       "3845            2.53           NaN           NaN              NaN  NaN  \n",
       "3849             NaN           NaN     245.23375              0.0  NaN  \n",
       "3851             NaN           6.0    1177.21830              0.0  NaN  \n",
       "3867            2.53           NaN           NaN              NaN  NaN  "
      ]
     },
     "execution_count": 225,
     "metadata": {},
     "output_type": "execute_result"
    }
   ],
   "source": [
    "cpts_w_claims_fin[(cpts_w_claims_fin['ROI'].isnull()) &\n",
    "                 (cpts_w_claims_fin['Specialty']=='CARDIOLOGY')].head(15)"
   ]
  },
  {
   "cell_type": "code",
   "execution_count": 226,
   "metadata": {},
   "outputs": [
    {
     "data": {
      "text/plain": [
       "9815"
      ]
     },
     "execution_count": 226,
     "metadata": {},
     "output_type": "execute_result"
    }
   ],
   "source": [
    "cpts_w_claims_fin[(cpts_w_claims_fin['ROI'].isnull())].shape[0]"
   ]
  },
  {
   "cell_type": "code",
   "execution_count": 227,
   "metadata": {},
   "outputs": [],
   "source": [
    "## For groups where we don't know the average cost from 2018, the denominator of ROI is 0, and ROI is undefined. \n",
    "## Update the ROI for those to = 100 so they are NOT included in the dictionaries to auto-approve going forward.\n",
    "cpts_w_claims_fin['ROI'] = np.where(cpts_w_claims_fin['avg_hcp_cost'].isnull(), 100, cpts_w_claims_fin['ROI'])"
   ]
  },
  {
   "cell_type": "code",
   "execution_count": 228,
   "metadata": {},
   "outputs": [],
   "source": [
    "## For groups that were auto-approved at 100%, the denominator of ROI is 0, and ROI is undefined. \n",
    "## Update the ROI for those to = 0 so they are included in the dictionaries to auto-approve going forward.\n",
    "cpts_w_claims_fin['ROI'] = np.where(cpts_w_claims_fin['ROI'].isnull(), 0.01, cpts_w_claims_fin['ROI'])\n",
    "        "
   ]
  },
  {
   "cell_type": "code",
   "execution_count": 229,
   "metadata": {},
   "outputs": [
    {
     "data": {
      "text/plain": [
       "6323277.069999998"
      ]
     },
     "execution_count": 229,
     "metadata": {},
     "output_type": "execute_result"
    }
   ],
   "source": [
    "cpts_w_claims_fin['cost_to_review'].sum()"
   ]
  },
  {
   "cell_type": "code",
   "execution_count": 230,
   "metadata": {},
   "outputs": [],
   "source": [
    "cpts_w_claims_fin['fin_aa_rec'] = np.where(cpts_w_claims_fin['ROI']<1, 1, 0)"
   ]
  },
  {
   "cell_type": "markdown",
   "metadata": {},
   "source": [
    "## Create Dictionaries"
   ]
  },
  {
   "cell_type": "code",
   "execution_count": 101,
   "metadata": {},
   "outputs": [],
   "source": [
    "## Model Additional Auto Approvals when different thresholds are set.\n",
    "## Approach: use \"given\" threshold to determine which CPT codes are \"auto-approve\"-able for each specialty\n",
    "##  - For loop through referrals, return 1 if all CPT codes are on \"auto-approve\"-able list, else 0 "
   ]
  },
  {
   "cell_type": "code",
   "execution_count": 231,
   "metadata": {},
   "outputs": [],
   "source": [
    "list_o_types_to_pend = ['INPT ADM', 'EMERGENCY ROOM', 'DAY SURG', 'OOA INPT', \n",
    "                        'SKILLED NURSING', 'OBSERVATION', 'OB OBSERVATION']"
   ]
  },
  {
   "cell_type": "code",
   "execution_count": 232,
   "metadata": {},
   "outputs": [],
   "source": [
    "## Function that gathers CPT codes that are auto-approvable and stores them in a dictionary.\n",
    "def create_dict_of_CPT_codes(specialty_cpt, list_o_specs, PPL=1):\n",
    "    spec_dict = {k: [] for k in list_o_specs}\n",
    "    for index, row in specialty_cpt.iterrows():\n",
    "        if row['fin_aa_rec'] == 1:\n",
    "            if row['is_PPL'] == PPL:\n",
    "                spec_dict[row['Specialty']].append(row['CPT_Code'])\n",
    "    return spec_dict\n",
    "            "
   ]
  },
  {
   "cell_type": "code",
   "execution_count": 233,
   "metadata": {},
   "outputs": [],
   "source": [
    "## Function that gathers CPT codes that should be pended or added and stores them in a dictionary.\n",
    "def create_dict_of_CPT_codes_v2(specialty_cpt, list_o_specs, PPL=1, approve=0):\n",
    "    spec_dict = {k: [] for k in list_o_specs}\n",
    "    for index, row in specialty_cpt.iterrows():\n",
    "        if row['Decision'] == approve:\n",
    "            if row['is_PPL'] == PPL:\n",
    "                spec_dict[row['Specialty']].append(row['CPT_Code'])\n",
    "    return spec_dict\n",
    "            "
   ]
  },
  {
   "cell_type": "code",
   "execution_count": 234,
   "metadata": {},
   "outputs": [],
   "source": [
    "cpts_w_claims_fin.reset_index(drop=True, inplace=True)"
   ]
  },
  {
   "cell_type": "code",
   "execution_count": 235,
   "metadata": {},
   "outputs": [],
   "source": [
    "def collect_clinical_decisions(specialty_cpt, list_to_change, spec_list, rsn, new_status=0):\n",
    "    decision_sources = cpts_w_claims_fin['dec_source'].to_list()\n",
    "    overrule_reasons = cpts_w_claims_fin['overrule_rsn'].to_list()\n",
    "    final_decisions = cpts_w_claims_fin['final_decision'].to_list()\n",
    "    for index, row in specialty_cpt.iterrows():\n",
    "        if row['Specialty'] in spec_list:\n",
    "            if row['CPT_Code'] in list_to_change:\n",
    "                decision_sources[index] = 'clinical'\n",
    "                overrule_reasons[index] = rsn\n",
    "                final_decisions[index] = new_status\n",
    "    specialty_cpt['dec_source'] = decision_sources\n",
    "    specialty_cpt['overrule_rsn'] = overrule_reasons\n",
    "    specialty_cpt['final_decision'] = final_decisions\n",
    "    return specialty_cpt\n",
    "    "
   ]
  },
  {
   "cell_type": "code",
   "execution_count": 236,
   "metadata": {},
   "outputs": [],
   "source": [
    "## Create new column in cpt_w_claims_fin that will store decision source.\n",
    "cpts_w_claims_fin['dec_source'] = 'DBA'"
   ]
  },
  {
   "cell_type": "code",
   "execution_count": 237,
   "metadata": {},
   "outputs": [],
   "source": [
    "## Create new column in cpt_w_claims_fin that will store clinical overrule_rsn\n",
    "cpts_w_claims_fin['overrule_rsn'] = np.nan"
   ]
  },
  {
   "cell_type": "code",
   "execution_count": 238,
   "metadata": {},
   "outputs": [],
   "source": [
    "## Create new column in cpt_w_claims_fin that will store final decision\n",
    "cpts_w_claims_fin['final_decision'] = cpts_w_claims_fin['fin_aa_rec']"
   ]
  },
  {
   "cell_type": "code",
   "execution_count": 111,
   "metadata": {},
   "outputs": [],
   "source": [
    "spec_dict_PPL = create_dict_of_CPT_codes(cpts_w_claims_fin, list_o_specs)"
   ]
  },
  {
   "cell_type": "code",
   "execution_count": 112,
   "metadata": {},
   "outputs": [],
   "source": [
    "spec_dict_EPL = {k: [] for k in list_o_specs}"
   ]
  },
  {
   "cell_type": "code",
   "execution_count": 113,
   "metadata": {},
   "outputs": [],
   "source": [
    "spec_dict_EPL = create_dict_of_CPT_codes(cpts_w_claims_fin, list_o_specs, PPL=0)"
   ]
  },
  {
   "cell_type": "code",
   "execution_count": 114,
   "metadata": {},
   "outputs": [],
   "source": [
    "## Remove from EPL lists codes that don't appear in PPL list. \n",
    "## Spirit of this is to keep EPL lists more conservative\n",
    "for spec in list_o_specs:\n",
    "    epl_list = spec_dict_EPL[spec]\n",
    "    ppl_list = spec_dict_PPL[spec]\n",
    "    new_epl = [x for x in epl_list if x in ppl_list]\n",
    "    spec_dict_EPL[spec] = new_epl"
   ]
  },
  {
   "cell_type": "code",
   "execution_count": 239,
   "metadata": {},
   "outputs": [
    {
     "data": {
      "text/plain": [
       "198"
      ]
     },
     "execution_count": 239,
     "metadata": {},
     "output_type": "execute_result"
    }
   ],
   "source": [
    "cpts_w_claims_fin[(cpts_w_claims_fin['Specialty']=='DERMATOLOGY') &\n",
    "                  (cpts_w_claims_fin['is_PPL'] ==1) &\n",
    "                 (cpts_w_claims_fin['final_decision']==1)].shape[0]"
   ]
  },
  {
   "cell_type": "code",
   "execution_count": 240,
   "metadata": {},
   "outputs": [
    {
     "data": {
      "text/plain": [
       "192"
      ]
     },
     "execution_count": 240,
     "metadata": {},
     "output_type": "execute_result"
    }
   ],
   "source": [
    "len(spec_dict_PPL['DERMATOLOGY'])"
   ]
  },
  {
   "cell_type": "markdown",
   "metadata": {},
   "source": [
    "## Define codes to ADD or REMOVE from each list"
   ]
  },
  {
   "cell_type": "markdown",
   "metadata": {},
   "source": [
    "The general process for creating dictionaries is to do the g&a analysis first.  These are noted with \"DBA\" (Decision by Analysis.\n",
    "\n",
    "Next, in chronological order, we apply clinical decisions. In the first review session (Q2 2019) this was the order:\n",
    "1. A list of PRL codes that Chris McRae said should be auto-approved\n",
    "2. A list of PRL codes that Chris McRae said should be pended - \"codestoremove\"\n",
    "3. Pend Specialties that should be pended categorically\n",
    "4. Laurie and Chris's first round of mostly pends.  Rhoda also took a pass on 5/3/2019\n",
    "5. Phyllis and Rhoda pass at pended specialties. 5/17/2019\n",
    "6. Remove low volume codes.\n",
    "7. Pend all EPL Codes"
   ]
  },
  {
   "cell_type": "code",
   "execution_count": 241,
   "metadata": {},
   "outputs": [],
   "source": [
    "## ADD Derm codes - provided my Christel McRae (124)\n",
    "derm_add0 = ['10060','10061','11000','11055','11057','11100','11101','11300','11301','11302','11303','11305',\n",
    "            '11306','11307','11308','11310','11311','11312','11313','11404','11426','11440','11600',\n",
    "            '11601','11602','11603','11604','11606','11620','11621','11622','11623','11624','11626','11640',\n",
    "            '11641','11642','11643','11644','11646','11900','11901','29580','54050','54056','54100','67810',\n",
    "            '69100','87101','87220','J3301','10061','10080','10081','10140','10180','11055','11056','11057',\n",
    "            '11101','11300','11301','11302','11303','11305','11306','11307','11308','11310','11311','11312',\n",
    "            '11313','11404','11426','11440','11444','11446','11600','11601','11602','11603','11604',\n",
    "            '11606','11620','11621','11622','11623','11624','11626','11640','11641','11642','11643','11644',\n",
    "            '11646','11900','11901','54105']\n"
   ]
  },
  {
   "cell_type": "code",
   "execution_count": 242,
   "metadata": {},
   "outputs": [],
   "source": [
    "## find unique values (72)\n",
    "derm_add = list(set(derm_add0))"
   ]
  },
  {
   "cell_type": "code",
   "execution_count": 243,
   "metadata": {},
   "outputs": [],
   "source": [
    "## ADD Pain Add for PPL\n",
    "pain_add0 = ['99203','99204','99213','99214']"
   ]
  },
  {
   "cell_type": "code",
   "execution_count": 244,
   "metadata": {},
   "outputs": [],
   "source": [
    "## ADD Gastro and General Surgery for PPL and EPL\n",
    "gi_add0 = ['45378','45380','45385','G0105','G0121','00812']"
   ]
  },
  {
   "cell_type": "code",
   "execution_count": 245,
   "metadata": {},
   "outputs": [],
   "source": [
    "## ADD Blood Transfusions - across all specialties PPL and EPL\n",
    "bt_add0 = ['36430','86900','86901','86902','86903','86904','86905','86906','86907','86908','86909','86910'\n",
    "          ,'86911','86912','86913','86914','86915','86916','86917','86918','86919','86920']"
   ]
  },
  {
   "cell_type": "code",
   "execution_count": 246,
   "metadata": {},
   "outputs": [],
   "source": [
    "## ADD Podiatry\n",
    "podiatry_add0 = ['11055']"
   ]
  },
  {
   "cell_type": "code",
   "execution_count": 247,
   "metadata": {},
   "outputs": [],
   "source": [
    "## REMOVE from all dictionaries\n",
    "codes_to_remove0 = ['97810','95115','95116','95117','95170','95180','95181','95182','95183','95184','95185','95186',\n",
    "                   '95187','95188','95199','95004','A0999','A0426','A0427','A0428','A0429','92590','92591','92592',\n",
    "                   '92593','92594','90901','90902','90903','90904','90905','90906','90907','90908','90909','90910',\n",
    "                   '90911','90875','90876','86890','93798','98940','J1050','58301','58565','58611','G0337',\n",
    "                   '74740','89320','J3490','J0717','J1438','J7321','J7322','J7323','J7324','J7325','J3489','J0135',\n",
    "                   'J3030','J1830','J9215','J9218','J0129','J9202','J3301','J1745','96365','96366','90378','J2505',\n",
    "                   'J1440','J1441','J0885','J0886','T1013','96118','96119','96120','97166','97167','97168','97110',\n",
    "                   '92015','97162','97163','97110','36468','92506','55250','59840',\n",
    "                   'S0199','S0618','92595','58300','J7300','57170','A4266','11981',\n",
    "                   'J7302','J7300','58670','59600','58605','64612','J0585','11055',\n",
    "                   '11057','11719','11721','G0127','S0390']"
   ]
  },
  {
   "cell_type": "code",
   "execution_count": 248,
   "metadata": {},
   "outputs": [],
   "source": [
    "codes_to_remove = list(set(codes_to_remove0))"
   ]
  },
  {
   "cell_type": "code",
   "execution_count": 249,
   "metadata": {},
   "outputs": [
    {
     "data": {
      "text/plain": [
       "199"
      ]
     },
     "execution_count": 249,
     "metadata": {},
     "output_type": "execute_result"
    }
   ],
   "source": [
    "cpts_w_claims_fin[(cpts_w_claims_fin['Specialty']=='GASTROENTEROLOGY') &\n",
    "                  (cpts_w_claims_fin['is_PPL'] ==1) &\n",
    "                 (cpts_w_claims_fin['final_decision']==1)].shape[0]"
   ]
  },
  {
   "cell_type": "code",
   "execution_count": 250,
   "metadata": {},
   "outputs": [
    {
     "data": {
      "text/plain": [
       "194"
      ]
     },
     "execution_count": 250,
     "metadata": {},
     "output_type": "execute_result"
    }
   ],
   "source": [
    "len(spec_dict_PPL['GASTROENTEROLOGY'])"
   ]
  },
  {
   "cell_type": "code",
   "execution_count": 251,
   "metadata": {},
   "outputs": [
    {
     "data": {
      "text/plain": [
       "198"
      ]
     },
     "execution_count": 251,
     "metadata": {},
     "output_type": "execute_result"
    }
   ],
   "source": [
    "cpts_w_claims_fin[(cpts_w_claims_fin['Specialty']=='DERMATOLOGY') &\n",
    "                  (cpts_w_claims_fin['is_PPL'] ==1) &\n",
    "                 (cpts_w_claims_fin['final_decision']==1)].shape[0]"
   ]
  },
  {
   "cell_type": "code",
   "execution_count": 252,
   "metadata": {},
   "outputs": [
    {
     "data": {
      "text/plain": [
       "192"
      ]
     },
     "execution_count": 252,
     "metadata": {},
     "output_type": "execute_result"
    }
   ],
   "source": [
    "len(spec_dict_PPL['DERMATOLOGY'])"
   ]
  },
  {
   "cell_type": "code",
   "execution_count": 253,
   "metadata": {},
   "outputs": [
    {
     "data": {
      "text/html": [
       "<div>\n",
       "<style scoped>\n",
       "    .dataframe tbody tr th:only-of-type {\n",
       "        vertical-align: middle;\n",
       "    }\n",
       "\n",
       "    .dataframe tbody tr th {\n",
       "        vertical-align: top;\n",
       "    }\n",
       "\n",
       "    .dataframe thead th {\n",
       "        text-align: right;\n",
       "    }\n",
       "</style>\n",
       "<table border=\"1\" class=\"dataframe\">\n",
       "  <thead>\n",
       "    <tr style=\"text-align: right;\">\n",
       "      <th></th>\n",
       "      <th>CPT_Code</th>\n",
       "    </tr>\n",
       "    <tr>\n",
       "      <th>final_decision</th>\n",
       "      <th></th>\n",
       "    </tr>\n",
       "  </thead>\n",
       "  <tbody>\n",
       "    <tr>\n",
       "      <th>0</th>\n",
       "      <td>7764</td>\n",
       "    </tr>\n",
       "    <tr>\n",
       "      <th>1</th>\n",
       "      <td>37221</td>\n",
       "    </tr>\n",
       "    <tr>\n",
       "      <th>All</th>\n",
       "      <td>44985</td>\n",
       "    </tr>\n",
       "  </tbody>\n",
       "</table>\n",
       "</div>"
      ],
      "text/plain": [
       "                CPT_Code\n",
       "final_decision          \n",
       "0                   7764\n",
       "1                  37221\n",
       "All                44985"
      ]
     },
     "execution_count": 253,
     "metadata": {},
     "output_type": "execute_result"
    }
   ],
   "source": [
    "cpts_w_claims_fin.pivot_table(values='CPT_Code', index=['final_decision'], aggfunc='count', margins=True)"
   ]
  },
  {
   "cell_type": "code",
   "execution_count": 254,
   "metadata": {},
   "outputs": [],
   "source": [
    "## Define function that takes specialty:cpt code list DICTIONARY, list of cpt\n",
    "## codes, and \"add\" or \"remove\" parameter and adjusts the dictionary\n",
    "def add_remove_cpt_codes_v2(spec_cpt_dict, spec_list, cpt_to_add_remove_dict, add=True):\n",
    "    if add == True:\n",
    "        for spec in spec_list:\n",
    "            for code in cpt_to_add_remove_dict[spec]:\n",
    "                if code in spec_cpt_dict[spec]:\n",
    "                    continue\n",
    "                else:\n",
    "                    spec_cpt_dict[spec].append(code)\n",
    "    else:\n",
    "        for spec in spec_list:\n",
    "            for code in cpt_to_add_remove_dict[spec]:\n",
    "                if code in spec_cpt_dict[spec]:\n",
    "                    spec_cpt_dict[spec].remove(code)\n",
    "                else:\n",
    "                    continue\n",
    "    return spec_cpt_dict"
   ]
  },
  {
   "cell_type": "code",
   "execution_count": 255,
   "metadata": {},
   "outputs": [],
   "source": [
    "## Define function that takes specialty:cpt code list, list of cpt\n",
    "## codes, and \"add\" or \"remove\" parameter and adjusts the dictionary\n",
    "def add_remove_cpt_codes_v1(spec_cpt_dict, specialty_cpt, spec_list, cpt_to_add_remove, add=True):\n",
    "    if add == True:\n",
    "        for spec in spec_list:\n",
    "            for code in cpt_to_add_remove:\n",
    "                if code in spec_cpt_dict[spec]:\n",
    "                    continue\n",
    "                else:\n",
    "                    if code in specialty_cpt[specialty_cpt['Specialty']==spec]['CPT_Code'].to_list():\n",
    "                        spec_cpt_dict[spec].append(code)\n",
    "    else:\n",
    "        for spec in spec_list:\n",
    "            for code in cpt_to_add_remove:\n",
    "                if code in spec_cpt_dict[spec]:\n",
    "                    spec_cpt_dict[spec].remove(code)\n",
    "                else:\n",
    "                    continue\n",
    "    return spec_cpt_dict "
   ]
  },
  {
   "cell_type": "markdown",
   "metadata": {},
   "source": [
    "#### Add specific codes to specific specialties"
   ]
  },
  {
   "cell_type": "code",
   "execution_count": 132,
   "metadata": {},
   "outputs": [],
   "source": [
    "## List of codes to auto-approve add derm\n",
    "spec_dict_PPL = add_remove_cpt_codes_v1(spec_dict_PPL, cpts_w_claims_fin, ['DERMATOLOGY'], derm_add)\n",
    "spec_dict_EPL = add_remove_cpt_codes_v1(spec_dict_EPL, cpts_w_claims_fin, ['DERMATOLOGY'], derm_add)"
   ]
  },
  {
   "cell_type": "code",
   "execution_count": 256,
   "metadata": {},
   "outputs": [],
   "source": [
    "## List of codes to auto-approve add derm\n",
    "cpts_w_claims_fin = collect_clinical_decisions(cpts_w_claims_fin, derm_add, ['DERMATOLOGY'], rsn='from CM', new_status=1)"
   ]
  },
  {
   "cell_type": "code",
   "execution_count": 134,
   "metadata": {},
   "outputs": [],
   "source": [
    "## List of codes to auto-approve add pain\n",
    "spec_dict_PPL = add_remove_cpt_codes_v1(spec_dict_PPL, cpts_w_claims_fin, ['PAIN MANAGEMENT'], pain_add0)\n",
    "spec_dict_EPL = add_remove_cpt_codes_v1(spec_dict_EPL, cpts_w_claims_fin, ['PAIN MANAGEMENT'], pain_add0)"
   ]
  },
  {
   "cell_type": "code",
   "execution_count": 257,
   "metadata": {},
   "outputs": [],
   "source": [
    "## List of codes to auto-approve add pain\n",
    "cpts_w_claims_fin = collect_clinical_decisions(cpts_w_claims_fin, pain_add0, ['PAIN MANAGEMENT'], rsn='from CM', new_status=1)"
   ]
  },
  {
   "cell_type": "code",
   "execution_count": 136,
   "metadata": {},
   "outputs": [],
   "source": [
    "## List of codes to auto-approve add gastro\n",
    "spec_dict_PPL = add_remove_cpt_codes_v1(spec_dict_PPL, cpts_w_claims_fin, ['GASTROENTEROLOGY','SURGERY - GENERAL'], gi_add0)\n",
    "spec_dict_EPL = add_remove_cpt_codes_v1(spec_dict_EPL, cpts_w_claims_fin, ['GASTROENTEROLOGY','SURGERY - GENERAL'], gi_add0)"
   ]
  },
  {
   "cell_type": "code",
   "execution_count": 258,
   "metadata": {},
   "outputs": [],
   "source": [
    "## List of codes to auto-approve add gastro\n",
    "cpts_w_claims_fin = collect_clinical_decisions(cpts_w_claims_fin, gi_add0, \n",
    "                                               ['GASTROENTEROLOGY','SURGERY - GENERAL'], rsn='from CM', new_status=1)"
   ]
  },
  {
   "cell_type": "code",
   "execution_count": 138,
   "metadata": {},
   "outputs": [],
   "source": [
    "## List of codes to auto-approve add blood transfusions\n",
    "spec_dict_PPL = add_remove_cpt_codes_v1(spec_dict_PPL, cpts_w_claims_fin, list_o_specs, bt_add0)\n",
    "spec_dict_EPL = add_remove_cpt_codes_v1(spec_dict_EPL, cpts_w_claims_fin, list_o_specs, bt_add0)"
   ]
  },
  {
   "cell_type": "code",
   "execution_count": 259,
   "metadata": {},
   "outputs": [],
   "source": [
    "## List of codes to auto-approve add blood transfusions\n",
    "cpts_w_claims_fin = collect_clinical_decisions(cpts_w_claims_fin, bt_add0, list_o_specs, rsn='from CM', new_status=1)"
   ]
  },
  {
   "cell_type": "code",
   "execution_count": 140,
   "metadata": {},
   "outputs": [],
   "source": [
    "## List of codes to auto-approve add podiatry\n",
    "spec_dict_PPL = add_remove_cpt_codes_v1(spec_dict_PPL, cpts_w_claims_fin, ['PODIATRY'], podiatry_add0)\n",
    "spec_dict_EPL = add_remove_cpt_codes_v1(spec_dict_EPL, cpts_w_claims_fin, ['PODIATRY'], podiatry_add0)"
   ]
  },
  {
   "cell_type": "code",
   "execution_count": 260,
   "metadata": {},
   "outputs": [],
   "source": [
    "## List of codes to auto-approve add podiatry\n",
    "cpts_w_claims_fin = collect_clinical_decisions(cpts_w_claims_fin, podiatry_add0, ['PODIATRY'], rsn='from CM', new_status=1)"
   ]
  },
  {
   "cell_type": "markdown",
   "metadata": {},
   "source": [
    "#### Pend specific set of codes across specialties"
   ]
  },
  {
   "cell_type": "code",
   "execution_count": 142,
   "metadata": {},
   "outputs": [],
   "source": [
    "## List of codes to pend across specialties (PPL)\n",
    "spec_dict_PPL = add_remove_cpt_codes_v1(spec_dict_PPL, cpts_w_claims_fin, list_o_specs, codes_to_remove, add=False)"
   ]
  },
  {
   "cell_type": "code",
   "execution_count": 143,
   "metadata": {},
   "outputs": [],
   "source": [
    "## List of codes to pend across specialties (EPL)\n",
    "spec_dict_EPL = add_remove_cpt_codes_v1(spec_dict_EPL, cpts_w_claims_fin, list_o_specs, codes_to_remove, add=False)"
   ]
  },
  {
   "cell_type": "code",
   "execution_count": 261,
   "metadata": {},
   "outputs": [],
   "source": [
    "## List of codes to pend across specialties\n",
    "cpts_w_claims_fin = collect_clinical_decisions(cpts_w_claims_fin, codes_to_remove, list_o_specs, rsn='from CM', new_status=0)"
   ]
  },
  {
   "cell_type": "markdown",
   "metadata": {},
   "source": [
    "#### Pend Specialties categorically"
   ]
  },
  {
   "cell_type": "code",
   "execution_count": 262,
   "metadata": {},
   "outputs": [],
   "source": [
    "## For specialties that UM clinical team deem necessary, empty dictionary\n",
    "## To ensure that no referrals are auto-approved from it\n",
    "specs_that_should_pend = ['ACUPUNCTURE', 'ADDICTION MEDICINE', 'ANESTHESIOLOGY',\n",
    "                         'BEHAVIORAL HEALTH', 'CHIROPRACTIC', 'DENTIST', 'DME MAINTENANCE',\n",
    "                         'LICENSED CLIN SOCIAL WORKER', 'MFCC (THERAPIST)', 'NON-CONTRACT UNKWN BILL AREA',\n",
    "                         'NURSE PRACTITIONER', 'NURSING FACILITY - OTHER', 'OPTICIAN',\n",
    "                        'PEDS-DEVELOPMENTAL BEHAVIORAL', 'PSYCHIATRY', 'PSYCHOLOGY', 'SENIOR WELLNESS VISIT',\n",
    "                         'SPORTS MEDICINE', 'SURGERY - ORAL', 'AMBULATORY SURGICAL CENTER', 'AMBULANCE', 'ALLERGY/IMMUNOLOGY',\n",
    "                         'CUSTODIAL CARE', 'HOME HEALTH', 'INFERTILITY', 'OPTOMETRY', 'PALLIATIVE CARE', 'PODIATRY', 'SLEEP STUDY',\n",
    "                         'SNF - FAC', 'OCCUPATIONAL THERAPY', 'PHYSICAL THERAPY/REHAB', 'FACILITY SERVICES',\n",
    "                         'GENETICS', 'INTERVENTIONAL RADIOLOGY', 'LABORATROY', 'NUCLEAR MEDICINE', 'ONCOLOGY - GYN',\n",
    "                         'PATHOLOGY', 'PHARMACY', 'SURGERY - HAND']"
   ]
  },
  {
   "cell_type": "code",
   "execution_count": 340,
   "metadata": {},
   "outputs": [
    {
     "data": {
      "text/plain": [
       "['94726',\n",
       " '94760',\n",
       " '95004',\n",
       " '95012',\n",
       " '95024',\n",
       " '95044',\n",
       " '95076',\n",
       " '95079',\n",
       " '95115',\n",
       " '95117',\n",
       " '95144',\n",
       " '95165',\n",
       " '96372',\n",
       " '96401',\n",
       " '99203',\n",
       " '99211',\n",
       " '99212',\n",
       " '99213']"
      ]
     },
     "execution_count": 340,
     "metadata": {},
     "output_type": "execute_result"
    }
   ],
   "source": [
    "new_spec_dictionary_PPL['ALLERGY/IMMUNOLOGY']"
   ]
  },
  {
   "cell_type": "code",
   "execution_count": 263,
   "metadata": {},
   "outputs": [],
   "source": [
    "for spec in specs_that_should_pend:\n",
    "    cpts_w_claims_fin['overrule_rsn'] = np.where(cpts_w_claims_fin['Specialty'] == spec, \n",
    "                                    'Pend Specialty', cpts_w_claims_fin['overrule_rsn'])\n",
    "    cpts_w_claims_fin['dec_source'] = np.where(cpts_w_claims_fin['Specialty']==spec, \n",
    "                                    'clinical', cpts_w_claims_fin['dec_source'])\n",
    "    cpts_w_claims_fin['final_decision'] = np.where(cpts_w_claims_fin['Specialty']==spec, \n",
    "                                    0, cpts_w_claims_fin['final_decision'])"
   ]
  },
  {
   "cell_type": "code",
   "execution_count": 147,
   "metadata": {},
   "outputs": [],
   "source": [
    "def pend_specs_by_spec(list_o_specs, spec_dict):\n",
    "    for spec in list_o_specs:\n",
    "        spec_dict[spec] = []\n",
    "    return spec_dict"
   ]
  },
  {
   "cell_type": "code",
   "execution_count": 148,
   "metadata": {},
   "outputs": [],
   "source": [
    "spec_dict_PPL = pend_specs_by_spec(specs_that_should_pend, spec_dict_PPL)"
   ]
  },
  {
   "cell_type": "code",
   "execution_count": 149,
   "metadata": {},
   "outputs": [],
   "source": [
    "spec_dict_EPL = pend_specs_by_spec(specs_that_should_pend, spec_dict_EPL)"
   ]
  },
  {
   "cell_type": "markdown",
   "metadata": {},
   "source": [
    "#### Remove codes chosen by Laurie and Christel 5/03/2019"
   ]
  },
  {
   "cell_type": "code",
   "execution_count": null,
   "metadata": {},
   "outputs": [],
   "source": [
    "clinical_decisons_20190503_remove = create_dict_of_CPT_codes_v2(clinical_decisions_20190503_remove, list_o_specs)"
   ]
  },
  {
   "cell_type": "code",
   "execution_count": null,
   "metadata": {},
   "outputs": [],
   "source": [
    "list_o_specs_20190503_remove = clinical_decisions_20190503_remove['Specialty'].unique().tolist()"
   ]
  },
  {
   "cell_type": "code",
   "execution_count": 264,
   "metadata": {},
   "outputs": [],
   "source": [
    "cpts_w_claims_fin = cpts_w_claims_fin.merge(clinical_decisions_20190503_remove, how='left', on=['Specialty', 'CPT_Code', 'is_PPL'])"
   ]
  },
  {
   "cell_type": "code",
   "execution_count": null,
   "metadata": {},
   "outputs": [],
   "source": [
    "cpts_w_claims_fin['Decision'] = np.where(cpts_w_claims_fin['Decision'].isna(), cpts_w_claims_fin['final_decision'], cpts_w_claims_fin['final_decision'])"
   ]
  },
  {
   "cell_type": "code",
   "execution_count": null,
   "metadata": {},
   "outputs": [],
   "source": [
    "cpts_w_claims_fin"
   ]
  },
  {
   "cell_type": "code",
   "execution_count": null,
   "metadata": {},
   "outputs": [],
   "source": [
    "## Remove codes from dictionaries as chosen by Laurie and Christel\n",
    "spec_dict_PPL = add_remove_cpt_codes_v2(spec_dict_PPL, list_o_specs_20190503_remove, clinical_decisons_20190503_remove, add=False)"
   ]
  },
  {
   "cell_type": "code",
   "execution_count": 265,
   "metadata": {},
   "outputs": [],
   "source": [
    "## Pend codes decided by clinicians\n",
    "cpts_w_claims_fin['overrule_rsn'] = np.where(cpts_w_claims_fin['overturned']==1, \n",
    "                                    cpts_w_claims_fin['Notes'], cpts_w_claims_fin['overrule_rsn'])"
   ]
  },
  {
   "cell_type": "code",
   "execution_count": 266,
   "metadata": {},
   "outputs": [],
   "source": [
    "cpts_w_claims_fin['dec_source'] = np.where(cpts_w_claims_fin['overturned']==1, \n",
    "                                    'clinical', cpts_w_claims_fin['dec_source'])"
   ]
  },
  {
   "cell_type": "code",
   "execution_count": 267,
   "metadata": {},
   "outputs": [],
   "source": [
    "cpts_w_claims_fin['final_decision'] = np.where(cpts_w_claims_fin['overturned']==1, \n",
    "                                    cpts_w_claims_fin['Decision'], cpts_w_claims_fin['final_decision'])"
   ]
  },
  {
   "cell_type": "code",
   "execution_count": 268,
   "metadata": {},
   "outputs": [],
   "source": [
    "cpts_w_claims_fin.drop(['Decision', 'Notes', 'overturned'], axis=1, inplace=True)"
   ]
  },
  {
   "cell_type": "code",
   "execution_count": 269,
   "metadata": {},
   "outputs": [
    {
     "data": {
      "text/plain": [
       "187"
      ]
     },
     "execution_count": 269,
     "metadata": {},
     "output_type": "execute_result"
    }
   ],
   "source": [
    "cpts_w_claims_fin[(cpts_w_claims_fin['Specialty']=='GASTROENTEROLOGY') &\n",
    "                  (cpts_w_claims_fin['is_PPL'] ==1) &\n",
    "                 (cpts_w_claims_fin['final_decision']==1)].shape[0]"
   ]
  },
  {
   "cell_type": "code",
   "execution_count": 270,
   "metadata": {},
   "outputs": [
    {
     "data": {
      "text/plain": [
       "194"
      ]
     },
     "execution_count": 270,
     "metadata": {},
     "output_type": "execute_result"
    }
   ],
   "source": [
    "len(spec_dict_PPL['GASTROENTEROLOGY'])"
   ]
  },
  {
   "cell_type": "markdown",
   "metadata": {},
   "source": [
    "#### Add codes chosen by Laurie and Christel 5/03/2019"
   ]
  },
  {
   "cell_type": "code",
   "execution_count": null,
   "metadata": {},
   "outputs": [],
   "source": [
    "clinical_decisons_20190503_add = create_dict_of_CPT_codes_v2(clinical_decisions_20190503_add, list_o_specs)"
   ]
  },
  {
   "cell_type": "code",
   "execution_count": null,
   "metadata": {},
   "outputs": [],
   "source": [
    "list_o_specs_20190503_add = clinical_decisions_20190503_add['Specialty'].unique().tolist()"
   ]
  },
  {
   "cell_type": "code",
   "execution_count": 341,
   "metadata": {},
   "outputs": [],
   "source": [
    "cpts_w_claims_fin = cpts_w_claims_fin.merge(clinical_decisions_20190503_add, how='left', on=['Specialty', 'CPT_Code', 'is_PPL'])"
   ]
  },
  {
   "cell_type": "code",
   "execution_count": null,
   "metadata": {},
   "outputs": [],
   "source": [
    "cpts_w_claims_fin['Decision'] = np.where(cpts_w_claims_fin['Decision'].isna(), cpts_w_claims_fin['final_decision'], cpts_w_claims_fin['final_decision'])"
   ]
  },
  {
   "cell_type": "code",
   "execution_count": 343,
   "metadata": {},
   "outputs": [
    {
     "data": {
      "text/html": [
       "<div>\n",
       "<style scoped>\n",
       "    .dataframe tbody tr th:only-of-type {\n",
       "        vertical-align: middle;\n",
       "    }\n",
       "\n",
       "    .dataframe tbody tr th {\n",
       "        vertical-align: top;\n",
       "    }\n",
       "\n",
       "    .dataframe thead th {\n",
       "        text-align: right;\n",
       "    }\n",
       "</style>\n",
       "<table border=\"1\" class=\"dataframe\">\n",
       "  <thead>\n",
       "    <tr style=\"text-align: right;\">\n",
       "      <th></th>\n",
       "      <th>Specialty</th>\n",
       "      <th>CPT_Code</th>\n",
       "      <th>is_PPL</th>\n",
       "      <th>UNITS</th>\n",
       "      <th>is_autoapp</th>\n",
       "      <th>is_den</th>\n",
       "      <th>UNITS_man</th>\n",
       "      <th>cost_to_review</th>\n",
       "      <th>cnt_hcp_cost</th>\n",
       "      <th>avg_hcp_cost</th>\n",
       "      <th>sum_cost_denied</th>\n",
       "      <th>ROI</th>\n",
       "      <th>fin_aa_rec</th>\n",
       "      <th>dec_source</th>\n",
       "      <th>overrule_rsn</th>\n",
       "      <th>final_decision</th>\n",
       "      <th>Decision</th>\n",
       "      <th>Notes</th>\n",
       "      <th>overturned</th>\n",
       "    </tr>\n",
       "  </thead>\n",
       "  <tbody>\n",
       "    <tr>\n",
       "      <th>4484</th>\n",
       "      <td>CARDIOLOGY</td>\n",
       "      <td>99204</td>\n",
       "      <td>1</td>\n",
       "      <td>1999</td>\n",
       "      <td>0.007004</td>\n",
       "      <td>0.001001</td>\n",
       "      <td>1985.0</td>\n",
       "      <td>5022.05</td>\n",
       "      <td>2631.0</td>\n",
       "      <td>138.1708</td>\n",
       "      <td>276.341600</td>\n",
       "      <td>0.055026</td>\n",
       "      <td>1</td>\n",
       "      <td>clinical</td>\n",
       "      <td>upcode</td>\n",
       "      <td>1.0</td>\n",
       "      <td>1.0</td>\n",
       "      <td>upcode</td>\n",
       "      <td>1.0</td>\n",
       "    </tr>\n",
       "    <tr>\n",
       "      <th>4486</th>\n",
       "      <td>CARDIOLOGY</td>\n",
       "      <td>99205</td>\n",
       "      <td>1</td>\n",
       "      <td>1309</td>\n",
       "      <td>0.055004</td>\n",
       "      <td>0.001528</td>\n",
       "      <td>1237.0</td>\n",
       "      <td>3129.61</td>\n",
       "      <td>694.0</td>\n",
       "      <td>188.7979</td>\n",
       "      <td>377.595800</td>\n",
       "      <td>0.120653</td>\n",
       "      <td>1</td>\n",
       "      <td>clinical</td>\n",
       "      <td>upcode</td>\n",
       "      <td>1.0</td>\n",
       "      <td>1.0</td>\n",
       "      <td>upcode</td>\n",
       "      <td>1.0</td>\n",
       "    </tr>\n",
       "    <tr>\n",
       "      <th>4494</th>\n",
       "      <td>CARDIOLOGY</td>\n",
       "      <td>99214</td>\n",
       "      <td>1</td>\n",
       "      <td>4636</td>\n",
       "      <td>0.003449</td>\n",
       "      <td>0.000431</td>\n",
       "      <td>4620.0</td>\n",
       "      <td>11688.60</td>\n",
       "      <td>11416.0</td>\n",
       "      <td>92.8601</td>\n",
       "      <td>185.600096</td>\n",
       "      <td>0.015879</td>\n",
       "      <td>1</td>\n",
       "      <td>clinical</td>\n",
       "      <td>upcode</td>\n",
       "      <td>1.0</td>\n",
       "      <td>1.0</td>\n",
       "      <td>upcode</td>\n",
       "      <td>1.0</td>\n",
       "    </tr>\n",
       "    <tr>\n",
       "      <th>4496</th>\n",
       "      <td>CARDIOLOGY</td>\n",
       "      <td>99215</td>\n",
       "      <td>1</td>\n",
       "      <td>2109</td>\n",
       "      <td>0.032701</td>\n",
       "      <td>0.000948</td>\n",
       "      <td>2040.0</td>\n",
       "      <td>5161.20</td>\n",
       "      <td>1063.0</td>\n",
       "      <td>125.2776</td>\n",
       "      <td>250.436453</td>\n",
       "      <td>0.048523</td>\n",
       "      <td>1</td>\n",
       "      <td>clinical</td>\n",
       "      <td>upcode</td>\n",
       "      <td>1.0</td>\n",
       "      <td>1.0</td>\n",
       "      <td>upcode</td>\n",
       "      <td>1.0</td>\n",
       "    </tr>\n",
       "    <tr>\n",
       "      <th>5468</th>\n",
       "      <td>DERMATOLOGY</td>\n",
       "      <td>99214</td>\n",
       "      <td>1</td>\n",
       "      <td>477</td>\n",
       "      <td>0.000000</td>\n",
       "      <td>0.014644</td>\n",
       "      <td>477.0</td>\n",
       "      <td>1206.81</td>\n",
       "      <td>1117.0</td>\n",
       "      <td>82.7739</td>\n",
       "      <td>578.205130</td>\n",
       "      <td>0.479119</td>\n",
       "      <td>1</td>\n",
       "      <td>clinical</td>\n",
       "      <td>upcode</td>\n",
       "      <td>1.0</td>\n",
       "      <td>1.0</td>\n",
       "      <td>upcode</td>\n",
       "      <td>1.0</td>\n",
       "    </tr>\n",
       "    <tr>\n",
       "      <th>8364</th>\n",
       "      <td>ENDOCRINOLOGY</td>\n",
       "      <td>99204</td>\n",
       "      <td>1</td>\n",
       "      <td>1499</td>\n",
       "      <td>0.032021</td>\n",
       "      <td>0.002001</td>\n",
       "      <td>1451.0</td>\n",
       "      <td>3671.03</td>\n",
       "      <td>1090.0</td>\n",
       "      <td>156.7350</td>\n",
       "      <td>470.205000</td>\n",
       "      <td>0.128085</td>\n",
       "      <td>1</td>\n",
       "      <td>clinical</td>\n",
       "      <td>upcode</td>\n",
       "      <td>1.0</td>\n",
       "      <td>1.0</td>\n",
       "      <td>upcode</td>\n",
       "      <td>1.0</td>\n",
       "    </tr>\n",
       "    <tr>\n",
       "      <th>8374</th>\n",
       "      <td>ENDOCRINOLOGY</td>\n",
       "      <td>99214</td>\n",
       "      <td>1</td>\n",
       "      <td>7106</td>\n",
       "      <td>0.004362</td>\n",
       "      <td>0.000563</td>\n",
       "      <td>7075.0</td>\n",
       "      <td>17899.75</td>\n",
       "      <td>13612.0</td>\n",
       "      <td>90.6324</td>\n",
       "      <td>362.478590</td>\n",
       "      <td>0.020250</td>\n",
       "      <td>1</td>\n",
       "      <td>clinical</td>\n",
       "      <td>upcode</td>\n",
       "      <td>1.0</td>\n",
       "      <td>1.0</td>\n",
       "      <td>upcode</td>\n",
       "      <td>1.0</td>\n",
       "    </tr>\n",
       "    <tr>\n",
       "      <th>8376</th>\n",
       "      <td>ENDOCRINOLOGY</td>\n",
       "      <td>99215</td>\n",
       "      <td>1</td>\n",
       "      <td>865</td>\n",
       "      <td>0.000000</td>\n",
       "      <td>0.001156</td>\n",
       "      <td>865.0</td>\n",
       "      <td>2188.45</td>\n",
       "      <td>894.0</td>\n",
       "      <td>111.3287</td>\n",
       "      <td>111.328700</td>\n",
       "      <td>0.050871</td>\n",
       "      <td>1</td>\n",
       "      <td>clinical</td>\n",
       "      <td>upcode</td>\n",
       "      <td>1.0</td>\n",
       "      <td>1.0</td>\n",
       "      <td>upcode</td>\n",
       "      <td>1.0</td>\n",
       "    </tr>\n",
       "    <tr>\n",
       "      <th>9143</th>\n",
       "      <td>ENT-OTOLARYNGOLOGY</td>\n",
       "      <td>99204</td>\n",
       "      <td>1</td>\n",
       "      <td>721</td>\n",
       "      <td>0.001387</td>\n",
       "      <td>0.004161</td>\n",
       "      <td>720.0</td>\n",
       "      <td>1821.60</td>\n",
       "      <td>847.0</td>\n",
       "      <td>142.1857</td>\n",
       "      <td>426.557100</td>\n",
       "      <td>0.234166</td>\n",
       "      <td>1</td>\n",
       "      <td>clinical</td>\n",
       "      <td>upcode</td>\n",
       "      <td>1.0</td>\n",
       "      <td>1.0</td>\n",
       "      <td>upcode</td>\n",
       "      <td>1.0</td>\n",
       "    </tr>\n",
       "    <tr>\n",
       "      <th>9145</th>\n",
       "      <td>ENT-OTOLARYNGOLOGY</td>\n",
       "      <td>99205</td>\n",
       "      <td>1</td>\n",
       "      <td>108</td>\n",
       "      <td>0.000000</td>\n",
       "      <td>0.000000</td>\n",
       "      <td>108.0</td>\n",
       "      <td>273.24</td>\n",
       "      <td>153.0</td>\n",
       "      <td>208.7810</td>\n",
       "      <td>0.000000</td>\n",
       "      <td>0.000000</td>\n",
       "      <td>1</td>\n",
       "      <td>clinical</td>\n",
       "      <td>upcode</td>\n",
       "      <td>1.0</td>\n",
       "      <td>1.0</td>\n",
       "      <td>upcode</td>\n",
       "      <td>1.0</td>\n",
       "    </tr>\n",
       "    <tr>\n",
       "      <th>9152</th>\n",
       "      <td>ENT-OTOLARYNGOLOGY</td>\n",
       "      <td>99214</td>\n",
       "      <td>1</td>\n",
       "      <td>660</td>\n",
       "      <td>0.001513</td>\n",
       "      <td>0.001513</td>\n",
       "      <td>659.0</td>\n",
       "      <td>1667.27</td>\n",
       "      <td>1456.0</td>\n",
       "      <td>87.8270</td>\n",
       "      <td>87.694130</td>\n",
       "      <td>0.052597</td>\n",
       "      <td>1</td>\n",
       "      <td>clinical</td>\n",
       "      <td>upcode</td>\n",
       "      <td>1.0</td>\n",
       "      <td>1.0</td>\n",
       "      <td>upcode</td>\n",
       "      <td>1.0</td>\n",
       "    </tr>\n",
       "    <tr>\n",
       "      <th>9154</th>\n",
       "      <td>ENT-OTOLARYNGOLOGY</td>\n",
       "      <td>99215</td>\n",
       "      <td>1</td>\n",
       "      <td>53</td>\n",
       "      <td>0.000000</td>\n",
       "      <td>0.000000</td>\n",
       "      <td>53.0</td>\n",
       "      <td>134.09</td>\n",
       "      <td>99.0</td>\n",
       "      <td>137.0312</td>\n",
       "      <td>0.000000</td>\n",
       "      <td>0.000000</td>\n",
       "      <td>1</td>\n",
       "      <td>clinical</td>\n",
       "      <td>upcode</td>\n",
       "      <td>1.0</td>\n",
       "      <td>1.0</td>\n",
       "      <td>upcode</td>\n",
       "      <td>1.0</td>\n",
       "    </tr>\n",
       "    <tr>\n",
       "      <th>9166</th>\n",
       "      <td>ENT-OTOLARYNGOLOGY</td>\n",
       "      <td>99244</td>\n",
       "      <td>1</td>\n",
       "      <td>43</td>\n",
       "      <td>0.860465</td>\n",
       "      <td>0.000000</td>\n",
       "      <td>6.0</td>\n",
       "      <td>15.18</td>\n",
       "      <td>84.0</td>\n",
       "      <td>173.4940</td>\n",
       "      <td>0.000000</td>\n",
       "      <td>0.000000</td>\n",
       "      <td>1</td>\n",
       "      <td>clinical</td>\n",
       "      <td>upcode</td>\n",
       "      <td>1.0</td>\n",
       "      <td>1.0</td>\n",
       "      <td>upcode</td>\n",
       "      <td>1.0</td>\n",
       "    </tr>\n",
       "    <tr>\n",
       "      <th>19777</th>\n",
       "      <td>HEMATOLOGY/ONCOLOGY</td>\n",
       "      <td>99203</td>\n",
       "      <td>1</td>\n",
       "      <td>10799</td>\n",
       "      <td>0.000093</td>\n",
       "      <td>0.000463</td>\n",
       "      <td>10799.0</td>\n",
       "      <td>27321.47</td>\n",
       "      <td>201.0</td>\n",
       "      <td>102.8480</td>\n",
       "      <td>514.192385</td>\n",
       "      <td>0.018820</td>\n",
       "      <td>1</td>\n",
       "      <td>clinical</td>\n",
       "      <td>heavy cap vol</td>\n",
       "      <td>1.0</td>\n",
       "      <td>1.0</td>\n",
       "      <td>heavy cap vol</td>\n",
       "      <td>1.0</td>\n",
       "    </tr>\n",
       "    <tr>\n",
       "      <th>19779</th>\n",
       "      <td>HEMATOLOGY/ONCOLOGY</td>\n",
       "      <td>99204</td>\n",
       "      <td>1</td>\n",
       "      <td>843</td>\n",
       "      <td>0.000000</td>\n",
       "      <td>0.000000</td>\n",
       "      <td>843.0</td>\n",
       "      <td>2132.79</td>\n",
       "      <td>488.0</td>\n",
       "      <td>143.1684</td>\n",
       "      <td>0.000000</td>\n",
       "      <td>0.000000</td>\n",
       "      <td>1</td>\n",
       "      <td>clinical</td>\n",
       "      <td>heavy cap vol</td>\n",
       "      <td>1.0</td>\n",
       "      <td>1.0</td>\n",
       "      <td>heavy cap vol</td>\n",
       "      <td>1.0</td>\n",
       "    </tr>\n",
       "    <tr>\n",
       "      <th>19781</th>\n",
       "      <td>HEMATOLOGY/ONCOLOGY</td>\n",
       "      <td>99205</td>\n",
       "      <td>1</td>\n",
       "      <td>147</td>\n",
       "      <td>0.000000</td>\n",
       "      <td>0.000000</td>\n",
       "      <td>147.0</td>\n",
       "      <td>371.91</td>\n",
       "      <td>1370.0</td>\n",
       "      <td>161.6383</td>\n",
       "      <td>0.000000</td>\n",
       "      <td>0.000000</td>\n",
       "      <td>1</td>\n",
       "      <td>clinical</td>\n",
       "      <td>heavy cap vol</td>\n",
       "      <td>1.0</td>\n",
       "      <td>1.0</td>\n",
       "      <td>heavy cap vol</td>\n",
       "      <td>1.0</td>\n",
       "    </tr>\n",
       "    <tr>\n",
       "      <th>19783</th>\n",
       "      <td>HEMATOLOGY/ONCOLOGY</td>\n",
       "      <td>99211</td>\n",
       "      <td>1</td>\n",
       "      <td>125</td>\n",
       "      <td>0.000000</td>\n",
       "      <td>0.000000</td>\n",
       "      <td>125.0</td>\n",
       "      <td>316.25</td>\n",
       "      <td>430.0</td>\n",
       "      <td>51.6174</td>\n",
       "      <td>0.000000</td>\n",
       "      <td>0.000000</td>\n",
       "      <td>1</td>\n",
       "      <td>clinical</td>\n",
       "      <td>heavy cap vol</td>\n",
       "      <td>1.0</td>\n",
       "      <td>1.0</td>\n",
       "      <td>heavy cap vol</td>\n",
       "      <td>1.0</td>\n",
       "    </tr>\n",
       "    <tr>\n",
       "      <th>19787</th>\n",
       "      <td>HEMATOLOGY/ONCOLOGY</td>\n",
       "      <td>99213</td>\n",
       "      <td>1</td>\n",
       "      <td>17581</td>\n",
       "      <td>0.000057</td>\n",
       "      <td>0.000967</td>\n",
       "      <td>17581.0</td>\n",
       "      <td>44479.93</td>\n",
       "      <td>6697.0</td>\n",
       "      <td>77.6641</td>\n",
       "      <td>1320.214607</td>\n",
       "      <td>0.029681</td>\n",
       "      <td>1</td>\n",
       "      <td>clinical</td>\n",
       "      <td>heavy cap vol</td>\n",
       "      <td>1.0</td>\n",
       "      <td>1.0</td>\n",
       "      <td>heavy cap vol</td>\n",
       "      <td>1.0</td>\n",
       "    </tr>\n",
       "    <tr>\n",
       "      <th>19789</th>\n",
       "      <td>HEMATOLOGY/ONCOLOGY</td>\n",
       "      <td>99214</td>\n",
       "      <td>1</td>\n",
       "      <td>2608</td>\n",
       "      <td>0.000000</td>\n",
       "      <td>0.000766</td>\n",
       "      <td>2608.0</td>\n",
       "      <td>6598.24</td>\n",
       "      <td>12232.0</td>\n",
       "      <td>93.9670</td>\n",
       "      <td>187.718067</td>\n",
       "      <td>0.028450</td>\n",
       "      <td>1</td>\n",
       "      <td>clinical</td>\n",
       "      <td>heavy cap vol</td>\n",
       "      <td>1.0</td>\n",
       "      <td>1.0</td>\n",
       "      <td>heavy cap vol</td>\n",
       "      <td>1.0</td>\n",
       "    </tr>\n",
       "    <tr>\n",
       "      <th>19791</th>\n",
       "      <td>HEMATOLOGY/ONCOLOGY</td>\n",
       "      <td>99215</td>\n",
       "      <td>1</td>\n",
       "      <td>242</td>\n",
       "      <td>0.000000</td>\n",
       "      <td>0.000000</td>\n",
       "      <td>242.0</td>\n",
       "      <td>612.26</td>\n",
       "      <td>2796.0</td>\n",
       "      <td>97.6380</td>\n",
       "      <td>0.000000</td>\n",
       "      <td>0.000000</td>\n",
       "      <td>1</td>\n",
       "      <td>clinical</td>\n",
       "      <td>heavy cap vol</td>\n",
       "      <td>1.0</td>\n",
       "      <td>1.0</td>\n",
       "      <td>heavy cap vol</td>\n",
       "      <td>1.0</td>\n",
       "    </tr>\n",
       "    <tr>\n",
       "      <th>22398</th>\n",
       "      <td>INTERNAL MEDICINE</td>\n",
       "      <td>99220</td>\n",
       "      <td>1</td>\n",
       "      <td>385</td>\n",
       "      <td>0.000000</td>\n",
       "      <td>0.000000</td>\n",
       "      <td>385.0</td>\n",
       "      <td>974.05</td>\n",
       "      <td>200.0</td>\n",
       "      <td>218.5222</td>\n",
       "      <td>0.000000</td>\n",
       "      <td>0.000000</td>\n",
       "      <td>1</td>\n",
       "      <td>clinical</td>\n",
       "      <td>upcode</td>\n",
       "      <td>1.0</td>\n",
       "      <td>1.0</td>\n",
       "      <td>upcode</td>\n",
       "      <td>1.0</td>\n",
       "    </tr>\n",
       "    <tr>\n",
       "      <th>25330</th>\n",
       "      <td>NEUROLOGY</td>\n",
       "      <td>99205</td>\n",
       "      <td>1</td>\n",
       "      <td>1326</td>\n",
       "      <td>0.001507</td>\n",
       "      <td>0.005275</td>\n",
       "      <td>1324.0</td>\n",
       "      <td>3349.72</td>\n",
       "      <td>1893.0</td>\n",
       "      <td>180.0378</td>\n",
       "      <td>1259.314890</td>\n",
       "      <td>0.375946</td>\n",
       "      <td>1</td>\n",
       "      <td>clinical</td>\n",
       "      <td>upcode</td>\n",
       "      <td>1.0</td>\n",
       "      <td>1.0</td>\n",
       "      <td>upcode</td>\n",
       "      <td>1.0</td>\n",
       "    </tr>\n",
       "    <tr>\n",
       "      <th>25339</th>\n",
       "      <td>NEUROLOGY</td>\n",
       "      <td>99215</td>\n",
       "      <td>1</td>\n",
       "      <td>1000</td>\n",
       "      <td>0.000000</td>\n",
       "      <td>0.000000</td>\n",
       "      <td>1000.0</td>\n",
       "      <td>2530.00</td>\n",
       "      <td>2633.0</td>\n",
       "      <td>103.1155</td>\n",
       "      <td>0.000000</td>\n",
       "      <td>0.000000</td>\n",
       "      <td>1</td>\n",
       "      <td>clinical</td>\n",
       "      <td>upcode</td>\n",
       "      <td>1.0</td>\n",
       "      <td>1.0</td>\n",
       "      <td>upcode</td>\n",
       "      <td>1.0</td>\n",
       "    </tr>\n",
       "    <tr>\n",
       "      <th>25347</th>\n",
       "      <td>NEUROLOGY</td>\n",
       "      <td>99245</td>\n",
       "      <td>1</td>\n",
       "      <td>36</td>\n",
       "      <td>0.833333</td>\n",
       "      <td>0.000000</td>\n",
       "      <td>6.0</td>\n",
       "      <td>15.18</td>\n",
       "      <td>73.0</td>\n",
       "      <td>157.0439</td>\n",
       "      <td>0.000000</td>\n",
       "      <td>0.000000</td>\n",
       "      <td>1</td>\n",
       "      <td>clinical</td>\n",
       "      <td>upcode</td>\n",
       "      <td>1.0</td>\n",
       "      <td>1.0</td>\n",
       "      <td>upcode</td>\n",
       "      <td>1.0</td>\n",
       "    </tr>\n",
       "    <tr>\n",
       "      <th>26826</th>\n",
       "      <td>OBSTETRICS/GYNECOLOGY</td>\n",
       "      <td>99204</td>\n",
       "      <td>1</td>\n",
       "      <td>498</td>\n",
       "      <td>0.002004</td>\n",
       "      <td>0.006012</td>\n",
       "      <td>497.0</td>\n",
       "      <td>1257.41</td>\n",
       "      <td>711.0</td>\n",
       "      <td>126.8511</td>\n",
       "      <td>379.790668</td>\n",
       "      <td>0.302042</td>\n",
       "      <td>1</td>\n",
       "      <td>clinical</td>\n",
       "      <td>upcode</td>\n",
       "      <td>1.0</td>\n",
       "      <td>1.0</td>\n",
       "      <td>upcode</td>\n",
       "      <td>1.0</td>\n",
       "    </tr>\n",
       "    <tr>\n",
       "      <th>26828</th>\n",
       "      <td>OBSTETRICS/GYNECOLOGY</td>\n",
       "      <td>99205</td>\n",
       "      <td>1</td>\n",
       "      <td>50</td>\n",
       "      <td>0.000000</td>\n",
       "      <td>0.000000</td>\n",
       "      <td>50.0</td>\n",
       "      <td>126.50</td>\n",
       "      <td>492.0</td>\n",
       "      <td>194.7282</td>\n",
       "      <td>0.000000</td>\n",
       "      <td>0.000000</td>\n",
       "      <td>1</td>\n",
       "      <td>clinical</td>\n",
       "      <td>upcode</td>\n",
       "      <td>1.0</td>\n",
       "      <td>1.0</td>\n",
       "      <td>upcode</td>\n",
       "      <td>1.0</td>\n",
       "    </tr>\n",
       "    <tr>\n",
       "      <th>26836</th>\n",
       "      <td>OBSTETRICS/GYNECOLOGY</td>\n",
       "      <td>99214</td>\n",
       "      <td>1</td>\n",
       "      <td>576</td>\n",
       "      <td>0.000000</td>\n",
       "      <td>0.003466</td>\n",
       "      <td>576.0</td>\n",
       "      <td>1457.28</td>\n",
       "      <td>8018.0</td>\n",
       "      <td>62.0452</td>\n",
       "      <td>123.875339</td>\n",
       "      <td>0.085004</td>\n",
       "      <td>1</td>\n",
       "      <td>clinical</td>\n",
       "      <td>upcode</td>\n",
       "      <td>1.0</td>\n",
       "      <td>1.0</td>\n",
       "      <td>upcode</td>\n",
       "      <td>1.0</td>\n",
       "    </tr>\n",
       "    <tr>\n",
       "      <th>26838</th>\n",
       "      <td>OBSTETRICS/GYNECOLOGY</td>\n",
       "      <td>99215</td>\n",
       "      <td>1</td>\n",
       "      <td>149</td>\n",
       "      <td>0.000000</td>\n",
       "      <td>0.000000</td>\n",
       "      <td>149.0</td>\n",
       "      <td>376.97</td>\n",
       "      <td>900.0</td>\n",
       "      <td>102.7445</td>\n",
       "      <td>0.000000</td>\n",
       "      <td>0.000000</td>\n",
       "      <td>1</td>\n",
       "      <td>clinical</td>\n",
       "      <td>upcode</td>\n",
       "      <td>1.0</td>\n",
       "      <td>1.0</td>\n",
       "      <td>upcode</td>\n",
       "      <td>1.0</td>\n",
       "    </tr>\n",
       "    <tr>\n",
       "      <th>27401</th>\n",
       "      <td>ONCOLOGY - GYN</td>\n",
       "      <td>99203</td>\n",
       "      <td>1</td>\n",
       "      <td>315</td>\n",
       "      <td>0.000000</td>\n",
       "      <td>0.000000</td>\n",
       "      <td>315.0</td>\n",
       "      <td>796.95</td>\n",
       "      <td>62.0</td>\n",
       "      <td>109.7872</td>\n",
       "      <td>0.000000</td>\n",
       "      <td>0.000000</td>\n",
       "      <td>1</td>\n",
       "      <td>clinical</td>\n",
       "      <td>heavy cap vol</td>\n",
       "      <td>1.0</td>\n",
       "      <td>1.0</td>\n",
       "      <td>heavy cap vol</td>\n",
       "      <td>1.0</td>\n",
       "    </tr>\n",
       "    <tr>\n",
       "      <th>27403</th>\n",
       "      <td>ONCOLOGY - GYN</td>\n",
       "      <td>99204</td>\n",
       "      <td>1</td>\n",
       "      <td>98</td>\n",
       "      <td>0.000000</td>\n",
       "      <td>0.000000</td>\n",
       "      <td>98.0</td>\n",
       "      <td>247.94</td>\n",
       "      <td>251.0</td>\n",
       "      <td>154.5697</td>\n",
       "      <td>0.000000</td>\n",
       "      <td>0.000000</td>\n",
       "      <td>1</td>\n",
       "      <td>clinical</td>\n",
       "      <td>heavy cap vol</td>\n",
       "      <td>1.0</td>\n",
       "      <td>1.0</td>\n",
       "      <td>heavy cap vol</td>\n",
       "      <td>1.0</td>\n",
       "    </tr>\n",
       "    <tr>\n",
       "      <th>...</th>\n",
       "      <td>...</td>\n",
       "      <td>...</td>\n",
       "      <td>...</td>\n",
       "      <td>...</td>\n",
       "      <td>...</td>\n",
       "      <td>...</td>\n",
       "      <td>...</td>\n",
       "      <td>...</td>\n",
       "      <td>...</td>\n",
       "      <td>...</td>\n",
       "      <td>...</td>\n",
       "      <td>...</td>\n",
       "      <td>...</td>\n",
       "      <td>...</td>\n",
       "      <td>...</td>\n",
       "      <td>...</td>\n",
       "      <td>...</td>\n",
       "      <td>...</td>\n",
       "      <td>...</td>\n",
       "    </tr>\n",
       "    <tr>\n",
       "      <th>27416</th>\n",
       "      <td>ONCOLOGY - GYN</td>\n",
       "      <td>G0101</td>\n",
       "      <td>1</td>\n",
       "      <td>32</td>\n",
       "      <td>0.000000</td>\n",
       "      <td>0.000000</td>\n",
       "      <td>32.0</td>\n",
       "      <td>80.96</td>\n",
       "      <td>15.0</td>\n",
       "      <td>50.3260</td>\n",
       "      <td>0.000000</td>\n",
       "      <td>0.000000</td>\n",
       "      <td>1</td>\n",
       "      <td>clinical</td>\n",
       "      <td>heavy cap vol</td>\n",
       "      <td>1.0</td>\n",
       "      <td>1.0</td>\n",
       "      <td>heavy cap vol</td>\n",
       "      <td>1.0</td>\n",
       "    </tr>\n",
       "    <tr>\n",
       "      <th>27934</th>\n",
       "      <td>OPHTHALMOLOGY</td>\n",
       "      <td>76511</td>\n",
       "      <td>1</td>\n",
       "      <td>90</td>\n",
       "      <td>0.000000</td>\n",
       "      <td>0.000000</td>\n",
       "      <td>90.0</td>\n",
       "      <td>227.70</td>\n",
       "      <td>1.0</td>\n",
       "      <td>93.4500</td>\n",
       "      <td>0.000000</td>\n",
       "      <td>0.000000</td>\n",
       "      <td>1</td>\n",
       "      <td>clinical</td>\n",
       "      <td>heavy cap vol</td>\n",
       "      <td>1.0</td>\n",
       "      <td>1.0</td>\n",
       "      <td>heavy cap vol</td>\n",
       "      <td>1.0</td>\n",
       "    </tr>\n",
       "    <tr>\n",
       "      <th>27995</th>\n",
       "      <td>OPHTHALMOLOGY</td>\n",
       "      <td>92002</td>\n",
       "      <td>1</td>\n",
       "      <td>46412</td>\n",
       "      <td>0.590171</td>\n",
       "      <td>0.000237</td>\n",
       "      <td>19021.0</td>\n",
       "      <td>48123.13</td>\n",
       "      <td>829.0</td>\n",
       "      <td>66.9142</td>\n",
       "      <td>736.056200</td>\n",
       "      <td>0.015295</td>\n",
       "      <td>1</td>\n",
       "      <td>clinical</td>\n",
       "      <td>heavy cap vol</td>\n",
       "      <td>1.0</td>\n",
       "      <td>1.0</td>\n",
       "      <td>heavy cap vol</td>\n",
       "      <td>1.0</td>\n",
       "    </tr>\n",
       "    <tr>\n",
       "      <th>27997</th>\n",
       "      <td>OPHTHALMOLOGY</td>\n",
       "      <td>92004</td>\n",
       "      <td>1</td>\n",
       "      <td>10645</td>\n",
       "      <td>0.664256</td>\n",
       "      <td>0.001409</td>\n",
       "      <td>3574.0</td>\n",
       "      <td>9042.22</td>\n",
       "      <td>1700.0</td>\n",
       "      <td>120.5924</td>\n",
       "      <td>1808.886000</td>\n",
       "      <td>0.200049</td>\n",
       "      <td>1</td>\n",
       "      <td>clinical</td>\n",
       "      <td>heavy cap vol</td>\n",
       "      <td>1.0</td>\n",
       "      <td>1.0</td>\n",
       "      <td>heavy cap vol</td>\n",
       "      <td>1.0</td>\n",
       "    </tr>\n",
       "    <tr>\n",
       "      <th>27999</th>\n",
       "      <td>OPHTHALMOLOGY</td>\n",
       "      <td>92012</td>\n",
       "      <td>1</td>\n",
       "      <td>39801</td>\n",
       "      <td>0.664380</td>\n",
       "      <td>0.000100</td>\n",
       "      <td>13358.0</td>\n",
       "      <td>33795.74</td>\n",
       "      <td>8214.0</td>\n",
       "      <td>79.2073</td>\n",
       "      <td>316.829200</td>\n",
       "      <td>0.009375</td>\n",
       "      <td>1</td>\n",
       "      <td>clinical</td>\n",
       "      <td>heavy cap vol</td>\n",
       "      <td>1.0</td>\n",
       "      <td>1.0</td>\n",
       "      <td>heavy cap vol</td>\n",
       "      <td>1.0</td>\n",
       "    </tr>\n",
       "    <tr>\n",
       "      <th>28001</th>\n",
       "      <td>OPHTHALMOLOGY</td>\n",
       "      <td>92014</td>\n",
       "      <td>1</td>\n",
       "      <td>9737</td>\n",
       "      <td>0.492094</td>\n",
       "      <td>0.000411</td>\n",
       "      <td>4944.0</td>\n",
       "      <td>12508.32</td>\n",
       "      <td>7141.0</td>\n",
       "      <td>106.5626</td>\n",
       "      <td>426.119111</td>\n",
       "      <td>0.034067</td>\n",
       "      <td>1</td>\n",
       "      <td>clinical</td>\n",
       "      <td>heavy cap vol</td>\n",
       "      <td>1.0</td>\n",
       "      <td>1.0</td>\n",
       "      <td>heavy cap vol</td>\n",
       "      <td>1.0</td>\n",
       "    </tr>\n",
       "    <tr>\n",
       "      <th>28122</th>\n",
       "      <td>OPHTHALMOLOGY</td>\n",
       "      <td>99205</td>\n",
       "      <td>1</td>\n",
       "      <td>449</td>\n",
       "      <td>0.000000</td>\n",
       "      <td>0.000000</td>\n",
       "      <td>449.0</td>\n",
       "      <td>1135.97</td>\n",
       "      <td>162.0</td>\n",
       "      <td>208.0661</td>\n",
       "      <td>0.000000</td>\n",
       "      <td>0.000000</td>\n",
       "      <td>1</td>\n",
       "      <td>clinical</td>\n",
       "      <td>heavy cap vol</td>\n",
       "      <td>1.0</td>\n",
       "      <td>1.0</td>\n",
       "      <td>heavy cap vol</td>\n",
       "      <td>1.0</td>\n",
       "    </tr>\n",
       "    <tr>\n",
       "      <th>28132</th>\n",
       "      <td>OPHTHALMOLOGY</td>\n",
       "      <td>99215</td>\n",
       "      <td>1</td>\n",
       "      <td>84</td>\n",
       "      <td>0.000000</td>\n",
       "      <td>0.000000</td>\n",
       "      <td>84.0</td>\n",
       "      <td>212.52</td>\n",
       "      <td>62.0</td>\n",
       "      <td>158.2914</td>\n",
       "      <td>0.000000</td>\n",
       "      <td>0.000000</td>\n",
       "      <td>1</td>\n",
       "      <td>clinical</td>\n",
       "      <td>heavy cap vol</td>\n",
       "      <td>1.0</td>\n",
       "      <td>1.0</td>\n",
       "      <td>heavy cap vol</td>\n",
       "      <td>1.0</td>\n",
       "    </tr>\n",
       "    <tr>\n",
       "      <th>30926</th>\n",
       "      <td>PERINATOLOGY</td>\n",
       "      <td>99205</td>\n",
       "      <td>1</td>\n",
       "      <td>106</td>\n",
       "      <td>0.000000</td>\n",
       "      <td>0.000000</td>\n",
       "      <td>106.0</td>\n",
       "      <td>268.18</td>\n",
       "      <td>21.0</td>\n",
       "      <td>116.2323</td>\n",
       "      <td>0.000000</td>\n",
       "      <td>0.000000</td>\n",
       "      <td>1</td>\n",
       "      <td>clinical</td>\n",
       "      <td>upcode</td>\n",
       "      <td>1.0</td>\n",
       "      <td>1.0</td>\n",
       "      <td>upcode</td>\n",
       "      <td>1.0</td>\n",
       "    </tr>\n",
       "    <tr>\n",
       "      <th>30934</th>\n",
       "      <td>PERINATOLOGY</td>\n",
       "      <td>99215</td>\n",
       "      <td>1</td>\n",
       "      <td>44</td>\n",
       "      <td>0.000000</td>\n",
       "      <td>0.000000</td>\n",
       "      <td>44.0</td>\n",
       "      <td>111.32</td>\n",
       "      <td>19.0</td>\n",
       "      <td>155.8005</td>\n",
       "      <td>0.000000</td>\n",
       "      <td>0.000000</td>\n",
       "      <td>1</td>\n",
       "      <td>clinical</td>\n",
       "      <td>upcode</td>\n",
       "      <td>1.0</td>\n",
       "      <td>1.0</td>\n",
       "      <td>upcode</td>\n",
       "      <td>1.0</td>\n",
       "    </tr>\n",
       "    <tr>\n",
       "      <th>37122</th>\n",
       "      <td>RHEUMATOLOGY</td>\n",
       "      <td>99215</td>\n",
       "      <td>1</td>\n",
       "      <td>348</td>\n",
       "      <td>0.000000</td>\n",
       "      <td>0.000000</td>\n",
       "      <td>348.0</td>\n",
       "      <td>880.44</td>\n",
       "      <td>711.0</td>\n",
       "      <td>108.7073</td>\n",
       "      <td>0.000000</td>\n",
       "      <td>0.000000</td>\n",
       "      <td>1</td>\n",
       "      <td>clinical</td>\n",
       "      <td>upcode</td>\n",
       "      <td>1.0</td>\n",
       "      <td>1.0</td>\n",
       "      <td>upcode</td>\n",
       "      <td>1.0</td>\n",
       "    </tr>\n",
       "    <tr>\n",
       "      <th>39405</th>\n",
       "      <td>SURGERY - NEURO</td>\n",
       "      <td>99215</td>\n",
       "      <td>1</td>\n",
       "      <td>375</td>\n",
       "      <td>0.000000</td>\n",
       "      <td>0.005333</td>\n",
       "      <td>375.0</td>\n",
       "      <td>948.75</td>\n",
       "      <td>458.0</td>\n",
       "      <td>147.8634</td>\n",
       "      <td>295.726800</td>\n",
       "      <td>0.311702</td>\n",
       "      <td>1</td>\n",
       "      <td>clinical</td>\n",
       "      <td>upcode</td>\n",
       "      <td>1.0</td>\n",
       "      <td>1.0</td>\n",
       "      <td>upcode</td>\n",
       "      <td>1.0</td>\n",
       "    </tr>\n",
       "    <tr>\n",
       "      <th>39675</th>\n",
       "      <td>SURGERY - ONCOLOGY</td>\n",
       "      <td>99203</td>\n",
       "      <td>1</td>\n",
       "      <td>590</td>\n",
       "      <td>0.000000</td>\n",
       "      <td>0.005085</td>\n",
       "      <td>590.0</td>\n",
       "      <td>1492.70</td>\n",
       "      <td>88.0</td>\n",
       "      <td>135.1769</td>\n",
       "      <td>405.530700</td>\n",
       "      <td>0.271676</td>\n",
       "      <td>1</td>\n",
       "      <td>clinical</td>\n",
       "      <td>heavy cap vol</td>\n",
       "      <td>1.0</td>\n",
       "      <td>1.0</td>\n",
       "      <td>heavy cap vol</td>\n",
       "      <td>1.0</td>\n",
       "    </tr>\n",
       "    <tr>\n",
       "      <th>39682</th>\n",
       "      <td>SURGERY - ONCOLOGY</td>\n",
       "      <td>99213</td>\n",
       "      <td>1</td>\n",
       "      <td>2020</td>\n",
       "      <td>0.000000</td>\n",
       "      <td>0.000495</td>\n",
       "      <td>2020.0</td>\n",
       "      <td>5110.60</td>\n",
       "      <td>684.0</td>\n",
       "      <td>101.5128</td>\n",
       "      <td>101.512800</td>\n",
       "      <td>0.019863</td>\n",
       "      <td>1</td>\n",
       "      <td>clinical</td>\n",
       "      <td>heavy cap vol</td>\n",
       "      <td>1.0</td>\n",
       "      <td>1.0</td>\n",
       "      <td>heavy cap vol</td>\n",
       "      <td>1.0</td>\n",
       "    </tr>\n",
       "    <tr>\n",
       "      <th>39684</th>\n",
       "      <td>SURGERY - ONCOLOGY</td>\n",
       "      <td>99214</td>\n",
       "      <td>1</td>\n",
       "      <td>678</td>\n",
       "      <td>0.000000</td>\n",
       "      <td>0.002946</td>\n",
       "      <td>678.0</td>\n",
       "      <td>1715.34</td>\n",
       "      <td>432.0</td>\n",
       "      <td>105.2098</td>\n",
       "      <td>210.109704</td>\n",
       "      <td>0.122489</td>\n",
       "      <td>1</td>\n",
       "      <td>clinical</td>\n",
       "      <td>heavy cap vol</td>\n",
       "      <td>1.0</td>\n",
       "      <td>1.0</td>\n",
       "      <td>heavy cap vol</td>\n",
       "      <td>1.0</td>\n",
       "    </tr>\n",
       "    <tr>\n",
       "      <th>40413</th>\n",
       "      <td>SURGERY - ORTHO</td>\n",
       "      <td>99203</td>\n",
       "      <td>1</td>\n",
       "      <td>36894</td>\n",
       "      <td>0.000000</td>\n",
       "      <td>0.018049</td>\n",
       "      <td>36894.0</td>\n",
       "      <td>93341.82</td>\n",
       "      <td>7146.0</td>\n",
       "      <td>102.0982</td>\n",
       "      <td>67988.187210</td>\n",
       "      <td>0.728379</td>\n",
       "      <td>1</td>\n",
       "      <td>clinical</td>\n",
       "      <td>can approve</td>\n",
       "      <td>1.0</td>\n",
       "      <td>1.0</td>\n",
       "      <td>can approve</td>\n",
       "      <td>1.0</td>\n",
       "    </tr>\n",
       "    <tr>\n",
       "      <th>40415</th>\n",
       "      <td>SURGERY - ORTHO</td>\n",
       "      <td>99204</td>\n",
       "      <td>1</td>\n",
       "      <td>3251</td>\n",
       "      <td>0.000000</td>\n",
       "      <td>0.013530</td>\n",
       "      <td>3251.0</td>\n",
       "      <td>8225.03</td>\n",
       "      <td>2347.0</td>\n",
       "      <td>142.6509</td>\n",
       "      <td>6274.709514</td>\n",
       "      <td>0.762880</td>\n",
       "      <td>1</td>\n",
       "      <td>clinical</td>\n",
       "      <td>can approve</td>\n",
       "      <td>1.0</td>\n",
       "      <td>1.0</td>\n",
       "      <td>can approve</td>\n",
       "      <td>1.0</td>\n",
       "    </tr>\n",
       "    <tr>\n",
       "      <th>40423</th>\n",
       "      <td>SURGERY - ORTHO</td>\n",
       "      <td>99213</td>\n",
       "      <td>1</td>\n",
       "      <td>36588</td>\n",
       "      <td>0.000000</td>\n",
       "      <td>0.015523</td>\n",
       "      <td>36588.0</td>\n",
       "      <td>92567.64</td>\n",
       "      <td>15068.0</td>\n",
       "      <td>62.2204</td>\n",
       "      <td>35337.323931</td>\n",
       "      <td>0.381746</td>\n",
       "      <td>1</td>\n",
       "      <td>clinical</td>\n",
       "      <td>can approve</td>\n",
       "      <td>1.0</td>\n",
       "      <td>1.0</td>\n",
       "      <td>can approve</td>\n",
       "      <td>1.0</td>\n",
       "    </tr>\n",
       "    <tr>\n",
       "      <th>40425</th>\n",
       "      <td>SURGERY - ORTHO</td>\n",
       "      <td>99214</td>\n",
       "      <td>1</td>\n",
       "      <td>3497</td>\n",
       "      <td>0.000000</td>\n",
       "      <td>0.008855</td>\n",
       "      <td>3497.0</td>\n",
       "      <td>8847.41</td>\n",
       "      <td>4080.0</td>\n",
       "      <td>102.8936</td>\n",
       "      <td>3186.057268</td>\n",
       "      <td>0.360112</td>\n",
       "      <td>1</td>\n",
       "      <td>clinical</td>\n",
       "      <td>can approve</td>\n",
       "      <td>1.0</td>\n",
       "      <td>1.0</td>\n",
       "      <td>can approve</td>\n",
       "      <td>1.0</td>\n",
       "    </tr>\n",
       "    <tr>\n",
       "      <th>40427</th>\n",
       "      <td>SURGERY - ORTHO</td>\n",
       "      <td>99215</td>\n",
       "      <td>1</td>\n",
       "      <td>833</td>\n",
       "      <td>0.000000</td>\n",
       "      <td>0.004802</td>\n",
       "      <td>833.0</td>\n",
       "      <td>2107.49</td>\n",
       "      <td>2932.0</td>\n",
       "      <td>129.3857</td>\n",
       "      <td>517.542800</td>\n",
       "      <td>0.245573</td>\n",
       "      <td>1</td>\n",
       "      <td>clinical</td>\n",
       "      <td>can approve</td>\n",
       "      <td>1.0</td>\n",
       "      <td>1.0</td>\n",
       "      <td>can approve</td>\n",
       "      <td>1.0</td>\n",
       "    </tr>\n",
       "    <tr>\n",
       "      <th>41575</th>\n",
       "      <td>SURGERY - VASCULAR</td>\n",
       "      <td>99214</td>\n",
       "      <td>1</td>\n",
       "      <td>670</td>\n",
       "      <td>0.000000</td>\n",
       "      <td>0.013433</td>\n",
       "      <td>670.0</td>\n",
       "      <td>1695.10</td>\n",
       "      <td>802.0</td>\n",
       "      <td>96.3134</td>\n",
       "      <td>866.820600</td>\n",
       "      <td>0.511368</td>\n",
       "      <td>1</td>\n",
       "      <td>clinical</td>\n",
       "      <td>upcode</td>\n",
       "      <td>1.0</td>\n",
       "      <td>1.0</td>\n",
       "      <td>upcode</td>\n",
       "      <td>1.0</td>\n",
       "    </tr>\n",
       "    <tr>\n",
       "      <th>44090</th>\n",
       "      <td>UROLOGY</td>\n",
       "      <td>51720</td>\n",
       "      <td>1</td>\n",
       "      <td>108</td>\n",
       "      <td>0.935185</td>\n",
       "      <td>0.000000</td>\n",
       "      <td>7.0</td>\n",
       "      <td>17.71</td>\n",
       "      <td>242.0</td>\n",
       "      <td>99.2376</td>\n",
       "      <td>0.000000</td>\n",
       "      <td>0.000000</td>\n",
       "      <td>1</td>\n",
       "      <td>clinical</td>\n",
       "      <td>UD</td>\n",
       "      <td>1.0</td>\n",
       "      <td>1.0</td>\n",
       "      <td>UD</td>\n",
       "      <td>1.0</td>\n",
       "    </tr>\n",
       "    <tr>\n",
       "      <th>44595</th>\n",
       "      <td>UROLOGY</td>\n",
       "      <td>99203</td>\n",
       "      <td>1</td>\n",
       "      <td>24434</td>\n",
       "      <td>0.813539</td>\n",
       "      <td>0.000082</td>\n",
       "      <td>4556.0</td>\n",
       "      <td>11526.68</td>\n",
       "      <td>3962.0</td>\n",
       "      <td>110.7664</td>\n",
       "      <td>221.532800</td>\n",
       "      <td>0.019219</td>\n",
       "      <td>1</td>\n",
       "      <td>clinical</td>\n",
       "      <td>capped providers</td>\n",
       "      <td>1.0</td>\n",
       "      <td>1.0</td>\n",
       "      <td>capped providers</td>\n",
       "      <td>1.0</td>\n",
       "    </tr>\n",
       "    <tr>\n",
       "      <th>44597</th>\n",
       "      <td>UROLOGY</td>\n",
       "      <td>99204</td>\n",
       "      <td>1</td>\n",
       "      <td>1212</td>\n",
       "      <td>0.002475</td>\n",
       "      <td>0.001650</td>\n",
       "      <td>1209.0</td>\n",
       "      <td>3058.77</td>\n",
       "      <td>1562.0</td>\n",
       "      <td>151.6580</td>\n",
       "      <td>303.316000</td>\n",
       "      <td>0.099163</td>\n",
       "      <td>1</td>\n",
       "      <td>clinical</td>\n",
       "      <td>capped providers</td>\n",
       "      <td>1.0</td>\n",
       "      <td>1.0</td>\n",
       "      <td>capped providers</td>\n",
       "      <td>1.0</td>\n",
       "    </tr>\n",
       "    <tr>\n",
       "      <th>44599</th>\n",
       "      <td>UROLOGY</td>\n",
       "      <td>99205</td>\n",
       "      <td>1</td>\n",
       "      <td>81</td>\n",
       "      <td>0.012346</td>\n",
       "      <td>0.000000</td>\n",
       "      <td>80.0</td>\n",
       "      <td>202.40</td>\n",
       "      <td>260.0</td>\n",
       "      <td>188.4866</td>\n",
       "      <td>0.000000</td>\n",
       "      <td>0.000000</td>\n",
       "      <td>1</td>\n",
       "      <td>clinical</td>\n",
       "      <td>upcode</td>\n",
       "      <td>1.0</td>\n",
       "      <td>1.0</td>\n",
       "      <td>upcode</td>\n",
       "      <td>1.0</td>\n",
       "    </tr>\n",
       "    <tr>\n",
       "      <th>44603</th>\n",
       "      <td>UROLOGY</td>\n",
       "      <td>99212</td>\n",
       "      <td>1</td>\n",
       "      <td>185</td>\n",
       "      <td>0.978378</td>\n",
       "      <td>0.000000</td>\n",
       "      <td>4.0</td>\n",
       "      <td>10.12</td>\n",
       "      <td>449.0</td>\n",
       "      <td>50.4981</td>\n",
       "      <td>0.000000</td>\n",
       "      <td>0.000000</td>\n",
       "      <td>1</td>\n",
       "      <td>clinical</td>\n",
       "      <td>capped providers</td>\n",
       "      <td>1.0</td>\n",
       "      <td>1.0</td>\n",
       "      <td>capped providers</td>\n",
       "      <td>1.0</td>\n",
       "    </tr>\n",
       "    <tr>\n",
       "      <th>44605</th>\n",
       "      <td>UROLOGY</td>\n",
       "      <td>99213</td>\n",
       "      <td>1</td>\n",
       "      <td>32637</td>\n",
       "      <td>0.845824</td>\n",
       "      <td>0.000184</td>\n",
       "      <td>5031.0</td>\n",
       "      <td>12728.43</td>\n",
       "      <td>14821.0</td>\n",
       "      <td>75.3413</td>\n",
       "      <td>452.033950</td>\n",
       "      <td>0.035514</td>\n",
       "      <td>1</td>\n",
       "      <td>clinical</td>\n",
       "      <td>capped providers</td>\n",
       "      <td>1.0</td>\n",
       "      <td>1.0</td>\n",
       "      <td>capped providers</td>\n",
       "      <td>1.0</td>\n",
       "    </tr>\n",
       "    <tr>\n",
       "      <th>44607</th>\n",
       "      <td>UROLOGY</td>\n",
       "      <td>99214</td>\n",
       "      <td>1</td>\n",
       "      <td>1567</td>\n",
       "      <td>0.003185</td>\n",
       "      <td>0.001274</td>\n",
       "      <td>1562.0</td>\n",
       "      <td>3951.86</td>\n",
       "      <td>4467.0</td>\n",
       "      <td>99.5556</td>\n",
       "      <td>198.730733</td>\n",
       "      <td>0.050288</td>\n",
       "      <td>1</td>\n",
       "      <td>clinical</td>\n",
       "      <td>upcode</td>\n",
       "      <td>1.0</td>\n",
       "      <td>1.0</td>\n",
       "      <td>upcode</td>\n",
       "      <td>1.0</td>\n",
       "    </tr>\n",
       "    <tr>\n",
       "      <th>44609</th>\n",
       "      <td>UROLOGY</td>\n",
       "      <td>99215</td>\n",
       "      <td>1</td>\n",
       "      <td>136</td>\n",
       "      <td>0.000000</td>\n",
       "      <td>0.000000</td>\n",
       "      <td>136.0</td>\n",
       "      <td>344.08</td>\n",
       "      <td>417.0</td>\n",
       "      <td>127.5351</td>\n",
       "      <td>0.000000</td>\n",
       "      <td>0.000000</td>\n",
       "      <td>1</td>\n",
       "      <td>clinical</td>\n",
       "      <td>upcode</td>\n",
       "      <td>1.0</td>\n",
       "      <td>1.0</td>\n",
       "      <td>upcode</td>\n",
       "      <td>1.0</td>\n",
       "    </tr>\n",
       "    <tr>\n",
       "      <th>44888</th>\n",
       "      <td>WOUND CARE</td>\n",
       "      <td>99213</td>\n",
       "      <td>1</td>\n",
       "      <td>1117</td>\n",
       "      <td>0.722471</td>\n",
       "      <td>0.000000</td>\n",
       "      <td>310.0</td>\n",
       "      <td>784.30</td>\n",
       "      <td>11.0</td>\n",
       "      <td>53.4072</td>\n",
       "      <td>0.000000</td>\n",
       "      <td>0.000000</td>\n",
       "      <td>1</td>\n",
       "      <td>clinical</td>\n",
       "      <td>upcode</td>\n",
       "      <td>1.0</td>\n",
       "      <td>1.0</td>\n",
       "      <td>upcode</td>\n",
       "      <td>1.0</td>\n",
       "    </tr>\n",
       "  </tbody>\n",
       "</table>\n",
       "<p>63 rows × 19 columns</p>\n",
       "</div>"
      ],
      "text/plain": [
       "                   Specialty CPT_Code  is_PPL  UNITS  is_autoapp    is_den  \\\n",
       "4484              CARDIOLOGY    99204       1   1999    0.007004  0.001001   \n",
       "4486              CARDIOLOGY    99205       1   1309    0.055004  0.001528   \n",
       "4494              CARDIOLOGY    99214       1   4636    0.003449  0.000431   \n",
       "4496              CARDIOLOGY    99215       1   2109    0.032701  0.000948   \n",
       "5468             DERMATOLOGY    99214       1    477    0.000000  0.014644   \n",
       "8364           ENDOCRINOLOGY    99204       1   1499    0.032021  0.002001   \n",
       "8374           ENDOCRINOLOGY    99214       1   7106    0.004362  0.000563   \n",
       "8376           ENDOCRINOLOGY    99215       1    865    0.000000  0.001156   \n",
       "9143      ENT-OTOLARYNGOLOGY    99204       1    721    0.001387  0.004161   \n",
       "9145      ENT-OTOLARYNGOLOGY    99205       1    108    0.000000  0.000000   \n",
       "9152      ENT-OTOLARYNGOLOGY    99214       1    660    0.001513  0.001513   \n",
       "9154      ENT-OTOLARYNGOLOGY    99215       1     53    0.000000  0.000000   \n",
       "9166      ENT-OTOLARYNGOLOGY    99244       1     43    0.860465  0.000000   \n",
       "19777    HEMATOLOGY/ONCOLOGY    99203       1  10799    0.000093  0.000463   \n",
       "19779    HEMATOLOGY/ONCOLOGY    99204       1    843    0.000000  0.000000   \n",
       "19781    HEMATOLOGY/ONCOLOGY    99205       1    147    0.000000  0.000000   \n",
       "19783    HEMATOLOGY/ONCOLOGY    99211       1    125    0.000000  0.000000   \n",
       "19787    HEMATOLOGY/ONCOLOGY    99213       1  17581    0.000057  0.000967   \n",
       "19789    HEMATOLOGY/ONCOLOGY    99214       1   2608    0.000000  0.000766   \n",
       "19791    HEMATOLOGY/ONCOLOGY    99215       1    242    0.000000  0.000000   \n",
       "22398      INTERNAL MEDICINE    99220       1    385    0.000000  0.000000   \n",
       "25330              NEUROLOGY    99205       1   1326    0.001507  0.005275   \n",
       "25339              NEUROLOGY    99215       1   1000    0.000000  0.000000   \n",
       "25347              NEUROLOGY    99245       1     36    0.833333  0.000000   \n",
       "26826  OBSTETRICS/GYNECOLOGY    99204       1    498    0.002004  0.006012   \n",
       "26828  OBSTETRICS/GYNECOLOGY    99205       1     50    0.000000  0.000000   \n",
       "26836  OBSTETRICS/GYNECOLOGY    99214       1    576    0.000000  0.003466   \n",
       "26838  OBSTETRICS/GYNECOLOGY    99215       1    149    0.000000  0.000000   \n",
       "27401         ONCOLOGY - GYN    99203       1    315    0.000000  0.000000   \n",
       "27403         ONCOLOGY - GYN    99204       1     98    0.000000  0.000000   \n",
       "...                      ...      ...     ...    ...         ...       ...   \n",
       "27416         ONCOLOGY - GYN    G0101       1     32    0.000000  0.000000   \n",
       "27934          OPHTHALMOLOGY    76511       1     90    0.000000  0.000000   \n",
       "27995          OPHTHALMOLOGY    92002       1  46412    0.590171  0.000237   \n",
       "27997          OPHTHALMOLOGY    92004       1  10645    0.664256  0.001409   \n",
       "27999          OPHTHALMOLOGY    92012       1  39801    0.664380  0.000100   \n",
       "28001          OPHTHALMOLOGY    92014       1   9737    0.492094  0.000411   \n",
       "28122          OPHTHALMOLOGY    99205       1    449    0.000000  0.000000   \n",
       "28132          OPHTHALMOLOGY    99215       1     84    0.000000  0.000000   \n",
       "30926           PERINATOLOGY    99205       1    106    0.000000  0.000000   \n",
       "30934           PERINATOLOGY    99215       1     44    0.000000  0.000000   \n",
       "37122           RHEUMATOLOGY    99215       1    348    0.000000  0.000000   \n",
       "39405        SURGERY - NEURO    99215       1    375    0.000000  0.005333   \n",
       "39675     SURGERY - ONCOLOGY    99203       1    590    0.000000  0.005085   \n",
       "39682     SURGERY - ONCOLOGY    99213       1   2020    0.000000  0.000495   \n",
       "39684     SURGERY - ONCOLOGY    99214       1    678    0.000000  0.002946   \n",
       "40413        SURGERY - ORTHO    99203       1  36894    0.000000  0.018049   \n",
       "40415        SURGERY - ORTHO    99204       1   3251    0.000000  0.013530   \n",
       "40423        SURGERY - ORTHO    99213       1  36588    0.000000  0.015523   \n",
       "40425        SURGERY - ORTHO    99214       1   3497    0.000000  0.008855   \n",
       "40427        SURGERY - ORTHO    99215       1    833    0.000000  0.004802   \n",
       "41575     SURGERY - VASCULAR    99214       1    670    0.000000  0.013433   \n",
       "44090                UROLOGY    51720       1    108    0.935185  0.000000   \n",
       "44595                UROLOGY    99203       1  24434    0.813539  0.000082   \n",
       "44597                UROLOGY    99204       1   1212    0.002475  0.001650   \n",
       "44599                UROLOGY    99205       1     81    0.012346  0.000000   \n",
       "44603                UROLOGY    99212       1    185    0.978378  0.000000   \n",
       "44605                UROLOGY    99213       1  32637    0.845824  0.000184   \n",
       "44607                UROLOGY    99214       1   1567    0.003185  0.001274   \n",
       "44609                UROLOGY    99215       1    136    0.000000  0.000000   \n",
       "44888             WOUND CARE    99213       1   1117    0.722471  0.000000   \n",
       "\n",
       "       UNITS_man  cost_to_review  cnt_hcp_cost  avg_hcp_cost  sum_cost_denied  \\\n",
       "4484      1985.0         5022.05        2631.0      138.1708       276.341600   \n",
       "4486      1237.0         3129.61         694.0      188.7979       377.595800   \n",
       "4494      4620.0        11688.60       11416.0       92.8601       185.600096   \n",
       "4496      2040.0         5161.20        1063.0      125.2776       250.436453   \n",
       "5468       477.0         1206.81        1117.0       82.7739       578.205130   \n",
       "8364      1451.0         3671.03        1090.0      156.7350       470.205000   \n",
       "8374      7075.0        17899.75       13612.0       90.6324       362.478590   \n",
       "8376       865.0         2188.45         894.0      111.3287       111.328700   \n",
       "9143       720.0         1821.60         847.0      142.1857       426.557100   \n",
       "9145       108.0          273.24         153.0      208.7810         0.000000   \n",
       "9152       659.0         1667.27        1456.0       87.8270        87.694130   \n",
       "9154        53.0          134.09          99.0      137.0312         0.000000   \n",
       "9166         6.0           15.18          84.0      173.4940         0.000000   \n",
       "19777    10799.0        27321.47         201.0      102.8480       514.192385   \n",
       "19779      843.0         2132.79         488.0      143.1684         0.000000   \n",
       "19781      147.0          371.91        1370.0      161.6383         0.000000   \n",
       "19783      125.0          316.25         430.0       51.6174         0.000000   \n",
       "19787    17581.0        44479.93        6697.0       77.6641      1320.214607   \n",
       "19789     2608.0         6598.24       12232.0       93.9670       187.718067   \n",
       "19791      242.0          612.26        2796.0       97.6380         0.000000   \n",
       "22398      385.0          974.05         200.0      218.5222         0.000000   \n",
       "25330     1324.0         3349.72        1893.0      180.0378      1259.314890   \n",
       "25339     1000.0         2530.00        2633.0      103.1155         0.000000   \n",
       "25347        6.0           15.18          73.0      157.0439         0.000000   \n",
       "26826      497.0         1257.41         711.0      126.8511       379.790668   \n",
       "26828       50.0          126.50         492.0      194.7282         0.000000   \n",
       "26836      576.0         1457.28        8018.0       62.0452       123.875339   \n",
       "26838      149.0          376.97         900.0      102.7445         0.000000   \n",
       "27401      315.0          796.95          62.0      109.7872         0.000000   \n",
       "27403       98.0          247.94         251.0      154.5697         0.000000   \n",
       "...          ...             ...           ...           ...              ...   \n",
       "27416       32.0           80.96          15.0       50.3260         0.000000   \n",
       "27934       90.0          227.70           1.0       93.4500         0.000000   \n",
       "27995    19021.0        48123.13         829.0       66.9142       736.056200   \n",
       "27997     3574.0         9042.22        1700.0      120.5924      1808.886000   \n",
       "27999    13358.0        33795.74        8214.0       79.2073       316.829200   \n",
       "28001     4944.0        12508.32        7141.0      106.5626       426.119111   \n",
       "28122      449.0         1135.97         162.0      208.0661         0.000000   \n",
       "28132       84.0          212.52          62.0      158.2914         0.000000   \n",
       "30926      106.0          268.18          21.0      116.2323         0.000000   \n",
       "30934       44.0          111.32          19.0      155.8005         0.000000   \n",
       "37122      348.0          880.44         711.0      108.7073         0.000000   \n",
       "39405      375.0          948.75         458.0      147.8634       295.726800   \n",
       "39675      590.0         1492.70          88.0      135.1769       405.530700   \n",
       "39682     2020.0         5110.60         684.0      101.5128       101.512800   \n",
       "39684      678.0         1715.34         432.0      105.2098       210.109704   \n",
       "40413    36894.0        93341.82        7146.0      102.0982     67988.187210   \n",
       "40415     3251.0         8225.03        2347.0      142.6509      6274.709514   \n",
       "40423    36588.0        92567.64       15068.0       62.2204     35337.323931   \n",
       "40425     3497.0         8847.41        4080.0      102.8936      3186.057268   \n",
       "40427      833.0         2107.49        2932.0      129.3857       517.542800   \n",
       "41575      670.0         1695.10         802.0       96.3134       866.820600   \n",
       "44090        7.0           17.71         242.0       99.2376         0.000000   \n",
       "44595     4556.0        11526.68        3962.0      110.7664       221.532800   \n",
       "44597     1209.0         3058.77        1562.0      151.6580       303.316000   \n",
       "44599       80.0          202.40         260.0      188.4866         0.000000   \n",
       "44603        4.0           10.12         449.0       50.4981         0.000000   \n",
       "44605     5031.0        12728.43       14821.0       75.3413       452.033950   \n",
       "44607     1562.0         3951.86        4467.0       99.5556       198.730733   \n",
       "44609      136.0          344.08         417.0      127.5351         0.000000   \n",
       "44888      310.0          784.30          11.0       53.4072         0.000000   \n",
       "\n",
       "            ROI  fin_aa_rec dec_source      overrule_rsn  final_decision  \\\n",
       "4484   0.055026           1   clinical            upcode             1.0   \n",
       "4486   0.120653           1   clinical            upcode             1.0   \n",
       "4494   0.015879           1   clinical            upcode             1.0   \n",
       "4496   0.048523           1   clinical            upcode             1.0   \n",
       "5468   0.479119           1   clinical            upcode             1.0   \n",
       "8364   0.128085           1   clinical            upcode             1.0   \n",
       "8374   0.020250           1   clinical            upcode             1.0   \n",
       "8376   0.050871           1   clinical            upcode             1.0   \n",
       "9143   0.234166           1   clinical            upcode             1.0   \n",
       "9145   0.000000           1   clinical            upcode             1.0   \n",
       "9152   0.052597           1   clinical            upcode             1.0   \n",
       "9154   0.000000           1   clinical            upcode             1.0   \n",
       "9166   0.000000           1   clinical            upcode             1.0   \n",
       "19777  0.018820           1   clinical     heavy cap vol             1.0   \n",
       "19779  0.000000           1   clinical     heavy cap vol             1.0   \n",
       "19781  0.000000           1   clinical     heavy cap vol             1.0   \n",
       "19783  0.000000           1   clinical     heavy cap vol             1.0   \n",
       "19787  0.029681           1   clinical     heavy cap vol             1.0   \n",
       "19789  0.028450           1   clinical     heavy cap vol             1.0   \n",
       "19791  0.000000           1   clinical     heavy cap vol             1.0   \n",
       "22398  0.000000           1   clinical            upcode             1.0   \n",
       "25330  0.375946           1   clinical            upcode             1.0   \n",
       "25339  0.000000           1   clinical            upcode             1.0   \n",
       "25347  0.000000           1   clinical            upcode             1.0   \n",
       "26826  0.302042           1   clinical            upcode             1.0   \n",
       "26828  0.000000           1   clinical            upcode             1.0   \n",
       "26836  0.085004           1   clinical            upcode             1.0   \n",
       "26838  0.000000           1   clinical            upcode             1.0   \n",
       "27401  0.000000           1   clinical     heavy cap vol             1.0   \n",
       "27403  0.000000           1   clinical     heavy cap vol             1.0   \n",
       "...         ...         ...        ...               ...             ...   \n",
       "27416  0.000000           1   clinical     heavy cap vol             1.0   \n",
       "27934  0.000000           1   clinical     heavy cap vol             1.0   \n",
       "27995  0.015295           1   clinical     heavy cap vol             1.0   \n",
       "27997  0.200049           1   clinical     heavy cap vol             1.0   \n",
       "27999  0.009375           1   clinical     heavy cap vol             1.0   \n",
       "28001  0.034067           1   clinical     heavy cap vol             1.0   \n",
       "28122  0.000000           1   clinical     heavy cap vol             1.0   \n",
       "28132  0.000000           1   clinical     heavy cap vol             1.0   \n",
       "30926  0.000000           1   clinical            upcode             1.0   \n",
       "30934  0.000000           1   clinical            upcode             1.0   \n",
       "37122  0.000000           1   clinical            upcode             1.0   \n",
       "39405  0.311702           1   clinical            upcode             1.0   \n",
       "39675  0.271676           1   clinical     heavy cap vol             1.0   \n",
       "39682  0.019863           1   clinical     heavy cap vol             1.0   \n",
       "39684  0.122489           1   clinical     heavy cap vol             1.0   \n",
       "40413  0.728379           1   clinical       can approve             1.0   \n",
       "40415  0.762880           1   clinical       can approve             1.0   \n",
       "40423  0.381746           1   clinical       can approve             1.0   \n",
       "40425  0.360112           1   clinical       can approve             1.0   \n",
       "40427  0.245573           1   clinical       can approve             1.0   \n",
       "41575  0.511368           1   clinical            upcode             1.0   \n",
       "44090  0.000000           1   clinical                UD             1.0   \n",
       "44595  0.019219           1   clinical  capped providers             1.0   \n",
       "44597  0.099163           1   clinical  capped providers             1.0   \n",
       "44599  0.000000           1   clinical            upcode             1.0   \n",
       "44603  0.000000           1   clinical  capped providers             1.0   \n",
       "44605  0.035514           1   clinical  capped providers             1.0   \n",
       "44607  0.050288           1   clinical            upcode             1.0   \n",
       "44609  0.000000           1   clinical            upcode             1.0   \n",
       "44888  0.000000           1   clinical            upcode             1.0   \n",
       "\n",
       "       Decision             Notes  overturned  \n",
       "4484        1.0            upcode         1.0  \n",
       "4486        1.0            upcode         1.0  \n",
       "4494        1.0            upcode         1.0  \n",
       "4496        1.0            upcode         1.0  \n",
       "5468        1.0            upcode         1.0  \n",
       "8364        1.0            upcode         1.0  \n",
       "8374        1.0            upcode         1.0  \n",
       "8376        1.0            upcode         1.0  \n",
       "9143        1.0            upcode         1.0  \n",
       "9145        1.0            upcode         1.0  \n",
       "9152        1.0            upcode         1.0  \n",
       "9154        1.0            upcode         1.0  \n",
       "9166        1.0            upcode         1.0  \n",
       "19777       1.0     heavy cap vol         1.0  \n",
       "19779       1.0     heavy cap vol         1.0  \n",
       "19781       1.0     heavy cap vol         1.0  \n",
       "19783       1.0     heavy cap vol         1.0  \n",
       "19787       1.0     heavy cap vol         1.0  \n",
       "19789       1.0     heavy cap vol         1.0  \n",
       "19791       1.0     heavy cap vol         1.0  \n",
       "22398       1.0            upcode         1.0  \n",
       "25330       1.0            upcode         1.0  \n",
       "25339       1.0            upcode         1.0  \n",
       "25347       1.0            upcode         1.0  \n",
       "26826       1.0            upcode         1.0  \n",
       "26828       1.0            upcode         1.0  \n",
       "26836       1.0            upcode         1.0  \n",
       "26838       1.0            upcode         1.0  \n",
       "27401       1.0     heavy cap vol         1.0  \n",
       "27403       1.0     heavy cap vol         1.0  \n",
       "...         ...               ...         ...  \n",
       "27416       1.0     heavy cap vol         1.0  \n",
       "27934       1.0     heavy cap vol         1.0  \n",
       "27995       1.0     heavy cap vol         1.0  \n",
       "27997       1.0     heavy cap vol         1.0  \n",
       "27999       1.0     heavy cap vol         1.0  \n",
       "28001       1.0     heavy cap vol         1.0  \n",
       "28122       1.0     heavy cap vol         1.0  \n",
       "28132       1.0     heavy cap vol         1.0  \n",
       "30926       1.0            upcode         1.0  \n",
       "30934       1.0            upcode         1.0  \n",
       "37122       1.0            upcode         1.0  \n",
       "39405       1.0            upcode         1.0  \n",
       "39675       1.0     heavy cap vol         1.0  \n",
       "39682       1.0     heavy cap vol         1.0  \n",
       "39684       1.0     heavy cap vol         1.0  \n",
       "40413       1.0       can approve         1.0  \n",
       "40415       1.0       can approve         1.0  \n",
       "40423       1.0       can approve         1.0  \n",
       "40425       1.0       can approve         1.0  \n",
       "40427       1.0       can approve         1.0  \n",
       "41575       1.0            upcode         1.0  \n",
       "44090       1.0                UD         1.0  \n",
       "44595       1.0  capped providers         1.0  \n",
       "44597       1.0  capped providers         1.0  \n",
       "44599       1.0            upcode         1.0  \n",
       "44603       1.0  capped providers         1.0  \n",
       "44605       1.0  capped providers         1.0  \n",
       "44607       1.0            upcode         1.0  \n",
       "44609       1.0            upcode         1.0  \n",
       "44888       1.0            upcode         1.0  \n",
       "\n",
       "[63 rows x 19 columns]"
      ]
     },
     "execution_count": 343,
     "metadata": {},
     "output_type": "execute_result"
    }
   ],
   "source": [
    "cpts_w_claims_fin[cpts_w_claims_fin['overturned']==1]"
   ]
  },
  {
   "cell_type": "code",
   "execution_count": null,
   "metadata": {},
   "outputs": [],
   "source": [
    "## Remove codes from dictionaries as chosen by Laurie and Christel\n",
    "spec_dict_PPL = add_remove_cpt_codes_v2(spec_dict_PPL, list_o_specs_20190503_add, clinical_decisons_20190503_add, add=True)"
   ]
  },
  {
   "cell_type": "code",
   "execution_count": 272,
   "metadata": {},
   "outputs": [],
   "source": [
    "## Pend codes decided by clinicians\n",
    "cpts_w_claims_fin['overrule_rsn'] = np.where(cpts_w_claims_fin['Decision']!=cpts_w_claims_fin['final_decision'], \n",
    "                                    cpts_w_claims_fin['Notes'], cpts_w_claims_fin['overrule_rsn'])"
   ]
  },
  {
   "cell_type": "code",
   "execution_count": 273,
   "metadata": {},
   "outputs": [],
   "source": [
    "cpts_w_claims_fin['dec_source'] = np.where(cpts_w_claims_fin['Decision']!=cpts_w_claims_fin['final_decision'], \n",
    "                                    'clinical', cpts_w_claims_fin['dec_source'])"
   ]
  },
  {
   "cell_type": "code",
   "execution_count": 274,
   "metadata": {},
   "outputs": [],
   "source": [
    "cpts_w_claims_fin['final_decision'] = np.where(cpts_w_claims_fin['Decision']!=cpts_w_claims_fin['final_decision'], \n",
    "                                    cpts_w_claims_fin['Decision'], cpts_w_claims_fin['final_decision'])"
   ]
  },
  {
   "cell_type": "code",
   "execution_count": 275,
   "metadata": {},
   "outputs": [],
   "source": [
    "cpts_w_claims_fin.drop(['Decision', 'Notes', 'overturned'], axis=1, inplace=True)"
   ]
  },
  {
   "cell_type": "code",
   "execution_count": 276,
   "metadata": {},
   "outputs": [
    {
     "data": {
      "text/plain": [
       "187"
      ]
     },
     "execution_count": 276,
     "metadata": {},
     "output_type": "execute_result"
    }
   ],
   "source": [
    "cpts_w_claims_fin[(cpts_w_claims_fin['Specialty']=='GASTROENTEROLOGY') &\n",
    "                  (cpts_w_claims_fin['is_PPL'] ==1) &\n",
    "                 (cpts_w_claims_fin['final_decision']==1)].shape[0]"
   ]
  },
  {
   "cell_type": "code",
   "execution_count": 277,
   "metadata": {},
   "outputs": [
    {
     "data": {
      "text/plain": [
       "194"
      ]
     },
     "execution_count": 277,
     "metadata": {},
     "output_type": "execute_result"
    }
   ],
   "source": [
    "len(spec_dict_PPL['GASTROENTEROLOGY'])"
   ]
  },
  {
   "cell_type": "code",
   "execution_count": null,
   "metadata": {},
   "outputs": [],
   "source": [
    "cpts_w_claims_fin[cpts_w_claims_fin['overrule_rsn']=='UPCODING']"
   ]
  },
  {
   "cell_type": "markdown",
   "metadata": {},
   "source": [
    "#### Add codes chosen by Phyllis and Rhoda 5/17/2019"
   ]
  },
  {
   "cell_type": "code",
   "execution_count": null,
   "metadata": {},
   "outputs": [],
   "source": [
    "clinical_decisions_20190517_add = create_dict_of_CPT_codes_v2(clinical_decisions_20190517, list_o_specs, PPL=1, approve=1)"
   ]
  },
  {
   "cell_type": "code",
   "execution_count": null,
   "metadata": {},
   "outputs": [],
   "source": [
    "list_o_specs_20190517_add = clinical_decisions_20190517['Specialty'].unique().tolist()"
   ]
  },
  {
   "cell_type": "code",
   "execution_count": 278,
   "metadata": {},
   "outputs": [],
   "source": [
    "cpts_w_claims_fin = cpts_w_claims_fin.merge(clinical_decisions_20190517, how='left', on=['Specialty', 'CPT_Code', 'is_PPL'])"
   ]
  },
  {
   "cell_type": "code",
   "execution_count": null,
   "metadata": {},
   "outputs": [],
   "source": [
    "cpts_w_claims_fin['Decision'] = np.where(cpts_w_claims_fin['Decision'].isna(), cpts_w_claims_fin['final_decision'], cpts_w_claims_fin['final_decision'])"
   ]
  },
  {
   "cell_type": "code",
   "execution_count": null,
   "metadata": {},
   "outputs": [],
   "source": [
    "## Remove codes from dictionaries as chosen by Laurie and Christel\n",
    "spec_dict_PPL = add_remove_cpt_codes_v2(spec_dict_PPL, list_o_specs_20190517_add, clinical_decisions_20190517_add, add=True)"
   ]
  },
  {
   "cell_type": "code",
   "execution_count": 279,
   "metadata": {},
   "outputs": [
    {
     "ename": "NameError",
     "evalue": "name 'clinical_decisions_20190517_add' is not defined",
     "output_type": "error",
     "traceback": [
      "\u001b[1;31m---------------------------------------------------------------------------\u001b[0m",
      "\u001b[1;31mNameError\u001b[0m                                 Traceback (most recent call last)",
      "\u001b[1;32m<ipython-input-279-2eca4496216e>\u001b[0m in \u001b[0;36m<module>\u001b[1;34m\u001b[0m\n\u001b[1;32m----> 1\u001b[1;33m \u001b[0mclinical_decisions_20190517_add\u001b[0m\u001b[1;33m[\u001b[0m\u001b[1;34m'RADIOLOGY_s'\u001b[0m\u001b[1;33m]\u001b[0m\u001b[1;33m\u001b[0m\u001b[1;33m\u001b[0m\u001b[0m\n\u001b[0m",
      "\u001b[1;31mNameError\u001b[0m: name 'clinical_decisions_20190517_add' is not defined"
     ]
    }
   ],
   "source": [
    "clinical_decisions_20190517_add['RADIOLOGY_s']"
   ]
  },
  {
   "cell_type": "code",
   "execution_count": null,
   "metadata": {},
   "outputs": [],
   "source": [
    "cpts_w_claims_fin['Decision'] = np.where(cpts_w_claims_fin['Decision'].isna(), cpts_w_claims_fin['final_decision'], cpts_w_claims_fin['final_decision'])"
   ]
  },
  {
   "cell_type": "code",
   "execution_count": 280,
   "metadata": {},
   "outputs": [],
   "source": [
    "## Pend codes decided by clinicians\n",
    "cpts_w_claims_fin['overrule_rsn'] = np.where(cpts_w_claims_fin['Decision']!=cpts_w_claims_fin['final_decision'], \n",
    "                                    cpts_w_claims_fin['Notes'], cpts_w_claims_fin['overrule_rsn'])"
   ]
  },
  {
   "cell_type": "code",
   "execution_count": 281,
   "metadata": {},
   "outputs": [],
   "source": [
    "cpts_w_claims_fin['dec_source'] = np.where(cpts_w_claims_fin['Decision']!=cpts_w_claims_fin['final_decision'], \n",
    "                                    'clinical', cpts_w_claims_fin['dec_source'])"
   ]
  },
  {
   "cell_type": "code",
   "execution_count": 282,
   "metadata": {},
   "outputs": [],
   "source": [
    "cpts_w_claims_fin['final_decision'] = np.where(cpts_w_claims_fin['Decision']!=cpts_w_claims_fin['final_decision'], \n",
    "                                    cpts_w_claims_fin['Decision'], cpts_w_claims_fin['final_decision'])"
   ]
  },
  {
   "cell_type": "code",
   "execution_count": 283,
   "metadata": {},
   "outputs": [],
   "source": [
    "cpts_w_claims_fin.drop(['Decision', 'Notes', 'overturned'], axis=1, inplace=True)"
   ]
  },
  {
   "cell_type": "code",
   "execution_count": 284,
   "metadata": {},
   "outputs": [
    {
     "data": {
      "text/plain": [
       "51"
      ]
     },
     "execution_count": 284,
     "metadata": {},
     "output_type": "execute_result"
    }
   ],
   "source": [
    "cpts_w_claims_fin[\n",
    "                 (cpts_w_claims_fin['overrule_rsn']=='PA and RL review of pend specs')].shape[0]"
   ]
  },
  {
   "cell_type": "markdown",
   "metadata": {},
   "source": [
    "#### Pend codes with fewer than 30 in the past year"
   ]
  },
  {
   "cell_type": "code",
   "execution_count": 285,
   "metadata": {},
   "outputs": [],
   "source": [
    "## Pend codes that have volume < 30\n",
    "cpts_w_claims_fin['overrule_rsn'] = np.where(cpts_w_claims_fin['UNITS']<=30, \n",
    "                                    'low volume', cpts_w_claims_fin['overrule_rsn'])"
   ]
  },
  {
   "cell_type": "code",
   "execution_count": 286,
   "metadata": {},
   "outputs": [],
   "source": [
    "cpts_w_claims_fin['dec_source'] = np.where(cpts_w_claims_fin['UNITS']<=30, \n",
    "                                    'Rule', cpts_w_claims_fin['dec_source'])"
   ]
  },
  {
   "cell_type": "code",
   "execution_count": 287,
   "metadata": {},
   "outputs": [],
   "source": [
    "cpts_w_claims_fin['final_decision'] = np.where(cpts_w_claims_fin['UNITS']<=30, \n",
    "                                    0, cpts_w_claims_fin['final_decision'])"
   ]
  },
  {
   "cell_type": "code",
   "execution_count": null,
   "metadata": {},
   "outputs": [],
   "source": [
    "def remove_low_vol_codes(specialty_cpt, spec_dict, list_o_specs, threshold=30, PPL=1):\n",
    "    low_vol_dict = {k: [] for k in list_o_specs}\n",
    "    low_vol_specs = []\n",
    "    for index, row in specialty_cpt.iterrows():\n",
    "        if row['is_PPL'] == PPL:\n",
    "            if row['UNITS'] <= threshold:\n",
    "                low_vol_dict[row['Specialty']].append(row['CPT_Code'])\n",
    "                low_vol_specs.append(row['Specialty'])\n",
    "    low_vol_specs = list(set(low_vol_specs))\n",
    "    for spec in low_vol_specs:\n",
    "        for code in low_vol_dict[spec]:\n",
    "            if code in spec_dict[spec]:\n",
    "                spec_dict[spec].remove(code)\n",
    "            else:\n",
    "                continue\n",
    "    return spec_dict\n",
    "            "
   ]
  },
  {
   "cell_type": "code",
   "execution_count": null,
   "metadata": {},
   "outputs": [],
   "source": [
    "spec_dict_PPL = remove_low_vol_codes(cpts_w_claims_fin, spec_dict_PPL, list_o_specs)"
   ]
  },
  {
   "cell_type": "code",
   "execution_count": 288,
   "metadata": {},
   "outputs": [
    {
     "data": {
      "text/plain": [
       "36"
      ]
     },
     "execution_count": 288,
     "metadata": {},
     "output_type": "execute_result"
    }
   ],
   "source": [
    "cpts_w_claims_fin[(cpts_w_claims_fin['Specialty']=='GASTROENTEROLOGY') &\n",
    "                  (cpts_w_claims_fin['is_PPL'] ==1) &\n",
    "                 (cpts_w_claims_fin['final_decision']==1)].shape[0]"
   ]
  },
  {
   "cell_type": "code",
   "execution_count": 289,
   "metadata": {},
   "outputs": [
    {
     "data": {
      "text/plain": [
       "194"
      ]
     },
     "execution_count": 289,
     "metadata": {},
     "output_type": "execute_result"
    }
   ],
   "source": [
    "len(spec_dict_PPL['GASTROENTEROLOGY'])"
   ]
  },
  {
   "cell_type": "markdown",
   "metadata": {},
   "source": [
    "#### Pend all EPL"
   ]
  },
  {
   "cell_type": "code",
   "execution_count": 290,
   "metadata": {},
   "outputs": [],
   "source": [
    "## Pend EPL\n",
    "cpts_w_claims_fin['overrule_rsn'] = np.where(cpts_w_claims_fin['is_PPL']==0, \n",
    "                                    'Pend EPL', cpts_w_claims_fin['overrule_rsn'])"
   ]
  },
  {
   "cell_type": "code",
   "execution_count": 291,
   "metadata": {},
   "outputs": [],
   "source": [
    "cpts_w_claims_fin['dec_source'] = np.where(cpts_w_claims_fin['is_PPL']==0, \n",
    "                                    'clinical', cpts_w_claims_fin['dec_source'])"
   ]
  },
  {
   "cell_type": "code",
   "execution_count": 292,
   "metadata": {},
   "outputs": [],
   "source": [
    "cpts_w_claims_fin['final_decision'] = np.where(cpts_w_claims_fin['is_PPL']==0, \n",
    "                                    0, cpts_w_claims_fin['final_decision'])"
   ]
  },
  {
   "cell_type": "code",
   "execution_count": null,
   "metadata": {},
   "outputs": [],
   "source": [
    "for spec in list_o_specs:\n",
    "    spec_dict_EPL[spec] = []"
   ]
  },
  {
   "cell_type": "code",
   "execution_count": 293,
   "metadata": {},
   "outputs": [],
   "source": [
    "## Function that gathers CPT codes that should be pended and stores them in a dictionary.\n",
    "def create_dict_of_CPT_codes_v3(specialty_cpt, list_o_specs, PPL=1):\n",
    "    spec_dict = {k: [] for k in list_o_specs}\n",
    "    for index, row in specialty_cpt.iterrows():\n",
    "        if row['final_decision'] == 1:\n",
    "            if row['is_PPL'] == PPL:\n",
    "                spec_dict[row['Specialty']].append(row['CPT_Code'])\n",
    "    return spec_dict"
   ]
  },
  {
   "cell_type": "code",
   "execution_count": 294,
   "metadata": {},
   "outputs": [],
   "source": [
    "new_spec_dictionary_PPL = create_dict_of_CPT_codes_v3(cpts_w_claims_fin, list_o_specs, PPL=1)"
   ]
  },
  {
   "cell_type": "code",
   "execution_count": 297,
   "metadata": {},
   "outputs": [
    {
     "data": {
      "text/plain": [
       "36"
      ]
     },
     "execution_count": 297,
     "metadata": {},
     "output_type": "execute_result"
    }
   ],
   "source": [
    "len(new_spec_dictionary_PPL['GASTROENTEROLOGY'])"
   ]
  },
  {
   "cell_type": "code",
   "execution_count": null,
   "metadata": {},
   "outputs": [],
   "source": []
  },
  {
   "cell_type": "code",
   "execution_count": null,
   "metadata": {},
   "outputs": [],
   "source": []
  },
  {
   "cell_type": "code",
   "execution_count": null,
   "metadata": {},
   "outputs": [],
   "source": [
    "#### Prepare a newer set of referrals to run through the new code."
   ]
  },
  {
   "cell_type": "code",
   "execution_count": 298,
   "metadata": {},
   "outputs": [],
   "source": [
    "## Assigns an auto-approve (1) or pend (0) status to each specialty / code group\n",
    "def assign_status(codes, spec_dict_PPL, spec_dict_EPL, list_of_types_pend):\n",
    "    status = list(np.zeros(codes.shape[0]))\n",
    "    specs_list = codes['Specialty'].unique().tolist()\n",
    "    print(len(status))\n",
    "    print(codes.shape[0])\n",
    "    for spec in specs_list:\n",
    "        if spec not in spec_dict_PPL:\n",
    "            spec_dict_PPL[spec] = []\n",
    "    for spec in specs_list:\n",
    "        if spec not in spec_dict_EPL:\n",
    "            spec_dict_EPL[spec] = []\n",
    "    for index, row in codes.iterrows():\n",
    "        if row['is_PPL'] == 1:\n",
    "            if row['CPT_Code'] in spec_dict_PPL[row['Specialty']]:\n",
    "                if row['ref_type'] not in list_of_types_pend:\n",
    "                    status[index] = 1\n",
    "        ##else:\n",
    "          ##  if row['CPT_Code'] in spec_dict_EPL[row['Specialty']]:\n",
    "            ##    status[index] = 0\n",
    "    return status"
   ]
  },
  {
   "cell_type": "code",
   "execution_count": 299,
   "metadata": {},
   "outputs": [],
   "source": [
    "cpts_new.reset_index(drop=True, inplace=True)"
   ]
  },
  {
   "cell_type": "code",
   "execution_count": 300,
   "metadata": {},
   "outputs": [
    {
     "name": "stdout",
     "output_type": "stream",
     "text": [
      "950885\n",
      "950885\n"
     ]
    }
   ],
   "source": [
    "auto_approve = assign_status(cpts_new, new_spec_dictionary_PPL, \n",
    "                             spec_dict_EPL, list_o_types_to_pend)"
   ]
  },
  {
   "cell_type": "code",
   "execution_count": 301,
   "metadata": {},
   "outputs": [],
   "source": [
    "cpts_new['auto_approvable'] = auto_approve"
   ]
  },
  {
   "cell_type": "code",
   "execution_count": null,
   "metadata": {},
   "outputs": [],
   "source": [
    "## Find which (REFERRALS) not CPT codes have all cpt codes in the dictionary and thus, \"auto-approvable\""
   ]
  },
  {
   "cell_type": "code",
   "execution_count": 302,
   "metadata": {},
   "outputs": [],
   "source": [
    "refs_results = cpts_new.groupby(['HCP_CONNECT_AUTH_NUMBER'], as_index=False).agg({'auto_approvable': 'mean',\n",
    "                                                                                 'is_den': 'mean'})"
   ]
  },
  {
   "cell_type": "code",
   "execution_count": 303,
   "metadata": {},
   "outputs": [],
   "source": [
    "refs_results['aa-yn'] = np.where(refs_results['auto_approvable']==1, 1, 0)"
   ]
  },
  {
   "cell_type": "code",
   "execution_count": 304,
   "metadata": {},
   "outputs": [],
   "source": [
    "refs_results.drop('auto_approvable', axis=1, inplace=True)"
   ]
  },
  {
   "cell_type": "code",
   "execution_count": 305,
   "metadata": {},
   "outputs": [
    {
     "data": {
      "text/html": [
       "<div>\n",
       "<style scoped>\n",
       "    .dataframe tbody tr th:only-of-type {\n",
       "        vertical-align: middle;\n",
       "    }\n",
       "\n",
       "    .dataframe tbody tr th {\n",
       "        vertical-align: top;\n",
       "    }\n",
       "\n",
       "    .dataframe thead th {\n",
       "        text-align: right;\n",
       "    }\n",
       "</style>\n",
       "<table border=\"1\" class=\"dataframe\">\n",
       "  <thead>\n",
       "    <tr style=\"text-align: right;\">\n",
       "      <th>is_den</th>\n",
       "      <th>0</th>\n",
       "      <th>1</th>\n",
       "      <th>All</th>\n",
       "    </tr>\n",
       "    <tr>\n",
       "      <th>aa-yn</th>\n",
       "      <th></th>\n",
       "      <th></th>\n",
       "      <th></th>\n",
       "    </tr>\n",
       "  </thead>\n",
       "  <tbody>\n",
       "    <tr>\n",
       "      <th>0</th>\n",
       "      <td>254929</td>\n",
       "      <td>10766</td>\n",
       "      <td>265695</td>\n",
       "    </tr>\n",
       "    <tr>\n",
       "      <th>1</th>\n",
       "      <td>284628</td>\n",
       "      <td>652</td>\n",
       "      <td>285280</td>\n",
       "    </tr>\n",
       "    <tr>\n",
       "      <th>All</th>\n",
       "      <td>539557</td>\n",
       "      <td>11418</td>\n",
       "      <td>550975</td>\n",
       "    </tr>\n",
       "  </tbody>\n",
       "</table>\n",
       "</div>"
      ],
      "text/plain": [
       "is_den       0      1     All\n",
       "aa-yn                        \n",
       "0       254929  10766  265695\n",
       "1       284628    652  285280\n",
       "All     539557  11418  550975"
      ]
     },
     "execution_count": 305,
     "metadata": {},
     "output_type": "execute_result"
    }
   ],
   "source": [
    "refs_results.pivot_table('HCP_CONNECT_AUTH_NUMBER', index='aa-yn', columns='is_den', aggfunc='count', margins=True)"
   ]
  },
  {
   "cell_type": "code",
   "execution_count": 306,
   "metadata": {},
   "outputs": [],
   "source": [
    "refs_results.drop('is_den', axis=1, inplace=True)"
   ]
  },
  {
   "cell_type": "code",
   "execution_count": 307,
   "metadata": {},
   "outputs": [],
   "source": [
    "cpts_new = cpts_new.merge(refs_results, how='left', on=['HCP_CONNECT_AUTH_NUMBER'])"
   ]
  },
  {
   "cell_type": "code",
   "execution_count": 308,
   "metadata": {},
   "outputs": [
    {
     "data": {
      "text/html": [
       "<div>\n",
       "<style scoped>\n",
       "    .dataframe tbody tr th:only-of-type {\n",
       "        vertical-align: middle;\n",
       "    }\n",
       "\n",
       "    .dataframe tbody tr th {\n",
       "        vertical-align: top;\n",
       "    }\n",
       "\n",
       "    .dataframe thead th {\n",
       "        text-align: right;\n",
       "    }\n",
       "</style>\n",
       "<table border=\"1\" class=\"dataframe\">\n",
       "  <thead>\n",
       "    <tr style=\"text-align: right;\">\n",
       "      <th></th>\n",
       "      <th>Specialty</th>\n",
       "      <th>CPT_Code</th>\n",
       "      <th>is_PPL</th>\n",
       "      <th>UNITS</th>\n",
       "      <th>is_autoapp</th>\n",
       "      <th>is_den</th>\n",
       "      <th>UNITS_man</th>\n",
       "      <th>cost_to_review</th>\n",
       "      <th>cnt_hcp_cost</th>\n",
       "      <th>avg_hcp_cost</th>\n",
       "      <th>sum_cost_denied</th>\n",
       "      <th>ROI</th>\n",
       "      <th>fin_aa_rec</th>\n",
       "      <th>dec_source</th>\n",
       "      <th>overrule_rsn</th>\n",
       "      <th>final_decision</th>\n",
       "    </tr>\n",
       "  </thead>\n",
       "  <tbody>\n",
       "    <tr>\n",
       "      <th>16853</th>\n",
       "      <td>FACILITY SERVICES</td>\n",
       "      <td>J1561</td>\n",
       "      <td>0</td>\n",
       "      <td>12</td>\n",
       "      <td>0.0</td>\n",
       "      <td>0.250000</td>\n",
       "      <td>12.0</td>\n",
       "      <td>30.36</td>\n",
       "      <td>105.0</td>\n",
       "      <td>2019.270300</td>\n",
       "      <td>6057.810900</td>\n",
       "      <td>199.532638</td>\n",
       "      <td>0</td>\n",
       "      <td>clinical</td>\n",
       "      <td>Pend EPL</td>\n",
       "      <td>0.0</td>\n",
       "    </tr>\n",
       "    <tr>\n",
       "      <th>16854</th>\n",
       "      <td>FACILITY SERVICES</td>\n",
       "      <td>J1561</td>\n",
       "      <td>1</td>\n",
       "      <td>1</td>\n",
       "      <td>0.0</td>\n",
       "      <td>0.000000</td>\n",
       "      <td>1.0</td>\n",
       "      <td>2.53</td>\n",
       "      <td>105.0</td>\n",
       "      <td>2019.270300</td>\n",
       "      <td>0.000000</td>\n",
       "      <td>0.000000</td>\n",
       "      <td>1</td>\n",
       "      <td>Rule</td>\n",
       "      <td>low volume</td>\n",
       "      <td>0.0</td>\n",
       "    </tr>\n",
       "    <tr>\n",
       "      <th>19915</th>\n",
       "      <td>HEMATOLOGY/ONCOLOGY</td>\n",
       "      <td>J1561</td>\n",
       "      <td>0</td>\n",
       "      <td>13</td>\n",
       "      <td>0.0</td>\n",
       "      <td>0.153846</td>\n",
       "      <td>13.0</td>\n",
       "      <td>32.89</td>\n",
       "      <td>NaN</td>\n",
       "      <td>3831.021686</td>\n",
       "      <td>7662.043371</td>\n",
       "      <td>232.959665</td>\n",
       "      <td>0</td>\n",
       "      <td>clinical</td>\n",
       "      <td>Pend EPL</td>\n",
       "      <td>0.0</td>\n",
       "    </tr>\n",
       "    <tr>\n",
       "      <th>20807</th>\n",
       "      <td>HOME HEALTH</td>\n",
       "      <td>J1561</td>\n",
       "      <td>0</td>\n",
       "      <td>37</td>\n",
       "      <td>0.0</td>\n",
       "      <td>0.000000</td>\n",
       "      <td>37.0</td>\n",
       "      <td>93.61</td>\n",
       "      <td>20.0</td>\n",
       "      <td>4668.504000</td>\n",
       "      <td>0.000000</td>\n",
       "      <td>0.000000</td>\n",
       "      <td>1</td>\n",
       "      <td>clinical</td>\n",
       "      <td>Pend EPL</td>\n",
       "      <td>0.0</td>\n",
       "    </tr>\n",
       "    <tr>\n",
       "      <th>20808</th>\n",
       "      <td>HOME HEALTH</td>\n",
       "      <td>J1561</td>\n",
       "      <td>1</td>\n",
       "      <td>14</td>\n",
       "      <td>0.0</td>\n",
       "      <td>0.000000</td>\n",
       "      <td>14.0</td>\n",
       "      <td>35.42</td>\n",
       "      <td>20.0</td>\n",
       "      <td>4668.504000</td>\n",
       "      <td>0.000000</td>\n",
       "      <td>0.000000</td>\n",
       "      <td>1</td>\n",
       "      <td>Rule</td>\n",
       "      <td>low volume</td>\n",
       "      <td>0.0</td>\n",
       "    </tr>\n",
       "  </tbody>\n",
       "</table>\n",
       "</div>"
      ],
      "text/plain": [
       "                 Specialty CPT_Code  is_PPL  UNITS  is_autoapp    is_den  \\\n",
       "16853    FACILITY SERVICES    J1561       0     12         0.0  0.250000   \n",
       "16854    FACILITY SERVICES    J1561       1      1         0.0  0.000000   \n",
       "19915  HEMATOLOGY/ONCOLOGY    J1561       0     13         0.0  0.153846   \n",
       "20807          HOME HEALTH    J1561       0     37         0.0  0.000000   \n",
       "20808          HOME HEALTH    J1561       1     14         0.0  0.000000   \n",
       "\n",
       "       UNITS_man  cost_to_review  cnt_hcp_cost  avg_hcp_cost  sum_cost_denied  \\\n",
       "16853       12.0           30.36         105.0   2019.270300      6057.810900   \n",
       "16854        1.0            2.53         105.0   2019.270300         0.000000   \n",
       "19915       13.0           32.89           NaN   3831.021686      7662.043371   \n",
       "20807       37.0           93.61          20.0   4668.504000         0.000000   \n",
       "20808       14.0           35.42          20.0   4668.504000         0.000000   \n",
       "\n",
       "              ROI  fin_aa_rec dec_source overrule_rsn  final_decision  \n",
       "16853  199.532638           0   clinical     Pend EPL             0.0  \n",
       "16854    0.000000           1       Rule   low volume             0.0  \n",
       "19915  232.959665           0   clinical     Pend EPL             0.0  \n",
       "20807    0.000000           1   clinical     Pend EPL             0.0  \n",
       "20808    0.000000           1       Rule   low volume             0.0  "
      ]
     },
     "execution_count": 308,
     "metadata": {},
     "output_type": "execute_result"
    }
   ],
   "source": [
    "cpts_w_claims_fin[cpts_w_claims_fin['CPT_Code']=='J1561'].head()"
   ]
  },
  {
   "cell_type": "code",
   "execution_count": 309,
   "metadata": {},
   "outputs": [
    {
     "data": {
      "text/html": [
       "<div>\n",
       "<style scoped>\n",
       "    .dataframe tbody tr th:only-of-type {\n",
       "        vertical-align: middle;\n",
       "    }\n",
       "\n",
       "    .dataframe tbody tr th {\n",
       "        vertical-align: top;\n",
       "    }\n",
       "\n",
       "    .dataframe thead th {\n",
       "        text-align: right;\n",
       "    }\n",
       "</style>\n",
       "<table border=\"1\" class=\"dataframe\">\n",
       "  <thead>\n",
       "    <tr style=\"text-align: right;\">\n",
       "      <th></th>\n",
       "      <th>aa-yn</th>\n",
       "      <th>0</th>\n",
       "      <th>1</th>\n",
       "      <th>All</th>\n",
       "    </tr>\n",
       "    <tr>\n",
       "      <th>is_autoapp</th>\n",
       "      <th>is_den</th>\n",
       "      <th></th>\n",
       "      <th></th>\n",
       "      <th></th>\n",
       "    </tr>\n",
       "  </thead>\n",
       "  <tbody>\n",
       "    <tr>\n",
       "      <th rowspan=\"2\" valign=\"top\">0</th>\n",
       "      <th>0</th>\n",
       "      <td>451079</td>\n",
       "      <td>188579</td>\n",
       "      <td>639658</td>\n",
       "    </tr>\n",
       "    <tr>\n",
       "      <th>1</th>\n",
       "      <td>15948</td>\n",
       "      <td>1027</td>\n",
       "      <td>16975</td>\n",
       "    </tr>\n",
       "    <tr>\n",
       "      <th>1</th>\n",
       "      <th>0</th>\n",
       "      <td>34731</td>\n",
       "      <td>259521</td>\n",
       "      <td>294252</td>\n",
       "    </tr>\n",
       "    <tr>\n",
       "      <th>All</th>\n",
       "      <th></th>\n",
       "      <td>501758</td>\n",
       "      <td>449127</td>\n",
       "      <td>950885</td>\n",
       "    </tr>\n",
       "  </tbody>\n",
       "</table>\n",
       "</div>"
      ],
      "text/plain": [
       "aa-yn                   0       1     All\n",
       "is_autoapp is_den                        \n",
       "0          0       451079  188579  639658\n",
       "           1        15948    1027   16975\n",
       "1          0        34731  259521  294252\n",
       "All                501758  449127  950885"
      ]
     },
     "execution_count": 309,
     "metadata": {},
     "output_type": "execute_result"
    }
   ],
   "source": [
    "cpts_new.pivot_table(values='UNITS', index=['is_autoapp', 'is_den'], columns='aa-yn', aggfunc='count', margins=True)##.to_csv('../Data/Outputs/costs_cm.csv')"
   ]
  },
  {
   "cell_type": "code",
   "execution_count": 310,
   "metadata": {},
   "outputs": [],
   "source": [
    "# cpts_new[(cpts_new['is_autoapp']==1) &\n",
    "#          (cpts_new['aa-yn']==0)].pivot_table(values='UNITS', index = 'is_den',\n",
    "#                     aggfunc='count', margins=True).to_csv('../Data/Outputs/2019_spec_cpt_results.csv', sep='|')"
   ]
  },
  {
   "cell_type": "markdown",
   "metadata": {},
   "source": [
    "## Construct Specialty Summary"
   ]
  },
  {
   "cell_type": "code",
   "execution_count": 311,
   "metadata": {},
   "outputs": [],
   "source": [
    "refs_new_head = cpts_new.groupby(['Specialty', 'ref_type', 'region', 'HCP_CONNECT_AUTH_NUMBER'], as_index=False).agg({\n",
    "    'UNITS': 'count',\n",
    "    'is_autoapp': 'mean',\n",
    "    'is_PPL': 'mean',\n",
    "    'is_app': 'mean',\n",
    "    'is_den': 'mean',\n",
    "    'aa-yn': 'mean'\n",
    "})"
   ]
  },
  {
   "cell_type": "code",
   "execution_count": 312,
   "metadata": {},
   "outputs": [],
   "source": [
    "refs_new_head.pivot_table(values=['is_autoapp', 'aa-yn'], index='Specialty', aggfunc=['count', 'mean']).to_csv('../Data/Outputs/spec_rates.csv',\n",
    "                                                                                                              sep='|')"
   ]
  },
  {
   "cell_type": "code",
   "execution_count": 313,
   "metadata": {},
   "outputs": [],
   "source": [
    "specialty_summary = pd.read_csv('../Data/Outputs/spec_rates.csv', sep='|', skiprows=3, names=['Specialty',\n",
    "                                                                                             'ref_vol', 'ref_vol2',\n",
    "                                                                                             'new_rate', 'old_rate'])"
   ]
  },
  {
   "cell_type": "code",
   "execution_count": 314,
   "metadata": {},
   "outputs": [],
   "source": [
    "specialty_summary.drop('ref_vol2', axis=1, inplace=True)"
   ]
  },
  {
   "cell_type": "code",
   "execution_count": 315,
   "metadata": {},
   "outputs": [],
   "source": [
    "## Get counts of codes for each specialty"
   ]
  },
  {
   "cell_type": "code",
   "execution_count": 316,
   "metadata": {},
   "outputs": [],
   "source": [
    "def spec_code_counts(spec_dict, spec_summary):\n",
    "    counts = []\n",
    "    for index, row in spec_summary.iterrows():\n",
    "        counts.append(len(spec_dict[row['Specialty']]))\n",
    "    return counts"
   ]
  },
  {
   "cell_type": "code",
   "execution_count": 317,
   "metadata": {},
   "outputs": [],
   "source": [
    "PPL_counts = spec_code_counts(spec_dict_PPL, specialty_summary)"
   ]
  },
  {
   "cell_type": "code",
   "execution_count": 318,
   "metadata": {},
   "outputs": [],
   "source": [
    "specialty_summary['num_codes']=PPL_counts"
   ]
  },
  {
   "cell_type": "code",
   "execution_count": 319,
   "metadata": {},
   "outputs": [],
   "source": [
    "## get 'denied now approved'"
   ]
  },
  {
   "cell_type": "code",
   "execution_count": 320,
   "metadata": {},
   "outputs": [],
   "source": [
    "refs_new_head['denied_now_aa'] = refs_new_head['is_den'] * refs_new_head['aa-yn']"
   ]
  },
  {
   "cell_type": "code",
   "execution_count": 321,
   "metadata": {},
   "outputs": [],
   "source": [
    "refs_new_head.pivot_table('denied_now_aa', index='Specialty', aggfunc='sum').to_csv('../Data/Outputs/spec_den_now_aa.csv',\n",
    "                                                                                                      sep='|')"
   ]
  },
  {
   "cell_type": "code",
   "execution_count": 322,
   "metadata": {},
   "outputs": [],
   "source": [
    "ss_deny_now_aa = pd.read_csv('../Data/Outputs/spec_den_now_aa.csv', sep='|', skiprows=2, names=['Specialty', 'deny_now_aa'])"
   ]
  },
  {
   "cell_type": "code",
   "execution_count": 323,
   "metadata": {},
   "outputs": [],
   "source": [
    "specialty_summary = specialty_summary.merge(ss_deny_now_aa, how='inner', on='Specialty')"
   ]
  },
  {
   "cell_type": "code",
   "execution_count": 324,
   "metadata": {},
   "outputs": [],
   "source": [
    "## Prep cpts_w_claims_fin to merge into cpts_new"
   ]
  },
  {
   "cell_type": "code",
   "execution_count": 325,
   "metadata": {},
   "outputs": [],
   "source": [
    "cpts_w_claims_fin_select = cpts_w_claims_fin.drop(['UNITS', 'is_autoapp', 'is_den',\n",
    "       'UNITS_man', 'cost_to_review', 'cnt_hcp_cost',\n",
    "       'sum_cost_denied'], axis=1)"
   ]
  },
  {
   "cell_type": "code",
   "execution_count": 326,
   "metadata": {},
   "outputs": [],
   "source": [
    "cpts_new_w_fin = pd.merge(cpts_new, cpts_w_claims_fin_select, how='left', on=['Specialty', 'CPT_Code', 'is_PPL'])"
   ]
  },
  {
   "cell_type": "code",
   "execution_count": 327,
   "metadata": {},
   "outputs": [],
   "source": [
    "cpts_new_w_fin['dollars_denied_now_app'] = cpts_new_w_fin['is_den']*cpts_new_w_fin['aa-yn']*cpts_new_w_fin['avg_hcp_cost']"
   ]
  },
  {
   "cell_type": "code",
   "execution_count": 328,
   "metadata": {},
   "outputs": [],
   "source": [
    "cpts_new_w_fin['cost_to_review_bene'] = (1-cpts_new_w_fin['is_autoapp'])*cpts_new_w_fin['aa-yn']*ga_cpt"
   ]
  },
  {
   "cell_type": "code",
   "execution_count": 329,
   "metadata": {},
   "outputs": [],
   "source": [
    "cpts_new_w_fin['cost_to_review_loss'] = cpts_new_w_fin['is_autoapp']*(1-cpts_new_w_fin['aa-yn'])*ga_cpt"
   ]
  },
  {
   "cell_type": "code",
   "execution_count": 330,
   "metadata": {},
   "outputs": [],
   "source": [
    "cpts_new_w_fin['new_denial_bene_est'] = cpts_new_w_fin['is_autoapp']*(1-cpts_new_w_fin['aa-yn'])*ga_cpt*cpts_new_w_fin['ROI']*cpts_new_w_fin['is_PPL']"
   ]
  },
  {
   "cell_type": "code",
   "execution_count": 331,
   "metadata": {},
   "outputs": [],
   "source": [
    "cpts_new_w_fin.pivot_table(values=['dollars_denied_now_app', 'cost_to_review_bene', 'cost_to_review_loss',\n",
    "                                  'new_denial_bene_est'], index='Specialty', aggfunc='sum').to_csv('../Data/Outputs/specialty_fins.csv', sep='|')"
   ]
  },
  {
   "cell_type": "code",
   "execution_count": 332,
   "metadata": {},
   "outputs": [],
   "source": [
    "specialty_fins = pd.read_csv('../Data/Outputs/specialty_fins.csv', sep='|')"
   ]
  },
  {
   "cell_type": "code",
   "execution_count": 333,
   "metadata": {},
   "outputs": [],
   "source": [
    "specialty_summary = specialty_summary.merge(specialty_fins, how='inner', on='Specialty')"
   ]
  },
  {
   "cell_type": "code",
   "execution_count": 334,
   "metadata": {},
   "outputs": [],
   "source": [
    "specialty_summary['net_benefit'] = specialty_summary['cost_to_review_bene'] - specialty_summary['cost_to_review_loss'] - specialty_summary['dollars_denied_now_app']"
   ]
  },
  {
   "cell_type": "code",
   "execution_count": 335,
   "metadata": {},
   "outputs": [],
   "source": [
    "specialty_summary['net_benefit_w_new_den'] = specialty_summary['cost_to_review_bene'] - specialty_summary['cost_to_review_loss'] -specialty_summary['dollars_denied_now_app'] + specialty_summary['new_denial_bene_est']"
   ]
  },
  {
   "cell_type": "code",
   "execution_count": 336,
   "metadata": {},
   "outputs": [
    {
     "name": "stdout",
     "output_type": "stream",
     "text": [
      "WARNING: This file already exists!\n"
     ]
    }
   ],
   "source": [
    "# Give the filename you wish to save the file to\n",
    "spec_summary_filename = '../Data/Outputs/specialty_summary_fin.xlsx'\n",
    "\n",
    "# Use this function to search for any files which match your filename\n",
    "files_present = os.path.isfile(spec_summary_filename)\n",
    "\n",
    "# if no matching files, write to csv, if there are matching files, print statement\n",
    "if not files_present:\n",
    "    specialty_summary.to_excel(spec_summary_filename, index=False, float_format='%.2f',\n",
    "                          header=['Specialty', 'volume', 'new rate', 'old_rate', '# codes in dictionary', 'false positives',\n",
    "                                 'cost to review, benefit', 'cost to review, loss', 'dollars denied, now approved',\n",
    "                                 'new denials, benefit (est)', 'new benefit', 'net benefit, est'], \n",
    "                          freeze_panes=(1,0))\n",
    "else:\n",
    "    print('WARNING: This file already exists!')"
   ]
  },
  {
   "cell_type": "code",
   "execution_count": 337,
   "metadata": {},
   "outputs": [
    {
     "data": {
      "text/plain": [
       "0.5177730387041154"
      ]
     },
     "execution_count": 337,
     "metadata": {},
     "output_type": "execute_result"
    }
   ],
   "source": [
    "refs_results['aa-yn'].mean()"
   ]
  },
  {
   "cell_type": "code",
   "execution_count": null,
   "metadata": {},
   "outputs": [],
   "source": [
    "## rate before laurie and chrisel's codes to pend\n",
    "v0 = 1198038/2086468\n",
    "print(v0)"
   ]
  },
  {
   "cell_type": "code",
   "execution_count": null,
   "metadata": {},
   "outputs": [],
   "source": [
    "## rate after laurie and christels' codes to pend\n",
    "v1 = 1091109/2086468\n",
    "print(v1)"
   ]
  },
  {
   "cell_type": "code",
   "execution_count": null,
   "metadata": {},
   "outputs": [],
   "source": [
    "v2 = 1097619/2086468\n",
    "print(v2)"
   ]
  },
  {
   "cell_type": "code",
   "execution_count": null,
   "metadata": {},
   "outputs": [],
   "source": [
    "## using 2018 data to create rules, and then applying them to early 2019 data\n",
    "v3 = 274250/543258\n",
    "print(v3)"
   ]
  },
  {
   "cell_type": "code",
   "execution_count": null,
   "metadata": {},
   "outputs": [],
   "source": [
    "## using clinical review list from 20190501 from Rhoda \n",
    ".401"
   ]
  },
  {
   "cell_type": "code",
   "execution_count": null,
   "metadata": {},
   "outputs": [],
   "source": [
    "## 20190503 V1 - More Conservative Version\n",
    ".4532"
   ]
  },
  {
   "cell_type": "code",
   "execution_count": null,
   "metadata": {},
   "outputs": [],
   "source": [
    "## 20190503 v2 - Baseline\n",
    ".462"
   ]
  },
  {
   "cell_type": "code",
   "execution_count": null,
   "metadata": {},
   "outputs": [],
   "source": [
    "## 20190517 - after Phyllis and Rhoda add back several codes\n",
    ".52"
   ]
  },
  {
   "cell_type": "markdown",
   "metadata": {},
   "source": [
    "## Code Detail List"
   ]
  },
  {
   "cell_type": "code",
   "execution_count": null,
   "metadata": {},
   "outputs": [],
   "source": [
    "spec_cpt_w_projected_aa_rate = cpts_new.groupby(['Specialty', 'CPT_Code', 'is_PPL'], as_index=False).agg({\n",
    "    'aa-yn': 'mean'\n",
    "})"
   ]
  },
  {
   "cell_type": "code",
   "execution_count": null,
   "metadata": {},
   "outputs": [],
   "source": [
    "cpts_w_claims_fin = cpts_w_claims_fin.merge(spec_cpt_w_projected_aa_rate, how='left', on=['Specialty', 'CPT_Code', 'is_PPL'])"
   ]
  },
  {
   "cell_type": "code",
   "execution_count": null,
   "metadata": {},
   "outputs": [],
   "source": [
    "cpts_new['UNITS'].sum()"
   ]
  },
  {
   "cell_type": "code",
   "execution_count": null,
   "metadata": {},
   "outputs": [],
   "source": [
    "# Give the filename you wish to save the file to\n",
    "spec_cpt_w_projected_aa_rate_fin_filename = '../Data/Outputs/spec_cpt_w_projected_aa_rate.xlsx'\n",
    "\n",
    "# Use this function to search for any files which match your filename\n",
    "files_present = os.path.isfile(spec_cpt_w_projected_aa_rate_fin_filename)\n",
    "\n",
    "# if no matching files, write to csv, if there are matching files, print statement\n",
    "if not files_present:\n",
    "    spec_cpt_w_projected_aa_rate.to_excel(spec_cpt_w_projected_aa_rate_fin_filename, index=False, float_format='%.2f',\n",
    "                          header=['Specialty', 'CPT Code', 'PPL?', 'new rate'], \n",
    "                          freeze_panes=(1,0))\n",
    "else:\n",
    "    print('WARNING: This file already exists!')"
   ]
  },
  {
   "cell_type": "code",
   "execution_count": null,
   "metadata": {},
   "outputs": [],
   "source": [
    "cpts_w_claims_fin[(cpts_w_claims_fin['Specialty']=='DERMATOLOGY') &\n",
    "                 (cpts_w_claims_fin['CPT_Code']=='99203')]"
   ]
  },
  {
   "cell_type": "code",
   "execution_count": null,
   "metadata": {},
   "outputs": [],
   "source": [
    "cpts_new.pivot_table('CPT_Code', index='aa-yn', columns='is_den', aggfunc='count', margins=True)"
   ]
  },
  {
   "cell_type": "markdown",
   "metadata": {},
   "source": [
    "## Spot Check Specific Referrals"
   ]
  },
  {
   "cell_type": "code",
   "execution_count": null,
   "metadata": {
    "scrolled": false
   },
   "outputs": [],
   "source": [
    "cpts_new[(cpts_new['Specialty']=='OCCUPATIONAL THERAPY') \n",
    "             ##& (refs_results['status_name']=='DENIED - CM')\n",
    "            & (cpts_new['aa-yn']==1)].tail(10)"
   ]
  },
  {
   "cell_type": "markdown",
   "metadata": {},
   "source": [
    "## Referral Detail Lookup (Enter Auth)"
   ]
  },
  {
   "cell_type": "code",
   "execution_count": null,
   "metadata": {},
   "outputs": [],
   "source": [
    "cpts_new[(cpts_new['is_den']==1) &\n",
    "        (cpts_new['aa-yn']==1)].to_csv('../Data/Outputs/false_positives_from_new.csv')"
   ]
  },
  {
   "cell_type": "markdown",
   "metadata": {},
   "source": [
    "## Auth Lookup (Enter Specialty and Code)"
   ]
  },
  {
   "cell_type": "code",
   "execution_count": null,
   "metadata": {},
   "outputs": [],
   "source": [
    "cpts_new[(cpts_new['Specialty']=='ENT-OTOLARYNGOLOGY')\n",
    "        & (cpts_new['CPT_Code']=='95024')\n",
    "        ##& (refs_det['auto_approvable'] == 0)\n",
    "        ]"
   ]
  },
  {
   "cell_type": "code",
   "execution_count": null,
   "metadata": {},
   "outputs": [],
   "source": [
    "cpts_new[(cpts_new['Specialty']=='ENT-OTOLARYNGOLOGY')\n",
    "        & (cpts_new['HCP_CONNECT_AUTH_NUMBER']=='13418107H')\n",
    "        ##& (refs_det['auto_approvable'] == 0)\n",
    "        ]"
   ]
  },
  {
   "cell_type": "code",
   "execution_count": null,
   "metadata": {},
   "outputs": [],
   "source": [
    "# def create_final_statuses(ref_summary, spec_dict_PPL):\n",
    "#     final_status=[]\n",
    "#     for index, row in ref_summary.iterrows():\n",
    "#         if row['is_PPL'] == 1:\n",
    "#             if row['CPT_Code'] in spec_dict_PPL[row['Specialty']]:\n",
    "#                 final_status.append(1)\n",
    "#             else:\n",
    "#                 final_status.append(0)\n",
    "#         else:\n",
    "#             final_status.append(0)\n",
    "#     return final_status"
   ]
  },
  {
   "cell_type": "code",
   "execution_count": null,
   "metadata": {},
   "outputs": [],
   "source": [
    "# final_status = create_final_statuses(cpts_w_claims_fin, spec_dict_PPL)"
   ]
  },
  {
   "cell_type": "code",
   "execution_count": null,
   "metadata": {},
   "outputs": [],
   "source": [
    "cpts_w_claims_fin.drop(['cnt_hcp_cost'], axis=1, inplace=True)"
   ]
  },
  {
   "cell_type": "code",
   "execution_count": null,
   "metadata": {},
   "outputs": [],
   "source": [
    "cpts_w_claims_fin = cpts_w_claims_fin.merge(cpt_desc, how='inner', on = 'CPT_Code')"
   ]
  },
  {
   "cell_type": "code",
   "execution_count": null,
   "metadata": {},
   "outputs": [],
   "source": [
    "cpts_w_claims_fin[cpts_w_claims_fin['Specialty']=='CARDIOLOGY']"
   ]
  },
  {
   "cell_type": "code",
   "execution_count": null,
   "metadata": {},
   "outputs": [],
   "source": [
    "# Give the filename you wish to save the file to\n",
    "cpts_w_claims_fin_filename = '../Data/Outputs/spec_cpt_summary.xlsx'\n",
    "\n",
    "# Use this function to search for any files which match your filename\n",
    "files_present = os.path.isfile(cpts_w_claims_fin_filename)\n",
    "\n",
    "# if no matching files, write to csv, if there are matching files, print statement\n",
    "if not files_present:\n",
    "    cpts_w_claims_fin.to_excel(cpts_w_claims_fin_filename, index=False, float_format='%.2f',\n",
    "                          header=['Specialty', 'CPT Code', 'PPL?', 'volume', 'old rate', 'denial rate',\n",
    "       'volume, reviewed', 'cost to review', 'avg. cost', 'denied dollars', 'ROI',\n",
    "       'decision by ROI', 'decision source', 'clinical reason', 'final decision', 'new rate',\n",
    "       'CPT desc'], \n",
    "                          freeze_panes=(1,0))\n",
    "else:\n",
    "    print('WARNING: This file already exists!')"
   ]
  },
  {
   "cell_type": "code",
   "execution_count": null,
   "metadata": {},
   "outputs": [],
   "source": []
  }
 ],
 "metadata": {
  "kernelspec": {
   "display_name": "Python 3",
   "language": "python",
   "name": "python3"
  },
  "language_info": {
   "codemirror_mode": {
    "name": "ipython",
    "version": 3
   },
   "file_extension": ".py",
   "mimetype": "text/x-python",
   "name": "python",
   "nbconvert_exporter": "python",
   "pygments_lexer": "ipython3",
   "version": "3.7.3"
  }
 },
 "nbformat": 4,
 "nbformat_minor": 2
}
