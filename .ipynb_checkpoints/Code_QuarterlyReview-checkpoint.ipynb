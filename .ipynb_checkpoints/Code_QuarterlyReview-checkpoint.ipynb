{
 "cells": [
  {
   "cell_type": "markdown",
   "metadata": {},
   "source": [
    "Separately run referrals and claims queries.\n",
    "This file imports the results of those queries, cleans and standardizes each, and merges them for analysis.\n",
    "\n",
    "In addition, we import clinical decision files and use it to \"override\" decisions that were made by analyzing the ROI for specialty & cpt code combination.\n",
    "\n",
    "Finally, several outputs are prepared for reporting purposes, including the calculation of a projected AA approval rate."
   ]
  },
  {
   "cell_type": "code",
   "execution_count": null,
   "metadata": {},
   "outputs": [],
   "source": [
    "## Import required packages\n",
    "import pandas as pd\n",
    "import numpy as np\n",
    "from datetime import datetime, timedelta\n",
    "import matplotlib.pyplot as plt\n",
    "import pyodbc\n",
    "import os"
   ]
  },
  {
   "cell_type": "markdown",
   "metadata": {},
   "source": [
    "## Import Data"
   ]
  },
  {
   "cell_type": "markdown",
   "metadata": {},
   "source": [
    "#### Import data directly from SQL databases"
   ]
  },
  {
   "cell_type": "markdown",
   "metadata": {},
   "source": [
    "Use referrals.sql, claims.sql, referrals_new.sql, cpt_desc.sql (saved in the same folder as this script) to pull data from relevants servers and databases."
   ]
  },
  {
   "cell_type": "code",
   "execution_count": null,
   "metadata": {},
   "outputs": [],
   "source": [
    "with open('referrals.sql', 'r') as myfile:\n",
    "    cpts_sql_str=myfile.read().replace('\\n', ' ')\n",
    "\n",
    "cnxn_cpts = pyodbc.connect('DRIVER={SQL Server};SERVER=colo-dwrpt01;DATABASE=IADS_V3')\n",
    "\n",
    "cpts = pd.read_sql(cpts_sql_str, cnxn_cpts)\n",
    "\n",
    "cnxn_cpts.close()"
   ]
  },
  {
   "cell_type": "code",
   "execution_count": null,
   "metadata": {},
   "outputs": [],
   "source": [
    "with open('claims.sql', 'r') as myfile:\n",
    "    claims_sql_str=myfile.read().replace('\\n', ' ')\n",
    "\n",
    "cnxn_claims = pyodbc.connect('DRIVER={SQL Server};SERVER=colo-dwrpt01;DATABASE=NATIONAL_ANALYTICS')\n",
    "\n",
    "claims = pd.read_sql(claims_sql_str, cnxn_claims)\n",
    "\n",
    "cnxn_claims.close()"
   ]
  },
  {
   "cell_type": "code",
   "execution_count": null,
   "metadata": {},
   "outputs": [],
   "source": [
    "with open('cpt_desc.sql', 'r') as myfile:\n",
    "    cpt_desc_sql_str=myfile.read().replace('\\n', ' ')\n",
    "\n",
    "cnxn_cpt_desc = pyodbc.connect('DRIVER={SQL Server};SERVER=colo-dwrpt01;DATABASE=IADS_V3')\n",
    "\n",
    "cpt_desc = pd.read_sql(cpt_desc_sql_str, cnxn_cpt_desc)\n",
    "\n",
    "cnxn_cpt_desc.close()"
   ]
  },
  {
   "cell_type": "code",
   "execution_count": null,
   "metadata": {},
   "outputs": [],
   "source": [
    "clinical_decisions_20190610 = pd.read_csv('../data/clinical_decision_20190610.csv')"
   ]
  },
  {
   "cell_type": "markdown",
   "metadata": {},
   "source": [
    "## Clean Referrals"
   ]
  },
  {
   "cell_type": "markdown",
   "metadata": {},
   "source": [
    "A list of all specialties is used repeatedly in the code to loop through specialties and perform certain tasks."
   ]
  },
  {
   "cell_type": "code",
   "execution_count": null,
   "metadata": {},
   "outputs": [],
   "source": [
    "# A list of all specialties is used repeatedly in the code to loop through \n",
    "# specialties and perform certain tasks.\n",
    "list_o_specs = cpts['Specialty'].unique().tolist()"
   ]
  },
  {
   "cell_type": "code",
   "execution_count": null,
   "metadata": {},
   "outputs": [],
   "source": [
    "## Update date fields to conform to python datetime\n",
    "cpts['Date_Decision'] = pd.to_datetime(cpts['Date_Decision'])\n",
    "cpts['Date_Received'] = pd.to_datetime(cpts['Date_Received'])"
   ]
  },
  {
   "cell_type": "code",
   "execution_count": null,
   "metadata": {},
   "outputs": [],
   "source": [
    "## Some specialties need to be broken into Senior and non-commercial \n",
    "## such that we can auto-approve for specific lines of business\n",
    "new_lob = {'COMMERCIAL': '_b',\n",
    "               'SENIOR': '_s',\n",
    "          'MEDI-CAL': '_b'}\n",
    "cpts['LOB'] = cpts['LOB'].replace(new_lob)"
   ]
  },
  {
   "cell_type": "code",
   "execution_count": null,
   "metadata": {},
   "outputs": [],
   "source": [
    "## Define a list of specialties that will be broken out into LOB for the purposes of AA\n",
    "specs_w_lob_distinct = ['RADIOLOGY']"
   ]
  },
  {
   "cell_type": "code",
   "execution_count": null,
   "metadata": {},
   "outputs": [],
   "source": [
    "## Loop through specialties that should be broken by LOB and update the specialty column\n",
    "for spec in list_o_specs:\n",
    "    if spec in specs_w_lob_distinct:\n",
    "        cpts['Specialty'] = np.where(cpts['Specialty']==spec, cpts['Specialty']+cpts['LOB'], cpts['Specialty'])\n",
    "    "
   ]
  },
  {
   "cell_type": "code",
   "execution_count": null,
   "metadata": {},
   "outputs": [],
   "source": [
    "# Now that some specialties are broken into senior and non-senior, need to recreate the list_o_specs\n",
    "list_o_specs = cpts['Specialty'].unique().tolist()"
   ]
  },
  {
   "cell_type": "code",
   "execution_count": null,
   "metadata": {},
   "outputs": [],
   "source": [
    "## Append specialties manually that only appear in CCT data\n",
    "#list_o_specs.append('HIV/AIDS SPECIALIST')"
   ]
  },
  {
   "cell_type": "code",
   "execution_count": null,
   "metadata": {},
   "outputs": [],
   "source": [
    "## flag retro statuses with 1 and 0 so they can be removed \n",
    "retro_conditions = [\n",
    " (cpts['status_name'] == 'APPROVED - RETRO REVIEW') |\n",
    " (cpts['status_name'] == 'DENIED - RETRO REVIEW') |\n",
    " (cpts['status_name'] == 'APPROVED - COB RETRO') |\n",
    " (cpts['status_name'] == 'PENDING - RETRO REVIEW') \n",
    "  ]\n",
    "\n",
    "choices = [1]\n",
    "cpts['is_retro'] = np.select(retro_conditions, choices, default=0)\n",
    "\n",
    "## remove retros from list and drop 'is_retro' as it is no longer needed\n",
    "cpts = cpts[cpts['is_retro']==0]\n",
    "cpts.drop(columns='is_retro', inplace=True)"
   ]
  },
  {
   "cell_type": "code",
   "execution_count": null,
   "metadata": {},
   "outputs": [],
   "source": [
    "## Claims data doesn't come with UNITS & we need to count the number of times a cpt code appears\n",
    "## Here we re-write UNITS to 1.\n",
    "cpts['UNITS'] = 1"
   ]
  },
  {
   "cell_type": "code",
   "execution_count": null,
   "metadata": {},
   "outputs": [],
   "source": [
    "## Create an auto_approve flag\n",
    "cpts['is_autoapp'] = np.where(cpts['status_name']=='APPROVED - AUTO', 1, 0)"
   ]
  },
  {
   "cell_type": "code",
   "execution_count": null,
   "metadata": {},
   "outputs": [],
   "source": [
    "## If PPL field is null, assume the referral was not PPL\n",
    "cpts.PPL.fillna(\"N\", inplace=True)"
   ]
  },
  {
   "cell_type": "code",
   "execution_count": null,
   "metadata": {},
   "outputs": [],
   "source": [
    "## Create a PPL flag\n",
    "cpts['is_PPL'] = np.where(cpts['PPL']=='Y', 1, 0)"
   ]
  },
  {
   "cell_type": "code",
   "execution_count": null,
   "metadata": {},
   "outputs": [],
   "source": [
    "## define list of status that should be considered denials\n",
    "den_conditions = [\n",
    " (cpts['status_name'] == 'DENIED - CM') |\n",
    " (cpts['status_name'] == 'DENIED - BENEFIT CARVE OUT') |\n",
    " (cpts['status_name'] == 'DENIED - NOT A COVERED BENEFIT') |\n",
    " (cpts['status_name'] == 'DENIED - APPEAL') |\n",
    " (cpts['status_name'] == 'DENIED - CLINICAL TRIAL/EXP/INV') |\n",
    " (cpts['status_name'] == 'DENIED - TRANSPLANT') |\n",
    " (cpts['status_name'] == 'DENIED - MD') |\n",
    " (cpts['status_name'] == 'DENIED - CM/MD') |\n",
    " (cpts['status_name'] == 'DENIED - REDIRECT OSVN') |\n",
    " (cpts['status_name'] == 'DENIED - TICKLER')\n",
    "  ]\n",
    "\n",
    "## Create a denial flag\n",
    "choices = [1]\n",
    "cpts['is_den'] = np.select(den_conditions, choices, default=0)"
   ]
  },
  {
   "cell_type": "code",
   "execution_count": null,
   "metadata": {},
   "outputs": [],
   "source": [
    "## Create a \"approved\" flag\n",
    "cpts['is_app'] = np.where(cpts['status_cat']=='APPROVED', 1, 0)"
   ]
  },
  {
   "cell_type": "markdown",
   "metadata": {},
   "source": [
    "## Create claims_sum"
   ]
  },
  {
   "cell_type": "code",
   "execution_count": null,
   "metadata": {},
   "outputs": [],
   "source": [
    "## Some Specialty/CPT code combos appear in referrals data but not in claims data. \n",
    "## In those cases, we look in the claims data across all specialties to find an average\n",
    "## Cost to be applied for that CPT Code.\n",
    "claims_sum = claims.groupby(['CPT_Code'], as_index=False).agg({'avg_hcp_cost': 'mean'})"
   ]
  },
  {
   "cell_type": "code",
   "execution_count": null,
   "metadata": {},
   "outputs": [],
   "source": []
  },
  {
   "cell_type": "markdown",
   "metadata": {},
   "source": [
    "## Add variable to designate last 3 vs. prior 3"
   ]
  },
  {
   "cell_type": "code",
   "execution_count": null,
   "metadata": {},
   "outputs": [],
   "source": [
    "## Split CPTs data into two parts, one for PRIOR_3 and one for LAST_3"
   ]
  },
  {
   "cell_type": "code",
   "execution_count": null,
   "metadata": {},
   "outputs": [],
   "source": [
    "cpts['last3'] = np.where(cpts['Date_Received'] >= '2019-04-01', 1, 0)"
   ]
  },
  {
   "cell_type": "markdown",
   "metadata": {},
   "source": [
    "## Create cpts_manual"
   ]
  },
  {
   "cell_type": "code",
   "execution_count": null,
   "metadata": {},
   "outputs": [],
   "source": [
    "## This is a cpt_code level list of all manually reviewed referrals"
   ]
  },
  {
   "cell_type": "code",
   "execution_count": null,
   "metadata": {},
   "outputs": [],
   "source": [
    "cpts_manual = cpts[cpts['is_autoapp']==0]"
   ]
  },
  {
   "cell_type": "code",
   "execution_count": null,
   "metadata": {},
   "outputs": [],
   "source": [
    "cpts_manual.pivot_table(values='HCP_CONNECT_AUTH_NUMBER', index=['is_autoapp', 'is_den'], aggfunc='count', margins=True)"
   ]
  },
  {
   "cell_type": "code",
   "execution_count": null,
   "metadata": {},
   "outputs": [],
   "source": [
    "## Enter the total GA for the department for the year, divide by 2 since we're only looking at 1/2 of the year\n",
    "dept_ga = 6500000 / 2"
   ]
  },
  {
   "cell_type": "code",
   "execution_count": null,
   "metadata": {},
   "outputs": [],
   "source": [
    "## Calculate Cost per manually reviewed CPT code\n",
    "\n",
    "ga_cpt = dept_ga / cpts[cpts['is_autoapp']==0].shape[0]"
   ]
  },
  {
   "cell_type": "code",
   "execution_count": null,
   "metadata": {},
   "outputs": [],
   "source": [
    "ga_cpt"
   ]
  },
  {
   "cell_type": "code",
   "execution_count": null,
   "metadata": {},
   "outputs": [],
   "source": [
    "## find the count of manually reviewed cpt codes from each specialty, cpt_code combo \n",
    "cpts_manual = cpts_manual.groupby(['last3', 'Specialty', 'CPT_Code', 'is_PPL'], as_index=False).agg({\n",
    "    'UNITS' : 'count',\n",
    "    'is_den': 'mean'\n",
    "})"
   ]
  },
  {
   "cell_type": "code",
   "execution_count": null,
   "metadata": {},
   "outputs": [],
   "source": [
    "## To differentiate the count of all units from manual units as we use both in a single\n",
    "## file later\n",
    "cpts_manual.rename(index=str, columns={'UNITS': 'UNITS_man'}, inplace=True)"
   ]
  },
  {
   "cell_type": "code",
   "execution_count": null,
   "metadata": {},
   "outputs": [],
   "source": [
    "## Calculate the total cost of review any Specialty/cpt_code pair.\n",
    "cpts_manual['cost_to_review'] = cpts_manual['UNITS_man']*ga_cpt"
   ]
  },
  {
   "cell_type": "markdown",
   "metadata": {},
   "source": [
    "## Create cptssum"
   ]
  },
  {
   "cell_type": "code",
   "execution_count": null,
   "metadata": {},
   "outputs": [],
   "source": [
    "## find the count, auto-approval rate, and denial rate from each specialty, cpt_code pair\n",
    "cptssum = cpts.groupby(['last3', 'Specialty', 'CPT_Code', 'is_PPL'], as_index=False).agg({\n",
    "    'UNITS': 'count',\n",
    "    'is_autoapp': 'mean',\n",
    "})"
   ]
  },
  {
   "cell_type": "code",
   "execution_count": null,
   "metadata": {},
   "outputs": [],
   "source": [
    "## Merge the cost to review (from CPT_manual) into cptssum\n",
    "cpts_w_claims0 = pd.merge(cptssum, cpts_manual, on=['last3', 'Specialty', 'CPT_Code', 'is_PPL'], how='left')"
   ]
  },
  {
   "cell_type": "code",
   "execution_count": null,
   "metadata": {},
   "outputs": [],
   "source": [
    "## Merge average cost of a cpt code (from claims) into the referrals data\n",
    "cpts_w_claims1 = pd.merge(cpts_w_claims0, claims, on=['Specialty', 'CPT_Code'], how='left')"
   ]
  },
  {
   "cell_type": "code",
   "execution_count": null,
   "metadata": {},
   "outputs": [],
   "source": [
    "## For spec/cpt combos that don't have claims data associated, \n",
    "## use the average of that cpt across specialties\n",
    "## NOTE: the average is not weighted, i.e. each specialties's average contributes equally to\n",
    "## the applied average.\n",
    "cpts_w_claims_fin = pd.merge(cpts_w_claims1, claims_sum, on='CPT_Code', how='left')"
   ]
  },
  {
   "cell_type": "code",
   "execution_count": null,
   "metadata": {},
   "outputs": [],
   "source": [
    "## If there is no average cost from claims at the spec/cpt pair level, fill it with the \n",
    "## average cost for the cpt ACROSS ALL SPECIALTIES\n",
    "cpts_w_claims_fin['avg_hcp_cost_x'] = np.where(cpts_w_claims_fin['avg_hcp_cost_x'].isnull(), \n",
    "                                             cpts_w_claims_fin['avg_hcp_cost_y'],\n",
    "                                             cpts_w_claims_fin['avg_hcp_cost_x'])"
   ]
  },
  {
   "cell_type": "code",
   "execution_count": null,
   "metadata": {},
   "outputs": [],
   "source": [
    "## Drop unnecessary columns\n",
    "cpts_w_claims_fin.drop(columns=['avg_hcp_cost_y', 'sd_hcp_cost'], inplace=True)"
   ]
  },
  {
   "cell_type": "code",
   "execution_count": null,
   "metadata": {},
   "outputs": [],
   "source": [
    "## Rename \"_x\" to the normal name - 'avg_hcp_cost'\n",
    "cpts_w_claims_fin.rename(index=str, columns={'avg_hcp_cost_x': 'avg_hcp_cost'}, inplace=True)"
   ]
  },
  {
   "cell_type": "code",
   "execution_count": null,
   "metadata": {},
   "outputs": [],
   "source": [
    "## To ensure calculations are defined, replace nulls with 0.\n",
    "cpts_w_claims_fin['UNITS_man'].fillna(0, inplace = True)"
   ]
  },
  {
   "cell_type": "markdown",
   "metadata": {},
   "source": [
    "## Calculate ROI"
   ]
  },
  {
   "cell_type": "markdown",
   "metadata": {},
   "source": [
    "For each spec/cpt code pair, we want to comapre the cost of reviewing the pair with the sum of dollars denied through that review. This is the \"ROI\" of reviewing. In cases where sum of denied dollars is greater than the cost of review, we recommend NOT auto-approving and continue to review. In cases where sum of denied dollars is less than the cost of review then we recommend auto-approving it. "
   ]
  },
  {
   "cell_type": "code",
   "execution_count": null,
   "metadata": {},
   "outputs": [],
   "source": [
    "## Calculate the total dollars denied for a pair\n",
    "cpts_w_claims_fin['sum_cost_denied'] = cpts_w_claims_fin['is_den']*cpts_w_claims_fin['UNITS_man']*cpts_w_claims_fin['avg_hcp_cost']"
   ]
  },
  {
   "cell_type": "code",
   "execution_count": null,
   "metadata": {},
   "outputs": [],
   "source": [
    "## Calc ROI for a pair\n",
    "cpts_w_claims_fin['ROI'] = cpts_w_claims_fin['sum_cost_denied']/cpts_w_claims_fin['cost_to_review']"
   ]
  },
  {
   "cell_type": "code",
   "execution_count": null,
   "metadata": {},
   "outputs": [],
   "source": [
    "## For groups where we don't know the average cost from 2018, the denominator of ROI is 0, and ROI is undefined. \n",
    "## Update the ROI for those to = 100 so they are NOT included in the dictionaries to auto-approve going forward.\n",
    "cpts_w_claims_fin['ROI'] = np.where(cpts_w_claims_fin['avg_hcp_cost'].isnull(), 100, cpts_w_claims_fin['ROI'])"
   ]
  },
  {
   "cell_type": "code",
   "execution_count": null,
   "metadata": {},
   "outputs": [],
   "source": [
    "## For groups that were auto-approved at 100%, the denominator of ROI is 0, and ROI is undefined. \n",
    "## Update the ROI for those to = 0 so they are included in the dictionaries to auto-approve going forward.\n",
    "cpts_w_claims_fin['ROI'] = np.where(cpts_w_claims_fin['ROI'].isnull(), 0.01, cpts_w_claims_fin['ROI'])\n",
    "        "
   ]
  },
  {
   "cell_type": "code",
   "execution_count": null,
   "metadata": {},
   "outputs": [],
   "source": [
    "## Create a flag based on ROI indicated whether the analytics recommend a pair to be auto-approved\n",
    "cpts_w_claims_fin['fin_aa_rec'] = np.where(cpts_w_claims_fin['ROI']<1, 1, 0)"
   ]
  },
  {
   "cell_type": "code",
   "execution_count": null,
   "metadata": {},
   "outputs": [],
   "source": [
    "## QA step - Check that this equals G&A\n",
    "cpts_w_claims_fin['cost_to_review'].sum() == dept_ga"
   ]
  },
  {
   "cell_type": "code",
   "execution_count": null,
   "metadata": {},
   "outputs": [],
   "source": [
    "cpts_w_claims_fin_last3 = cpts_w_claims_fin[cpts_w_claims_fin['last3'] == 1]"
   ]
  },
  {
   "cell_type": "code",
   "execution_count": null,
   "metadata": {},
   "outputs": [],
   "source": [
    "cpts_w_claims_fin_prior3 = cpts_w_claims_fin[cpts_w_claims_fin['last3'] == 0]"
   ]
  },
  {
   "cell_type": "code",
   "execution_count": null,
   "metadata": {},
   "outputs": [],
   "source": [
    "cpts_w_claims_fin_prior3.columns"
   ]
  },
  {
   "cell_type": "code",
   "execution_count": null,
   "metadata": {},
   "outputs": [],
   "source": [
    "cpts_w_claims_comparison = pd.merge(cpts_w_claims_fin_last3, cpts_w_claims_fin_prior3, on = ['Specialty', 'CPT_Code', 'is_PPL'], \n",
    "                                   suffixes=('', '_prior3'), how='outer')"
   ]
  },
  {
   "cell_type": "code",
   "execution_count": null,
   "metadata": {},
   "outputs": [],
   "source": [
    "cpts_w_claims_comparison.head()"
   ]
  },
  {
   "cell_type": "code",
   "execution_count": null,
   "metadata": {},
   "outputs": [],
   "source": [
    "cpts_w_claims_comparison.columns"
   ]
  },
  {
   "cell_type": "code",
   "execution_count": null,
   "metadata": {},
   "outputs": [],
   "source": [
    "cpts_w_claims_comparison.drop(['last3', 'cnt_hcp_cost', 'cost_to_review', 'sum_cost_denied', 'last3_prior3', 'cnt_hcp_cost_prior3',\n",
    "                               'cost_to_review_prior3', 'cnt_hcp_cost_prior3', 'avg_hcp_cost_prior3', 'sum_cost_denied_prior3'], axis=1\n",
    "                              , inplace=True)"
   ]
  },
  {
   "cell_type": "code",
   "execution_count": null,
   "metadata": {},
   "outputs": [],
   "source": [
    "## Calculate Increase in volume\n",
    "cpts_w_claims_comparison['vol_increase'] = (cpts_w_claims_comparison['UNITS']/cpts_w_claims_comparison['UNITS_prior3']) - 1"
   ]
  },
  {
   "cell_type": "code",
   "execution_count": null,
   "metadata": {},
   "outputs": [],
   "source": [
    "## Calculate increase in AA rate\n",
    "cpts_w_claims_comparison['AA_rate_increase'] = cpts_w_claims_comparison['is_autoapp']-cpts_w_claims_comparison['is_autoapp_prior3']"
   ]
  },
  {
   "cell_type": "code",
   "execution_count": null,
   "metadata": {},
   "outputs": [],
   "source": [
    "## Calculate increase in denial rate\n",
    "cpts_w_claims_comparison['den_rate_increase'] = cpts_w_claims_comparison['is_den']-cpts_w_claims_comparison['is_den_prior3']"
   ]
  },
  {
   "cell_type": "code",
   "execution_count": null,
   "metadata": {},
   "outputs": [],
   "source": [
    "cpts_w_claims_comparison.head()"
   ]
  },
  {
   "cell_type": "code",
   "execution_count": null,
   "metadata": {},
   "outputs": [],
   "source": []
  },
  {
   "cell_type": "code",
   "execution_count": null,
   "metadata": {},
   "outputs": [],
   "source": []
  },
  {
   "cell_type": "code",
   "execution_count": null,
   "metadata": {},
   "outputs": [],
   "source": []
  },
  {
   "cell_type": "code",
   "execution_count": null,
   "metadata": {},
   "outputs": [],
   "source": []
  },
  {
   "cell_type": "code",
   "execution_count": null,
   "metadata": {},
   "outputs": [],
   "source": [
    "cpts_w_claims_comparison = cpts_w_claims_comparison.merge(cpt_desc, how='inner', on = 'CPT_Code')"
   ]
  },
  {
   "cell_type": "code",
   "execution_count": null,
   "metadata": {},
   "outputs": [],
   "source": [
    "cpt_desc.head()"
   ]
  },
  {
   "cell_type": "code",
   "execution_count": null,
   "metadata": {},
   "outputs": [],
   "source": [
    "cpts_w_claims_comparison.head()"
   ]
  },
  {
   "cell_type": "code",
   "execution_count": null,
   "metadata": {},
   "outputs": [],
   "source": [
    "cpts_w_claims_clin_dec_comparison = pd.merge(clinical_decisions_20190610, cpts_w_claims_comparison, on=['Specialty',\n",
    "                                                                                                       'CPT_Code',\n",
    "                                                                                                       'is_PPL'], how = 'outer')"
   ]
  },
  {
   "cell_type": "code",
   "execution_count": null,
   "metadata": {},
   "outputs": [],
   "source": [
    "cpts_w_claims_clin_dec_comparison.columns"
   ]
  },
  {
   "cell_type": "code",
   "execution_count": null,
   "metadata": {},
   "outputs": [],
   "source": [
    "## Reorder the columns to make easier to compare\n",
    "\n",
    "cpts_w_claims_clin_dec_comparison = cpts_w_claims_clin_dec_comparison[['Specialty', 'CPT_Code', 'Name', 'is_PPL', 'Decision_Source', 'Notes',\n",
    "       'Decision_Maker', 'Decision_Date', 'Decision', 'UNITS',\n",
    "       'UNITS_prior3', 'vol_increase', 'is_autoapp', 'is_autoapp_prior3',\n",
    "       'AA_rate_increase', 'is_den', 'is_den_prior3', 'den_rate_increase',\n",
    "       'UNITS_man', 'UNITS_man_prior3', 'avg_hcp_cost', 'ROI', 'ROI_prior3',\n",
    "       'fin_aa_rec', 'fin_aa_rec_prior3']]"
   ]
  },
  {
   "cell_type": "code",
   "execution_count": null,
   "metadata": {},
   "outputs": [],
   "source": [
    "cpts_w_claims_clin_dec_comparison.to_csv('../Data/check.csv')"
   ]
  },
  {
   "cell_type": "code",
   "execution_count": null,
   "metadata": {},
   "outputs": [],
   "source": []
  },
  {
   "cell_type": "code",
   "execution_count": null,
   "metadata": {},
   "outputs": [],
   "source": []
  },
  {
   "cell_type": "markdown",
   "metadata": {},
   "source": [
    "## Create Dictionaries"
   ]
  },
  {
   "cell_type": "code",
   "execution_count": null,
   "metadata": {},
   "outputs": [],
   "source": [
    "## Model Additional Auto Approvals when different thresholds are set.\n",
    "## Approach: use \"given\" threshold to determine which CPT codes are \"auto-approve\"-able for each specialty\n",
    "##  - For loop through referrals, return 1 if all CPT codes are on \"auto-approve\"-able list, else 0 "
   ]
  },
  {
   "cell_type": "code",
   "execution_count": null,
   "metadata": {},
   "outputs": [],
   "source": [
    "list_o_types_to_pend = ['INPT ADM', 'EMERGENCY ROOM', 'DAY SURG', 'OOA INPT', \n",
    "                        'SKILLED NURSING', 'OBSERVATION', 'OB OBSERVATION']"
   ]
  },
  {
   "cell_type": "code",
   "execution_count": null,
   "metadata": {},
   "outputs": [],
   "source": [
    "cpts_w_claims_fin.reset_index(drop=True, inplace=True)"
   ]
  },
  {
   "cell_type": "code",
   "execution_count": null,
   "metadata": {},
   "outputs": [],
   "source": [
    "## A function that uses cpt_w_claims_fin to generate a dictionary codes to auto-approve.\n",
    "def collect_clinical_decisions(specialty_cpt, list_to_change, spec_list, rsn, new_status=0):\n",
    "    decision_sources = cpts_w_claims_fin['dec_source'].to_list()\n",
    "    overrule_reasons = cpts_w_claims_fin['overrule_rsn'].to_list()\n",
    "    final_decisions = cpts_w_claims_fin['final_decision'].to_list()\n",
    "    for index, row in specialty_cpt.iterrows():\n",
    "        if row['Specialty'] in spec_list:\n",
    "            if row['CPT_Code'] in list_to_change:\n",
    "                decision_sources[index] = 'clinical'\n",
    "                overrule_reasons[index] = rsn\n",
    "                final_decisions[index] = new_status\n",
    "    specialty_cpt['dec_source'] = decision_sources\n",
    "    specialty_cpt['overrule_rsn'] = overrule_reasons\n",
    "    specialty_cpt['final_decision'] = final_decisions\n",
    "    return specialty_cpt\n",
    "    "
   ]
  },
  {
   "cell_type": "code",
   "execution_count": null,
   "metadata": {},
   "outputs": [],
   "source": [
    "## Create new column in cpt_w_claims_fin that will store decision source.\n",
    "cpts_w_claims_fin['dec_source'] = 'DBA'"
   ]
  },
  {
   "cell_type": "code",
   "execution_count": null,
   "metadata": {},
   "outputs": [],
   "source": [
    "## Create new column in cpt_w_claims_fin that will store clinical overrule_rsn\n",
    "cpts_w_claims_fin['overrule_rsn'] = np.nan"
   ]
  },
  {
   "cell_type": "code",
   "execution_count": null,
   "metadata": {},
   "outputs": [],
   "source": [
    "## Create new column in cpt_w_claims_fin that will store final decision\n",
    "cpts_w_claims_fin['final_decision'] = cpts_w_claims_fin['fin_aa_rec']"
   ]
  },
  {
   "cell_type": "code",
   "execution_count": null,
   "metadata": {},
   "outputs": [],
   "source": [
    "## Ensure that the dictionary for EPL is empty, meaning none will auto-approve\n",
    "spec_dict_EPL = {k: [] for k in list_o_specs}"
   ]
  },
  {
   "cell_type": "code",
   "execution_count": null,
   "metadata": {},
   "outputs": [],
   "source": [
    "cpts_w_claims_fin[(cpts_w_claims_fin['Specialty']=='DERMATOLOGY') &\n",
    "                  (cpts_w_claims_fin['is_PPL'] ==1) &\n",
    "                 (cpts_w_claims_fin['final_decision']==1)].shape[0]"
   ]
  },
  {
   "cell_type": "markdown",
   "metadata": {},
   "source": [
    "## Define codes to ADD or REMOVE from each list"
   ]
  },
  {
   "cell_type": "markdown",
   "metadata": {},
   "source": [
    "The general process for creating dictionaries is to do the g&a analysis first.  These are noted with \"DBA\" (Decision by Analysis.\n",
    "\n",
    "Next, in chronological order, we apply clinical decisions. In the first review session (Q2 2019) this was the order:\n",
    "1. A list of PRL codes that Chris McRae said should be auto-approved\n",
    "2. A list of PRL codes that Chris McRae said should be pended - \"codestoremove\"\n",
    "3. Pend Specialties that should be pended categorically\n",
    "4. Laurie and Chris's first round of mostly pends.  Rhoda also took a pass on 5/3/2019\n",
    "5. Phyllis and Rhoda pass at pended specialties. 5/17/2019\n",
    "6. Remove low volume codes.\n",
    "7. Pend all EPL Codes"
   ]
  },
  {
   "cell_type": "code",
   "execution_count": null,
   "metadata": {},
   "outputs": [],
   "source": [
    "## ADD Derm codes - provided my Christel McRae (124)\n",
    "derm_add0 = ['10060','10061','11000','11055','11057','11100','11101','11300','11301','11302','11303','11305',\n",
    "            '11306','11307','11308','11310','11311','11312','11313','11404','11426','11440','11600',\n",
    "            '11601','11602','11603','11604','11606','11620','11621','11622','11623','11624','11626','11640',\n",
    "            '11641','11642','11643','11644','11646','11900','11901','29580','54050','54056','54100','67810',\n",
    "            '69100','87101','87220','J3301','10061','10080','10081','10140','10180','11055','11056','11057',\n",
    "            '11101','11300','11301','11302','11303','11305','11306','11307','11308','11310','11311','11312',\n",
    "            '11313','11404','11426','11440','11444','11446','11600','11601','11602','11603','11604',\n",
    "            '11606','11620','11621','11622','11623','11624','11626','11640','11641','11642','11643','11644',\n",
    "            '11646','11900','11901','54105']\n"
   ]
  },
  {
   "cell_type": "code",
   "execution_count": null,
   "metadata": {},
   "outputs": [],
   "source": [
    "## find unique values (72)\n",
    "derm_add = list(set(derm_add0))"
   ]
  },
  {
   "cell_type": "code",
   "execution_count": null,
   "metadata": {},
   "outputs": [],
   "source": [
    "## ADD Pain Add for PPL\n",
    "pain_add0 = ['99203','99204','99213','99214']"
   ]
  },
  {
   "cell_type": "code",
   "execution_count": null,
   "metadata": {},
   "outputs": [],
   "source": [
    "## ADD Gastro and General Surgery for PPL and EPL\n",
    "gi_add0 = ['45378','45380','45385','G0105','G0121','00812']"
   ]
  },
  {
   "cell_type": "code",
   "execution_count": null,
   "metadata": {},
   "outputs": [],
   "source": [
    "## ADD Blood Transfusions - across all specialties PPL and EPL\n",
    "bt_add0 = ['36430','86900','86901','86902','86903','86904','86905','86906','86907','86908','86909','86910'\n",
    "          ,'86911','86912','86913','86914','86915','86916','86917','86918','86919','86920']"
   ]
  },
  {
   "cell_type": "code",
   "execution_count": null,
   "metadata": {},
   "outputs": [],
   "source": [
    "## ADD Podiatry\n",
    "podiatry_add0 = ['11055']"
   ]
  },
  {
   "cell_type": "code",
   "execution_count": null,
   "metadata": {},
   "outputs": [],
   "source": [
    "## REMOVE from all dictionaries\n",
    "codes_to_remove0 = ['97810','95115','95116','95117','95170','95180','95181','95182','95183','95184','95185','95186',\n",
    "                   '95187','95188','95199','95004','A0999','A0426','A0427','A0428','A0429','92590','92591','92592',\n",
    "                   '92593','92594','90901','90902','90903','90904','90905','90906','90907','90908','90909','90910',\n",
    "                   '90911','90875','90876','86890','93798','98940','J1050','58301','58565','58611','G0337',\n",
    "                   '74740','89320','J3490','J0717','J1438','J7321','J7322','J7323','J7324','J7325','J3489','J0135',\n",
    "                   'J3030','J1830','J9215','J9218','J0129','J9202','J3301','J1745','96365','96366','90378','J2505',\n",
    "                   'J1440','J1441','J0885','J0886','T1013','96118','96119','96120','97166','97167','97168','97110',\n",
    "                   '92015','97162','97163','97110','36468','92506','55250','59840',\n",
    "                   'S0199','S0618','92595','58300','J7300','57170','A4266','11981',\n",
    "                   'J7302','J7300','58670','59600','58605','64612','J0585','11055',\n",
    "                   '11057','11719','11721','G0127','S0390']"
   ]
  },
  {
   "cell_type": "code",
   "execution_count": null,
   "metadata": {},
   "outputs": [],
   "source": [
    "codes_to_remove = list(set(codes_to_remove0))"
   ]
  },
  {
   "cell_type": "code",
   "execution_count": null,
   "metadata": {},
   "outputs": [],
   "source": [
    "cpts_w_claims_fin[(cpts_w_claims_fin['Specialty']=='GASTROENTEROLOGY') &\n",
    "                  (cpts_w_claims_fin['is_PPL'] ==1) &\n",
    "                 (cpts_w_claims_fin['final_decision']==1)].shape[0]"
   ]
  },
  {
   "cell_type": "code",
   "execution_count": null,
   "metadata": {},
   "outputs": [],
   "source": [
    "cpts_w_claims_fin[(cpts_w_claims_fin['Specialty']=='DERMATOLOGY') &\n",
    "                  (cpts_w_claims_fin['is_PPL'] ==1) &\n",
    "                 (cpts_w_claims_fin['final_decision']==1)].shape[0]"
   ]
  },
  {
   "cell_type": "code",
   "execution_count": null,
   "metadata": {},
   "outputs": [],
   "source": [
    "cpts_w_claims_fin.pivot_table(values='CPT_Code', index=['final_decision'], aggfunc='count', margins=True)"
   ]
  },
  {
   "cell_type": "markdown",
   "metadata": {},
   "source": [
    "#### Add specific codes to specific specialties"
   ]
  },
  {
   "cell_type": "code",
   "execution_count": null,
   "metadata": {},
   "outputs": [],
   "source": [
    "## List of codes to auto-approve add derm\n",
    "cpts_w_claims_fin = collect_clinical_decisions(cpts_w_claims_fin, derm_add, ['DERMATOLOGY'], rsn='from PRL', new_status=1)"
   ]
  },
  {
   "cell_type": "code",
   "execution_count": null,
   "metadata": {},
   "outputs": [],
   "source": [
    "## List of codes to auto-approve add pain\n",
    "cpts_w_claims_fin = collect_clinical_decisions(cpts_w_claims_fin, pain_add0, ['PAIN MANAGEMENT'], rsn='from PRL', new_status=1)"
   ]
  },
  {
   "cell_type": "code",
   "execution_count": null,
   "metadata": {},
   "outputs": [],
   "source": [
    "## List of codes to auto-approve add gastro\n",
    "cpts_w_claims_fin = collect_clinical_decisions(cpts_w_claims_fin, gi_add0, \n",
    "                                               ['GASTROENTEROLOGY','SURGERY - GENERAL'], rsn='from PRL', new_status=1)"
   ]
  },
  {
   "cell_type": "code",
   "execution_count": null,
   "metadata": {},
   "outputs": [],
   "source": [
    "## List of codes to auto-approve add blood transfusions\n",
    "cpts_w_claims_fin = collect_clinical_decisions(cpts_w_claims_fin, bt_add0, list_o_specs, rsn='from PRL', new_status=1)"
   ]
  },
  {
   "cell_type": "code",
   "execution_count": null,
   "metadata": {},
   "outputs": [],
   "source": [
    "## List of codes to auto-approve add podiatry\n",
    "cpts_w_claims_fin = collect_clinical_decisions(cpts_w_claims_fin, podiatry_add0, ['PODIATRY'], rsn='from PRL', new_status=1)"
   ]
  },
  {
   "cell_type": "markdown",
   "metadata": {},
   "source": [
    "#### Pend specific set of codes across specialties"
   ]
  },
  {
   "cell_type": "code",
   "execution_count": null,
   "metadata": {},
   "outputs": [],
   "source": [
    "## List of codes to pend across specialties\n",
    "cpts_w_claims_fin = collect_clinical_decisions(cpts_w_claims_fin, codes_to_remove, list_o_specs, rsn='from PRL', new_status=0)"
   ]
  },
  {
   "cell_type": "markdown",
   "metadata": {},
   "source": [
    "#### Soft Pend Specialties categorically"
   ]
  },
  {
   "cell_type": "code",
   "execution_count": null,
   "metadata": {},
   "outputs": [],
   "source": [
    "## Specialties for which the clinical team prefers to ignore the \"decision by analysis\" recommendation and instead\n",
    "## choose a few codes to AA, but mostly the specialty will pend\n",
    "## To ensure that no referrals are auto-approved from it\n",
    "specs_that_should_pend = ['ACUPUNCTURE', 'ADDICTION MEDICINE', 'ANESTHESIOLOGY',\n",
    "                         'BEHAVIORAL HEALTH', 'CHIROPRACTIC', 'DENTIST', 'DME MAINTENANCE',\n",
    "                         'LICENSED CLIN SOCIAL WORKER', 'MFCC (THERAPIST)', 'NON-CONTRACT UNKWN BILL AREA',\n",
    "                         'NURSE PRACTITIONER', 'NURSING FACILITY - OTHER', 'OPTICIAN',\n",
    "                        'PEDS-DEVELOPMENTAL BEHAVIORAL', 'PSYCHIATRY', 'PSYCHOLOGY', 'SENIOR WELLNESS VISIT',\n",
    "                         'SPORTS MEDICINE', 'SURGERY - ORAL', 'AMBULATORY SURGICAL CENTER', 'AMBULANCE', 'ALLERGY/IMMUNOLOGY',\n",
    "                         'CUSTODIAL CARE', 'HOME HEALTH', 'INFERTILITY', 'OPTOMETRY', 'PALLIATIVE CARE', 'PODIATRY', 'SLEEP STUDY',\n",
    "                         'SNF - FAC', 'OCCUPATIONAL THERAPY', 'PHYSICAL THERAPY/REHAB', 'FACILITY SERVICES',\n",
    "                         'GENETICS', 'INTERVENTIONAL RADIOLOGY', 'LABORATROY', 'NUCLEAR MEDICINE', 'ONCOLOGY - GYN',\n",
    "                         'PATHOLOGY', 'PHARMACY', 'SURGERY - HAND', 'SURGERY - CARDIAC', 'SURGERY - MAXILLOFACIAL ORAL',\n",
    "                         'SURGERY - PLASTIC/RECONSTRUCT']"
   ]
  },
  {
   "cell_type": "code",
   "execution_count": null,
   "metadata": {},
   "outputs": [],
   "source": [
    "for spec in specs_that_should_pend:\n",
    "    cpts_w_claims_fin['overrule_rsn'] = np.where(cpts_w_claims_fin['Specialty'] == spec, \n",
    "                                    'Soft Pend Specialty', cpts_w_claims_fin['overrule_rsn'])\n",
    "    cpts_w_claims_fin['dec_source'] = np.where(cpts_w_claims_fin['Specialty']==spec, \n",
    "                                    'clinical', cpts_w_claims_fin['dec_source'])\n",
    "    cpts_w_claims_fin['final_decision'] = np.where(cpts_w_claims_fin['Specialty']==spec, \n",
    "                                    0, cpts_w_claims_fin['final_decision'])"
   ]
  },
  {
   "cell_type": "code",
   "execution_count": null,
   "metadata": {},
   "outputs": [],
   "source": [
    "def add_clinical_decisions(cpts_w_claims_fin, clinical_decisions, drop_columns = ['Decision', 'Notes', 'overturned']):\n",
    "    cpts_w_claims_fin = cpts_w_claims_fin.merge(clinical_decisions, how='left', on=['Specialty', 'CPT_Code', 'is_PPL'])\n",
    "    cpts_w_claims_fin['Decision'] = np.where(cpts_w_claims_fin['Decision'].isna(), cpts_w_claims_fin['final_decision'], cpts_w_claims_fin['Decision'])\n",
    "    cpts_w_claims_fin['overrule_rsn'] = np.where(cpts_w_claims_fin['Decision']!=cpts_w_claims_fin['final_decision'], \n",
    "                                    cpts_w_claims_fin['Notes'], cpts_w_claims_fin['overrule_rsn'])\n",
    "    cpts_w_claims_fin['dec_source'] = np.where(cpts_w_claims_fin['Decision']!=cpts_w_claims_fin['final_decision'], \n",
    "                                    'clinical', cpts_w_claims_fin['dec_source'])\n",
    "    cpts_w_claims_fin['final_decision'] = np.where(cpts_w_claims_fin['Decision']!=cpts_w_claims_fin['final_decision'], \n",
    "                                    cpts_w_claims_fin['Decision'], cpts_w_claims_fin['final_decision'])\n",
    "    cpts_w_claims_fin.drop(drop_columns, axis=1, inplace=True)\n",
    "    return cpts_w_claims_fin"
   ]
  },
  {
   "cell_type": "markdown",
   "metadata": {},
   "source": [
    "#### Remove codes chosen by Laurie and Christel 5/03/2019"
   ]
  },
  {
   "cell_type": "code",
   "execution_count": null,
   "metadata": {},
   "outputs": [],
   "source": [
    "#cpts_w_claims_fin = add_clinical_decisions(cpts_w_claims_fin, clinical_decisions_20190503_remove)"
   ]
  },
  {
   "cell_type": "markdown",
   "metadata": {},
   "source": [
    "#### Add codes chosen by Laurie and Christel 5/03/2019"
   ]
  },
  {
   "cell_type": "code",
   "execution_count": null,
   "metadata": {},
   "outputs": [],
   "source": [
    "#cpts_w_claims_fin = add_clinical_decisions(cpts_w_claims_fin, clinical_decisions_20190503_add)"
   ]
  },
  {
   "cell_type": "markdown",
   "metadata": {},
   "source": [
    "#### Add codes chosen by Phyllis and Rhoda 5/17/2019"
   ]
  },
  {
   "cell_type": "code",
   "execution_count": null,
   "metadata": {},
   "outputs": [],
   "source": [
    "#cpts_w_claims_fin = add_clinical_decisions(cpts_w_claims_fin, clinical_decisions_20190517)"
   ]
  },
  {
   "cell_type": "markdown",
   "metadata": {},
   "source": [
    "#### codes chosen by Laurie and Rhoda 5/22/2019"
   ]
  },
  {
   "cell_type": "code",
   "execution_count": null,
   "metadata": {},
   "outputs": [],
   "source": [
    "#cpts_w_claims_fin = add_clinical_decisions(cpts_w_claims_fin, clinical_decisions_20190610, ['Decision', 'Notes'])"
   ]
  },
  {
   "cell_type": "code",
   "execution_count": null,
   "metadata": {},
   "outputs": [],
   "source": [
    "cpts_w_claims_fin.columns"
   ]
  },
  {
   "cell_type": "code",
   "execution_count": null,
   "metadata": {},
   "outputs": [],
   "source": [
    "clinical_decisions_20190610.columns"
   ]
  },
  {
   "cell_type": "code",
   "execution_count": null,
   "metadata": {},
   "outputs": [],
   "source": [
    "cpts_w_claims_fin = add_clinical_decisions(cpts_w_claims_fin, clinical_decisions_20190610, ['Decision', 'Notes', 'Decision_Date',\n",
    "                                                                                           'Decision_Source', 'Decision_Maker'])"
   ]
  },
  {
   "cell_type": "markdown",
   "metadata": {},
   "source": [
    "#### Pend codes with fewer than 30 in the past year"
   ]
  },
  {
   "cell_type": "code",
   "execution_count": null,
   "metadata": {},
   "outputs": [],
   "source": [
    "## Pend codes that have volume < 30\n",
    "cpts_w_claims_fin['overrule_rsn'] = np.where(cpts_w_claims_fin['UNITS']<=30, \n",
    "                                    'low volume', cpts_w_claims_fin['overrule_rsn'])"
   ]
  },
  {
   "cell_type": "code",
   "execution_count": null,
   "metadata": {},
   "outputs": [],
   "source": [
    "cpts_w_claims_fin['dec_source'] = np.where(cpts_w_claims_fin['UNITS']<=30, \n",
    "                                    'rule', cpts_w_claims_fin['dec_source'])"
   ]
  },
  {
   "cell_type": "code",
   "execution_count": null,
   "metadata": {},
   "outputs": [],
   "source": [
    "cpts_w_claims_fin['final_decision'] = np.where(cpts_w_claims_fin['UNITS']<=30, \n",
    "                                    0, cpts_w_claims_fin['final_decision'])"
   ]
  },
  {
   "cell_type": "markdown",
   "metadata": {},
   "source": [
    "#### Hard Pend Specialties categorically"
   ]
  },
  {
   "cell_type": "code",
   "execution_count": null,
   "metadata": {},
   "outputs": [],
   "source": [
    "## Specialties that the clinical team wants to pend categorically\n",
    "\n",
    "specs_that_should_pend = ['ACUPUNCTURE', 'ADDICTION MEDICINE', 'ANESTHESIOLOGY',\n",
    "                         'BEHAVIORAL HEALTH', 'CHIROPRACTIC', 'DENTIST', 'DME MAINTENANCE',\n",
    "                         'LICENSED CLIN SOCIAL WORKER', 'MFCC (THERAPIST)', 'NON-CONTRACT UNKWN BILL AREA',\n",
    "                         'NURSE PRACTITIONER', 'NURSING FACILITY - OTHER', 'OPTICIAN',\n",
    "                        'PEDS-DEVELOPMENTAL BEHAVIORAL', 'PSYCHIATRY', 'PSYCHOLOGY', 'SENIOR WELLNESS VISIT',\n",
    "                         'SPORTS MEDICINE', 'SURGERY - ORAL', 'AMBULATORY SURGICAL CENTER', 'AMBULANCE',\n",
    "                         'CUSTODIAL CARE', 'HOME HEALTH', 'INFERTILITY', 'OPTOMETRY', 'PALLIATIVE CARE', 'SLEEP STUDY',\n",
    "                         'SNF - FAC', 'OCCUPATIONAL THERAPY', 'NUCLEAR MEDICINE',\n",
    "                         'PATHOLOGY', 'PHARMACY', 'SURGERY - HAND']"
   ]
  },
  {
   "cell_type": "code",
   "execution_count": null,
   "metadata": {},
   "outputs": [],
   "source": [
    "for spec in specs_that_should_pend:\n",
    "    cpts_w_claims_fin['overrule_rsn'] = np.where(cpts_w_claims_fin['Specialty'] == spec, \n",
    "                                    'Hard Pend Specialty', cpts_w_claims_fin['overrule_rsn'])\n",
    "    cpts_w_claims_fin['dec_source'] = np.where(cpts_w_claims_fin['Specialty']==spec, \n",
    "                                    'rule', cpts_w_claims_fin['dec_source'])\n",
    "    cpts_w_claims_fin['final_decision'] = np.where(cpts_w_claims_fin['Specialty']==spec, \n",
    "                                    0, cpts_w_claims_fin['final_decision'])"
   ]
  },
  {
   "cell_type": "markdown",
   "metadata": {},
   "source": [
    "#### Pend all EPL"
   ]
  },
  {
   "cell_type": "code",
   "execution_count": null,
   "metadata": {},
   "outputs": [],
   "source": [
    "## Pend EPL\n",
    "cpts_w_claims_fin['overrule_rsn'] = np.where(cpts_w_claims_fin['is_PPL']==0, \n",
    "                                    'Pend EPL', cpts_w_claims_fin['overrule_rsn'])"
   ]
  },
  {
   "cell_type": "code",
   "execution_count": null,
   "metadata": {},
   "outputs": [],
   "source": [
    "cpts_w_claims_fin['dec_source'] = np.where(cpts_w_claims_fin['is_PPL']==0, \n",
    "                                    'rule', cpts_w_claims_fin['dec_source'])"
   ]
  },
  {
   "cell_type": "code",
   "execution_count": null,
   "metadata": {},
   "outputs": [],
   "source": [
    "cpts_w_claims_fin['final_decision'] = np.where(cpts_w_claims_fin['is_PPL']==0, \n",
    "                                    0, cpts_w_claims_fin['final_decision'])"
   ]
  },
  {
   "cell_type": "code",
   "execution_count": null,
   "metadata": {},
   "outputs": [],
   "source": [
    "## Function that gathers CPT codes that should be pended and stores them in a dictionary.\n",
    "def create_dict_of_CPT_codes_v3(specialty_cpt, list_o_specs, PPL=1):\n",
    "    spec_dict = {k: [] for k in list_o_specs}\n",
    "    for index, row in specialty_cpt.iterrows():\n",
    "        if row['final_decision'] == 1:\n",
    "            if row['is_PPL'] == PPL:\n",
    "                spec_dict[row['Specialty']].append(row['CPT_Code'])\n",
    "    return spec_dict"
   ]
  },
  {
   "cell_type": "code",
   "execution_count": null,
   "metadata": {},
   "outputs": [],
   "source": [
    "spec_dict_PPL = create_dict_of_CPT_codes_v3(cpts_w_claims_fin, list_o_specs, PPL=1)"
   ]
  },
  {
   "cell_type": "code",
   "execution_count": null,
   "metadata": {},
   "outputs": [],
   "source": [
    "print(spec_dict_PPL['ENDOCRINOLOGY'])"
   ]
  },
  {
   "cell_type": "code",
   "execution_count": null,
   "metadata": {},
   "outputs": [],
   "source": [
    "#### Prepare a newer set of referrals to run through the new code."
   ]
  },
  {
   "cell_type": "code",
   "execution_count": null,
   "metadata": {},
   "outputs": [],
   "source": [
    "## Assigns an auto-approve (1) or pend (0) status to each specialty / code group\n",
    "def assign_status(codes, spec_dict_PPL, spec_dict_EPL, list_of_types_pend):\n",
    "    status = list(np.zeros(codes.shape[0]))\n",
    "    specs_list = codes['Specialty'].unique().tolist()\n",
    "    print(len(status))\n",
    "    print(codes.shape[0])\n",
    "    for spec in specs_list:\n",
    "        if spec not in spec_dict_PPL:\n",
    "            spec_dict_PPL[spec] = []\n",
    "    for spec in specs_list:\n",
    "        if spec not in spec_dict_EPL:\n",
    "            spec_dict_EPL[spec] = []\n",
    "    for index, row in codes.iterrows():\n",
    "        if row['is_PPL'] == 1:\n",
    "            if row['CPT_Code'] in spec_dict_PPL[row['Specialty']]:\n",
    "                if row['ref_type'] not in list_of_types_pend:\n",
    "                    status[index] = 1\n",
    "        ##else:\n",
    "          ##  if row['CPT_Code'] in spec_dict_EPL[row['Specialty']]:\n",
    "            ##    status[index] = 0\n",
    "    return status"
   ]
  },
  {
   "cell_type": "code",
   "execution_count": null,
   "metadata": {},
   "outputs": [],
   "source": [
    "cpts.reset_index(drop=True, inplace=True)"
   ]
  },
  {
   "cell_type": "code",
   "execution_count": null,
   "metadata": {},
   "outputs": [],
   "source": [
    "auto_approve = assign_status(cpts, spec_dict_PPL, \n",
    "                             spec_dict_EPL, list_o_types_to_pend)"
   ]
  },
  {
   "cell_type": "code",
   "execution_count": null,
   "metadata": {},
   "outputs": [],
   "source": [
    "cpts['auto_approvable'] = auto_approve"
   ]
  },
  {
   "cell_type": "code",
   "execution_count": null,
   "metadata": {},
   "outputs": [],
   "source": [
    "refs_results = cpts.groupby(['HCP_CONNECT_AUTH_NUMBER'], as_index=False).agg({'auto_approvable': 'mean',\n",
    "                                                                                 'is_den': 'mean'})"
   ]
  },
  {
   "cell_type": "code",
   "execution_count": null,
   "metadata": {},
   "outputs": [],
   "source": [
    "refs_results['aa-yn'] = np.where(refs_results['auto_approvable']==1, 1, 0)"
   ]
  },
  {
   "cell_type": "code",
   "execution_count": null,
   "metadata": {},
   "outputs": [],
   "source": [
    "refs_results.drop('auto_approvable', axis=1, inplace=True)"
   ]
  },
  {
   "cell_type": "code",
   "execution_count": null,
   "metadata": {},
   "outputs": [],
   "source": [
    "refs_results.columns"
   ]
  },
  {
   "cell_type": "code",
   "execution_count": null,
   "metadata": {},
   "outputs": [],
   "source": [
    "refs_results.pivot_table('HCP_CONNECT_AUTH_NUMBER', index='aa-yn', columns='is_den', aggfunc='count', margins=True)"
   ]
  },
  {
   "cell_type": "code",
   "execution_count": null,
   "metadata": {},
   "outputs": [],
   "source": [
    "refs_results.drop('is_den', axis=1, inplace=True)"
   ]
  },
  {
   "cell_type": "code",
   "execution_count": null,
   "metadata": {},
   "outputs": [],
   "source": [
    "cpts = cpts.merge(refs_results, how='left', on=['HCP_CONNECT_AUTH_NUMBER'])"
   ]
  },
  {
   "cell_type": "code",
   "execution_count": null,
   "metadata": {},
   "outputs": [],
   "source": [
    "#cpts.to_csv('../Data/Outputs/expected_golive_2019.csv')"
   ]
  },
  {
   "cell_type": "code",
   "execution_count": null,
   "metadata": {},
   "outputs": [],
   "source": [
    "cpts.pivot_table('HCP_CONNECT_AUTH_NUMBER', index='aa-yn', columns='urgent', aggfunc='count', margins=True)"
   ]
  },
  {
   "cell_type": "code",
   "execution_count": null,
   "metadata": {},
   "outputs": [],
   "source": [
    "cpts_w_claims_fin[cpts_w_claims_fin['CPT_Code']=='J1561'].head()"
   ]
  },
  {
   "cell_type": "markdown",
   "metadata": {},
   "source": [
    "## Region Switchpoint"
   ]
  },
  {
   "cell_type": "code",
   "execution_count": null,
   "metadata": {},
   "outputs": [],
   "source": [
    "## Use this code to conduct the results portion of the code for a single region\n",
    "#cpts = cpts[cpts['region']=='SAN GABRIEL VALLEY']"
   ]
  },
  {
   "cell_type": "code",
   "execution_count": null,
   "metadata": {},
   "outputs": [],
   "source": [
    "cpts.pivot_table(values='UNITS', index=['is_autoapp', 'is_den'], columns='aa-yn', aggfunc='count', margins=True)##.to_csv('../Data/Outputs/costs_cm.csv')"
   ]
  },
  {
   "cell_type": "markdown",
   "metadata": {},
   "source": [
    "## Construct Specialty Summary"
   ]
  },
  {
   "cell_type": "code",
   "execution_count": null,
   "metadata": {},
   "outputs": [],
   "source": [
    "refs_new_head = cpts.groupby(['Specialty', 'ref_type', 'HCP_CONNECT_AUTH_NUMBER'], as_index=False).agg({\n",
    "    'UNITS': 'count',\n",
    "    'is_autoapp': 'mean',\n",
    "    'is_PPL': 'mean',\n",
    "    'is_app': 'mean',\n",
    "    'is_den': 'mean',\n",
    "    'aa-yn': 'mean'\n",
    "})"
   ]
  },
  {
   "cell_type": "code",
   "execution_count": null,
   "metadata": {},
   "outputs": [],
   "source": [
    "refs_new_head.pivot_table(values=['is_autoapp', 'aa-yn'], index='Specialty', aggfunc=['count', 'mean']).to_csv('../Data/Outputs/spec_rates.csv',\n",
    "                                                                                                              sep='|')"
   ]
  },
  {
   "cell_type": "code",
   "execution_count": null,
   "metadata": {},
   "outputs": [],
   "source": [
    "specialty_summary = pd.read_csv('../Data/Outputs/spec_rates.csv', sep='|', skiprows=3, names=['Specialty',\n",
    "                                                                                             'ref_vol', 'ref_vol2',\n",
    "                                                                                             'new_rate', 'old_rate'])"
   ]
  },
  {
   "cell_type": "code",
   "execution_count": null,
   "metadata": {},
   "outputs": [],
   "source": [
    "specialty_summary.drop('ref_vol2', axis=1, inplace=True)"
   ]
  },
  {
   "cell_type": "code",
   "execution_count": null,
   "metadata": {},
   "outputs": [],
   "source": [
    "## Get counts of codes for each specialty"
   ]
  },
  {
   "cell_type": "code",
   "execution_count": null,
   "metadata": {},
   "outputs": [],
   "source": [
    "def spec_code_counts(spec_dict, spec_summary):\n",
    "    counts = []\n",
    "    for index, row in spec_summary.iterrows():\n",
    "        counts.append(len(spec_dict[row['Specialty']]))\n",
    "    return counts"
   ]
  },
  {
   "cell_type": "code",
   "execution_count": null,
   "metadata": {},
   "outputs": [],
   "source": [
    "PPL_counts = spec_code_counts(spec_dict_PPL, specialty_summary)"
   ]
  },
  {
   "cell_type": "code",
   "execution_count": null,
   "metadata": {},
   "outputs": [],
   "source": [
    "specialty_summary['num_codes']=PPL_counts"
   ]
  },
  {
   "cell_type": "code",
   "execution_count": null,
   "metadata": {},
   "outputs": [],
   "source": [
    "## get 'denied now approved'"
   ]
  },
  {
   "cell_type": "code",
   "execution_count": null,
   "metadata": {},
   "outputs": [],
   "source": [
    "refs_new_head['denied_now_aa'] = refs_new_head['is_den'] * refs_new_head['aa-yn']"
   ]
  },
  {
   "cell_type": "code",
   "execution_count": null,
   "metadata": {},
   "outputs": [],
   "source": [
    "refs_new_head.pivot_table('denied_now_aa', index='Specialty', aggfunc='sum').to_csv('../Data/Outputs/spec_den_now_aa.csv',\n",
    "                                                                                                      sep='|')"
   ]
  },
  {
   "cell_type": "code",
   "execution_count": null,
   "metadata": {},
   "outputs": [],
   "source": [
    "ss_deny_now_aa = pd.read_csv('../Data/Outputs/spec_den_now_aa.csv', sep='|', skiprows=2, names=['Specialty', 'deny_now_aa'])"
   ]
  },
  {
   "cell_type": "code",
   "execution_count": null,
   "metadata": {},
   "outputs": [],
   "source": [
    "specialty_summary = specialty_summary.merge(ss_deny_now_aa, how='inner', on='Specialty')"
   ]
  },
  {
   "cell_type": "code",
   "execution_count": null,
   "metadata": {},
   "outputs": [],
   "source": [
    "## Prep cpts_w_claims_fin to merge into cpts"
   ]
  },
  {
   "cell_type": "code",
   "execution_count": null,
   "metadata": {},
   "outputs": [],
   "source": [
    "cpts_w_claims_fin_select = cpts_w_claims_fin.drop(['UNITS', 'is_autoapp', 'is_den',\n",
    "       'UNITS_man', 'cost_to_review', 'cnt_hcp_cost',\n",
    "       'sum_cost_denied'], axis=1)"
   ]
  },
  {
   "cell_type": "code",
   "execution_count": null,
   "metadata": {},
   "outputs": [],
   "source": [
    "cpts_w_fin = pd.merge(cpts, cpts_w_claims_fin_select, how='left', on=['Specialty', 'CPT_Code', 'is_PPL'])"
   ]
  },
  {
   "cell_type": "code",
   "execution_count": null,
   "metadata": {},
   "outputs": [],
   "source": [
    "cpts_w_fin['dollars_denied_now_app'] = cpts_w_fin['is_den']*cpts_w_fin['aa-yn']*cpts_w_fin['avg_hcp_cost']"
   ]
  },
  {
   "cell_type": "code",
   "execution_count": null,
   "metadata": {},
   "outputs": [],
   "source": [
    "cpts_w_fin['cost_to_review_bene'] = (1-cpts_w_fin['is_autoapp'])*cpts_w_fin['aa-yn']*ga_cpt"
   ]
  },
  {
   "cell_type": "code",
   "execution_count": null,
   "metadata": {},
   "outputs": [],
   "source": [
    "cpts_w_fin['cost_to_review_loss'] = cpts_w_fin['is_autoapp']*(1-cpts_w_fin['aa-yn'])*ga_cpt"
   ]
  },
  {
   "cell_type": "code",
   "execution_count": null,
   "metadata": {},
   "outputs": [],
   "source": [
    "cpts_w_fin['new_denial_bene_est'] = cpts_w_fin['is_autoapp']*(1-cpts_w_fin['aa-yn'])*ga_cpt*cpts_w_fin['ROI']*cpts_w_fin['is_PPL']"
   ]
  },
  {
   "cell_type": "code",
   "execution_count": null,
   "metadata": {},
   "outputs": [],
   "source": [
    "cpts_w_fin.pivot_table(values=['dollars_denied_now_app', 'cost_to_review_bene', 'cost_to_review_loss',\n",
    "                                  'new_denial_bene_est'], index='Specialty', aggfunc='sum').to_csv('../Data/Outputs/specialty_fins.csv', sep='|')"
   ]
  },
  {
   "cell_type": "code",
   "execution_count": null,
   "metadata": {},
   "outputs": [],
   "source": [
    "specialty_fins = pd.read_csv('../Data/Outputs/specialty_fins.csv', sep='|')"
   ]
  },
  {
   "cell_type": "code",
   "execution_count": null,
   "metadata": {},
   "outputs": [],
   "source": [
    "specialty_summary = specialty_summary.merge(specialty_fins, how='inner', on='Specialty')"
   ]
  },
  {
   "cell_type": "code",
   "execution_count": null,
   "metadata": {},
   "outputs": [],
   "source": [
    "specialty_summary['net_benefit'] = specialty_summary['cost_to_review_bene'] - specialty_summary['cost_to_review_loss'] - specialty_summary['dollars_denied_now_app']"
   ]
  },
  {
   "cell_type": "code",
   "execution_count": null,
   "metadata": {},
   "outputs": [],
   "source": [
    "specialty_summary['net_benefit_w_new_den'] = specialty_summary['cost_to_review_bene'] - specialty_summary['cost_to_review_loss'] -specialty_summary['dollars_denied_now_app'] + specialty_summary['new_denial_bene_est']"
   ]
  },
  {
   "cell_type": "code",
   "execution_count": null,
   "metadata": {},
   "outputs": [],
   "source": [
    "# Give the filename you wish to save the file to\n",
    "spec_summary_filename = '../Data/Outputs/specialty_summary_fin.xlsx'\n",
    "\n",
    "# Use this function to search for any files which match your filename\n",
    "files_present = os.path.isfile(spec_summary_filename)\n",
    "\n",
    "# if no matching files, write to csv, if there are matching files, print statement\n",
    "if not files_present:\n",
    "    specialty_summary.to_excel(spec_summary_filename, index=False, float_format='%.2f',\n",
    "                          header=['Specialty', 'volume', 'new rate', 'old_rate', '# codes in dictionary', 'false positives',\n",
    "                                 'cost to review, benefit', 'cost to review, loss', 'dollars denied, now approved',\n",
    "                                 'new denials, benefit (est)', 'new benefit', 'net benefit, est'], \n",
    "                          freeze_panes=(1,0))\n",
    "else:\n",
    "    print('WARNING: This file already exists!')"
   ]
  },
  {
   "cell_type": "code",
   "execution_count": null,
   "metadata": {},
   "outputs": [],
   "source": [
    "cpts_w_claims_fin['overrule_rsn'].unique()"
   ]
  },
  {
   "cell_type": "code",
   "execution_count": null,
   "metadata": {},
   "outputs": [],
   "source": [
    "refs_results['aa-yn'].mean()"
   ]
  },
  {
   "cell_type": "code",
   "execution_count": null,
   "metadata": {},
   "outputs": [],
   "source": [
    "## rate before laurie and chrisel's codes to pend\n",
    "v0 = 1198038/2086468\n",
    "print(v0)"
   ]
  },
  {
   "cell_type": "code",
   "execution_count": null,
   "metadata": {},
   "outputs": [],
   "source": [
    "## rate after laurie and christels' codes to pend\n",
    "v1 = 1091109/2086468\n",
    "print(v1)"
   ]
  },
  {
   "cell_type": "code",
   "execution_count": null,
   "metadata": {},
   "outputs": [],
   "source": [
    "v2 = 1097619/2086468\n",
    "print(v2)"
   ]
  },
  {
   "cell_type": "code",
   "execution_count": null,
   "metadata": {},
   "outputs": [],
   "source": [
    "## using 2018 data to create rules, and then applying them to early 2019 data\n",
    "v3 = 274250/543258\n",
    "print(v3)"
   ]
  },
  {
   "cell_type": "code",
   "execution_count": null,
   "metadata": {},
   "outputs": [],
   "source": [
    "## using clinical review list from 20190501 from Rhoda \n",
    ".401"
   ]
  },
  {
   "cell_type": "code",
   "execution_count": null,
   "metadata": {},
   "outputs": [],
   "source": [
    "## 20190503 V1 - More Conservative Version\n",
    ".4532"
   ]
  },
  {
   "cell_type": "code",
   "execution_count": null,
   "metadata": {},
   "outputs": [],
   "source": [
    "## 20190503 v2 - Baseline\n",
    ".462"
   ]
  },
  {
   "cell_type": "code",
   "execution_count": null,
   "metadata": {},
   "outputs": [],
   "source": [
    "## 20190517 - after Phyllis and Rhoda add back several codes\n",
    ".52"
   ]
  },
  {
   "cell_type": "code",
   "execution_count": null,
   "metadata": {},
   "outputs": [],
   "source": [
    "## 20190524\n",
    ".525"
   ]
  },
  {
   "cell_type": "markdown",
   "metadata": {},
   "source": [
    "## Code Detail List"
   ]
  },
  {
   "cell_type": "code",
   "execution_count": null,
   "metadata": {},
   "outputs": [],
   "source": [
    "spec_cpt_w_projected_aa_rate = cpts.groupby(['Specialty', 'CPT_Code', 'is_PPL'], as_index=False).agg({\n",
    "    'aa-yn': 'mean'\n",
    "})"
   ]
  },
  {
   "cell_type": "code",
   "execution_count": null,
   "metadata": {},
   "outputs": [],
   "source": [
    "cpts_w_claims_fin = cpts_w_claims_fin.merge(spec_cpt_w_projected_aa_rate, how='left', on=['Specialty', 'CPT_Code', 'is_PPL'])"
   ]
  },
  {
   "cell_type": "code",
   "execution_count": null,
   "metadata": {},
   "outputs": [],
   "source": [
    "cpts['UNITS'].sum()"
   ]
  },
  {
   "cell_type": "code",
   "execution_count": null,
   "metadata": {},
   "outputs": [],
   "source": [
    "# Give the filename you wish to save the file to\n",
    "spec_cpt_w_projected_aa_rate_fin_filename = '../Data/Outputs/spec_cpt_w_projected_aa_rate.xlsx'\n",
    "\n",
    "# Use this function to search for any files which match your filename\n",
    "files_present = os.path.isfile(spec_cpt_w_projected_aa_rate_fin_filename)\n",
    "\n",
    "# if no matching files, write to csv, if there are matching files, print statement\n",
    "if not files_present:\n",
    "    spec_cpt_w_projected_aa_rate.to_excel(spec_cpt_w_projected_aa_rate_fin_filename, index=False, float_format='%.2f',\n",
    "                          header=['Specialty', 'CPT Code', 'PPL?', 'new rate'], \n",
    "                          freeze_panes=(1,0))\n",
    "else:\n",
    "    print('WARNING: This file already exists!')"
   ]
  },
  {
   "cell_type": "code",
   "execution_count": null,
   "metadata": {},
   "outputs": [],
   "source": [
    "cpts.pivot_table('CPT_Code', index='aa-yn', columns='is_den', aggfunc='count', margins=True)"
   ]
  },
  {
   "cell_type": "code",
   "execution_count": null,
   "metadata": {},
   "outputs": [],
   "source": [
    "cpts_w_claims_fin = cpts_w_claims_fin.merge(cpt_desc, how='inner', on = 'CPT_Code')"
   ]
  },
  {
   "cell_type": "code",
   "execution_count": null,
   "metadata": {},
   "outputs": [],
   "source": [
    "cpts_w_claims_fin[cpts_w_claims_fin['Specialty']=='CARDIOLOGY']"
   ]
  },
  {
   "cell_type": "code",
   "execution_count": null,
   "metadata": {},
   "outputs": [],
   "source": [
    "# Give the filename you wish to save the file to\n",
    "cpts_w_claims_fin_filename = '../Data/Outputs/spec_cpt_summary.xlsx'\n",
    "\n",
    "# Use this function to search for any files which match your filename\n",
    "files_present = os.path.isfile(cpts_w_claims_fin_filename)\n",
    "\n",
    "# if no matching files, write to csv, if there are matching files, print statement\n",
    "if not files_present:\n",
    "    cpts_w_claims_fin.to_excel(cpts_w_claims_fin_filename, index=False, float_format='%.2f',\n",
    "                          header=['Specialty', 'CPT Code', 'PPL?', 'volume', 'old rate', 'denial rate',\n",
    "       'volume, reviewed', 'cost to review', 'avg. cost', 'denied dollars', 'ROI',\n",
    "       'decision by ROI', 'decision source', 'clinical reason', 'final decision', 'new rate',\n",
    "       'CPT desc'], \n",
    "                          freeze_panes=(1,0))\n",
    "else:\n",
    "    print('WARNING: This file already exists!')"
   ]
  },
  {
   "cell_type": "code",
   "execution_count": null,
   "metadata": {},
   "outputs": [],
   "source": [
    "cpts_w_claims_fin[(cpts_w_claims_fin['Specialty']=='SURGERY - CARDIAC') &\n",
    "                 (cpts_w_claims_fin['final_decision']==1)]"
   ]
  },
  {
   "cell_type": "markdown",
   "metadata": {},
   "source": [
    "## Generate Rule Spreadsheet that can be uploaded to CCT"
   ]
  },
  {
   "cell_type": "markdown",
   "metadata": {},
   "source": [
    "CCT, the tool that houses the referrals auto-approval rules and processing, can auto-generate rules when provided a spreadsheet of a specific format.  This portion of the code reads in that file, and then completes it with the information required."
   ]
  },
  {
   "cell_type": "markdown",
   "metadata": {},
   "source": [
    "#### Read in file to get accurate headers and format"
   ]
  },
  {
   "cell_type": "code",
   "execution_count": null,
   "metadata": {},
   "outputs": [],
   "source": [
    "rule_file = pd.read_excel('../Data/RMS_Rules.xlsx', sheet_name='RULE_AUTOAPPROVEPX')"
   ]
  },
  {
   "cell_type": "code",
   "execution_count": null,
   "metadata": {},
   "outputs": [],
   "source": [
    "rule_file.columns"
   ]
  },
  {
   "cell_type": "code",
   "execution_count": null,
   "metadata": {},
   "outputs": [],
   "source": [
    "## Add codes to dictionary for specific specialties that appear in CCT data, but not the data warehouse"
   ]
  },
  {
   "cell_type": "code",
   "execution_count": null,
   "metadata": {},
   "outputs": [],
   "source": [
    "spec_dict_PPL['HIV/AIDS SPECIALIST'] = ['99203', '99204', '99213', '99214']"
   ]
  },
  {
   "cell_type": "code",
   "execution_count": null,
   "metadata": {},
   "outputs": [],
   "source": [
    "spec_dict_PPL"
   ]
  },
  {
   "cell_type": "code",
   "execution_count": null,
   "metadata": {},
   "outputs": [],
   "source": [
    "def create_rule_excel_file(rule_file, spec_dict, list_o_specs, PPL=True):\n",
    "    rule_file['Auth_Status'] = 8\n",
    "    rule_file['Auth_Status_Num'] = 1\n",
    "    rule_file['RefType_Key'] = np.nan\n",
    "    rule_file['RefType_Num'] = np.nan\n",
    "    rule_file['ByPass_Adjudication'] = False\n",
    "    rule_file['Rule_Priority'] = 2000\n",
    "    rule_file['Rule_Category'] = 2\n",
    "    rule_file['Eff_Date'] = pd.datetime(2019, 6, 15)\n",
    "    rule_file['Term_Date'] = np.nan\n",
    "    rule_file['Region_List'] = 'REGION I'\n",
    "    rule_file['Entity_List'] = 'All'\n",
    "    rule_file['Site_List'] = 'All'\n",
    "    rule_file['HMO_List'] = 'All'\n",
    "    rule_file['Product_Type_List'] = 'All'\n",
    "    rule_file['Dx_List'] = np.nan\n",
    "    rule_file['Age_From'] = 18\n",
    "    rule_file['Age_To'] = 199\n",
    "    rule_file['Gender'] = 'A'\n",
    "    rule_file['GoldStar'] = 'A'\n",
    "    rule_file['POS_List'] = 'All'\n",
    "    rule_file['RefTo_Provider_List'] = 'All'\n",
    "    rule_file['RefFrom_Spc_List'] = 'All'\n",
    "    rule_file['Facility_Spc_List'] = 'All'\n",
    "    rule_file['Spc_Operator'] = 'OR'\n",
    "    rule_file['Date_Added'] = pd.datetime(2019, 6, 14)\n",
    "    rule_file['Added_By'] = 'PIONEER'\n",
    "    rule_file['Archive_Flag'] = False\n",
    "    rule_file['RefFrom_Provider_List'] = 'ALL'\n",
    "    rule_file['RefTo_Status_List'] = 'PPL'\n",
    "    rule_key = list(rule_file['Rule_Key'])\n",
    "    Px_list = list(rule_file['Px_List'])\n",
    "    rule_code = list(rule_file['Rule_Code'])\n",
    "    rule_desc = list(rule_file['Rule_Desc'])\n",
    "    rule_lob = list(rule_file['LOB_List'])\n",
    "    ref_to_spec = list(rule_file['RefTo_Spc_List'])\n",
    "    index = 0\n",
    "    for spec in list_o_specs:\n",
    "        if len(spec_dict[spec]) == 0:\n",
    "            continue\n",
    "        else:\n",
    "            rule_key[index] = index+1\n",
    "            Px_list[index] = spec_dict[spec]\n",
    "            rule_code[index] = (spec + '_PPL').replace(' ', '')\n",
    "            rule_desc[index] = ('auto-approve ' + spec + ' referrals to PPL providers for specific codes.')\n",
    "            if spec[-7:] == 'not_sen':\n",
    "                print('not_sne')\n",
    "                print(spec[:-8])\n",
    "                ref_to_spec[index] = spec[:-8]\n",
    "            elif spec[-6] == 'senior':\n",
    "                ref_to_spec[index] = spec[:-7]\n",
    "            else:\n",
    "                ref_to_spec[index] = spec\n",
    "            if spec[-6:]=='senior':\n",
    "                rule_lob[index] = 'SENIOR'\n",
    "            else:\n",
    "                rule_lob[index] = 'All'\n",
    "            index+=1\n",
    "    rule_file['Rule_Key'] = rule_key\n",
    "    rule_file['Px_List'] = Px_list\n",
    "    rule_file['Rule_Desc'] = rule_desc\n",
    "    rule_file['Rule_Code'] = rule_code\n",
    "    rule_file['LOB_List'] = rule_lob\n",
    "    rule_file['RefTo_Spc_List'] = ref_to_spec\n",
    "    rule_file.drop(rule_file.index[index:], inplace=True)\n",
    "    return rule_file"
   ]
  },
  {
   "cell_type": "code",
   "execution_count": null,
   "metadata": {},
   "outputs": [],
   "source": [
    "'RADIOLOGY_not_sen'[-7:] in ('not_sen', 'senior')"
   ]
  },
  {
   "cell_type": "code",
   "execution_count": null,
   "metadata": {},
   "outputs": [],
   "source": [
    "'RADIOLOGY_senior'[:-7]"
   ]
  },
  {
   "cell_type": "code",
   "execution_count": null,
   "metadata": {},
   "outputs": [],
   "source": [
    "new_rule_file = create_rule_excel_file(rule_file, spec_dict_PPL, list_o_specs)"
   ]
  },
  {
   "cell_type": "code",
   "execution_count": null,
   "metadata": {},
   "outputs": [],
   "source": [
    "new_rule_file['RefTo_Spc_List']"
   ]
  },
  {
   "cell_type": "code",
   "execution_count": null,
   "metadata": {},
   "outputs": [],
   "source": [
    "# Give the filename you wish to save the file to\n",
    "rules_to_upload_filename = '../Data/Outputs/RMS_Rules_new.xlsx'\n",
    "\n",
    "# Use this function to search for any files which match your filename\n",
    "files_present = os.path.isfile(rules_to_upload_filename)\n",
    "\n",
    "# if no matching files, write to csv, if there are matching files, print statement\n",
    "if not files_present:\n",
    "    new_rule_file.to_excel(rules_to_upload_filename, index=False, )\n",
    "else:\n",
    "    print('WARNING: This file already exists!')"
   ]
  },
  {
   "cell_type": "code",
   "execution_count": null,
   "metadata": {},
   "outputs": [],
   "source": []
  }
 ],
 "metadata": {
  "kernelspec": {
   "display_name": "Python 3",
   "language": "python",
   "name": "python3"
  },
  "language_info": {
   "codemirror_mode": {
    "name": "ipython",
    "version": 3
   },
   "file_extension": ".py",
   "mimetype": "text/x-python",
   "name": "python",
   "nbconvert_exporter": "python",
   "pygments_lexer": "ipython3",
   "version": "3.7.3"
  }
 },
 "nbformat": 4,
 "nbformat_minor": 2
}
