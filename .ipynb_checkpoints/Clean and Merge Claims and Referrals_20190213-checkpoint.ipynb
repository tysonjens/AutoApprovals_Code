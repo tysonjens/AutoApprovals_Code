{
 "cells": [
  {
   "cell_type": "markdown",
   "metadata": {},
   "source": [
    "Separately run referrals and claims queries.\n",
    "This file imports the results of those queries, cleans and standardizes each, and merges them for analysis."
   ]
  },
  {
   "cell_type": "code",
   "execution_count": null,
   "metadata": {},
   "outputs": [],
   "source": [
    "import pandas as pd\n",
    "import numpy as np\n",
    "from datetime import datetime, timedelta\n",
    "import matplotlib.pyplot as plt\n",
    "import pyodbc\n",
    "import os"
   ]
  },
  {
   "cell_type": "markdown",
   "metadata": {},
   "source": [
    "## Import Data"
   ]
  },
  {
   "cell_type": "code",
   "execution_count": null,
   "metadata": {},
   "outputs": [],
   "source": [
    "with open('referrals.sql', 'r') as myfile:\n",
    "    refs_sql_str=myfile.read().replace('\\n', ' ')\n",
    "\n",
    "cnxn_refs = pyodbc.connect('DRIVER={SQL Server};SERVER=colo-dwrpt01;DATABASE=IADS_V3')\n",
    "\n",
    "refs = pd.read_sql(refs_sql_str, cnxn_refs)\n",
    "\n",
    "cnxn_refs.close()"
   ]
  },
  {
   "cell_type": "code",
   "execution_count": null,
   "metadata": {},
   "outputs": [],
   "source": [
    "with open('claims.sql', 'r') as myfile:\n",
    "    claims_sql_str=myfile.read().replace('\\n', ' ')\n",
    "\n",
    "cnxn_claims = pyodbc.connect('DRIVER={SQL Server};SERVER=colo-dwrpt01;DATABASE=NATIONAL_ANALYTICS')\n",
    "\n",
    "claims = pd.read_sql(claims_sql_str, cnxn_claims)\n",
    "\n",
    "cnxn_claims.close()"
   ]
  },
  {
   "cell_type": "code",
   "execution_count": null,
   "metadata": {},
   "outputs": [],
   "source": [
    "with open('referrals_new.sql', 'r') as myfile:\n",
    "    refs_new_sql_str=myfile.read().replace('\\n', ' ')\n",
    "\n",
    "cnxn_refs_new = pyodbc.connect('DRIVER={SQL Server};SERVER=colo-dwrpt01;DATABASE=IADS_V3')\n",
    "\n",
    "refs_new = pd.read_sql(refs_new_sql_str, cnxn_refs_new)\n",
    "\n",
    "cnxn_refs_new.close()"
   ]
  },
  {
   "cell_type": "code",
   "execution_count": null,
   "metadata": {},
   "outputs": [],
   "source": [
    "refs_new.shape[0]"
   ]
  },
  {
   "cell_type": "code",
   "execution_count": null,
   "metadata": {},
   "outputs": [],
   "source": [
    "codes_to_pend = pd.read_csv('../data/V1_codes_to_approve.csv')"
   ]
  },
  {
   "cell_type": "markdown",
   "metadata": {},
   "source": [
    "## Clean Refs"
   ]
  },
  {
   "cell_type": "code",
   "execution_count": null,
   "metadata": {},
   "outputs": [],
   "source": [
    "refs_head = refs.drop_duplicates(subset='HCP_CONNECT_AUTH_NUMBER').reset_index()\n",
    "\n",
    "refs_head.drop(columns = ['index', 'CPT_Code', 'Date_Decision',\n",
    "       'Date_Received', 'Type', 'region', 'UNITS'], inplace=True)\n",
    "\n",
    "refs_head = refs_head[refs_head['HCP_CONNECT_AUTH_NUMBER'].isna()==False].reset_index()"
   ]
  },
  {
   "cell_type": "code",
   "execution_count": null,
   "metadata": {},
   "outputs": [],
   "source": [
    "refs['Date_Decision'] = pd.to_datetime(refs['Date_Decision'])"
   ]
  },
  {
   "cell_type": "code",
   "execution_count": null,
   "metadata": {},
   "outputs": [],
   "source": [
    "refs['Date_Received'] = pd.to_datetime(refs['Date_Received'])"
   ]
  },
  {
   "cell_type": "markdown",
   "metadata": {},
   "source": [
    "### Clean Claims"
   ]
  },
  {
   "cell_type": "code",
   "execution_count": null,
   "metadata": {},
   "outputs": [],
   "source": [
    "## Claims sum is used for the cost of a cpt code when it doesn't exist in claims for the assocaited specialty\n",
    "claims_sum = claims.groupby(['CPT_Code'], as_index=False).agg({'avg_hcp_cost': 'mean'})"
   ]
  },
  {
   "cell_type": "markdown",
   "metadata": {},
   "source": [
    "## Feature Engineering"
   ]
  },
  {
   "cell_type": "code",
   "execution_count": null,
   "metadata": {},
   "outputs": [],
   "source": [
    "## flag retro statuses with 1 and 0\n",
    "retro_conditions = [\n",
    " (refs['status_name'] == 'APPROVED - RETRO REVIEW') |\n",
    " (refs['status_name'] == 'DENIED - RETRO REVIEW') |\n",
    " (refs['status_name'] == 'APPROVED - COB RETRO') |\n",
    " (refs['status_name'] == 'PENDING - RETRO REVIEW') \n",
    "  ]"
   ]
  },
  {
   "cell_type": "code",
   "execution_count": null,
   "metadata": {},
   "outputs": [],
   "source": [
    "## Create Refs - the older set of referrals from which we make the rules"
   ]
  },
  {
   "cell_type": "code",
   "execution_count": null,
   "metadata": {},
   "outputs": [],
   "source": [
    "choices = [1]\n",
    "refs['is_retro'] = np.select(retro_conditions, choices, default=0)"
   ]
  },
  {
   "cell_type": "code",
   "execution_count": null,
   "metadata": {},
   "outputs": [],
   "source": [
    "## remove retros from list and drop 'is_retro' as it is no longer needed\n",
    "refs = refs[refs['is_retro']==0]\n",
    "\n",
    "refs.drop(columns='is_retro', inplace=True)"
   ]
  },
  {
   "cell_type": "code",
   "execution_count": null,
   "metadata": {},
   "outputs": [],
   "source": [
    "refs_det = refs\n",
    "\n",
    "refs_det.drop(columns = ['PPL', 'Date_Decision',\n",
    "       'Date_Received', 'Type', 'status_cat', 'status_name', 'Specialty',\n",
    "       'region', 'UNITS'])\n",
    "\n",
    "refs_det = refs_det[refs_det['HCP_CONNECT_AUTH_NUMBER'].isna()==False].reset_index()"
   ]
  },
  {
   "cell_type": "code",
   "execution_count": null,
   "metadata": {},
   "outputs": [],
   "source": [
    "refs['is_autoapp'] = np.where(refs['status_name']=='APPROVED - AUTO', 1, 0)"
   ]
  },
  {
   "cell_type": "code",
   "execution_count": null,
   "metadata": {},
   "outputs": [],
   "source": [
    "refs.PPL.fillna(\"N\", inplace=True)"
   ]
  },
  {
   "cell_type": "code",
   "execution_count": null,
   "metadata": {},
   "outputs": [],
   "source": [
    "refs['is_PPL'] = np.where(refs['PPL']=='Y', 1, 0)"
   ]
  },
  {
   "cell_type": "code",
   "execution_count": null,
   "metadata": {},
   "outputs": [],
   "source": [
    "den_conditions = [\n",
    " (refs['status_name'] == 'DENIED - CM') |\n",
    " (refs['status_name'] == 'DENIED - BENEFIT CARVE OUT') |\n",
    " (refs['status_name'] == 'DENIED - NOT A COVERED BENEFIT') |\n",
    " (refs['status_name'] == 'DENIED - APPEAL') |\n",
    " (refs['status_name'] == 'DENIED - CLINICAL TRIAL/EXP/INV') |\n",
    " (refs['status_name'] == 'DENIED - TRANSPLANT') |\n",
    " (refs['status_name'] == 'DENIED - MD') |\n",
    " (refs['status_name'] == 'DENIED - CM/MD') |\n",
    " (refs['status_name'] == 'DENIED - REDIRECT OSVN') |\n",
    " (refs['status_name'] == 'DENIED - TICKLER')\n",
    "  ]"
   ]
  },
  {
   "cell_type": "code",
   "execution_count": null,
   "metadata": {},
   "outputs": [],
   "source": [
    "choices = [1]\n",
    "refs['is_den'] = np.select(den_conditions, choices, default=0)"
   ]
  },
  {
   "cell_type": "code",
   "execution_count": null,
   "metadata": {},
   "outputs": [],
   "source": [
    "refs['is_app'] = np.where(refs['status_cat']=='APPROVED', 1, 0)"
   ]
  },
  {
   "cell_type": "code",
   "execution_count": null,
   "metadata": {},
   "outputs": [],
   "source": [
    "refs.columns"
   ]
  },
  {
   "cell_type": "code",
   "execution_count": null,
   "metadata": {},
   "outputs": [],
   "source": [
    "refs.pivot_table(values='HCP_CONNECT_AUTH_NUMBER', index=['is_autoapp', 'is_den'], aggfunc='count', margins=True)"
   ]
  },
  {
   "cell_type": "code",
   "execution_count": null,
   "metadata": {},
   "outputs": [],
   "source": [
    "59086/3494258"
   ]
  },
  {
   "cell_type": "markdown",
   "metadata": {},
   "source": [
    "## Clean refs_new - a new set of referrals to apply the rules to."
   ]
  },
  {
   "cell_type": "code",
   "execution_count": null,
   "metadata": {},
   "outputs": [],
   "source": [
    "refs_new['Date_Decision'] = pd.to_datetime(refs_new['Date_Decision'])"
   ]
  },
  {
   "cell_type": "code",
   "execution_count": null,
   "metadata": {},
   "outputs": [],
   "source": [
    "refs_new['Date_Received'] = pd.to_datetime(refs_new['Date_Received'])"
   ]
  },
  {
   "cell_type": "code",
   "execution_count": null,
   "metadata": {},
   "outputs": [],
   "source": [
    "## flag retro statuses with 1 and 0\n",
    "retro_conditions_new = [\n",
    " (refs_new['status_name'] == 'APPROVED - RETRO REVIEW') |\n",
    " (refs_new['status_name'] == 'DENIED - RETRO REVIEW') |\n",
    " (refs_new['status_name'] == 'APPROVED - COB RETRO') |\n",
    " (refs_new['status_name'] == 'PENDING - RETRO REVIEW') \n",
    "  ]"
   ]
  },
  {
   "cell_type": "code",
   "execution_count": null,
   "metadata": {},
   "outputs": [],
   "source": [
    "choices = [1]\n",
    "refs_new['is_retro'] = np.select(retro_conditions_new, choices, default=0)"
   ]
  },
  {
   "cell_type": "code",
   "execution_count": null,
   "metadata": {},
   "outputs": [],
   "source": [
    "## remove retros from list and drop 'is_retro' as it is no longer needed\n",
    "refs_new = refs_new[refs_new['is_retro']==0]\n",
    "\n",
    "refs_new.drop(columns='is_retro', inplace=True)"
   ]
  },
  {
   "cell_type": "code",
   "execution_count": null,
   "metadata": {},
   "outputs": [],
   "source": [
    "refs_new['is_autoapp'] = np.where(refs_new['status_name']=='APPROVED - AUTO', 1, 0)"
   ]
  },
  {
   "cell_type": "code",
   "execution_count": null,
   "metadata": {},
   "outputs": [],
   "source": [
    "refs_new.PPL.fillna(\"N\", inplace=True)"
   ]
  },
  {
   "cell_type": "code",
   "execution_count": null,
   "metadata": {},
   "outputs": [],
   "source": [
    "refs_new['is_PPL'] = np.where(refs_new['PPL']=='Y', 1, 0)"
   ]
  },
  {
   "cell_type": "code",
   "execution_count": null,
   "metadata": {},
   "outputs": [],
   "source": [
    "refs_new['is_app'] = np.where(refs_new['status_cat']=='APPROVED', 1, 0)"
   ]
  },
  {
   "cell_type": "code",
   "execution_count": null,
   "metadata": {},
   "outputs": [],
   "source": [
    "refs_new['UNITS'] = 1"
   ]
  },
  {
   "cell_type": "code",
   "execution_count": null,
   "metadata": {},
   "outputs": [],
   "source": [
    "den_conditions_new = [\n",
    " (refs_new['status_name'] == 'DENIED - CM') |\n",
    " (refs_new['status_name'] == 'DENIED - BENEFIT CARVE OUT') |\n",
    " (refs_new['status_name'] == 'DENIED - NOT A COVERED BENEFIT') |\n",
    " (refs_new['status_name'] == 'DENIED - APPEAL') |\n",
    " (refs_new['status_name'] == 'DENIED - CLINICAL TRIAL/EXP/INV') |\n",
    " (refs_new['status_name'] == 'DENIED - TRANSPLANT') |\n",
    " (refs_new['status_name'] == 'DENIED - MD') |\n",
    " (refs_new['status_name'] == 'DENIED - CM/MD') |\n",
    " (refs_new['status_name'] == 'DENIED - REDIRECT OSVN') |\n",
    " (refs_new['status_name'] == 'DENIED - TICKLER')\n",
    "  ]"
   ]
  },
  {
   "cell_type": "code",
   "execution_count": null,
   "metadata": {},
   "outputs": [],
   "source": [
    "choices = [1]\n",
    "refs_new['is_den'] = np.select(den_conditions_new, choices, default=0)"
   ]
  },
  {
   "cell_type": "code",
   "execution_count": null,
   "metadata": {},
   "outputs": [],
   "source": [
    "refs_new = refs_new[refs_new['HCP_CONNECT_AUTH_NUMBER'].isna()==False].reset_index()"
   ]
  },
  {
   "cell_type": "code",
   "execution_count": null,
   "metadata": {},
   "outputs": [],
   "source": [
    "refs_new.pivot_table(values='HCP_CONNECT_AUTH_NUMBER', index=['is_autoapp', 'is_den'], aggfunc='count', margins=True)"
   ]
  },
  {
   "cell_type": "code",
   "execution_count": null,
   "metadata": {},
   "outputs": [],
   "source": [
    "refs_new.drop(labels=['index', 'REF_TYPE_KEY', 'PPL', 'Date_Received', 'Date_Decision', 'status_cat'], axis=1, inplace=True)"
   ]
  },
  {
   "cell_type": "code",
   "execution_count": null,
   "metadata": {},
   "outputs": [],
   "source": [
    "14849/903241"
   ]
  },
  {
   "cell_type": "markdown",
   "metadata": {},
   "source": [
    "## Create Refs_manual"
   ]
  },
  {
   "cell_type": "code",
   "execution_count": null,
   "metadata": {},
   "outputs": [],
   "source": [
    "## This is a cpt_code level list of all manually reviewed referrals"
   ]
  },
  {
   "cell_type": "code",
   "execution_count": null,
   "metadata": {},
   "outputs": [],
   "source": [
    "refs_manual = refs[refs['is_autoapp']==0]"
   ]
  },
  {
   "cell_type": "code",
   "execution_count": null,
   "metadata": {},
   "outputs": [],
   "source": [
    "refs_manual.pivot_table(values='HCP_CONNECT_AUTH_NUMBER', index=['is_autoapp', 'is_den'], aggfunc='count', margins=True)"
   ]
  },
  {
   "cell_type": "code",
   "execution_count": null,
   "metadata": {},
   "outputs": [],
   "source": [
    "## Calculate Cost per manually reviewed CPT code\n",
    "\n",
    "ga_cpt = 6500000 / refs[refs['is_autoapp']==0].shape[0]"
   ]
  },
  {
   "cell_type": "code",
   "execution_count": null,
   "metadata": {},
   "outputs": [],
   "source": [
    "ga_cpt"
   ]
  },
  {
   "cell_type": "markdown",
   "metadata": {},
   "source": [
    "## Create Refssum_manual"
   ]
  },
  {
   "cell_type": "code",
   "execution_count": null,
   "metadata": {},
   "outputs": [],
   "source": [
    "## This is a grouped list of refs_manual that summarizes the volume of manually reviewed cpt_codes"
   ]
  },
  {
   "cell_type": "code",
   "execution_count": null,
   "metadata": {},
   "outputs": [],
   "source": [
    "refssum_manual = refs_manual.groupby(['Specialty', 'CPT_Code', 'is_PPL'], as_index=False).agg({\n",
    "    'UNITS' : 'count'\n",
    "})"
   ]
  },
  {
   "cell_type": "code",
   "execution_count": null,
   "metadata": {},
   "outputs": [],
   "source": [
    "refssum_manual.rename(index=str, columns={'UNITS': 'UNITS_man'}, inplace=True)"
   ]
  },
  {
   "cell_type": "code",
   "execution_count": null,
   "metadata": {},
   "outputs": [],
   "source": [
    "## refssum_manual.rename(index=str, columns={'NumberOfUserEventsNoViews': 'mean_touches_manual'}, inplace=True)"
   ]
  },
  {
   "cell_type": "code",
   "execution_count": null,
   "metadata": {},
   "outputs": [],
   "source": [
    "refssum_manual['cost_to_review'] = refssum_manual['UNITS_man']*ga_cpt"
   ]
  },
  {
   "cell_type": "code",
   "execution_count": null,
   "metadata": {},
   "outputs": [],
   "source": [
    "refssum_manual.head()"
   ]
  },
  {
   "cell_type": "markdown",
   "metadata": {},
   "source": [
    "## Create Refssum"
   ]
  },
  {
   "cell_type": "code",
   "execution_count": null,
   "metadata": {},
   "outputs": [],
   "source": [
    "## This is a grouped list of "
   ]
  },
  {
   "cell_type": "code",
   "execution_count": null,
   "metadata": {},
   "outputs": [],
   "source": [
    "refssum = refs.groupby(['Specialty', 'CPT_Code', 'is_PPL'], as_index=False).agg({\n",
    "    'UNITS': 'count',\n",
    "    'is_autoapp': 'mean',\n",
    "    'is_den': 'mean',\n",
    "})"
   ]
  },
  {
   "cell_type": "code",
   "execution_count": null,
   "metadata": {},
   "outputs": [],
   "source": [
    "refssum.head()"
   ]
  },
  {
   "cell_type": "code",
   "execution_count": null,
   "metadata": {},
   "outputs": [],
   "source": [
    "refs_w_claims0 = pd.merge(refssum, refssum_manual, on=['Specialty', 'CPT_Code', 'is_PPL'], how='left')"
   ]
  },
  {
   "cell_type": "code",
   "execution_count": null,
   "metadata": {},
   "outputs": [],
   "source": [
    "refs_w_claims0.head()"
   ]
  },
  {
   "cell_type": "code",
   "execution_count": null,
   "metadata": {},
   "outputs": [],
   "source": [
    "claims.head()"
   ]
  },
  {
   "cell_type": "code",
   "execution_count": null,
   "metadata": {},
   "outputs": [],
   "source": [
    "refs_w_claims1 = pd.merge(refs_w_claims0, claims, on=['Specialty', 'CPT_Code'], how='left')"
   ]
  },
  {
   "cell_type": "code",
   "execution_count": null,
   "metadata": {},
   "outputs": [],
   "source": [
    "refs_w_claims1[refs_w_claims1['Specialty']=='CARDIOLOGY'].head()"
   ]
  },
  {
   "cell_type": "code",
   "execution_count": null,
   "metadata": {},
   "outputs": [],
   "source": [
    "## For spec/cpt combos that don't have claims data associated, use the average of that cpt across specialties\n",
    "refs_w_claims2 = pd.merge(refs_w_claims1, claims_sum, on='CPT_Code', how='left')"
   ]
  },
  {
   "cell_type": "code",
   "execution_count": null,
   "metadata": {},
   "outputs": [],
   "source": [
    "refs_w_claims2['avg_hcp_cost_x'] = np.where(refs_w_claims2['avg_hcp_cost_x'].isnull(), \n",
    "                                             refs_w_claims2['avg_hcp_cost_y'],\n",
    "                                             refs_w_claims2['avg_hcp_cost_x'])"
   ]
  },
  {
   "cell_type": "code",
   "execution_count": null,
   "metadata": {},
   "outputs": [],
   "source": [
    "refs_w_claims2.drop(columns=['avg_hcp_cost_y', 'sd_hcp_cost'], inplace=True)"
   ]
  },
  {
   "cell_type": "code",
   "execution_count": null,
   "metadata": {},
   "outputs": [],
   "source": [
    "refs_w_claims2.rename(index=str, columns={'avg_hcp_cost_x': 'avg_hcp_cost'}, inplace=True)"
   ]
  },
  {
   "cell_type": "code",
   "execution_count": null,
   "metadata": {},
   "outputs": [],
   "source": [
    "refs_w_claims2[refs_w_claims2['Specialty']=='CARDIOLOGY'].head()"
   ]
  },
  {
   "cell_type": "code",
   "execution_count": null,
   "metadata": {},
   "outputs": [],
   "source": [
    "refs_w_claims_fin = refs_w_claims2"
   ]
  },
  {
   "cell_type": "code",
   "execution_count": null,
   "metadata": {},
   "outputs": [],
   "source": [
    "refs_w_claims_fin[(refs_w_claims_fin['UNITS_man'].isnull())].shape[0]"
   ]
  },
  {
   "cell_type": "markdown",
   "metadata": {},
   "source": [
    "## Calculate ROI"
   ]
  },
  {
   "cell_type": "code",
   "execution_count": null,
   "metadata": {},
   "outputs": [],
   "source": [
    "refs_w_claims_fin['sum_cost_denied'] = refs_w_claims_fin['is_den']*refs_w_claims_fin['UNITS']*refs_w_claims_fin['avg_hcp_cost']"
   ]
  },
  {
   "cell_type": "code",
   "execution_count": null,
   "metadata": {},
   "outputs": [],
   "source": [
    "refs_w_claims_fin['UNITS_man'] = np.where(refs_w_claims_fin['UNITS_man'].isnull(), 0, refs_w_claims_fin['UNITS_man'])"
   ]
  },
  {
   "cell_type": "code",
   "execution_count": null,
   "metadata": {},
   "outputs": [],
   "source": [
    "refs_w_claims_fin['ROI'] = refs_w_claims_fin['sum_cost_denied']/refs_w_claims_fin['cost_to_review']"
   ]
  },
  {
   "cell_type": "code",
   "execution_count": null,
   "metadata": {},
   "outputs": [],
   "source": []
  },
  {
   "cell_type": "code",
   "execution_count": null,
   "metadata": {},
   "outputs": [],
   "source": [
    "refs_w_claims_fin[(refs_w_claims_fin['ROI'].isnull()) &\n",
    "                 (refs_w_claims_fin['Specialty']=='CARDIOLOGY')].head(15)"
   ]
  },
  {
   "cell_type": "code",
   "execution_count": null,
   "metadata": {},
   "outputs": [],
   "source": [
    "refs_w_claims_fin[(refs_w_claims_fin['ROI'].isnull())]['UNITS'].sum()"
   ]
  },
  {
   "cell_type": "code",
   "execution_count": null,
   "metadata": {},
   "outputs": [],
   "source": [
    "## For groups where we don't know the average cost from 2018, the denominator of ROI is 0, and ROI is undefined. \n",
    "## Update the ROI for those to = 100 so they are NOT included in the dictionaries to auto-approve going forward.\n",
    "refs_w_claims_fin['ROI'] = np.where(refs_w_claims_fin['avg_hcp_cost'].isnull(), 100, refs_w_claims_fin['ROI'])"
   ]
  },
  {
   "cell_type": "code",
   "execution_count": null,
   "metadata": {},
   "outputs": [],
   "source": [
    "## For groups that were auto-approved at 100%, the denominator of ROI is 0, and ROI is undefined. \n",
    "## Update the ROI for those to = 0 so they are included in the dictionaries to auto-approve going forward.\n",
    "refs_w_claims_fin['ROI'] = np.where(refs_w_claims_fin['ROI'].isnull(), 0.01, refs_w_claims_fin['ROI'])\n",
    "        "
   ]
  },
  {
   "cell_type": "code",
   "execution_count": null,
   "metadata": {},
   "outputs": [],
   "source": [
    "refs_w_claims_fin['cost_to_review'].sum()"
   ]
  },
  {
   "cell_type": "code",
   "execution_count": null,
   "metadata": {},
   "outputs": [],
   "source": [
    "refs_w_claims_fin['fin_aa_rec'] = np.where(refs_w_claims_fin['ROI']<1, 1, 0)"
   ]
  },
  {
   "cell_type": "markdown",
   "metadata": {},
   "source": [
    "## Create Dictionaries"
   ]
  },
  {
   "cell_type": "code",
   "execution_count": null,
   "metadata": {},
   "outputs": [],
   "source": [
    "## Model Additional Auto Approvals when different thresholds are set.\n",
    "## Approach: use \"given\" threshold to determine which CPT codes are \"auto-approve\"-able for each specialty\n",
    "##  - For loop through referrals, return 1 if all CPT codes are on \"auto-approve\"-able list, else 0 "
   ]
  },
  {
   "cell_type": "code",
   "execution_count": null,
   "metadata": {},
   "outputs": [],
   "source": [
    "list_o_specs = list(set(refs['Specialty'].unique().tolist() + refs_new['Specialty'].unique().tolist()))"
   ]
  },
  {
   "cell_type": "code",
   "execution_count": null,
   "metadata": {},
   "outputs": [],
   "source": [
    "#v1_codes_to_approve = pd.read_csv('../Data/V1_codes_to_approve.csv')"
   ]
  },
  {
   "cell_type": "code",
   "execution_count": null,
   "metadata": {},
   "outputs": [],
   "source": [
    "list_o_types_to_pend = ['INPT ADM', 'EMERGENCY ROOM', 'DAY SURG', 'OOA INPT', \n",
    "                        'SKILLED NURSING', 'OBSERVATION', 'OB OBSERVATION']"
   ]
  },
  {
   "cell_type": "code",
   "execution_count": null,
   "metadata": {},
   "outputs": [],
   "source": [
    "## Function that gathers CPT codes that are auto-approvable and stores them in a dictionary.\n",
    "def create_dict_of_CPT_codes(specialty_cpt, list_o_specs, PPL=1):\n",
    "    spec_dict = {k: [] for k in list_o_specs}\n",
    "    for index, row in specialty_cpt.iterrows():\n",
    "        if row['fin_aa_rec'] == 1:\n",
    "            if row['is_PPL'] == PPL:\n",
    "                if row['UNITS'] > 30:\n",
    "                    spec_dict[row['Specialty']].append(row['CPT_Code'])\n",
    "    return spec_dict\n",
    "            "
   ]
  },
  {
   "cell_type": "code",
   "execution_count": null,
   "metadata": {},
   "outputs": [],
   "source": [
    "## Function that gathers CPT codes that should be pended and stores them in a dictionary.\n",
    "def create_dict_of_CPT_codes_v2(specialty_cpt, list_o_specs, PPL=1):\n",
    "    spec_dict = {k: [] for k in list_o_specs}\n",
    "    for index, row in specialty_cpt.iterrows():\n",
    "        if row['fin_aa_rec'] == 0:\n",
    "            if row['is_PPL'] == PPL:\n",
    "                spec_dict[row['Specialty']].append(row['CPT_Code'])\n",
    "    return spec_dict\n",
    "            "
   ]
  },
  {
   "cell_type": "code",
   "execution_count": null,
   "metadata": {},
   "outputs": [],
   "source": [
    "#spec_dict_PPL = create_dict_of_CPT_codes(v1_codes_to_approve, list_o_specs)"
   ]
  },
  {
   "cell_type": "code",
   "execution_count": null,
   "metadata": {},
   "outputs": [],
   "source": [
    "spec_dict_PPL = create_dict_of_CPT_codes(refs_w_claims_fin, list_o_specs)"
   ]
  },
  {
   "cell_type": "code",
   "execution_count": null,
   "metadata": {},
   "outputs": [],
   "source": [
    "spec_dict_EPL = {k: [] for k in list_o_specs}"
   ]
  },
  {
   "cell_type": "code",
   "execution_count": null,
   "metadata": {},
   "outputs": [],
   "source": [
    "spec_dict_EPL = create_dict_of_CPT_codes(refs_w_claims_fin, list_o_specs, PPL=0)"
   ]
  },
  {
   "cell_type": "code",
   "execution_count": null,
   "metadata": {},
   "outputs": [],
   "source": [
    "spec_dict_PPL['ENDOCRINOLOGY']"
   ]
  },
  {
   "cell_type": "code",
   "execution_count": null,
   "metadata": {},
   "outputs": [],
   "source": [
    "## Create dictionaries to store added and removed codes for EPL and PPL dictionaries\n",
    "spec_dict_EPL_added = spec_dict = {k: [] for k in list_o_specs}\n",
    "spec_dict_EPL_removed = spec_dict = {k: [] for k in list_o_specs}\n",
    "spec_dict_PPL_added = spec_dict = {k: [] for k in list_o_specs}\n",
    "spec_dict_PPL_removed = spec_dict = {k: [] for k in list_o_specs}"
   ]
  },
  {
   "cell_type": "code",
   "execution_count": null,
   "metadata": {},
   "outputs": [],
   "source": [
    "## Remove from EPL lists codes that don't appear in PPL list. \n",
    "## Spirit of this is to keep EPL lists more conservative\n",
    "for spec in list_o_specs:\n",
    "    epl_list = spec_dict_EPL[spec]\n",
    "    ppl_list = spec_dict_PPL[spec]\n",
    "    new_epl = [x for x in epl_list if x in ppl_list]\n",
    "    spec_dict_EPL[spec] = new_epl"
   ]
  },
  {
   "cell_type": "code",
   "execution_count": null,
   "metadata": {},
   "outputs": [],
   "source": [
    "refs_w_claims_fin[(refs_w_claims_fin['Specialty']=='PAIN MANAGEMENT') &\n",
    "                 (refs_w_claims_fin['is_PPL']==1) &\n",
    "                 (refs_w_claims_fin['fin_aa_rec']==1) &\n",
    "                 (refs_w_claims_fin['UNITS']>30)].head()"
   ]
  },
  {
   "cell_type": "markdown",
   "metadata": {},
   "source": [
    "## Define codes to ADD or REMOVE from each list"
   ]
  },
  {
   "cell_type": "code",
   "execution_count": null,
   "metadata": {},
   "outputs": [],
   "source": [
    "## ADD Derm codes - provided my Christel McRae (124)\n",
    "derm_add0 = ['10060','10061','11000','11055','11057','11100','11101','11300','11301','11302','11303','11305',\n",
    "            '11306','11307','11308','11310','11311','11312','11313','11404',\n",
    "            '11426','11440','11441','11442','11443','11600',\n",
    "            '11601','11602','11603','11604','11606','11620','11621','11622','11623','11624','11626','11640',\n",
    "            '11641','11642','11643','11644','11646','11900','11901','29580','54050','54056','54100','67810',\n",
    "            '69100','87101','87220','J3301','10061','10080','10081','10140','10180','11055','11056','11057',\n",
    "            '11101','11300','11301','11302','11303','11305','11306','11307','11308','11310','11311','11312',\n",
    "            '11313','11404','11420',\n",
    "            '11426','11440','11441','11442','11443','11444','11446','11600','11601','11602','11603','11604',\n",
    "            '11606','11620','11621','11622','11623','11624','11626','11640','11641','11642','11643','11644',\n",
    "            '11646','11900','11901','54105']\n"
   ]
  },
  {
   "cell_type": "code",
   "execution_count": null,
   "metadata": {},
   "outputs": [],
   "source": [
    "1379 + 124 "
   ]
  },
  {
   "cell_type": "code",
   "execution_count": null,
   "metadata": {},
   "outputs": [],
   "source": [
    "## find unique values (72)\n",
    "derm_add = list(set(derm_add0))"
   ]
  },
  {
   "cell_type": "code",
   "execution_count": null,
   "metadata": {},
   "outputs": [],
   "source": [
    "## ADD Pain Add for PPL\n",
    "pain_add0 = ['99203','99204','99213','99214']"
   ]
  },
  {
   "cell_type": "code",
   "execution_count": null,
   "metadata": {},
   "outputs": [],
   "source": [
    "## ADD Gastro and General Surgery for PPL and EPL\n",
    "gi_add0 = ['45378','45380','45385','G0105','G0121','00812']"
   ]
  },
  {
   "cell_type": "code",
   "execution_count": null,
   "metadata": {},
   "outputs": [],
   "source": [
    "## ADD Blood Transfusions - across all specialties PPL and EPL\n",
    "bt_add0 = ['36430','86900','86901','86902','86903','86904','86905','86906','86907','86908','86909','86910'\n",
    "          ,'86911','86912','86913','86914','86915','86916','86917','86918','86919','86920']"
   ]
  },
  {
   "cell_type": "code",
   "execution_count": null,
   "metadata": {},
   "outputs": [],
   "source": [
    "## ADD Podiatry\n",
    "podiatry_add0 = ['11055']"
   ]
  },
  {
   "cell_type": "code",
   "execution_count": null,
   "metadata": {},
   "outputs": [],
   "source": [
    "## REMOVE from all dictionaries\n",
    "codes_to_remove0 = ['97810','95115','95116','95117','95170','95180','95181','95182','95183','95184','95185','95186',\n",
    "                   '95187','95188','95199','95004','A0999','A0426','A0427','A0428','A0429','92590','92591','92592',\n",
    "                   '92593','92594','90901','90902','90903','90904','90905','90906','90907','90908','90909','90910',\n",
    "                   '90911','90875','90876','86890','93798','98940','J1050','58301','58565','58611','G0337',\n",
    "                   '74740','89320','J3490','J0717','J1438','J7321','J7322','J7323','J7324','J7325','J3489','J0135',\n",
    "                   'J3030','J1830','J9215','J9218','J0129','J9202','J3301','J1745','96365','96366','90378','J2505',\n",
    "                   'J1440','J1441','J0885','J0886','T1013','96118','96119','96120','97166','97167','97168','97110',\n",
    "                   '92015','97162','97163','97110','36468','92506','55250','59840',\n",
    "                   'S0199','S0618','92595','58300','J7300','57170','A4266','11981',\n",
    "                   'J7302','J7300','58670','59600','58605','64612','J0585','11055',\n",
    "                   '11057','11719','11721','G0127','S0390']"
   ]
  },
  {
   "cell_type": "code",
   "execution_count": null,
   "metadata": {},
   "outputs": [],
   "source": [
    "codes_to_remove = list(set(codes_to_remove0))"
   ]
  },
  {
   "cell_type": "code",
   "execution_count": null,
   "metadata": {},
   "outputs": [],
   "source": [
    "codes_to_pend.head()"
   ]
  },
  {
   "cell_type": "code",
   "execution_count": null,
   "metadata": {},
   "outputs": [],
   "source": [
    "codes_to_pend[codes_to_pend['Specialty']=='ENDOCRINOLOGY']"
   ]
  },
  {
   "cell_type": "code",
   "execution_count": null,
   "metadata": {},
   "outputs": [],
   "source": [
    "laurie_christel_dict_to_remove = create_dict_of_CPT_codes_v2(codes_to_pend, list_o_specs)"
   ]
  },
  {
   "cell_type": "code",
   "execution_count": null,
   "metadata": {},
   "outputs": [],
   "source": [
    "laurie_christel_dict_to_remove['ENDOCRINOLOGY']"
   ]
  },
  {
   "cell_type": "code",
   "execution_count": null,
   "metadata": {},
   "outputs": [],
   "source": [
    "list_o_specs_pend = codes_to_pend['Specialty'].unique().tolist()"
   ]
  },
  {
   "cell_type": "code",
   "execution_count": null,
   "metadata": {},
   "outputs": [],
   "source": [
    "## Define function that takes specialty:cpt code list DICTIONARY, list of cpt\n",
    "## codes, and \"add\" or \"remove\" parameter and adjusts the dictionary\n",
    "def add_remove_cpt_codes_v2(spec_cpt_dict, spec_cpt_dict_added_removed, spec_list, cpt_to_add_remove_dict, add=True):\n",
    "    if add == True:\n",
    "        for spec in spec_list:\n",
    "            for code in cpt_to_add_remove_dict[spec]:\n",
    "                if code in spec_cpt_dict[spec]:\n",
    "                    continue\n",
    "                else:\n",
    "                    spec_cpt_dict[spec].append(code)\n",
    "                    spec_cpt_dict_added_removed[spec].append(code)\n",
    "    else:\n",
    "        for spec in spec_list:\n",
    "            for code in cpt_to_add_remove_dict[spec]:\n",
    "                if code in spec_cpt_dict[spec]:\n",
    "                    spec_cpt_dict[spec].remove(code)\n",
    "                    spec_cpt_dict_added_removed[spec].append(code)\n",
    "                else:\n",
    "                    continue\n",
    "    return spec_cpt_dict, spec_cpt_dict_added_removed        "
   ]
  },
  {
   "cell_type": "code",
   "execution_count": null,
   "metadata": {},
   "outputs": [],
   "source": [
    "## Define function that takes specialty:cpt code list, list of cpt\n",
    "## codes, and \"add\" or \"remove\" parameter and adjusts the dictionary\n",
    "def add_remove_cpt_codes_v1(spec_cpt_dict, spec_cpt_dict_added_removed, spec_list, cpt_to_add_remove, add=True):\n",
    "    if add == True:\n",
    "        for spec in spec_list:\n",
    "            for code in cpt_to_add_remove:\n",
    "                if code in spec_cpt_dict[spec]:\n",
    "                    continue\n",
    "                else:\n",
    "                    spec_cpt_dict[spec].append(code)\n",
    "                    spec_cpt_dict_added_removed[spec].append(code)\n",
    "    else:\n",
    "        for spec in spec_list:\n",
    "            for code in cpt_to_add_remove:\n",
    "                if code in spec_cpt_dict[spec]:\n",
    "                    spec_cpt_dict[spec].remove(code)\n",
    "                    spec_cpt_dict_added_removed[spec].append(code)\n",
    "                else:\n",
    "                    continue\n",
    "    return spec_cpt_dict, spec_cpt_dict_added_removed        "
   ]
  },
  {
   "cell_type": "code",
   "execution_count": null,
   "metadata": {},
   "outputs": [],
   "source": [
    "## add derm\n",
    "spec_dict_PPL, spec_dict_PPL_added = add_remove_cpt_codes_v1(spec_dict_PPL, spec_dict_PPL_added, ['DERMATOLOGY'], derm_add)\n",
    "spec_dict_EPL, spec_dict_EPL_added = add_remove_cpt_codes_v1(spec_dict_EPL, spec_dict_EPL_added, ['DERMATOLOGY'], derm_add)"
   ]
  },
  {
   "cell_type": "code",
   "execution_count": null,
   "metadata": {},
   "outputs": [],
   "source": [
    "## add pain\n",
    "spec_dict_PPL, spec_dict_PPL_added = add_remove_cpt_codes_v1(spec_dict_PPL, spec_dict_PPL_added, ['PAIN MANAGEMENT'], pain_add0)\n",
    "spec_dict_EPL, spec_dict_EPL_added = add_remove_cpt_codes_v1(spec_dict_EPL, spec_dict_EPL_added, ['PAIN MANAGEMENT'], pain_add0)"
   ]
  },
  {
   "cell_type": "code",
   "execution_count": null,
   "metadata": {},
   "outputs": [],
   "source": [
    "## add pain\n",
    "spec_dict_PPL, spec_dict_PPL_added = add_remove_cpt_codes_v1(spec_dict_PPL, spec_dict_PPL_added, \n",
    "                                                          ['GASTROENTEROLOGY','SURGERY - GENERAL'], gi_add0)\n",
    "spec_dict_EPL, spec_dict_EPL_added = add_remove_cpt_codes_v1(spec_dict_EPL, spec_dict_EPL_added, \n",
    "                                                          ['GASTROENTEROLOGY','SURGERY - GENERAL'], gi_add0)"
   ]
  },
  {
   "cell_type": "code",
   "execution_count": null,
   "metadata": {},
   "outputs": [],
   "source": [
    "## add pain\n",
    "spec_dict_PPL, spec_dict_PPL_added = add_remove_cpt_codes_v1(spec_dict_PPL, spec_dict_PPL_added, ['PODIATRY'], podiatry_add0)\n",
    "spec_dict_EPL, spec_dict_EPL_added = add_remove_cpt_codes_v1(spec_dict_EPL, spec_dict_EPL_added, ['PODIATRY'], podiatry_add0)"
   ]
  },
  {
   "cell_type": "code",
   "execution_count": null,
   "metadata": {},
   "outputs": [],
   "source": [
    "## remove codes from PPL\n",
    "spec_dict_PPL, spec_dict_PPL_removed = add_remove_cpt_codes_v1(spec_dict_PPL, spec_dict_PPL_removed, list_o_specs, codes_to_remove, add=False)"
   ]
  },
  {
   "cell_type": "code",
   "execution_count": null,
   "metadata": {},
   "outputs": [],
   "source": [
    "## remove codes from EPL\n",
    "spec_dict_EPL, spec_dict_EPL_removed = add_remove_cpt_codes_v1(spec_dict_EPL, spec_dict_EPL_removed, list_o_specs, codes_to_remove, add=False)"
   ]
  },
  {
   "cell_type": "code",
   "execution_count": null,
   "metadata": {},
   "outputs": [],
   "source": [
    "## Remove codes from dictionaries as chosen by Laurie and Christel\n",
    "spec_dict_PPL, spec_dict_PPL_removed = add_remove_cpt_codes_v2(spec_dict_PPL, spec_dict_PPL_removed, list_o_specs_pend, laurie_christel_dict_to_remove, add=False)"
   ]
  },
  {
   "cell_type": "code",
   "execution_count": null,
   "metadata": {},
   "outputs": [],
   "source": [
    "spec_dict_PPL['ENDOCRINOLOGY']"
   ]
  },
  {
   "cell_type": "code",
   "execution_count": null,
   "metadata": {},
   "outputs": [],
   "source": [
    "list_o_specs"
   ]
  },
  {
   "cell_type": "code",
   "execution_count": null,
   "metadata": {},
   "outputs": [],
   "source": [
    "## For specialties that UM clinical team deem necessary, empty dictionary\n",
    "## To ensure that no referrals are auto-approved from it\n",
    "specs_that_should_pend = ['ACUPUNCTURE', 'ADDICTION MEDICINE', 'ANESTHESIOLOGY',\n",
    "                         'BEHAVIORAL HEALTH', 'CHIROPRACTIC', 'DENTIST', 'DME MAINTENANCE',\n",
    "                         'LICENSED CLIN SOCIAL WORKER', 'MFCC (THERAPIST)', 'NON-CONTRACT UNKWN BILL AREA',\n",
    "                         'NURSE PRACTITIONER', 'NURSING FACILITY - OTHER', 'OPTICIAN',\n",
    "                        'PEDS-DEVELOPMENTAL BEHAVIORAL', 'PSYCHIATRY', 'PSYCHOLOGY', 'SENIOR WELLNESS VISIT',\n",
    "                         'SPORTS MEDICINE', 'SURGERY - ORAL', 'AMBULATORY SURGICAL CENTER', 'AMBULANCE', 'ALLERGY/IMMUNOLOGY',\n",
    "                         'CUSTODIAL CARE', 'HOME HEALTH', 'INFERTILITY', 'OPTOMETRY', 'PALLIATIVE CARE', 'PODIATRY', 'SLEEP STUDY',\n",
    "                         'SNF - FAC', 'OCCUPATIONAL THERAPY', 'PHYSICAL THERAPY/REHAB']"
   ]
  },
  {
   "cell_type": "code",
   "execution_count": null,
   "metadata": {},
   "outputs": [],
   "source": [
    "def pend_specs_by_spec(list_o_specs, spec_dict):\n",
    "    for spec in list_o_specs:\n",
    "        spec_dict[spec] = []\n",
    "    return spec_dict"
   ]
  },
  {
   "cell_type": "code",
   "execution_count": null,
   "metadata": {},
   "outputs": [],
   "source": [
    "spec_dict_PPL = pend_specs_by_spec(specs_that_should_pend, spec_dict_PPL)"
   ]
  },
  {
   "cell_type": "code",
   "execution_count": null,
   "metadata": {},
   "outputs": [],
   "source": [
    "spec_dict_EPL = pend_specs_by_spec(specs_that_should_pend, spec_dict_EPL)"
   ]
  },
  {
   "cell_type": "code",
   "execution_count": null,
   "metadata": {},
   "outputs": [],
   "source": [
    "#### Prepare a newer set of referrals to run through the new code."
   ]
  },
  {
   "cell_type": "code",
   "execution_count": null,
   "metadata": {},
   "outputs": [],
   "source": [
    "## Assigns an auto-approve (1) or pend (0) status to each specialty / code group\n",
    "def assign_status(codes, spec_dict_PPL, spec_dict_EPL, list_of_types_pend):\n",
    "    status = list(np.zeros(codes.shape[0]))\n",
    "    specs_list = codes['Specialty'].unique().tolist()\n",
    "    print(len(status))\n",
    "    print(codes.shape[0])\n",
    "    for spec in specs_list:\n",
    "        if spec not in spec_dict_PPL:\n",
    "            spec_dict_PPL[spec] = []\n",
    "    for spec in specs_list:\n",
    "        if spec not in spec_dict_EPL:\n",
    "            spec_dict_EPL[spec] = []\n",
    "    for index, row in codes.iterrows():\n",
    "        if row['is_PPL'] == 1:\n",
    "            if row['CPT_Code'] in spec_dict_PPL[row['Specialty']]:\n",
    "                if row['Type'] not in list_of_types_pend:\n",
    "                    status[index] = 1\n",
    "        ##else:\n",
    "          ##  if row['CPT_Code'] in spec_dict_EPL[row['Specialty']]:\n",
    "            ##    status[index] = 0\n",
    "    return status"
   ]
  },
  {
   "cell_type": "code",
   "execution_count": null,
   "metadata": {},
   "outputs": [],
   "source": [
    "auto_approve = assign_status(refs_new, spec_dict_PPL, \n",
    "                             spec_dict_EPL, list_o_types_to_pend)"
   ]
  },
  {
   "cell_type": "code",
   "execution_count": null,
   "metadata": {},
   "outputs": [],
   "source": [
    "refs_new['auto_approvable'] = auto_approve"
   ]
  },
  {
   "cell_type": "code",
   "execution_count": null,
   "metadata": {},
   "outputs": [],
   "source": [
    "refs_new.head()"
   ]
  },
  {
   "cell_type": "code",
   "execution_count": null,
   "metadata": {},
   "outputs": [],
   "source": [
    "## Find which (REFERRALS) not CPT codes have all cpt codes in the dictionary and thus, \"auto-approvable\""
   ]
  },
  {
   "cell_type": "code",
   "execution_count": null,
   "metadata": {},
   "outputs": [],
   "source": [
    "refs_results = refs_new.groupby(['HCP_CONNECT_AUTH_NUMBER'], as_index=False).agg({'auto_approvable': 'mean'})"
   ]
  },
  {
   "cell_type": "code",
   "execution_count": null,
   "metadata": {},
   "outputs": [],
   "source": [
    "refs_results['aa-yn'] = np.where(refs_results['auto_approvable']==1, 1, 0)"
   ]
  },
  {
   "cell_type": "code",
   "execution_count": null,
   "metadata": {},
   "outputs": [],
   "source": [
    "refs_results.drop('auto_approvable', axis=1, inplace=True)"
   ]
  },
  {
   "cell_type": "code",
   "execution_count": null,
   "metadata": {},
   "outputs": [],
   "source": [
    "refs_results.tail(10)"
   ]
  },
  {
   "cell_type": "code",
   "execution_count": null,
   "metadata": {},
   "outputs": [],
   "source": [
    "# refs_w_claims_dec = refs_w_claims_fin.drop(labels=['UNITS', 'is_autoapp', 'is_den', 'UNITS_man',\n",
    "#                               'cost_to_review', 'cnt_hcp_cost', 'sum_cost_denied'], axis=1)"
   ]
  },
  {
   "cell_type": "code",
   "execution_count": null,
   "metadata": {},
   "outputs": [],
   "source": [
    "refs_new.head()"
   ]
  },
  {
   "cell_type": "code",
   "execution_count": null,
   "metadata": {},
   "outputs": [],
   "source": [
    "refs_new.shape[0]"
   ]
  },
  {
   "cell_type": "code",
   "execution_count": null,
   "metadata": {},
   "outputs": [],
   "source": [
    "refs_new = refs_new.merge(refs_results, how='left', on=['HCP_CONNECT_AUTH_NUMBER'])"
   ]
  },
  {
   "cell_type": "code",
   "execution_count": null,
   "metadata": {},
   "outputs": [],
   "source": [
    "refs_w_claims_fin[refs_w_claims_fin['CPT_Code']=='J1561'].head()"
   ]
  },
  {
   "cell_type": "code",
   "execution_count": null,
   "metadata": {},
   "outputs": [],
   "source": [
    "refs_new.pivot_table(values='UNITS', index=['is_autoapp', 'is_den'], columns='aa-yn', aggfunc='count', margins=True)##.to_csv('../Data/Outputs/costs_cm.csv')"
   ]
  },
  {
   "cell_type": "code",
   "execution_count": null,
   "metadata": {},
   "outputs": [],
   "source": [
    "#refs_new.to_csv('../Data/Outputs/refs_new_from_script.csv', sep='|')"
   ]
  },
  {
   "cell_type": "code",
   "execution_count": null,
   "metadata": {},
   "outputs": [],
   "source": [
    "# refs_new[(refs_new['is_autoapp']==1) &\n",
    "#          (refs_new['aa-yn']==0)].pivot_table(values='UNITS', index = 'is_den',\n",
    "#                     aggfunc='count', margins=True).to_csv('../Data/Outputs/2019_spec_cpt_results.csv', sep='|')"
   ]
  },
  {
   "cell_type": "code",
   "execution_count": null,
   "metadata": {},
   "outputs": [],
   "source": [
    "refs_new.columns"
   ]
  },
  {
   "cell_type": "code",
   "execution_count": null,
   "metadata": {},
   "outputs": [],
   "source": [
    "# refs_new.pivot_table(values ='CPT_Code', index=['Type','auto_approvable'], columns='is_app'\n",
    "#                     ,aggfunc='count', margins=True).to_csv('../Data/Outputs/2019_project_cm_type.csv', sep='|')"
   ]
  },
  {
   "cell_type": "code",
   "execution_count": null,
   "metadata": {},
   "outputs": [],
   "source": [
    "refs_new.shape[0]"
   ]
  },
  {
   "cell_type": "code",
   "execution_count": null,
   "metadata": {},
   "outputs": [],
   "source": [
    "len(refs_new['HCP_CONNECT_AUTH_NUMBER'].unique())"
   ]
  },
  {
   "cell_type": "code",
   "execution_count": null,
   "metadata": {},
   "outputs": [],
   "source": [
    "refs_new.columns"
   ]
  },
  {
   "cell_type": "markdown",
   "metadata": {},
   "source": [
    "## Construct Specialty Summary"
   ]
  },
  {
   "cell_type": "code",
   "execution_count": null,
   "metadata": {},
   "outputs": [],
   "source": [
    "refs_new_head = refs_new.groupby(['Specialty', 'Type', 'region', 'HCP_CONNECT_AUTH_NUMBER'], as_index=False).agg({\n",
    "    'UNITS': 'sum',\n",
    "    'is_autoapp': 'mean',\n",
    "    'is_PPL': 'mean',\n",
    "    'is_app': 'mean',\n",
    "    'is_den': 'mean',\n",
    "    'aa-yn': 'mean'\n",
    "})"
   ]
  },
  {
   "cell_type": "code",
   "execution_count": null,
   "metadata": {},
   "outputs": [],
   "source": [
    "refs_new_head.pivot_table(values=['is_autoapp', 'aa-yn'], index='Specialty', aggfunc=['count', 'mean']).to_csv('../Data/Outputs/spec_rates.csv',\n",
    "                                                                                                              sep='|')"
   ]
  },
  {
   "cell_type": "code",
   "execution_count": null,
   "metadata": {},
   "outputs": [],
   "source": [
    "specialty_summary = pd.read_csv('../Data/Outputs/spec_rates.csv', sep='|', skiprows=3, names=['Specialty',\n",
    "                                                                                             'ref_vol', 'ref_vol2',\n",
    "                                                                                             'new_rate', 'old_rate'])"
   ]
  },
  {
   "cell_type": "code",
   "execution_count": null,
   "metadata": {},
   "outputs": [],
   "source": [
    "specialty_summary.drop('ref_vol2', axis=1, inplace=True)"
   ]
  },
  {
   "cell_type": "code",
   "execution_count": null,
   "metadata": {},
   "outputs": [],
   "source": [
    "## Get counts of codes for each specialty"
   ]
  },
  {
   "cell_type": "code",
   "execution_count": null,
   "metadata": {},
   "outputs": [],
   "source": [
    "specialty_summary.tail()"
   ]
  },
  {
   "cell_type": "code",
   "execution_count": null,
   "metadata": {},
   "outputs": [],
   "source": [
    "def spec_code_counts(spec_dict, spec_summary):\n",
    "    counts = []\n",
    "    for index, row in spec_summary.iterrows():\n",
    "        counts.append(len(spec_dict[row['Specialty']]))\n",
    "    return counts"
   ]
  },
  {
   "cell_type": "code",
   "execution_count": null,
   "metadata": {},
   "outputs": [],
   "source": [
    "PPL_counts = spec_code_counts(spec_dict_PPL, specialty_summary)"
   ]
  },
  {
   "cell_type": "code",
   "execution_count": null,
   "metadata": {},
   "outputs": [],
   "source": [
    "specialty_summary['num_codes']=PPL_counts"
   ]
  },
  {
   "cell_type": "code",
   "execution_count": null,
   "metadata": {},
   "outputs": [],
   "source": [
    "## get 'denied now approved'"
   ]
  },
  {
   "cell_type": "code",
   "execution_count": null,
   "metadata": {},
   "outputs": [],
   "source": [
    "refs_new_head['denied_now_aa'] = refs_new_head['is_den'] * refs_new_head['aa-yn']"
   ]
  },
  {
   "cell_type": "code",
   "execution_count": null,
   "metadata": {},
   "outputs": [],
   "source": [
    "refs_new_head.pivot_table('denied_now_aa', index='Specialty', aggfunc='sum').to_csv('../Data/Outputs/spec_den_now_aa.csv',\n",
    "                                                                                                      sep='|')"
   ]
  },
  {
   "cell_type": "code",
   "execution_count": null,
   "metadata": {},
   "outputs": [],
   "source": [
    "ss_deny_now_aa = pd.read_csv('../Data/Outputs/spec_den_now_aa.csv', sep='|', skiprows=2, names=['Specialty', 'deny_now_aa'])"
   ]
  },
  {
   "cell_type": "code",
   "execution_count": null,
   "metadata": {},
   "outputs": [],
   "source": [
    "specialty_summary = specialty_summary.merge(ss_deny_now_aa, how='inner', on='Specialty')"
   ]
  },
  {
   "cell_type": "code",
   "execution_count": null,
   "metadata": {},
   "outputs": [],
   "source": [
    "specialty_summary.head()"
   ]
  },
  {
   "cell_type": "code",
   "execution_count": null,
   "metadata": {},
   "outputs": [],
   "source": [
    "## Prep refs_w_claims_fin to merge into refs_new"
   ]
  },
  {
   "cell_type": "code",
   "execution_count": null,
   "metadata": {},
   "outputs": [],
   "source": [
    "refs_w_claims_fin_select = refs_w_claims_fin.drop(['UNITS', 'is_autoapp', 'is_den',\n",
    "       'UNITS_man', 'cost_to_review', 'cnt_hcp_cost',\n",
    "       'sum_cost_denied'], axis=1)"
   ]
  },
  {
   "cell_type": "code",
   "execution_count": null,
   "metadata": {},
   "outputs": [],
   "source": [
    "refs_new_w_fin = pd.merge(refs_new, refs_w_claims_fin_select, how='left', on=['Specialty', 'CPT_Code', 'is_PPL'])"
   ]
  },
  {
   "cell_type": "code",
   "execution_count": null,
   "metadata": {},
   "outputs": [],
   "source": [
    "refs_new_w_fin['dollars_denied_now_app'] = refs_new_w_fin['is_den']*refs_new_w_fin['aa-yn']*refs_new_w_fin['avg_hcp_cost']"
   ]
  },
  {
   "cell_type": "code",
   "execution_count": null,
   "metadata": {},
   "outputs": [],
   "source": [
    "refs_new_w_fin['cost_to_review_bene'] = (1-refs_new_w_fin['is_autoapp'])*refs_new_w_fin['aa-yn']*ga_cpt"
   ]
  },
  {
   "cell_type": "code",
   "execution_count": null,
   "metadata": {},
   "outputs": [],
   "source": [
    "refs_new_w_fin['cost_to_review_loss'] = refs_new_w_fin['is_autoapp']*(1-refs_new_w_fin['aa-yn'])*ga_cpt"
   ]
  },
  {
   "cell_type": "code",
   "execution_count": null,
   "metadata": {},
   "outputs": [],
   "source": [
    "refs_new_w_fin['new_denial_bene_est'] = refs_new_w_fin['is_autoapp']*(1-refs_new_w_fin['aa-yn'])*ga_cpt*refs_new_w_fin['ROI']*refs_new_w_fin['is_PPL']"
   ]
  },
  {
   "cell_type": "code",
   "execution_count": null,
   "metadata": {},
   "outputs": [],
   "source": [
    "refs_new_w_fin.pivot_table(values=['dollars_denied_now_app', 'cost_to_review_bene', 'cost_to_review_loss',\n",
    "                                  'new_denial_bene_est'], index='Specialty', aggfunc='sum').to_csv('../Data/Outputs/specialty_fins.csv', sep='|')"
   ]
  },
  {
   "cell_type": "code",
   "execution_count": null,
   "metadata": {},
   "outputs": [],
   "source": [
    "specialty_fins = pd.read_csv('../Data/Outputs/specialty_fins.csv', sep='|')"
   ]
  },
  {
   "cell_type": "code",
   "execution_count": null,
   "metadata": {},
   "outputs": [],
   "source": [
    "specialty_summary = specialty_summary.merge(specialty_fins, how='inner', on='Specialty')"
   ]
  },
  {
   "cell_type": "code",
   "execution_count": null,
   "metadata": {},
   "outputs": [],
   "source": [
    "specialty_summary['net_benefit'] = specialty_summary['cost_to_review_bene'] - specialty_summary['cost_to_review_loss'] - specialty_summary['dollars_denied_now_app']"
   ]
  },
  {
   "cell_type": "code",
   "execution_count": null,
   "metadata": {},
   "outputs": [],
   "source": [
    "specialty_summary['net_benefit_w_new_den'] = specialty_summary['cost_to_review_bene'] - specialty_summary['cost_to_review_loss'] -specialty_summary['dollars_denied_now_app'] + specialty_summary['new_denial_bene_est']"
   ]
  },
  {
   "cell_type": "code",
   "execution_count": null,
   "metadata": {},
   "outputs": [],
   "source": [
    "# Give the filename you wish to save the file to\n",
    "spec_summary_filename = '../Data/Outputs/specialty_summary_fin.csv'\n",
    "\n",
    "# Use this function to search for any files which match your filename\n",
    "files_present = os.path.isfile(spec_summary_filename)\n",
    "\n",
    "# if no matching files, write to csv, if there are matching files, print statement\n",
    "if not files_present:\n",
    "    specialty_summary.to_csv(refs_w_claims_fin_filename)\n",
    "else:\n",
    "    print('WARNING: This file already exists!')"
   ]
  },
  {
   "cell_type": "code",
   "execution_count": null,
   "metadata": {},
   "outputs": [],
   "source": [
    "refs_results.columns"
   ]
  },
  {
   "cell_type": "code",
   "execution_count": null,
   "metadata": {},
   "outputs": [],
   "source": [
    "refs_results['aa-yn'].mean()"
   ]
  },
  {
   "cell_type": "code",
   "execution_count": null,
   "metadata": {},
   "outputs": [],
   "source": [
    "## rate before laurie and chrisel's codes to pend\n",
    "v0 = 1198038/2086468\n",
    "print(v0)"
   ]
  },
  {
   "cell_type": "code",
   "execution_count": null,
   "metadata": {},
   "outputs": [],
   "source": [
    "## rate after laurie and christels' codes to pend\n",
    "v1 = 1091109/2086468\n",
    "print(v1)"
   ]
  },
  {
   "cell_type": "code",
   "execution_count": null,
   "metadata": {},
   "outputs": [],
   "source": [
    "v2 = 1097619/2086468\n",
    "print(v2)"
   ]
  },
  {
   "cell_type": "code",
   "execution_count": null,
   "metadata": {},
   "outputs": [],
   "source": [
    "## using 2018 data to create rules, and then applying them to early 2019 data\n",
    "v3 = 274250/543258\n",
    "print(v3)"
   ]
  },
  {
   "cell_type": "code",
   "execution_count": null,
   "metadata": {},
   "outputs": [],
   "source": [
    "## using clinical review list from 20190501 from Rhoda \n",
    ".401"
   ]
  },
  {
   "cell_type": "code",
   "execution_count": null,
   "metadata": {},
   "outputs": [],
   "source": [
    "## 20190503 V1 - More Conservative Version\n",
    ".4532"
   ]
  },
  {
   "cell_type": "code",
   "execution_count": null,
   "metadata": {},
   "outputs": [],
   "source": [
    "## 20190503 v2 - Baseline\n",
    ".462"
   ]
  },
  {
   "cell_type": "markdown",
   "metadata": {},
   "source": [
    "## Code Detail List"
   ]
  },
  {
   "cell_type": "code",
   "execution_count": null,
   "metadata": {},
   "outputs": [],
   "source": [
    "refs_w_claims_fin[(refs_w_claims_fin['Specialty']=='PAIN MANAGEMENT')\n",
    "                 ##& (refs_w_claims_fin['UNITS']>30)\n",
    "                  & (refs_w_claims_fin['CPT_Code']=='J1885')\n",
    "                 ].to_csv('../Data/Outputs/code_detail_20190411.csv', sep='|')"
   ]
  },
  {
   "cell_type": "markdown",
   "metadata": {},
   "source": [
    "## Spot Check Specific Referrals"
   ]
  },
  {
   "cell_type": "code",
   "execution_count": null,
   "metadata": {
    "scrolled": false
   },
   "outputs": [],
   "source": [
    "refs_new_head[(refs_new_head['Specialty']=='OCCUPATIONAL THERAPY') \n",
    "             ##& (refs_results['status_name']=='DENIED - CM')\n",
    "            & (refs_new_head['aa-yn']==1)].tail(10)"
   ]
  },
  {
   "cell_type": "markdown",
   "metadata": {},
   "source": [
    "## Referral Detail Lookup (Enter Auth)"
   ]
  },
  {
   "cell_type": "code",
   "execution_count": null,
   "metadata": {},
   "outputs": [],
   "source": [
    "refs_new[refs_new['HCP_CONNECT_AUTH_NUMBER']=='14040476H']"
   ]
  },
  {
   "cell_type": "markdown",
   "metadata": {},
   "source": [
    "## Auth Lookup (Enter Specialty and Code)"
   ]
  },
  {
   "cell_type": "code",
   "execution_count": null,
   "metadata": {},
   "outputs": [],
   "source": [
    "refs_new[(refs_new['Specialty']=='DERMATOLOGY')\n",
    "        & (refs_new['CPT_Code']=='13100')\n",
    "        ##& (refs_det['auto_approvable'] == 0)\n",
    "        ]"
   ]
  },
  {
   "cell_type": "code",
   "execution_count": null,
   "metadata": {},
   "outputs": [],
   "source": [
    "def create_final_statuses(ref_summary, spec_dict_PPL):\n",
    "    final_status=[]\n",
    "    for index, row in ref_summary.iterrows():\n",
    "        if row['is_PPL'] == 1:\n",
    "            if row['CPT_Code'] in spec_dict_PPL[row['Specialty']]:\n",
    "                final_status.append(1)\n",
    "            else:\n",
    "                final_status.append(0)\n",
    "        else:\n",
    "            final_status.append(0)\n",
    "    return final_status"
   ]
  },
  {
   "cell_type": "code",
   "execution_count": null,
   "metadata": {},
   "outputs": [],
   "source": [
    "final_status = create_final_statuses(refs_w_claims_fin, spec_dict_PPL)"
   ]
  },
  {
   "cell_type": "code",
   "execution_count": null,
   "metadata": {},
   "outputs": [],
   "source": [
    "refs_w_claims_fin['final_status'] = final_status"
   ]
  },
  {
   "cell_type": "code",
   "execution_count": null,
   "metadata": {},
   "outputs": [],
   "source": [
    "refs_w_claims_fin.head()"
   ]
  },
  {
   "cell_type": "code",
   "execution_count": null,
   "metadata": {},
   "outputs": [],
   "source": [
    "refs_w_claims_fin[(refs_w_claims_fin['final_status']==0) &\n",
    "                 (refs_w_claims_fin['fin_aa_rec']==1)].head()"
   ]
  },
  {
   "cell_type": "code",
   "execution_count": null,
   "metadata": {},
   "outputs": [],
   "source": [
    "# Give the filename you wish to save the file to\n",
    "refs_w_claims_fin_filename = '../Data/Outputs/spec_cpt_summary.csv'\n",
    "\n",
    "# Use this function to search for any files which match your filename\n",
    "files_present = os.path.isfile(refs_w_claims_fin_filename)\n",
    "\n",
    "# if no matching files, write to csv, if there are matching files, print statement\n",
    "if not files_present:\n",
    "    refs_w_claims_fin.to_csv(refs_w_claims_fin_filename)\n",
    "else:\n",
    "    print('WARNING: This file already exists!')"
   ]
  },
  {
   "cell_type": "code",
   "execution_count": null,
   "metadata": {},
   "outputs": [],
   "source": []
  },
  {
   "cell_type": "code",
   "execution_count": null,
   "metadata": {},
   "outputs": [],
   "source": []
  }
 ],
 "metadata": {
  "kernelspec": {
   "display_name": "Python 3",
   "language": "python",
   "name": "python3"
  },
  "language_info": {
   "codemirror_mode": {
    "name": "ipython",
    "version": 3
   },
   "file_extension": ".py",
   "mimetype": "text/x-python",
   "name": "python",
   "nbconvert_exporter": "python",
   "pygments_lexer": "ipython3",
   "version": "3.7.3"
  }
 },
 "nbformat": 4,
 "nbformat_minor": 2
}
