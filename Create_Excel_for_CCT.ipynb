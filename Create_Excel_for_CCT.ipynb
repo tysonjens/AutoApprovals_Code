{
 "cells": [
  {
   "cell_type": "markdown",
   "metadata": {},
   "source": [
    "Separately run referrals and claims queries.\n",
    "This file imports the results of those queries, cleans and standardizes each, and merges them for analysis.\n",
    "\n",
    "In addition, we import clinical decision files and use it to \"override\" decisions that were made by analyzing the ROI for specialty & cpt code combination.\n",
    "\n",
    "Finally, several outputs are prepared for reporting purposes, including the calculation of a projected AA approval rate."
   ]
  },
  {
   "cell_type": "code",
   "execution_count": null,
   "metadata": {},
   "outputs": [],
   "source": [
    "## Import required packages\n",
    "import pandas as pd\n",
    "import numpy as np\n",
    "from datetime import datetime, timedelta\n",
    "import matplotlib.pyplot as plt\n",
    "import pyodbc\n",
    "import os"
   ]
  },
  {
   "cell_type": "markdown",
   "metadata": {},
   "source": [
    "## Import Data"
   ]
  },
  {
   "cell_type": "markdown",
   "metadata": {},
   "source": [
    "Import the most up-to-date spec_cpt_summary file. Note that clinical decisions should already have been added to this file using another script."
   ]
  },
  {
   "cell_type": "code",
   "execution_count": null,
   "metadata": {},
   "outputs": [],
   "source": [
    "cpts_w_claims_fin = pd.read_excel('../Data/AADictionary_Master.xlsx', sheet_name=\"Specialty Summary\")"
   ]
  },
  {
   "cell_type": "markdown",
   "metadata": {},
   "source": [
    "Create a list of relevent specialties"
   ]
  },
  {
   "cell_type": "code",
   "execution_count": null,
   "metadata": {},
   "outputs": [],
   "source": [
    "cpts_w_claims_fin.head()"
   ]
  },
  {
   "cell_type": "code",
   "execution_count": null,
   "metadata": {},
   "outputs": [],
   "source": [
    "cpts_w_claims_fin = cpts_w_claims_fin[['Specialty', 'final_decision', ]]"
   ]
  },
  {
   "cell_type": "code",
   "execution_count": null,
   "metadata": {},
   "outputs": [],
   "source": [
    "list_o_specs = list(cpts_w_claims_fin['Specialty'].unique())"
   ]
  },
  {
   "cell_type": "code",
   "execution_count": null,
   "metadata": {},
   "outputs": [],
   "source": [
    "## Function that gathers CPT codes that should be pended and stores them in a dictionary.\n",
    "def create_dict_of_CPT_codes_v3(specialty_cpt, list_o_specs, PPL=1):\n",
    "    spec_dict = {k: [] for k in list_o_specs}\n",
    "    for index, row in specialty_cpt.iterrows():\n",
    "        if row['Decision'] == 1:\n",
    "            if row['is_PPL'] == PPL:\n",
    "                spec_dict[row['Specialty']].append(row['CPT_Code'])\n",
    "    return spec_dict"
   ]
  },
  {
   "cell_type": "code",
   "execution_count": null,
   "metadata": {},
   "outputs": [],
   "source": [
    "spec_dict_PPL = create_dict_of_CPT_codes_v3(cpts_w_claims_fin, list_o_specs, PPL=1)"
   ]
  },
  {
   "cell_type": "markdown",
   "metadata": {},
   "source": [
    "## Generate Rule Spreadsheet that can be uploaded to CCT"
   ]
  },
  {
   "cell_type": "markdown",
   "metadata": {},
   "source": [
    "CCT, the tool that houses the referrals auto-approval rules and processing, can auto-generate rules when provided a spreadsheet of a specific format.  This portion of the code reads in that file, and then completes it with the information required."
   ]
  },
  {
   "cell_type": "markdown",
   "metadata": {},
   "source": [
    "Read in file to get accurate headers and format"
   ]
  },
  {
   "cell_type": "code",
   "execution_count": null,
   "metadata": {},
   "outputs": [],
   "source": [
    "rule_file = pd.read_excel('../Data/RMS_Rules.xlsx', sheet_name='RULE_AUTOAPPROVEPX')"
   ]
  },
  {
   "cell_type": "markdown",
   "metadata": {},
   "source": [
    "Add codes to dictionary for specific specialties that appear in CCT data, but not the data warehouse"
   ]
  },
  {
   "cell_type": "code",
   "execution_count": null,
   "metadata": {},
   "outputs": [],
   "source": [
    "spec_dict_PPL['HIV/AIDS SPECIALIST'] = ['99203', '99204', '99213', '99214']"
   ]
  },
  {
   "cell_type": "code",
   "execution_count": null,
   "metadata": {},
   "outputs": [],
   "source": [
    "spec_dict_PPL['COMPREHENSIVE CARE PROGRAM - AMBULATORY CARE MGT, COMPREHENSIVE CARE PROGRAM - CHF, COMPREHENSIVE CARE PROGRAM - COMPREHEN CARE CENTER, COMPREHENSIVE CARE PROGRAM - ESRD/CKD, COMPREHENSIVE CARE PROGRAM - PALLIATIVE CARE, COMPREHENSIVE CARE PROGRAM - SOCIAL WORK, COMPREHENSIVE CARE PROGRAM -COPD, COMPREHENSIVE CARE PROGRAM -HOUSE CALLS'] = ['All']"
   ]
  },
  {
   "cell_type": "markdown",
   "metadata": {},
   "source": [
    "Update list_o_specs to include specialties that appear in CCT data, but not in the data warehouse"
   ]
  },
  {
   "cell_type": "code",
   "execution_count": null,
   "metadata": {},
   "outputs": [],
   "source": [
    "list_o_specs = list(spec_dict_PPL.keys())"
   ]
  },
  {
   "cell_type": "code",
   "execution_count": null,
   "metadata": {},
   "outputs": [],
   "source": [
    "def create_rule_excel_file(rule_file, spec_dict, list_o_specs, PPL=True):\n",
    "    rule_file['Auth_Status'] = 8\n",
    "    rule_file['Auth_Status_Num'] = 1\n",
    "    rule_file['RefType_Key'] = np.nan\n",
    "    rule_file['RefType_Num'] = np.nan\n",
    "    rule_file['ByPass_Adjudication'] = False\n",
    "    rule_file['Region_List'] = 'All'\n",
    "    rule_file['Rule_Priority'] = 2000\n",
    "    rule_file['Rule_Category'] = 2\n",
    "    rule_file['Eff_Date'] = pd.datetime(2019, 6, 15)\n",
    "    rule_file['Term_Date'] = np.nan\n",
    "    rule_file['Entity_List'] = 'All'\n",
    "    rule_file['Site_List'] = 'All'\n",
    "    rule_file['HMO_List'] = 'All'\n",
    "    rule_file['Product_Type_List'] = 'All'\n",
    "    rule_file['Dx_List'] = np.nan\n",
    "    rule_file['Age_From'] = 18\n",
    "    rule_file['Age_To'] = 199\n",
    "    rule_file['Gender'] = 'A'\n",
    "    rule_file['GoldStar'] = 'A'\n",
    "    rule_file['POS_List'] = 'All'\n",
    "    rule_file['RefTo_Provider_List'] = 'All'\n",
    "    rule_file['RefFrom_Spc_List'] = 'All'\n",
    "    rule_file['Facility_Spc_List'] = 'All'\n",
    "    rule_file['Spc_Operator'] = 'OR'\n",
    "    rule_file['Date_Added'] = pd.datetime.now()\n",
    "    rule_file['Added_By'] = 'PIONEER'\n",
    "    rule_file['Archive_Flag'] = False\n",
    "    rule_file['RefFrom_Provider_List'] = 'ALL'\n",
    "    rule_file['RefTo_Status_List'] = 'PPL'\n",
    "    rule_key = list(rule_file['Rule_Key'])\n",
    "    Px_list = list(rule_file['Px_List'])\n",
    "    rule_code = list(rule_file['Rule_Code'])\n",
    "    rule_desc = list(rule_file['Rule_Desc'])\n",
    "    rule_lob = list(rule_file['LOB_List'])\n",
    "    ref_to_spec = list(rule_file['RefTo_Spc_List'])\n",
    "    index = 0\n",
    "    for spec in list_o_specs:\n",
    "        if len(spec_dict[spec]) == 0:\n",
    "            continue\n",
    "        else:\n",
    "            rule_key[index] = index+1\n",
    "            Px_list[index] = spec_dict[spec]\n",
    "            rule_code[index] = (spec + '_PPL').replace(' ', '')\n",
    "            rule_desc[index] = ('auto-approve ' + spec + ' referrals to PPL providers for specific codes.')\n",
    "            if spec[-7:] == 'not_sen':\n",
    "                ref_to_spec[index] = spec[:-8]\n",
    "            elif spec[-6] == 'senior':\n",
    "                ref_to_spec[index] = spec[:-7]\n",
    "            else:\n",
    "                ref_to_spec[index] = spec\n",
    "            if spec[-6:]=='senior':\n",
    "                rule_lob[index] = 'SENIOR'\n",
    "            else:\n",
    "                rule_lob[index] = 'All'\n",
    "            index+=1\n",
    "    rule_file['Rule_Key'] = rule_key\n",
    "    rule_file['Px_List'] = Px_list\n",
    "    rule_file['Rule_Desc'] = rule_desc\n",
    "    rule_file['Rule_Code'] = rule_code\n",
    "    rule_file['LOB_List'] = rule_lob\n",
    "    rule_file['RefTo_Spc_List'] = ref_to_spec\n",
    "    rule_file.drop(rule_file.index[index:], inplace=True)\n",
    "    return rule_file"
   ]
  },
  {
   "cell_type": "code",
   "execution_count": null,
   "metadata": {},
   "outputs": [],
   "source": [
    "new_rule_file = create_rule_excel_file(rule_file, spec_dict_PPL, list_o_specs)"
   ]
  },
  {
   "cell_type": "markdown",
   "metadata": {},
   "source": [
    "Some specialties that are not in the data warehouse file need to be added to the \"umbrella\" specialty.  For example, CT - CAT SCANS needs to be added to the specialty field for RADIOLOGY."
   ]
  },
  {
   "cell_type": "code",
   "execution_count": null,
   "metadata": {},
   "outputs": [],
   "source": [
    "new_rule_file['RefTo_Spc_List'].replace({'RADIOLOGY':\n",
    "                                         ['RADIOLOGY, CT - CAT SCANS, MAMMOGRAMS, MRI - MAGNETIC RESONANCE IMAGING', 'BONE DENSITY SCANS'],\n",
    "                                        'CARDIOLOGY': ['CARDIOLOGY, CARDIAC TESTING']}, inplace=True)"
   ]
  },
  {
   "cell_type": "code",
   "execution_count": null,
   "metadata": {},
   "outputs": [],
   "source": [
    "# Give the filename you wish to save the file to\n",
    "rules_to_upload_filename = '../Data/Outputs/RMS_Rules_new.xlsx'\n",
    "\n",
    "# Use this function to search for any files which match your filename\n",
    "files_present = os.path.isfile(rules_to_upload_filename)\n",
    "\n",
    "# if no matching files, write to csv, if there are matching files, print statement\n",
    "if not files_present:\n",
    "    new_rule_file.to_excel(rules_to_upload_filename, index=False, )\n",
    "else:\n",
    "    print('WARNING: This file already exists!')"
   ]
  },
  {
   "cell_type": "code",
   "execution_count": null,
   "metadata": {},
   "outputs": [],
   "source": []
  }
 ],
 "metadata": {
  "kernelspec": {
   "display_name": "Python 3",
   "language": "python",
   "name": "python3"
  },
  "language_info": {
   "codemirror_mode": {
    "name": "ipython",
    "version": 3
   },
   "file_extension": ".py",
   "mimetype": "text/x-python",
   "name": "python",
   "nbconvert_exporter": "python",
   "pygments_lexer": "ipython3",
   "version": "3.7.3"
  }
 },
 "nbformat": 4,
 "nbformat_minor": 2
}
