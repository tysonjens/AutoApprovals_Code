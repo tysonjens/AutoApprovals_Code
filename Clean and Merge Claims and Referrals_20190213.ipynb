{
 "cells": [
  {
   "cell_type": "markdown",
   "metadata": {},
   "source": [
    "Separately run referrals and claims queries.\n",
    "This file imports the results of those queries, cleans and standardizes each, and merges them for analysis."
   ]
  },
  {
   "cell_type": "code",
   "execution_count": 194,
   "metadata": {},
   "outputs": [],
   "source": [
    "import pandas as pd\n",
    "import numpy as np\n",
    "from datetime import datetime, timedelta\n",
    "import matplotlib.pyplot as plt\n",
    "import pyodbc\n",
    "import os"
   ]
  },
  {
   "cell_type": "markdown",
   "metadata": {},
   "source": [
    "## Import Data"
   ]
  },
  {
   "cell_type": "code",
   "execution_count": 195,
   "metadata": {},
   "outputs": [],
   "source": [
    "with open('referrals.sql', 'r') as myfile:\n",
    "    refs_sql_str=myfile.read().replace('\\n', ' ')\n",
    "\n",
    "cnxn_refs = pyodbc.connect('DRIVER={SQL Server};SERVER=colo-dwrpt01;DATABASE=IADS_V3')\n",
    "\n",
    "refs = pd.read_sql(refs_sql_str, cnxn_refs)\n",
    "\n",
    "cnxn_refs.close()"
   ]
  },
  {
   "cell_type": "code",
   "execution_count": 196,
   "metadata": {},
   "outputs": [],
   "source": [
    "with open('claims.sql', 'r') as myfile:\n",
    "    claims_sql_str=myfile.read().replace('\\n', ' ')\n",
    "\n",
    "cnxn_claims = pyodbc.connect('DRIVER={SQL Server};SERVER=colo-dwrpt01;DATABASE=NATIONAL_ANALYTICS')\n",
    "\n",
    "claims = pd.read_sql(claims_sql_str, cnxn_claims)\n",
    "\n",
    "cnxn_claims.close()"
   ]
  },
  {
   "cell_type": "code",
   "execution_count": 197,
   "metadata": {},
   "outputs": [],
   "source": [
    "with open('referrals_new.sql', 'r') as myfile:\n",
    "    refs_new_sql_str=myfile.read().replace('\\n', ' ')\n",
    "\n",
    "cnxn_refs_new = pyodbc.connect('DRIVER={SQL Server};SERVER=colo-dwrpt01;DATABASE=IADS_V3')\n",
    "\n",
    "refs_new = pd.read_sql(refs_new_sql_str, cnxn_refs_new)\n",
    "\n",
    "cnxn_refs_new.close()"
   ]
  },
  {
   "cell_type": "code",
   "execution_count": 198,
   "metadata": {},
   "outputs": [
    {
     "data": {
      "text/plain": [
       "952977"
      ]
     },
     "execution_count": 198,
     "metadata": {},
     "output_type": "execute_result"
    }
   ],
   "source": [
    "refs_new.shape[0]"
   ]
  },
  {
   "cell_type": "code",
   "execution_count": 199,
   "metadata": {},
   "outputs": [],
   "source": [
    "codes_to_pend = pd.read_csv('../data/V1_codes_to_approve.csv')"
   ]
  },
  {
   "cell_type": "markdown",
   "metadata": {},
   "source": [
    "## Clean Refs"
   ]
  },
  {
   "cell_type": "code",
   "execution_count": 200,
   "metadata": {},
   "outputs": [],
   "source": [
    "refs_head = refs.drop_duplicates(subset='HCP_CONNECT_AUTH_NUMBER').reset_index()\n",
    "\n",
    "refs_head.drop(columns = ['index', 'CPT_Code', 'Date_Decision',\n",
    "       'Date_Received', 'Type', 'region', 'UNITS'], inplace=True)\n",
    "\n",
    "refs_head = refs_head[refs_head['HCP_CONNECT_AUTH_NUMBER'].isna()==False].reset_index()"
   ]
  },
  {
   "cell_type": "code",
   "execution_count": 201,
   "metadata": {},
   "outputs": [],
   "source": [
    "refs['Date_Decision'] = pd.to_datetime(refs['Date_Decision'])"
   ]
  },
  {
   "cell_type": "code",
   "execution_count": 202,
   "metadata": {},
   "outputs": [],
   "source": [
    "refs['Date_Received'] = pd.to_datetime(refs['Date_Received'])"
   ]
  },
  {
   "cell_type": "markdown",
   "metadata": {},
   "source": [
    "### Clean Claims"
   ]
  },
  {
   "cell_type": "code",
   "execution_count": 203,
   "metadata": {},
   "outputs": [],
   "source": [
    "## Claims sum is used for the cost of a cpt code when it doesn't exist in claims for the assocaited specialty\n",
    "claims_sum = claims.groupby(['CPT_Code'], as_index=False).agg({'avg_hcp_cost': 'mean'})"
   ]
  },
  {
   "cell_type": "markdown",
   "metadata": {},
   "source": [
    "## Feature Engineering"
   ]
  },
  {
   "cell_type": "code",
   "execution_count": 204,
   "metadata": {},
   "outputs": [],
   "source": [
    "## flag retro statuses with 1 and 0\n",
    "retro_conditions = [\n",
    " (refs['status_name'] == 'APPROVED - RETRO REVIEW') |\n",
    " (refs['status_name'] == 'DENIED - RETRO REVIEW') |\n",
    " (refs['status_name'] == 'APPROVED - COB RETRO') |\n",
    " (refs['status_name'] == 'PENDING - RETRO REVIEW') \n",
    "  ]"
   ]
  },
  {
   "cell_type": "code",
   "execution_count": 205,
   "metadata": {},
   "outputs": [],
   "source": [
    "## Create Refs - the older set of referrals from which we make the rules"
   ]
  },
  {
   "cell_type": "code",
   "execution_count": 206,
   "metadata": {},
   "outputs": [],
   "source": [
    "choices = [1]\n",
    "refs['is_retro'] = np.select(retro_conditions, choices, default=0)"
   ]
  },
  {
   "cell_type": "code",
   "execution_count": 207,
   "metadata": {},
   "outputs": [],
   "source": [
    "## remove retros from list and drop 'is_retro' as it is no longer needed\n",
    "refs = refs[refs['is_retro']==0]\n",
    "\n",
    "refs.drop(columns='is_retro', inplace=True)"
   ]
  },
  {
   "cell_type": "code",
   "execution_count": 208,
   "metadata": {},
   "outputs": [],
   "source": [
    "refs_det = refs\n",
    "\n",
    "refs_det.drop(columns = ['PPL', 'Date_Decision',\n",
    "       'Date_Received', 'Type', 'status_cat', 'status_name', 'Specialty',\n",
    "       'region', 'UNITS'])\n",
    "\n",
    "refs_det = refs_det[refs_det['HCP_CONNECT_AUTH_NUMBER'].isna()==False].reset_index()"
   ]
  },
  {
   "cell_type": "code",
   "execution_count": 209,
   "metadata": {},
   "outputs": [],
   "source": [
    "refs['is_autoapp'] = np.where(refs['status_name']=='APPROVED - AUTO', 1, 0)"
   ]
  },
  {
   "cell_type": "code",
   "execution_count": 210,
   "metadata": {},
   "outputs": [],
   "source": [
    "refs.PPL.fillna(\"N\", inplace=True)"
   ]
  },
  {
   "cell_type": "code",
   "execution_count": 211,
   "metadata": {},
   "outputs": [],
   "source": [
    "refs['is_PPL'] = np.where(refs['PPL']=='Y', 1, 0)"
   ]
  },
  {
   "cell_type": "code",
   "execution_count": 212,
   "metadata": {},
   "outputs": [],
   "source": [
    "den_conditions = [\n",
    " (refs['status_name'] == 'DENIED - CM') |\n",
    " (refs['status_name'] == 'DENIED - BENEFIT CARVE OUT') |\n",
    " (refs['status_name'] == 'DENIED - NOT A COVERED BENEFIT') |\n",
    " (refs['status_name'] == 'DENIED - APPEAL') |\n",
    " (refs['status_name'] == 'DENIED - CLINICAL TRIAL/EXP/INV') |\n",
    " (refs['status_name'] == 'DENIED - TRANSPLANT') |\n",
    " (refs['status_name'] == 'DENIED - MD') |\n",
    " (refs['status_name'] == 'DENIED - CM/MD') |\n",
    " (refs['status_name'] == 'DENIED - REDIRECT OSVN') |\n",
    " (refs['status_name'] == 'DENIED - TICKLER')\n",
    "  ]"
   ]
  },
  {
   "cell_type": "code",
   "execution_count": 213,
   "metadata": {},
   "outputs": [],
   "source": [
    "choices = [1]\n",
    "refs['is_den'] = np.select(den_conditions, choices, default=0)"
   ]
  },
  {
   "cell_type": "code",
   "execution_count": 214,
   "metadata": {},
   "outputs": [],
   "source": [
    "refs['is_app'] = np.where(refs['status_cat']=='APPROVED', 1, 0)"
   ]
  },
  {
   "cell_type": "code",
   "execution_count": 215,
   "metadata": {},
   "outputs": [
    {
     "data": {
      "text/plain": [
       "Index(['CPT_Code', 'HCP_CONNECT_AUTH_NUMBER', 'REF_TYPE_KEY', 'PPL',\n",
       "       'Date_Received', 'Date_Decision', 'Type', 'status_cat', 'status_name',\n",
       "       'Specialty', 'region', 'UNITS', 'is_autoapp', 'is_PPL', 'is_den',\n",
       "       'is_app'],\n",
       "      dtype='object')"
      ]
     },
     "execution_count": 215,
     "metadata": {},
     "output_type": "execute_result"
    }
   ],
   "source": [
    "refs.columns"
   ]
  },
  {
   "cell_type": "code",
   "execution_count": 216,
   "metadata": {},
   "outputs": [
    {
     "data": {
      "text/html": [
       "<div>\n",
       "<style scoped>\n",
       "    .dataframe tbody tr th:only-of-type {\n",
       "        vertical-align: middle;\n",
       "    }\n",
       "\n",
       "    .dataframe tbody tr th {\n",
       "        vertical-align: top;\n",
       "    }\n",
       "\n",
       "    .dataframe thead th {\n",
       "        text-align: right;\n",
       "    }\n",
       "</style>\n",
       "<table border=\"1\" class=\"dataframe\">\n",
       "  <thead>\n",
       "    <tr style=\"text-align: right;\">\n",
       "      <th></th>\n",
       "      <th></th>\n",
       "      <th>HCP_CONNECT_AUTH_NUMBER</th>\n",
       "    </tr>\n",
       "    <tr>\n",
       "      <th>is_autoapp</th>\n",
       "      <th>is_den</th>\n",
       "      <th></th>\n",
       "    </tr>\n",
       "  </thead>\n",
       "  <tbody>\n",
       "    <tr>\n",
       "      <th rowspan=\"2\" valign=\"top\">0</th>\n",
       "      <th>0</th>\n",
       "      <td>2485581</td>\n",
       "    </tr>\n",
       "    <tr>\n",
       "      <th>1</th>\n",
       "      <td>59086</td>\n",
       "    </tr>\n",
       "    <tr>\n",
       "      <th>1</th>\n",
       "      <th>0</th>\n",
       "      <td>949624</td>\n",
       "    </tr>\n",
       "    <tr>\n",
       "      <th>All</th>\n",
       "      <th></th>\n",
       "      <td>3494291</td>\n",
       "    </tr>\n",
       "  </tbody>\n",
       "</table>\n",
       "</div>"
      ],
      "text/plain": [
       "                   HCP_CONNECT_AUTH_NUMBER\n",
       "is_autoapp is_den                         \n",
       "0          0                       2485581\n",
       "           1                         59086\n",
       "1          0                        949624\n",
       "All                                3494291"
      ]
     },
     "execution_count": 216,
     "metadata": {},
     "output_type": "execute_result"
    }
   ],
   "source": [
    "refs.pivot_table(values='HCP_CONNECT_AUTH_NUMBER', index=['is_autoapp', 'is_den'], aggfunc='count', margins=True)"
   ]
  },
  {
   "cell_type": "code",
   "execution_count": 217,
   "metadata": {},
   "outputs": [
    {
     "data": {
      "text/plain": [
       "0.0169094554552068"
      ]
     },
     "execution_count": 217,
     "metadata": {},
     "output_type": "execute_result"
    }
   ],
   "source": [
    "59086/3494258"
   ]
  },
  {
   "cell_type": "markdown",
   "metadata": {},
   "source": [
    "## Clean refs_new - a new set of referrals to apply the rules to."
   ]
  },
  {
   "cell_type": "code",
   "execution_count": 218,
   "metadata": {},
   "outputs": [],
   "source": [
    "refs_new['Date_Decision'] = pd.to_datetime(refs_new['Date_Decision'])"
   ]
  },
  {
   "cell_type": "code",
   "execution_count": 219,
   "metadata": {},
   "outputs": [],
   "source": [
    "refs_new['Date_Received'] = pd.to_datetime(refs_new['Date_Received'])"
   ]
  },
  {
   "cell_type": "code",
   "execution_count": 220,
   "metadata": {},
   "outputs": [],
   "source": [
    "## flag retro statuses with 1 and 0\n",
    "retro_conditions_new = [\n",
    " (refs_new['status_name'] == 'APPROVED - RETRO REVIEW') |\n",
    " (refs_new['status_name'] == 'DENIED - RETRO REVIEW') |\n",
    " (refs_new['status_name'] == 'APPROVED - COB RETRO') |\n",
    " (refs_new['status_name'] == 'PENDING - RETRO REVIEW') \n",
    "  ]"
   ]
  },
  {
   "cell_type": "code",
   "execution_count": 221,
   "metadata": {},
   "outputs": [],
   "source": [
    "choices = [1]\n",
    "refs_new['is_retro'] = np.select(retro_conditions_new, choices, default=0)"
   ]
  },
  {
   "cell_type": "code",
   "execution_count": 222,
   "metadata": {},
   "outputs": [],
   "source": [
    "## remove retros from list and drop 'is_retro' as it is no longer needed\n",
    "refs_new = refs_new[refs_new['is_retro']==0]\n",
    "\n",
    "refs_new.drop(columns='is_retro', inplace=True)"
   ]
  },
  {
   "cell_type": "code",
   "execution_count": 223,
   "metadata": {},
   "outputs": [],
   "source": [
    "refs_new['is_autoapp'] = np.where(refs_new['status_name']=='APPROVED - AUTO', 1, 0)"
   ]
  },
  {
   "cell_type": "code",
   "execution_count": 224,
   "metadata": {},
   "outputs": [],
   "source": [
    "refs_new.PPL.fillna(\"N\", inplace=True)"
   ]
  },
  {
   "cell_type": "code",
   "execution_count": 225,
   "metadata": {},
   "outputs": [],
   "source": [
    "refs_new['is_PPL'] = np.where(refs_new['PPL']=='Y', 1, 0)"
   ]
  },
  {
   "cell_type": "code",
   "execution_count": 226,
   "metadata": {},
   "outputs": [],
   "source": [
    "refs_new['is_app'] = np.where(refs_new['status_cat']=='APPROVED', 1, 0)"
   ]
  },
  {
   "cell_type": "code",
   "execution_count": 227,
   "metadata": {},
   "outputs": [],
   "source": [
    "refs_new['UNITS'] = 1"
   ]
  },
  {
   "cell_type": "code",
   "execution_count": 228,
   "metadata": {},
   "outputs": [],
   "source": [
    "den_conditions_new = [\n",
    " (refs_new['status_name'] == 'DENIED - CM') |\n",
    " (refs_new['status_name'] == 'DENIED - BENEFIT CARVE OUT') |\n",
    " (refs_new['status_name'] == 'DENIED - NOT A COVERED BENEFIT') |\n",
    " (refs_new['status_name'] == 'DENIED - APPEAL') |\n",
    " (refs_new['status_name'] == 'DENIED - CLINICAL TRIAL/EXP/INV') |\n",
    " (refs_new['status_name'] == 'DENIED - TRANSPLANT') |\n",
    " (refs_new['status_name'] == 'DENIED - MD') |\n",
    " (refs_new['status_name'] == 'DENIED - CM/MD') |\n",
    " (refs_new['status_name'] == 'DENIED - REDIRECT OSVN') |\n",
    " (refs_new['status_name'] == 'DENIED - TICKLER')\n",
    "  ]"
   ]
  },
  {
   "cell_type": "code",
   "execution_count": 229,
   "metadata": {},
   "outputs": [],
   "source": [
    "choices = [1]\n",
    "refs_new['is_den'] = np.select(den_conditions_new, choices, default=0)"
   ]
  },
  {
   "cell_type": "code",
   "execution_count": 230,
   "metadata": {},
   "outputs": [],
   "source": [
    "refs_new = refs_new[refs_new['HCP_CONNECT_AUTH_NUMBER'].isna()==False].reset_index()"
   ]
  },
  {
   "cell_type": "code",
   "execution_count": 231,
   "metadata": {},
   "outputs": [
    {
     "data": {
      "text/html": [
       "<div>\n",
       "<style scoped>\n",
       "    .dataframe tbody tr th:only-of-type {\n",
       "        vertical-align: middle;\n",
       "    }\n",
       "\n",
       "    .dataframe tbody tr th {\n",
       "        vertical-align: top;\n",
       "    }\n",
       "\n",
       "    .dataframe thead th {\n",
       "        text-align: right;\n",
       "    }\n",
       "</style>\n",
       "<table border=\"1\" class=\"dataframe\">\n",
       "  <thead>\n",
       "    <tr style=\"text-align: right;\">\n",
       "      <th></th>\n",
       "      <th></th>\n",
       "      <th>HCP_CONNECT_AUTH_NUMBER</th>\n",
       "    </tr>\n",
       "    <tr>\n",
       "      <th>is_autoapp</th>\n",
       "      <th>is_den</th>\n",
       "      <th></th>\n",
       "    </tr>\n",
       "  </thead>\n",
       "  <tbody>\n",
       "    <tr>\n",
       "      <th rowspan=\"2\" valign=\"top\">0</th>\n",
       "      <th>0</th>\n",
       "      <td>631695</td>\n",
       "    </tr>\n",
       "    <tr>\n",
       "      <th>1</th>\n",
       "      <td>16858</td>\n",
       "    </tr>\n",
       "    <tr>\n",
       "      <th>1</th>\n",
       "      <th>0</th>\n",
       "      <td>277239</td>\n",
       "    </tr>\n",
       "    <tr>\n",
       "      <th>All</th>\n",
       "      <th></th>\n",
       "      <td>925792</td>\n",
       "    </tr>\n",
       "  </tbody>\n",
       "</table>\n",
       "</div>"
      ],
      "text/plain": [
       "                   HCP_CONNECT_AUTH_NUMBER\n",
       "is_autoapp is_den                         \n",
       "0          0                        631695\n",
       "           1                         16858\n",
       "1          0                        277239\n",
       "All                                 925792"
      ]
     },
     "execution_count": 231,
     "metadata": {},
     "output_type": "execute_result"
    }
   ],
   "source": [
    "refs_new.pivot_table(values='HCP_CONNECT_AUTH_NUMBER', index=['is_autoapp', 'is_den'], aggfunc='count', margins=True)"
   ]
  },
  {
   "cell_type": "code",
   "execution_count": 232,
   "metadata": {},
   "outputs": [],
   "source": [
    "refs_new.drop(labels=['index', 'REF_TYPE_KEY', 'PPL', 'Date_Received', 'Date_Decision', 'status_cat'], axis=1, inplace=True)"
   ]
  },
  {
   "cell_type": "code",
   "execution_count": 233,
   "metadata": {},
   "outputs": [
    {
     "data": {
      "text/plain": [
       "0.016439687746681118"
      ]
     },
     "execution_count": 233,
     "metadata": {},
     "output_type": "execute_result"
    }
   ],
   "source": [
    "14849/903241"
   ]
  },
  {
   "cell_type": "markdown",
   "metadata": {},
   "source": [
    "## Create Refs_manual"
   ]
  },
  {
   "cell_type": "code",
   "execution_count": 234,
   "metadata": {},
   "outputs": [],
   "source": [
    "## This is a cpt_code level list of all manually reviewed referrals"
   ]
  },
  {
   "cell_type": "code",
   "execution_count": 235,
   "metadata": {},
   "outputs": [],
   "source": [
    "refs_manual = refs[refs['is_autoapp']==0]"
   ]
  },
  {
   "cell_type": "code",
   "execution_count": 236,
   "metadata": {},
   "outputs": [
    {
     "data": {
      "text/html": [
       "<div>\n",
       "<style scoped>\n",
       "    .dataframe tbody tr th:only-of-type {\n",
       "        vertical-align: middle;\n",
       "    }\n",
       "\n",
       "    .dataframe tbody tr th {\n",
       "        vertical-align: top;\n",
       "    }\n",
       "\n",
       "    .dataframe thead th {\n",
       "        text-align: right;\n",
       "    }\n",
       "</style>\n",
       "<table border=\"1\" class=\"dataframe\">\n",
       "  <thead>\n",
       "    <tr style=\"text-align: right;\">\n",
       "      <th></th>\n",
       "      <th></th>\n",
       "      <th>HCP_CONNECT_AUTH_NUMBER</th>\n",
       "    </tr>\n",
       "    <tr>\n",
       "      <th>is_autoapp</th>\n",
       "      <th>is_den</th>\n",
       "      <th></th>\n",
       "    </tr>\n",
       "  </thead>\n",
       "  <tbody>\n",
       "    <tr>\n",
       "      <th rowspan=\"2\" valign=\"top\">0</th>\n",
       "      <th>0</th>\n",
       "      <td>2485581</td>\n",
       "    </tr>\n",
       "    <tr>\n",
       "      <th>1</th>\n",
       "      <td>59086</td>\n",
       "    </tr>\n",
       "    <tr>\n",
       "      <th>All</th>\n",
       "      <th></th>\n",
       "      <td>2544667</td>\n",
       "    </tr>\n",
       "  </tbody>\n",
       "</table>\n",
       "</div>"
      ],
      "text/plain": [
       "                   HCP_CONNECT_AUTH_NUMBER\n",
       "is_autoapp is_den                         \n",
       "0          0                       2485581\n",
       "           1                         59086\n",
       "All                                2544667"
      ]
     },
     "execution_count": 236,
     "metadata": {},
     "output_type": "execute_result"
    }
   ],
   "source": [
    "refs_manual.pivot_table(values='HCP_CONNECT_AUTH_NUMBER', index=['is_autoapp', 'is_den'], aggfunc='count', margins=True)"
   ]
  },
  {
   "cell_type": "code",
   "execution_count": 237,
   "metadata": {},
   "outputs": [],
   "source": [
    "## Calculate Cost per manually reviewed CPT code\n",
    "\n",
    "ga_cpt = 6500000 / refs[refs['is_autoapp']==0].shape[0]"
   ]
  },
  {
   "cell_type": "code",
   "execution_count": 238,
   "metadata": {},
   "outputs": [
    {
     "data": {
      "text/plain": [
       "2.530743668760695"
      ]
     },
     "execution_count": 238,
     "metadata": {},
     "output_type": "execute_result"
    }
   ],
   "source": [
    "ga_cpt"
   ]
  },
  {
   "cell_type": "markdown",
   "metadata": {},
   "source": [
    "## Create Refssum_manual"
   ]
  },
  {
   "cell_type": "code",
   "execution_count": 239,
   "metadata": {},
   "outputs": [],
   "source": [
    "## This is a grouped list of refs_manual that summarizes the volume of manually reviewed cpt_codes"
   ]
  },
  {
   "cell_type": "code",
   "execution_count": 240,
   "metadata": {},
   "outputs": [],
   "source": [
    "refssum_manual = refs_manual.groupby(['Specialty', 'CPT_Code', 'is_PPL'], as_index=False).agg({\n",
    "    'UNITS' : 'count'\n",
    "})"
   ]
  },
  {
   "cell_type": "code",
   "execution_count": 241,
   "metadata": {},
   "outputs": [],
   "source": [
    "refssum_manual.rename(index=str, columns={'UNITS': 'UNITS_man'}, inplace=True)"
   ]
  },
  {
   "cell_type": "code",
   "execution_count": 242,
   "metadata": {},
   "outputs": [],
   "source": [
    "## refssum_manual.rename(index=str, columns={'NumberOfUserEventsNoViews': 'mean_touches_manual'}, inplace=True)"
   ]
  },
  {
   "cell_type": "code",
   "execution_count": 243,
   "metadata": {},
   "outputs": [],
   "source": [
    "refssum_manual['cost_to_review'] = refssum_manual['UNITS_man']*ga_cpt"
   ]
  },
  {
   "cell_type": "code",
   "execution_count": 244,
   "metadata": {},
   "outputs": [
    {
     "data": {
      "text/html": [
       "<div>\n",
       "<style scoped>\n",
       "    .dataframe tbody tr th:only-of-type {\n",
       "        vertical-align: middle;\n",
       "    }\n",
       "\n",
       "    .dataframe tbody tr th {\n",
       "        vertical-align: top;\n",
       "    }\n",
       "\n",
       "    .dataframe thead th {\n",
       "        text-align: right;\n",
       "    }\n",
       "</style>\n",
       "<table border=\"1\" class=\"dataframe\">\n",
       "  <thead>\n",
       "    <tr style=\"text-align: right;\">\n",
       "      <th></th>\n",
       "      <th>Specialty</th>\n",
       "      <th>CPT_Code</th>\n",
       "      <th>is_PPL</th>\n",
       "      <th>UNITS_man</th>\n",
       "      <th>cost_to_review</th>\n",
       "    </tr>\n",
       "  </thead>\n",
       "  <tbody>\n",
       "    <tr>\n",
       "      <th>0</th>\n",
       "      <td>ACUPUNCTURE</td>\n",
       "      <td>20550</td>\n",
       "      <td>1</td>\n",
       "      <td>1</td>\n",
       "      <td>2.530744</td>\n",
       "    </tr>\n",
       "    <tr>\n",
       "      <th>1</th>\n",
       "      <td>ACUPUNCTURE</td>\n",
       "      <td>20552</td>\n",
       "      <td>1</td>\n",
       "      <td>2</td>\n",
       "      <td>5.061487</td>\n",
       "    </tr>\n",
       "    <tr>\n",
       "      <th>2</th>\n",
       "      <td>ACUPUNCTURE</td>\n",
       "      <td>20610</td>\n",
       "      <td>1</td>\n",
       "      <td>2</td>\n",
       "      <td>5.061487</td>\n",
       "    </tr>\n",
       "    <tr>\n",
       "      <th>3</th>\n",
       "      <td>ACUPUNCTURE</td>\n",
       "      <td>2101</td>\n",
       "      <td>0</td>\n",
       "      <td>12</td>\n",
       "      <td>30.368924</td>\n",
       "    </tr>\n",
       "    <tr>\n",
       "      <th>4</th>\n",
       "      <td>ACUPUNCTURE</td>\n",
       "      <td>2101</td>\n",
       "      <td>1</td>\n",
       "      <td>7</td>\n",
       "      <td>17.715206</td>\n",
       "    </tr>\n",
       "  </tbody>\n",
       "</table>\n",
       "</div>"
      ],
      "text/plain": [
       "     Specialty CPT_Code  is_PPL  UNITS_man  cost_to_review\n",
       "0  ACUPUNCTURE    20550       1          1        2.530744\n",
       "1  ACUPUNCTURE    20552       1          2        5.061487\n",
       "2  ACUPUNCTURE    20610       1          2        5.061487\n",
       "3  ACUPUNCTURE     2101       0         12       30.368924\n",
       "4  ACUPUNCTURE     2101       1          7       17.715206"
      ]
     },
     "execution_count": 244,
     "metadata": {},
     "output_type": "execute_result"
    }
   ],
   "source": [
    "refssum_manual.head()"
   ]
  },
  {
   "cell_type": "markdown",
   "metadata": {},
   "source": [
    "## Create Refssum"
   ]
  },
  {
   "cell_type": "code",
   "execution_count": 245,
   "metadata": {},
   "outputs": [],
   "source": [
    "## This is a grouped list of "
   ]
  },
  {
   "cell_type": "code",
   "execution_count": 246,
   "metadata": {},
   "outputs": [],
   "source": [
    "refssum = refs.groupby(['Specialty', 'CPT_Code', 'is_PPL'], as_index=False).agg({\n",
    "    'UNITS': 'count',\n",
    "    'is_autoapp': 'mean',\n",
    "    'is_den': 'mean',\n",
    "})"
   ]
  },
  {
   "cell_type": "code",
   "execution_count": 247,
   "metadata": {},
   "outputs": [
    {
     "data": {
      "text/html": [
       "<div>\n",
       "<style scoped>\n",
       "    .dataframe tbody tr th:only-of-type {\n",
       "        vertical-align: middle;\n",
       "    }\n",
       "\n",
       "    .dataframe tbody tr th {\n",
       "        vertical-align: top;\n",
       "    }\n",
       "\n",
       "    .dataframe thead th {\n",
       "        text-align: right;\n",
       "    }\n",
       "</style>\n",
       "<table border=\"1\" class=\"dataframe\">\n",
       "  <thead>\n",
       "    <tr style=\"text-align: right;\">\n",
       "      <th></th>\n",
       "      <th>Specialty</th>\n",
       "      <th>CPT_Code</th>\n",
       "      <th>is_PPL</th>\n",
       "      <th>UNITS</th>\n",
       "      <th>is_autoapp</th>\n",
       "      <th>is_den</th>\n",
       "    </tr>\n",
       "  </thead>\n",
       "  <tbody>\n",
       "    <tr>\n",
       "      <th>0</th>\n",
       "      <td>ACUPUNCTURE</td>\n",
       "      <td>20550</td>\n",
       "      <td>1</td>\n",
       "      <td>1</td>\n",
       "      <td>0.0</td>\n",
       "      <td>0.000000</td>\n",
       "    </tr>\n",
       "    <tr>\n",
       "      <th>1</th>\n",
       "      <td>ACUPUNCTURE</td>\n",
       "      <td>20552</td>\n",
       "      <td>1</td>\n",
       "      <td>2</td>\n",
       "      <td>0.0</td>\n",
       "      <td>0.000000</td>\n",
       "    </tr>\n",
       "    <tr>\n",
       "      <th>2</th>\n",
       "      <td>ACUPUNCTURE</td>\n",
       "      <td>20610</td>\n",
       "      <td>1</td>\n",
       "      <td>2</td>\n",
       "      <td>0.0</td>\n",
       "      <td>0.000000</td>\n",
       "    </tr>\n",
       "    <tr>\n",
       "      <th>3</th>\n",
       "      <td>ACUPUNCTURE</td>\n",
       "      <td>2101</td>\n",
       "      <td>0</td>\n",
       "      <td>12</td>\n",
       "      <td>0.0</td>\n",
       "      <td>1.000000</td>\n",
       "    </tr>\n",
       "    <tr>\n",
       "      <th>4</th>\n",
       "      <td>ACUPUNCTURE</td>\n",
       "      <td>2101</td>\n",
       "      <td>1</td>\n",
       "      <td>7</td>\n",
       "      <td>0.0</td>\n",
       "      <td>0.857143</td>\n",
       "    </tr>\n",
       "  </tbody>\n",
       "</table>\n",
       "</div>"
      ],
      "text/plain": [
       "     Specialty CPT_Code  is_PPL  UNITS  is_autoapp    is_den\n",
       "0  ACUPUNCTURE    20550       1      1         0.0  0.000000\n",
       "1  ACUPUNCTURE    20552       1      2         0.0  0.000000\n",
       "2  ACUPUNCTURE    20610       1      2         0.0  0.000000\n",
       "3  ACUPUNCTURE     2101       0     12         0.0  1.000000\n",
       "4  ACUPUNCTURE     2101       1      7         0.0  0.857143"
      ]
     },
     "execution_count": 247,
     "metadata": {},
     "output_type": "execute_result"
    }
   ],
   "source": [
    "refssum.head()"
   ]
  },
  {
   "cell_type": "code",
   "execution_count": 248,
   "metadata": {},
   "outputs": [],
   "source": [
    "refs_w_claims0 = pd.merge(refssum, refssum_manual, on=['Specialty', 'CPT_Code', 'is_PPL'], how='left')"
   ]
  },
  {
   "cell_type": "code",
   "execution_count": 249,
   "metadata": {},
   "outputs": [
    {
     "data": {
      "text/html": [
       "<div>\n",
       "<style scoped>\n",
       "    .dataframe tbody tr th:only-of-type {\n",
       "        vertical-align: middle;\n",
       "    }\n",
       "\n",
       "    .dataframe tbody tr th {\n",
       "        vertical-align: top;\n",
       "    }\n",
       "\n",
       "    .dataframe thead th {\n",
       "        text-align: right;\n",
       "    }\n",
       "</style>\n",
       "<table border=\"1\" class=\"dataframe\">\n",
       "  <thead>\n",
       "    <tr style=\"text-align: right;\">\n",
       "      <th></th>\n",
       "      <th>Specialty</th>\n",
       "      <th>CPT_Code</th>\n",
       "      <th>is_PPL</th>\n",
       "      <th>UNITS</th>\n",
       "      <th>is_autoapp</th>\n",
       "      <th>is_den</th>\n",
       "      <th>UNITS_man</th>\n",
       "      <th>cost_to_review</th>\n",
       "    </tr>\n",
       "  </thead>\n",
       "  <tbody>\n",
       "    <tr>\n",
       "      <th>0</th>\n",
       "      <td>ACUPUNCTURE</td>\n",
       "      <td>20550</td>\n",
       "      <td>1</td>\n",
       "      <td>1</td>\n",
       "      <td>0.0</td>\n",
       "      <td>0.000000</td>\n",
       "      <td>1.0</td>\n",
       "      <td>2.530744</td>\n",
       "    </tr>\n",
       "    <tr>\n",
       "      <th>1</th>\n",
       "      <td>ACUPUNCTURE</td>\n",
       "      <td>20552</td>\n",
       "      <td>1</td>\n",
       "      <td>2</td>\n",
       "      <td>0.0</td>\n",
       "      <td>0.000000</td>\n",
       "      <td>2.0</td>\n",
       "      <td>5.061487</td>\n",
       "    </tr>\n",
       "    <tr>\n",
       "      <th>2</th>\n",
       "      <td>ACUPUNCTURE</td>\n",
       "      <td>20610</td>\n",
       "      <td>1</td>\n",
       "      <td>2</td>\n",
       "      <td>0.0</td>\n",
       "      <td>0.000000</td>\n",
       "      <td>2.0</td>\n",
       "      <td>5.061487</td>\n",
       "    </tr>\n",
       "    <tr>\n",
       "      <th>3</th>\n",
       "      <td>ACUPUNCTURE</td>\n",
       "      <td>2101</td>\n",
       "      <td>0</td>\n",
       "      <td>12</td>\n",
       "      <td>0.0</td>\n",
       "      <td>1.000000</td>\n",
       "      <td>12.0</td>\n",
       "      <td>30.368924</td>\n",
       "    </tr>\n",
       "    <tr>\n",
       "      <th>4</th>\n",
       "      <td>ACUPUNCTURE</td>\n",
       "      <td>2101</td>\n",
       "      <td>1</td>\n",
       "      <td>7</td>\n",
       "      <td>0.0</td>\n",
       "      <td>0.857143</td>\n",
       "      <td>7.0</td>\n",
       "      <td>17.715206</td>\n",
       "    </tr>\n",
       "  </tbody>\n",
       "</table>\n",
       "</div>"
      ],
      "text/plain": [
       "     Specialty CPT_Code  is_PPL  UNITS  is_autoapp    is_den  UNITS_man  \\\n",
       "0  ACUPUNCTURE    20550       1      1         0.0  0.000000        1.0   \n",
       "1  ACUPUNCTURE    20552       1      2         0.0  0.000000        2.0   \n",
       "2  ACUPUNCTURE    20610       1      2         0.0  0.000000        2.0   \n",
       "3  ACUPUNCTURE     2101       0     12         0.0  1.000000       12.0   \n",
       "4  ACUPUNCTURE     2101       1      7         0.0  0.857143        7.0   \n",
       "\n",
       "   cost_to_review  \n",
       "0        2.530744  \n",
       "1        5.061487  \n",
       "2        5.061487  \n",
       "3       30.368924  \n",
       "4       17.715206  "
      ]
     },
     "execution_count": 249,
     "metadata": {},
     "output_type": "execute_result"
    }
   ],
   "source": [
    "refs_w_claims0.head()"
   ]
  },
  {
   "cell_type": "code",
   "execution_count": 250,
   "metadata": {},
   "outputs": [
    {
     "data": {
      "text/html": [
       "<div>\n",
       "<style scoped>\n",
       "    .dataframe tbody tr th:only-of-type {\n",
       "        vertical-align: middle;\n",
       "    }\n",
       "\n",
       "    .dataframe tbody tr th {\n",
       "        vertical-align: top;\n",
       "    }\n",
       "\n",
       "    .dataframe thead th {\n",
       "        text-align: right;\n",
       "    }\n",
       "</style>\n",
       "<table border=\"1\" class=\"dataframe\">\n",
       "  <thead>\n",
       "    <tr style=\"text-align: right;\">\n",
       "      <th></th>\n",
       "      <th>Specialty</th>\n",
       "      <th>CPT_Code</th>\n",
       "      <th>cnt_hcp_cost</th>\n",
       "      <th>avg_hcp_cost</th>\n",
       "      <th>sd_hcp_cost</th>\n",
       "    </tr>\n",
       "  </thead>\n",
       "  <tbody>\n",
       "    <tr>\n",
       "      <th>0</th>\n",
       "      <td>ACUPUNCTURE</td>\n",
       "      <td>97010</td>\n",
       "      <td>9</td>\n",
       "      <td>65.0000</td>\n",
       "      <td>0.000000</td>\n",
       "    </tr>\n",
       "    <tr>\n",
       "      <th>1</th>\n",
       "      <td>ACUPUNCTURE</td>\n",
       "      <td>97016</td>\n",
       "      <td>171</td>\n",
       "      <td>19.5935</td>\n",
       "      <td>16.730112</td>\n",
       "    </tr>\n",
       "    <tr>\n",
       "      <th>2</th>\n",
       "      <td>ACUPUNCTURE</td>\n",
       "      <td>97024</td>\n",
       "      <td>1</td>\n",
       "      <td>10.0000</td>\n",
       "      <td>NaN</td>\n",
       "    </tr>\n",
       "    <tr>\n",
       "      <th>3</th>\n",
       "      <td>ACUPUNCTURE</td>\n",
       "      <td>97026</td>\n",
       "      <td>252</td>\n",
       "      <td>4.6179</td>\n",
       "      <td>1.371409</td>\n",
       "    </tr>\n",
       "    <tr>\n",
       "      <th>4</th>\n",
       "      <td>ACUPUNCTURE</td>\n",
       "      <td>97110</td>\n",
       "      <td>7</td>\n",
       "      <td>41.4285</td>\n",
       "      <td>7.480132</td>\n",
       "    </tr>\n",
       "  </tbody>\n",
       "</table>\n",
       "</div>"
      ],
      "text/plain": [
       "     Specialty CPT_Code  cnt_hcp_cost  avg_hcp_cost  sd_hcp_cost\n",
       "0  ACUPUNCTURE    97010             9       65.0000     0.000000\n",
       "1  ACUPUNCTURE    97016           171       19.5935    16.730112\n",
       "2  ACUPUNCTURE    97024             1       10.0000          NaN\n",
       "3  ACUPUNCTURE    97026           252        4.6179     1.371409\n",
       "4  ACUPUNCTURE    97110             7       41.4285     7.480132"
      ]
     },
     "execution_count": 250,
     "metadata": {},
     "output_type": "execute_result"
    }
   ],
   "source": [
    "claims.head()"
   ]
  },
  {
   "cell_type": "code",
   "execution_count": 251,
   "metadata": {},
   "outputs": [],
   "source": [
    "refs_w_claims1 = pd.merge(refs_w_claims0, claims, on=['Specialty', 'CPT_Code'], how='left')"
   ]
  },
  {
   "cell_type": "code",
   "execution_count": 252,
   "metadata": {},
   "outputs": [
    {
     "data": {
      "text/html": [
       "<div>\n",
       "<style scoped>\n",
       "    .dataframe tbody tr th:only-of-type {\n",
       "        vertical-align: middle;\n",
       "    }\n",
       "\n",
       "    .dataframe tbody tr th {\n",
       "        vertical-align: top;\n",
       "    }\n",
       "\n",
       "    .dataframe thead th {\n",
       "        text-align: right;\n",
       "    }\n",
       "</style>\n",
       "<table border=\"1\" class=\"dataframe\">\n",
       "  <thead>\n",
       "    <tr style=\"text-align: right;\">\n",
       "      <th></th>\n",
       "      <th>Specialty</th>\n",
       "      <th>CPT_Code</th>\n",
       "      <th>is_PPL</th>\n",
       "      <th>UNITS</th>\n",
       "      <th>is_autoapp</th>\n",
       "      <th>is_den</th>\n",
       "      <th>UNITS_man</th>\n",
       "      <th>cost_to_review</th>\n",
       "      <th>cnt_hcp_cost</th>\n",
       "      <th>avg_hcp_cost</th>\n",
       "      <th>sd_hcp_cost</th>\n",
       "    </tr>\n",
       "  </thead>\n",
       "  <tbody>\n",
       "    <tr>\n",
       "      <th>3748</th>\n",
       "      <td>CARDIOLOGY</td>\n",
       "      <td>0095T</td>\n",
       "      <td>0</td>\n",
       "      <td>1</td>\n",
       "      <td>0.000000</td>\n",
       "      <td>0.000000</td>\n",
       "      <td>1.0</td>\n",
       "      <td>2.530744</td>\n",
       "      <td>NaN</td>\n",
       "      <td>NaN</td>\n",
       "      <td>NaN</td>\n",
       "    </tr>\n",
       "    <tr>\n",
       "      <th>3749</th>\n",
       "      <td>CARDIOLOGY</td>\n",
       "      <td>01922</td>\n",
       "      <td>0</td>\n",
       "      <td>2</td>\n",
       "      <td>0.000000</td>\n",
       "      <td>0.000000</td>\n",
       "      <td>2.0</td>\n",
       "      <td>5.061487</td>\n",
       "      <td>NaN</td>\n",
       "      <td>NaN</td>\n",
       "      <td>NaN</td>\n",
       "    </tr>\n",
       "    <tr>\n",
       "      <th>3750</th>\n",
       "      <td>CARDIOLOGY</td>\n",
       "      <td>0295T</td>\n",
       "      <td>0</td>\n",
       "      <td>51</td>\n",
       "      <td>0.000000</td>\n",
       "      <td>0.000000</td>\n",
       "      <td>51.0</td>\n",
       "      <td>129.067927</td>\n",
       "      <td>4.0</td>\n",
       "      <td>73.4375</td>\n",
       "      <td>18.880290</td>\n",
       "    </tr>\n",
       "    <tr>\n",
       "      <th>3751</th>\n",
       "      <td>CARDIOLOGY</td>\n",
       "      <td>0295T</td>\n",
       "      <td>1</td>\n",
       "      <td>132</td>\n",
       "      <td>0.833333</td>\n",
       "      <td>0.007576</td>\n",
       "      <td>22.0</td>\n",
       "      <td>55.676361</td>\n",
       "      <td>4.0</td>\n",
       "      <td>73.4375</td>\n",
       "      <td>18.880290</td>\n",
       "    </tr>\n",
       "    <tr>\n",
       "      <th>3752</th>\n",
       "      <td>CARDIOLOGY</td>\n",
       "      <td>0296T</td>\n",
       "      <td>0</td>\n",
       "      <td>100</td>\n",
       "      <td>0.000000</td>\n",
       "      <td>0.000000</td>\n",
       "      <td>100.0</td>\n",
       "      <td>253.074367</td>\n",
       "      <td>38.0</td>\n",
       "      <td>63.7007</td>\n",
       "      <td>204.695494</td>\n",
       "    </tr>\n",
       "  </tbody>\n",
       "</table>\n",
       "</div>"
      ],
      "text/plain": [
       "       Specialty CPT_Code  is_PPL  UNITS  is_autoapp    is_den  UNITS_man  \\\n",
       "3748  CARDIOLOGY    0095T       0      1    0.000000  0.000000        1.0   \n",
       "3749  CARDIOLOGY    01922       0      2    0.000000  0.000000        2.0   \n",
       "3750  CARDIOLOGY    0295T       0     51    0.000000  0.000000       51.0   \n",
       "3751  CARDIOLOGY    0295T       1    132    0.833333  0.007576       22.0   \n",
       "3752  CARDIOLOGY    0296T       0    100    0.000000  0.000000      100.0   \n",
       "\n",
       "      cost_to_review  cnt_hcp_cost  avg_hcp_cost  sd_hcp_cost  \n",
       "3748        2.530744           NaN           NaN          NaN  \n",
       "3749        5.061487           NaN           NaN          NaN  \n",
       "3750      129.067927           4.0       73.4375    18.880290  \n",
       "3751       55.676361           4.0       73.4375    18.880290  \n",
       "3752      253.074367          38.0       63.7007   204.695494  "
      ]
     },
     "execution_count": 252,
     "metadata": {},
     "output_type": "execute_result"
    }
   ],
   "source": [
    "refs_w_claims1[refs_w_claims1['Specialty']=='CARDIOLOGY'].head()"
   ]
  },
  {
   "cell_type": "code",
   "execution_count": 253,
   "metadata": {},
   "outputs": [],
   "source": [
    "## For spec/cpt combos that don't have claims data associated, use the average of that cpt across specialties\n",
    "refs_w_claims2 = pd.merge(refs_w_claims1, claims_sum, on='CPT_Code', how='left')"
   ]
  },
  {
   "cell_type": "code",
   "execution_count": 254,
   "metadata": {},
   "outputs": [],
   "source": [
    "refs_w_claims2['avg_hcp_cost_x'] = np.where(refs_w_claims2['avg_hcp_cost_x'].isnull(), \n",
    "                                             refs_w_claims2['avg_hcp_cost_y'],\n",
    "                                             refs_w_claims2['avg_hcp_cost_x'])"
   ]
  },
  {
   "cell_type": "code",
   "execution_count": 255,
   "metadata": {},
   "outputs": [],
   "source": [
    "refs_w_claims2.drop(columns=['avg_hcp_cost_y', 'sd_hcp_cost'], inplace=True)"
   ]
  },
  {
   "cell_type": "code",
   "execution_count": 256,
   "metadata": {},
   "outputs": [],
   "source": [
    "refs_w_claims2.rename(index=str, columns={'avg_hcp_cost_x': 'avg_hcp_cost'}, inplace=True)"
   ]
  },
  {
   "cell_type": "code",
   "execution_count": 257,
   "metadata": {},
   "outputs": [
    {
     "data": {
      "text/html": [
       "<div>\n",
       "<style scoped>\n",
       "    .dataframe tbody tr th:only-of-type {\n",
       "        vertical-align: middle;\n",
       "    }\n",
       "\n",
       "    .dataframe tbody tr th {\n",
       "        vertical-align: top;\n",
       "    }\n",
       "\n",
       "    .dataframe thead th {\n",
       "        text-align: right;\n",
       "    }\n",
       "</style>\n",
       "<table border=\"1\" class=\"dataframe\">\n",
       "  <thead>\n",
       "    <tr style=\"text-align: right;\">\n",
       "      <th></th>\n",
       "      <th>Specialty</th>\n",
       "      <th>CPT_Code</th>\n",
       "      <th>is_PPL</th>\n",
       "      <th>UNITS</th>\n",
       "      <th>is_autoapp</th>\n",
       "      <th>is_den</th>\n",
       "      <th>UNITS_man</th>\n",
       "      <th>cost_to_review</th>\n",
       "      <th>cnt_hcp_cost</th>\n",
       "      <th>avg_hcp_cost</th>\n",
       "    </tr>\n",
       "  </thead>\n",
       "  <tbody>\n",
       "    <tr>\n",
       "      <th>3748</th>\n",
       "      <td>CARDIOLOGY</td>\n",
       "      <td>0095T</td>\n",
       "      <td>0</td>\n",
       "      <td>1</td>\n",
       "      <td>0.000000</td>\n",
       "      <td>0.000000</td>\n",
       "      <td>1.0</td>\n",
       "      <td>2.530744</td>\n",
       "      <td>NaN</td>\n",
       "      <td>NaN</td>\n",
       "    </tr>\n",
       "    <tr>\n",
       "      <th>3749</th>\n",
       "      <td>CARDIOLOGY</td>\n",
       "      <td>01922</td>\n",
       "      <td>0</td>\n",
       "      <td>2</td>\n",
       "      <td>0.000000</td>\n",
       "      <td>0.000000</td>\n",
       "      <td>2.0</td>\n",
       "      <td>5.061487</td>\n",
       "      <td>NaN</td>\n",
       "      <td>604.416083</td>\n",
       "    </tr>\n",
       "    <tr>\n",
       "      <th>3750</th>\n",
       "      <td>CARDIOLOGY</td>\n",
       "      <td>0295T</td>\n",
       "      <td>0</td>\n",
       "      <td>51</td>\n",
       "      <td>0.000000</td>\n",
       "      <td>0.000000</td>\n",
       "      <td>51.0</td>\n",
       "      <td>129.067927</td>\n",
       "      <td>4.0</td>\n",
       "      <td>73.437500</td>\n",
       "    </tr>\n",
       "    <tr>\n",
       "      <th>3751</th>\n",
       "      <td>CARDIOLOGY</td>\n",
       "      <td>0295T</td>\n",
       "      <td>1</td>\n",
       "      <td>132</td>\n",
       "      <td>0.833333</td>\n",
       "      <td>0.007576</td>\n",
       "      <td>22.0</td>\n",
       "      <td>55.676361</td>\n",
       "      <td>4.0</td>\n",
       "      <td>73.437500</td>\n",
       "    </tr>\n",
       "    <tr>\n",
       "      <th>3752</th>\n",
       "      <td>CARDIOLOGY</td>\n",
       "      <td>0296T</td>\n",
       "      <td>0</td>\n",
       "      <td>100</td>\n",
       "      <td>0.000000</td>\n",
       "      <td>0.000000</td>\n",
       "      <td>100.0</td>\n",
       "      <td>253.074367</td>\n",
       "      <td>38.0</td>\n",
       "      <td>63.700700</td>\n",
       "    </tr>\n",
       "  </tbody>\n",
       "</table>\n",
       "</div>"
      ],
      "text/plain": [
       "       Specialty CPT_Code  is_PPL  UNITS  is_autoapp    is_den  UNITS_man  \\\n",
       "3748  CARDIOLOGY    0095T       0      1    0.000000  0.000000        1.0   \n",
       "3749  CARDIOLOGY    01922       0      2    0.000000  0.000000        2.0   \n",
       "3750  CARDIOLOGY    0295T       0     51    0.000000  0.000000       51.0   \n",
       "3751  CARDIOLOGY    0295T       1    132    0.833333  0.007576       22.0   \n",
       "3752  CARDIOLOGY    0296T       0    100    0.000000  0.000000      100.0   \n",
       "\n",
       "      cost_to_review  cnt_hcp_cost  avg_hcp_cost  \n",
       "3748        2.530744           NaN           NaN  \n",
       "3749        5.061487           NaN    604.416083  \n",
       "3750      129.067927           4.0     73.437500  \n",
       "3751       55.676361           4.0     73.437500  \n",
       "3752      253.074367          38.0     63.700700  "
      ]
     },
     "execution_count": 257,
     "metadata": {},
     "output_type": "execute_result"
    }
   ],
   "source": [
    "refs_w_claims2[refs_w_claims2['Specialty']=='CARDIOLOGY'].head()"
   ]
  },
  {
   "cell_type": "code",
   "execution_count": 258,
   "metadata": {},
   "outputs": [],
   "source": [
    "refs_w_claims_fin = refs_w_claims2"
   ]
  },
  {
   "cell_type": "code",
   "execution_count": 259,
   "metadata": {},
   "outputs": [
    {
     "data": {
      "text/plain": [
       "1687"
      ]
     },
     "execution_count": 259,
     "metadata": {},
     "output_type": "execute_result"
    }
   ],
   "source": [
    "refs_w_claims_fin[(refs_w_claims_fin['UNITS_man'].isnull())].shape[0]"
   ]
  },
  {
   "cell_type": "markdown",
   "metadata": {},
   "source": [
    "## Calculate ROI"
   ]
  },
  {
   "cell_type": "code",
   "execution_count": 260,
   "metadata": {},
   "outputs": [],
   "source": [
    "refs_w_claims_fin['sum_cost_denied'] = refs_w_claims_fin['is_den']*refs_w_claims_fin['UNITS']*refs_w_claims_fin['avg_hcp_cost']"
   ]
  },
  {
   "cell_type": "code",
   "execution_count": 261,
   "metadata": {},
   "outputs": [],
   "source": [
    "refs_w_claims_fin['UNITS_man'] = np.where(refs_w_claims_fin['UNITS_man'].isnull(), 0, refs_w_claims_fin['UNITS_man'])"
   ]
  },
  {
   "cell_type": "code",
   "execution_count": 262,
   "metadata": {},
   "outputs": [],
   "source": [
    "refs_w_claims_fin['ROI'] = refs_w_claims_fin['sum_cost_denied']/refs_w_claims_fin['cost_to_review']"
   ]
  },
  {
   "cell_type": "code",
   "execution_count": null,
   "metadata": {},
   "outputs": [],
   "source": []
  },
  {
   "cell_type": "code",
   "execution_count": 263,
   "metadata": {},
   "outputs": [
    {
     "data": {
      "text/html": [
       "<div>\n",
       "<style scoped>\n",
       "    .dataframe tbody tr th:only-of-type {\n",
       "        vertical-align: middle;\n",
       "    }\n",
       "\n",
       "    .dataframe tbody tr th {\n",
       "        vertical-align: top;\n",
       "    }\n",
       "\n",
       "    .dataframe thead th {\n",
       "        text-align: right;\n",
       "    }\n",
       "</style>\n",
       "<table border=\"1\" class=\"dataframe\">\n",
       "  <thead>\n",
       "    <tr style=\"text-align: right;\">\n",
       "      <th></th>\n",
       "      <th>Specialty</th>\n",
       "      <th>CPT_Code</th>\n",
       "      <th>is_PPL</th>\n",
       "      <th>UNITS</th>\n",
       "      <th>is_autoapp</th>\n",
       "      <th>is_den</th>\n",
       "      <th>UNITS_man</th>\n",
       "      <th>cost_to_review</th>\n",
       "      <th>cnt_hcp_cost</th>\n",
       "      <th>avg_hcp_cost</th>\n",
       "      <th>sum_cost_denied</th>\n",
       "      <th>ROI</th>\n",
       "    </tr>\n",
       "  </thead>\n",
       "  <tbody>\n",
       "    <tr>\n",
       "      <th>3748</th>\n",
       "      <td>CARDIOLOGY</td>\n",
       "      <td>0095T</td>\n",
       "      <td>0</td>\n",
       "      <td>1</td>\n",
       "      <td>0.0</td>\n",
       "      <td>0.0</td>\n",
       "      <td>1.0</td>\n",
       "      <td>2.530744</td>\n",
       "      <td>NaN</td>\n",
       "      <td>NaN</td>\n",
       "      <td>NaN</td>\n",
       "      <td>NaN</td>\n",
       "    </tr>\n",
       "    <tr>\n",
       "      <th>3760</th>\n",
       "      <td>CARDIOLOGY</td>\n",
       "      <td>0389T</td>\n",
       "      <td>1</td>\n",
       "      <td>1</td>\n",
       "      <td>1.0</td>\n",
       "      <td>0.0</td>\n",
       "      <td>0.0</td>\n",
       "      <td>NaN</td>\n",
       "      <td>2.0</td>\n",
       "      <td>51.31500</td>\n",
       "      <td>0.0</td>\n",
       "      <td>NaN</td>\n",
       "    </tr>\n",
       "    <tr>\n",
       "      <th>3763</th>\n",
       "      <td>CARDIOLOGY</td>\n",
       "      <td>0399T</td>\n",
       "      <td>1</td>\n",
       "      <td>4</td>\n",
       "      <td>1.0</td>\n",
       "      <td>0.0</td>\n",
       "      <td>0.0</td>\n",
       "      <td>NaN</td>\n",
       "      <td>NaN</td>\n",
       "      <td>456.35500</td>\n",
       "      <td>0.0</td>\n",
       "      <td>NaN</td>\n",
       "    </tr>\n",
       "    <tr>\n",
       "      <th>3764</th>\n",
       "      <td>CARDIOLOGY</td>\n",
       "      <td>0545F</td>\n",
       "      <td>1</td>\n",
       "      <td>1</td>\n",
       "      <td>1.0</td>\n",
       "      <td>0.0</td>\n",
       "      <td>0.0</td>\n",
       "      <td>NaN</td>\n",
       "      <td>NaN</td>\n",
       "      <td>NaN</td>\n",
       "      <td>NaN</td>\n",
       "      <td>NaN</td>\n",
       "    </tr>\n",
       "    <tr>\n",
       "      <th>3765</th>\n",
       "      <td>CARDIOLOGY</td>\n",
       "      <td>1111F</td>\n",
       "      <td>1</td>\n",
       "      <td>1</td>\n",
       "      <td>1.0</td>\n",
       "      <td>0.0</td>\n",
       "      <td>0.0</td>\n",
       "      <td>NaN</td>\n",
       "      <td>NaN</td>\n",
       "      <td>NaN</td>\n",
       "      <td>NaN</td>\n",
       "      <td>NaN</td>\n",
       "    </tr>\n",
       "    <tr>\n",
       "      <th>3768</th>\n",
       "      <td>CARDIOLOGY</td>\n",
       "      <td>300</td>\n",
       "      <td>0</td>\n",
       "      <td>0</td>\n",
       "      <td>0.0</td>\n",
       "      <td>0.0</td>\n",
       "      <td>0.0</td>\n",
       "      <td>0.000000</td>\n",
       "      <td>NaN</td>\n",
       "      <td>308.81595</td>\n",
       "      <td>0.0</td>\n",
       "      <td>NaN</td>\n",
       "    </tr>\n",
       "    <tr>\n",
       "      <th>3769</th>\n",
       "      <td>CARDIOLOGY</td>\n",
       "      <td>3120F</td>\n",
       "      <td>1</td>\n",
       "      <td>2</td>\n",
       "      <td>0.0</td>\n",
       "      <td>0.0</td>\n",
       "      <td>2.0</td>\n",
       "      <td>5.061487</td>\n",
       "      <td>NaN</td>\n",
       "      <td>NaN</td>\n",
       "      <td>NaN</td>\n",
       "      <td>NaN</td>\n",
       "    </tr>\n",
       "    <tr>\n",
       "      <th>3780</th>\n",
       "      <td>CARDIOLOGY</td>\n",
       "      <td>33220</td>\n",
       "      <td>0</td>\n",
       "      <td>1</td>\n",
       "      <td>0.0</td>\n",
       "      <td>0.0</td>\n",
       "      <td>1.0</td>\n",
       "      <td>2.530744</td>\n",
       "      <td>NaN</td>\n",
       "      <td>NaN</td>\n",
       "      <td>NaN</td>\n",
       "      <td>NaN</td>\n",
       "    </tr>\n",
       "    <tr>\n",
       "      <th>3804</th>\n",
       "      <td>CARDIOLOGY</td>\n",
       "      <td>33271</td>\n",
       "      <td>0</td>\n",
       "      <td>1</td>\n",
       "      <td>0.0</td>\n",
       "      <td>0.0</td>\n",
       "      <td>1.0</td>\n",
       "      <td>2.530744</td>\n",
       "      <td>NaN</td>\n",
       "      <td>NaN</td>\n",
       "      <td>NaN</td>\n",
       "      <td>NaN</td>\n",
       "    </tr>\n",
       "    <tr>\n",
       "      <th>3806</th>\n",
       "      <td>CARDIOLOGY</td>\n",
       "      <td>33273</td>\n",
       "      <td>0</td>\n",
       "      <td>1</td>\n",
       "      <td>0.0</td>\n",
       "      <td>0.0</td>\n",
       "      <td>1.0</td>\n",
       "      <td>2.530744</td>\n",
       "      <td>NaN</td>\n",
       "      <td>NaN</td>\n",
       "      <td>NaN</td>\n",
       "      <td>NaN</td>\n",
       "    </tr>\n",
       "    <tr>\n",
       "      <th>3839</th>\n",
       "      <td>CARDIOLOGY</td>\n",
       "      <td>36254</td>\n",
       "      <td>0</td>\n",
       "      <td>1</td>\n",
       "      <td>0.0</td>\n",
       "      <td>0.0</td>\n",
       "      <td>1.0</td>\n",
       "      <td>2.530744</td>\n",
       "      <td>NaN</td>\n",
       "      <td>NaN</td>\n",
       "      <td>NaN</td>\n",
       "      <td>NaN</td>\n",
       "    </tr>\n",
       "    <tr>\n",
       "      <th>3845</th>\n",
       "      <td>CARDIOLOGY</td>\n",
       "      <td>36474</td>\n",
       "      <td>0</td>\n",
       "      <td>1</td>\n",
       "      <td>0.0</td>\n",
       "      <td>0.0</td>\n",
       "      <td>1.0</td>\n",
       "      <td>2.530744</td>\n",
       "      <td>NaN</td>\n",
       "      <td>NaN</td>\n",
       "      <td>NaN</td>\n",
       "      <td>NaN</td>\n",
       "    </tr>\n",
       "    <tr>\n",
       "      <th>3849</th>\n",
       "      <td>CARDIOLOGY</td>\n",
       "      <td>36476</td>\n",
       "      <td>1</td>\n",
       "      <td>2</td>\n",
       "      <td>1.0</td>\n",
       "      <td>0.0</td>\n",
       "      <td>0.0</td>\n",
       "      <td>NaN</td>\n",
       "      <td>NaN</td>\n",
       "      <td>245.23375</td>\n",
       "      <td>0.0</td>\n",
       "      <td>NaN</td>\n",
       "    </tr>\n",
       "    <tr>\n",
       "      <th>3851</th>\n",
       "      <td>CARDIOLOGY</td>\n",
       "      <td>36478</td>\n",
       "      <td>1</td>\n",
       "      <td>1</td>\n",
       "      <td>1.0</td>\n",
       "      <td>0.0</td>\n",
       "      <td>0.0</td>\n",
       "      <td>NaN</td>\n",
       "      <td>6.0</td>\n",
       "      <td>1177.21830</td>\n",
       "      <td>0.0</td>\n",
       "      <td>NaN</td>\n",
       "    </tr>\n",
       "    <tr>\n",
       "      <th>3867</th>\n",
       "      <td>CARDIOLOGY</td>\n",
       "      <td>37218</td>\n",
       "      <td>0</td>\n",
       "      <td>1</td>\n",
       "      <td>0.0</td>\n",
       "      <td>0.0</td>\n",
       "      <td>1.0</td>\n",
       "      <td>2.530744</td>\n",
       "      <td>NaN</td>\n",
       "      <td>NaN</td>\n",
       "      <td>NaN</td>\n",
       "      <td>NaN</td>\n",
       "    </tr>\n",
       "  </tbody>\n",
       "</table>\n",
       "</div>"
      ],
      "text/plain": [
       "       Specialty CPT_Code  is_PPL  UNITS  is_autoapp  is_den  UNITS_man  \\\n",
       "3748  CARDIOLOGY    0095T       0      1         0.0     0.0        1.0   \n",
       "3760  CARDIOLOGY    0389T       1      1         1.0     0.0        0.0   \n",
       "3763  CARDIOLOGY    0399T       1      4         1.0     0.0        0.0   \n",
       "3764  CARDIOLOGY    0545F       1      1         1.0     0.0        0.0   \n",
       "3765  CARDIOLOGY    1111F       1      1         1.0     0.0        0.0   \n",
       "3768  CARDIOLOGY      300       0      0         0.0     0.0        0.0   \n",
       "3769  CARDIOLOGY    3120F       1      2         0.0     0.0        2.0   \n",
       "3780  CARDIOLOGY    33220       0      1         0.0     0.0        1.0   \n",
       "3804  CARDIOLOGY    33271       0      1         0.0     0.0        1.0   \n",
       "3806  CARDIOLOGY    33273       0      1         0.0     0.0        1.0   \n",
       "3839  CARDIOLOGY    36254       0      1         0.0     0.0        1.0   \n",
       "3845  CARDIOLOGY    36474       0      1         0.0     0.0        1.0   \n",
       "3849  CARDIOLOGY    36476       1      2         1.0     0.0        0.0   \n",
       "3851  CARDIOLOGY    36478       1      1         1.0     0.0        0.0   \n",
       "3867  CARDIOLOGY    37218       0      1         0.0     0.0        1.0   \n",
       "\n",
       "      cost_to_review  cnt_hcp_cost  avg_hcp_cost  sum_cost_denied  ROI  \n",
       "3748        2.530744           NaN           NaN              NaN  NaN  \n",
       "3760             NaN           2.0      51.31500              0.0  NaN  \n",
       "3763             NaN           NaN     456.35500              0.0  NaN  \n",
       "3764             NaN           NaN           NaN              NaN  NaN  \n",
       "3765             NaN           NaN           NaN              NaN  NaN  \n",
       "3768        0.000000           NaN     308.81595              0.0  NaN  \n",
       "3769        5.061487           NaN           NaN              NaN  NaN  \n",
       "3780        2.530744           NaN           NaN              NaN  NaN  \n",
       "3804        2.530744           NaN           NaN              NaN  NaN  \n",
       "3806        2.530744           NaN           NaN              NaN  NaN  \n",
       "3839        2.530744           NaN           NaN              NaN  NaN  \n",
       "3845        2.530744           NaN           NaN              NaN  NaN  \n",
       "3849             NaN           NaN     245.23375              0.0  NaN  \n",
       "3851             NaN           6.0    1177.21830              0.0  NaN  \n",
       "3867        2.530744           NaN           NaN              NaN  NaN  "
      ]
     },
     "execution_count": 263,
     "metadata": {},
     "output_type": "execute_result"
    }
   ],
   "source": [
    "refs_w_claims_fin[(refs_w_claims_fin['ROI'].isnull()) &\n",
    "                 (refs_w_claims_fin['Specialty']=='CARDIOLOGY')].head(15)"
   ]
  },
  {
   "cell_type": "code",
   "execution_count": 264,
   "metadata": {},
   "outputs": [
    {
     "data": {
      "text/plain": [
       "20674"
      ]
     },
     "execution_count": 264,
     "metadata": {},
     "output_type": "execute_result"
    }
   ],
   "source": [
    "refs_w_claims_fin[(refs_w_claims_fin['ROI'].isnull())]['UNITS'].sum()"
   ]
  },
  {
   "cell_type": "code",
   "execution_count": 265,
   "metadata": {},
   "outputs": [],
   "source": [
    "## For groups where we don't know the average cost from 2018, the denominator of ROI is 0, and ROI is undefined. \n",
    "## Update the ROI for those to = 100 so they are NOT included in the dictionaries to auto-approve going forward.\n",
    "refs_w_claims_fin['ROI'] = np.where(refs_w_claims_fin['avg_hcp_cost'].isnull(), 100, refs_w_claims_fin['ROI'])"
   ]
  },
  {
   "cell_type": "code",
   "execution_count": 266,
   "metadata": {},
   "outputs": [],
   "source": [
    "## For groups that were auto-approved at 100%, the denominator of ROI is 0, and ROI is undefined. \n",
    "## Update the ROI for those to = 0 so they are included in the dictionaries to auto-approve going forward.\n",
    "refs_w_claims_fin['ROI'] = np.where(refs_w_claims_fin['ROI'].isnull(), 0.01, refs_w_claims_fin['ROI'])\n",
    "        "
   ]
  },
  {
   "cell_type": "code",
   "execution_count": 267,
   "metadata": {},
   "outputs": [
    {
     "data": {
      "text/plain": [
       "6205806.109993908"
      ]
     },
     "execution_count": 267,
     "metadata": {},
     "output_type": "execute_result"
    }
   ],
   "source": [
    "refs_w_claims_fin['cost_to_review'].sum()"
   ]
  },
  {
   "cell_type": "code",
   "execution_count": 268,
   "metadata": {},
   "outputs": [],
   "source": [
    "refs_w_claims_fin['fin_aa_rec'] = np.where(refs_w_claims_fin['ROI']<1, 1, 0)"
   ]
  },
  {
   "cell_type": "markdown",
   "metadata": {},
   "source": [
    "## Create Dictionaries"
   ]
  },
  {
   "cell_type": "code",
   "execution_count": 269,
   "metadata": {},
   "outputs": [],
   "source": [
    "## Model Additional Auto Approvals when different thresholds are set.\n",
    "## Approach: use \"given\" threshold to determine which CPT codes are \"auto-approve\"-able for each specialty\n",
    "##  - For loop through referrals, return 1 if all CPT codes are on \"auto-approve\"-able list, else 0 "
   ]
  },
  {
   "cell_type": "code",
   "execution_count": 270,
   "metadata": {},
   "outputs": [],
   "source": [
    "list_o_specs = list(set(refs['Specialty'].unique().tolist() + refs_new['Specialty'].unique().tolist()))"
   ]
  },
  {
   "cell_type": "code",
   "execution_count": 271,
   "metadata": {},
   "outputs": [],
   "source": [
    "#v1_codes_to_approve = pd.read_csv('../Data/V1_codes_to_approve.csv')"
   ]
  },
  {
   "cell_type": "code",
   "execution_count": 272,
   "metadata": {},
   "outputs": [],
   "source": [
    "list_o_types_to_pend = ['INPT ADM', 'EMERGENCY ROOM', 'DAY SURG', 'OOA INPT', \n",
    "                        'SKILLED NURSING', 'OBSERVATION', 'OB OBSERVATION']"
   ]
  },
  {
   "cell_type": "code",
   "execution_count": 273,
   "metadata": {},
   "outputs": [],
   "source": [
    "## Function that gathers CPT codes that are auto-approvable and stores them in a dictionary.\n",
    "def create_dict_of_CPT_codes(specialty_cpt, list_o_specs, PPL=1):\n",
    "    spec_dict = {k: [] for k in list_o_specs}\n",
    "    for index, row in specialty_cpt.iterrows():\n",
    "        if row['fin_aa_rec'] == 1:\n",
    "            if row['is_PPL'] == PPL:\n",
    "                if row['UNITS'] > 30:\n",
    "                    spec_dict[row['Specialty']].append(row['CPT_Code'])\n",
    "    return spec_dict\n",
    "            "
   ]
  },
  {
   "cell_type": "code",
   "execution_count": 274,
   "metadata": {},
   "outputs": [],
   "source": [
    "## Function that gathers CPT codes that should be pended and stores them in a dictionary.\n",
    "def create_dict_of_CPT_codes_v2(specialty_cpt, list_o_specs, PPL=1):\n",
    "    spec_dict = {k: [] for k in list_o_specs}\n",
    "    for index, row in specialty_cpt.iterrows():\n",
    "        if row['fin_aa_rec'] == 0:\n",
    "            if row['is_PPL'] == PPL:\n",
    "                spec_dict[row['Specialty']].append(row['CPT_Code'])\n",
    "    return spec_dict\n",
    "            "
   ]
  },
  {
   "cell_type": "code",
   "execution_count": 275,
   "metadata": {},
   "outputs": [],
   "source": [
    "#spec_dict_PPL = create_dict_of_CPT_codes(v1_codes_to_approve, list_o_specs)"
   ]
  },
  {
   "cell_type": "code",
   "execution_count": 276,
   "metadata": {},
   "outputs": [],
   "source": [
    "spec_dict_PPL = create_dict_of_CPT_codes(refs_w_claims_fin, list_o_specs)"
   ]
  },
  {
   "cell_type": "code",
   "execution_count": 277,
   "metadata": {},
   "outputs": [],
   "source": [
    "spec_dict_EPL = {k: [] for k in list_o_specs}"
   ]
  },
  {
   "cell_type": "code",
   "execution_count": 278,
   "metadata": {},
   "outputs": [],
   "source": [
    "spec_dict_EPL = create_dict_of_CPT_codes(refs_w_claims_fin, list_o_specs, PPL=0)"
   ]
  },
  {
   "cell_type": "code",
   "execution_count": 279,
   "metadata": {},
   "outputs": [
    {
     "data": {
      "text/plain": [
       "['10022',\n",
       " '36416',\n",
       " '76536',\n",
       " '76942',\n",
       " '81002',\n",
       " '82947',\n",
       " '82962',\n",
       " '83036',\n",
       " '95250',\n",
       " '95251',\n",
       " '96372',\n",
       " '99091',\n",
       " '99203',\n",
       " '99204',\n",
       " '99213',\n",
       " '99214',\n",
       " '99215',\n",
       " 'J3489',\n",
       " 'Z7500']"
      ]
     },
     "execution_count": 279,
     "metadata": {},
     "output_type": "execute_result"
    }
   ],
   "source": [
    "spec_dict_PPL['ENDOCRINOLOGY']"
   ]
  },
  {
   "cell_type": "code",
   "execution_count": 280,
   "metadata": {},
   "outputs": [],
   "source": [
    "## Create dictionaries to store added and removed codes for EPL and PPL dictionaries\n",
    "spec_dict_EPL_added = spec_dict = {k: [] for k in list_o_specs}\n",
    "spec_dict_EPL_removed = spec_dict = {k: [] for k in list_o_specs}\n",
    "spec_dict_PPL_added = spec_dict = {k: [] for k in list_o_specs}\n",
    "spec_dict_PPL_removed = spec_dict = {k: [] for k in list_o_specs}"
   ]
  },
  {
   "cell_type": "code",
   "execution_count": 281,
   "metadata": {},
   "outputs": [],
   "source": [
    "## Remove from EPL lists codes that don't appear in PPL list. \n",
    "## Spirit of this is to keep EPL lists more conservative\n",
    "for spec in list_o_specs:\n",
    "    epl_list = spec_dict_EPL[spec]\n",
    "    ppl_list = spec_dict_PPL[spec]\n",
    "    new_epl = [x for x in epl_list if x in ppl_list]\n",
    "    spec_dict_EPL[spec] = new_epl"
   ]
  },
  {
   "cell_type": "code",
   "execution_count": 282,
   "metadata": {},
   "outputs": [
    {
     "data": {
      "text/html": [
       "<div>\n",
       "<style scoped>\n",
       "    .dataframe tbody tr th:only-of-type {\n",
       "        vertical-align: middle;\n",
       "    }\n",
       "\n",
       "    .dataframe tbody tr th {\n",
       "        vertical-align: top;\n",
       "    }\n",
       "\n",
       "    .dataframe thead th {\n",
       "        text-align: right;\n",
       "    }\n",
       "</style>\n",
       "<table border=\"1\" class=\"dataframe\">\n",
       "  <thead>\n",
       "    <tr style=\"text-align: right;\">\n",
       "      <th></th>\n",
       "      <th>Specialty</th>\n",
       "      <th>CPT_Code</th>\n",
       "      <th>is_PPL</th>\n",
       "      <th>UNITS</th>\n",
       "      <th>is_autoapp</th>\n",
       "      <th>is_den</th>\n",
       "      <th>UNITS_man</th>\n",
       "      <th>cost_to_review</th>\n",
       "      <th>cnt_hcp_cost</th>\n",
       "      <th>avg_hcp_cost</th>\n",
       "      <th>sum_cost_denied</th>\n",
       "      <th>ROI</th>\n",
       "      <th>fin_aa_rec</th>\n",
       "    </tr>\n",
       "  </thead>\n",
       "  <tbody>\n",
       "    <tr>\n",
       "      <th>29706</th>\n",
       "      <td>PAIN MANAGEMENT</td>\n",
       "      <td>20550</td>\n",
       "      <td>1</td>\n",
       "      <td>37</td>\n",
       "      <td>0.0</td>\n",
       "      <td>0.000000</td>\n",
       "      <td>37.0</td>\n",
       "      <td>93.637516</td>\n",
       "      <td>37.0</td>\n",
       "      <td>51.6329</td>\n",
       "      <td>0.000000</td>\n",
       "      <td>0.000000</td>\n",
       "      <td>1</td>\n",
       "    </tr>\n",
       "    <tr>\n",
       "      <th>29710</th>\n",
       "      <td>PAIN MANAGEMENT</td>\n",
       "      <td>20552</td>\n",
       "      <td>1</td>\n",
       "      <td>188</td>\n",
       "      <td>0.0</td>\n",
       "      <td>0.000000</td>\n",
       "      <td>188.0</td>\n",
       "      <td>475.779810</td>\n",
       "      <td>126.0</td>\n",
       "      <td>55.0380</td>\n",
       "      <td>0.000000</td>\n",
       "      <td>0.000000</td>\n",
       "      <td>1</td>\n",
       "    </tr>\n",
       "    <tr>\n",
       "      <th>29712</th>\n",
       "      <td>PAIN MANAGEMENT</td>\n",
       "      <td>20553</td>\n",
       "      <td>1</td>\n",
       "      <td>296</td>\n",
       "      <td>0.0</td>\n",
       "      <td>0.000000</td>\n",
       "      <td>296.0</td>\n",
       "      <td>749.100126</td>\n",
       "      <td>909.0</td>\n",
       "      <td>80.7839</td>\n",
       "      <td>0.000000</td>\n",
       "      <td>0.000000</td>\n",
       "      <td>1</td>\n",
       "    </tr>\n",
       "    <tr>\n",
       "      <th>29720</th>\n",
       "      <td>PAIN MANAGEMENT</td>\n",
       "      <td>20610</td>\n",
       "      <td>1</td>\n",
       "      <td>344</td>\n",
       "      <td>0.0</td>\n",
       "      <td>0.002899</td>\n",
       "      <td>344.0</td>\n",
       "      <td>870.575822</td>\n",
       "      <td>718.0</td>\n",
       "      <td>61.5708</td>\n",
       "      <td>61.392334</td>\n",
       "      <td>0.070519</td>\n",
       "      <td>1</td>\n",
       "    </tr>\n",
       "    <tr>\n",
       "      <th>29722</th>\n",
       "      <td>PAIN MANAGEMENT</td>\n",
       "      <td>20611</td>\n",
       "      <td>1</td>\n",
       "      <td>31</td>\n",
       "      <td>0.0</td>\n",
       "      <td>0.000000</td>\n",
       "      <td>31.0</td>\n",
       "      <td>78.453054</td>\n",
       "      <td>98.0</td>\n",
       "      <td>76.9865</td>\n",
       "      <td>0.000000</td>\n",
       "      <td>0.000000</td>\n",
       "      <td>1</td>\n",
       "    </tr>\n",
       "  </tbody>\n",
       "</table>\n",
       "</div>"
      ],
      "text/plain": [
       "             Specialty CPT_Code  is_PPL  UNITS  is_autoapp    is_den  \\\n",
       "29706  PAIN MANAGEMENT    20550       1     37         0.0  0.000000   \n",
       "29710  PAIN MANAGEMENT    20552       1    188         0.0  0.000000   \n",
       "29712  PAIN MANAGEMENT    20553       1    296         0.0  0.000000   \n",
       "29720  PAIN MANAGEMENT    20610       1    344         0.0  0.002899   \n",
       "29722  PAIN MANAGEMENT    20611       1     31         0.0  0.000000   \n",
       "\n",
       "       UNITS_man  cost_to_review  cnt_hcp_cost  avg_hcp_cost  sum_cost_denied  \\\n",
       "29706       37.0       93.637516          37.0       51.6329         0.000000   \n",
       "29710      188.0      475.779810         126.0       55.0380         0.000000   \n",
       "29712      296.0      749.100126         909.0       80.7839         0.000000   \n",
       "29720      344.0      870.575822         718.0       61.5708        61.392334   \n",
       "29722       31.0       78.453054          98.0       76.9865         0.000000   \n",
       "\n",
       "            ROI  fin_aa_rec  \n",
       "29706  0.000000           1  \n",
       "29710  0.000000           1  \n",
       "29712  0.000000           1  \n",
       "29720  0.070519           1  \n",
       "29722  0.000000           1  "
      ]
     },
     "execution_count": 282,
     "metadata": {},
     "output_type": "execute_result"
    }
   ],
   "source": [
    "refs_w_claims_fin[(refs_w_claims_fin['Specialty']=='PAIN MANAGEMENT') &\n",
    "                 (refs_w_claims_fin['is_PPL']==1) &\n",
    "                 (refs_w_claims_fin['fin_aa_rec']==1) &\n",
    "                 (refs_w_claims_fin['UNITS']>30)].head()"
   ]
  },
  {
   "cell_type": "markdown",
   "metadata": {},
   "source": [
    "## Define codes to ADD or REMOVE from each list"
   ]
  },
  {
   "cell_type": "code",
   "execution_count": 283,
   "metadata": {},
   "outputs": [],
   "source": [
    "## ADD Derm codes - provided my Christel McRae (124)\n",
    "derm_add0 = ['10060','10061','11000','11055','11057','11100','11101','11300','11301','11302','11303','11305',\n",
    "            '11306','11307','11308','11310','11311','11312','11313','11404',\n",
    "            '11426','11440','11600',\n",
    "            '11601','11602','11603','11604','11606','11620','11621','11622','11623','11624','11626','11640',\n",
    "            '11641','11642','11643','11644','11646','11900','11901','29580','54050','54056','54100','67810',\n",
    "            '69100','87101','87220','J3301','10061','10080','10081','10140','10180','11055','11056','11057',\n",
    "            '11101','11300','11301','11302','11303','11305','11306','11307','11308','11310','11311','11312',\n",
    "            '11313','11404',\n",
    "            '11426','11440','11444','11446','11600','11601','11602','11603','11604',\n",
    "            '11606','11620','11621','11622','11623','11624','11626','11640','11641','11642','11643','11644',\n",
    "            '11646','11900','11901','54105']\n"
   ]
  },
  {
   "cell_type": "code",
   "execution_count": 284,
   "metadata": {},
   "outputs": [
    {
     "data": {
      "text/plain": [
       "1503"
      ]
     },
     "execution_count": 284,
     "metadata": {},
     "output_type": "execute_result"
    }
   ],
   "source": [
    "1379 + 124 "
   ]
  },
  {
   "cell_type": "code",
   "execution_count": 285,
   "metadata": {},
   "outputs": [],
   "source": [
    "## find unique values (72)\n",
    "derm_add = list(set(derm_add0))"
   ]
  },
  {
   "cell_type": "code",
   "execution_count": 286,
   "metadata": {},
   "outputs": [],
   "source": [
    "## ADD Pain Add for PPL\n",
    "pain_add0 = ['99203','99204','99213','99214']"
   ]
  },
  {
   "cell_type": "code",
   "execution_count": 287,
   "metadata": {},
   "outputs": [],
   "source": [
    "## ADD Gastro and General Surgery for PPL and EPL\n",
    "gi_add0 = ['45378','45380','45385','G0105','G0121','00812']"
   ]
  },
  {
   "cell_type": "code",
   "execution_count": 288,
   "metadata": {},
   "outputs": [],
   "source": [
    "## ADD Blood Transfusions - across all specialties PPL and EPL\n",
    "bt_add0 = ['36430','86900','86901','86902','86903','86904','86905','86906','86907','86908','86909','86910'\n",
    "          ,'86911','86912','86913','86914','86915','86916','86917','86918','86919','86920']"
   ]
  },
  {
   "cell_type": "code",
   "execution_count": 289,
   "metadata": {},
   "outputs": [],
   "source": [
    "## ADD Podiatry\n",
    "podiatry_add0 = ['11055']"
   ]
  },
  {
   "cell_type": "code",
   "execution_count": 290,
   "metadata": {},
   "outputs": [],
   "source": [
    "## REMOVE from all dictionaries\n",
    "codes_to_remove0 = ['97810','95115','95116','95117','95170','95180','95181','95182','95183','95184','95185','95186',\n",
    "                   '95187','95188','95199','95004','A0999','A0426','A0427','A0428','A0429','92590','92591','92592',\n",
    "                   '92593','92594','90901','90902','90903','90904','90905','90906','90907','90908','90909','90910',\n",
    "                   '90911','90875','90876','86890','93798','98940','J1050','58301','58565','58611','G0337',\n",
    "                   '74740','89320','J3490','J0717','J1438','J7321','J7322','J7323','J7324','J7325','J3489','J0135',\n",
    "                   'J3030','J1830','J9215','J9218','J0129','J9202','J3301','J1745','96365','96366','90378','J2505',\n",
    "                   'J1440','J1441','J0885','J0886','T1013','96118','96119','96120','97166','97167','97168','97110',\n",
    "                   '92015','97162','97163','97110','36468','92506','55250','59840',\n",
    "                   'S0199','S0618','92595','58300','J7300','57170','A4266','11981',\n",
    "                   'J7302','J7300','58670','59600','58605','64612','J0585','11055',\n",
    "                   '11057','11719','11721','G0127','S0390']"
   ]
  },
  {
   "cell_type": "code",
   "execution_count": 291,
   "metadata": {},
   "outputs": [],
   "source": [
    "codes_to_remove = list(set(codes_to_remove0))"
   ]
  },
  {
   "cell_type": "code",
   "execution_count": 292,
   "metadata": {},
   "outputs": [
    {
     "data": {
      "text/html": [
       "<div>\n",
       "<style scoped>\n",
       "    .dataframe tbody tr th:only-of-type {\n",
       "        vertical-align: middle;\n",
       "    }\n",
       "\n",
       "    .dataframe tbody tr th {\n",
       "        vertical-align: top;\n",
       "    }\n",
       "\n",
       "    .dataframe thead th {\n",
       "        text-align: right;\n",
       "    }\n",
       "</style>\n",
       "<table border=\"1\" class=\"dataframe\">\n",
       "  <thead>\n",
       "    <tr style=\"text-align: right;\">\n",
       "      <th></th>\n",
       "      <th>Specialty</th>\n",
       "      <th>CPT_Code</th>\n",
       "      <th>fin_aa_rec</th>\n",
       "      <th>is_PPL</th>\n",
       "    </tr>\n",
       "  </thead>\n",
       "  <tbody>\n",
       "    <tr>\n",
       "      <th>0</th>\n",
       "      <td>CARDIOLOGY</td>\n",
       "      <td>93228</td>\n",
       "      <td>0</td>\n",
       "      <td>1</td>\n",
       "    </tr>\n",
       "    <tr>\n",
       "      <th>1</th>\n",
       "      <td>CARDIOLOGY</td>\n",
       "      <td>93229</td>\n",
       "      <td>0</td>\n",
       "      <td>1</td>\n",
       "    </tr>\n",
       "    <tr>\n",
       "      <th>2</th>\n",
       "      <td>CARDIOLOGY</td>\n",
       "      <td>0297T</td>\n",
       "      <td>0</td>\n",
       "      <td>1</td>\n",
       "    </tr>\n",
       "    <tr>\n",
       "      <th>3</th>\n",
       "      <td>CARDIOLOGY</td>\n",
       "      <td>0298T</td>\n",
       "      <td>0</td>\n",
       "      <td>1</td>\n",
       "    </tr>\n",
       "    <tr>\n",
       "      <th>4</th>\n",
       "      <td>ENT-OTOLARYNGOLOGY</td>\n",
       "      <td>31237</td>\n",
       "      <td>0</td>\n",
       "      <td>1</td>\n",
       "    </tr>\n",
       "  </tbody>\n",
       "</table>\n",
       "</div>"
      ],
      "text/plain": [
       "            Specialty CPT_Code  fin_aa_rec  is_PPL\n",
       "0          CARDIOLOGY    93228           0       1\n",
       "1          CARDIOLOGY    93229           0       1\n",
       "2          CARDIOLOGY    0297T           0       1\n",
       "3          CARDIOLOGY    0298T           0       1\n",
       "4  ENT-OTOLARYNGOLOGY    31237           0       1"
      ]
     },
     "execution_count": 292,
     "metadata": {},
     "output_type": "execute_result"
    }
   ],
   "source": [
    "codes_to_pend.head()"
   ]
  },
  {
   "cell_type": "code",
   "execution_count": 293,
   "metadata": {},
   "outputs": [
    {
     "data": {
      "text/html": [
       "<div>\n",
       "<style scoped>\n",
       "    .dataframe tbody tr th:only-of-type {\n",
       "        vertical-align: middle;\n",
       "    }\n",
       "\n",
       "    .dataframe tbody tr th {\n",
       "        vertical-align: top;\n",
       "    }\n",
       "\n",
       "    .dataframe thead th {\n",
       "        text-align: right;\n",
       "    }\n",
       "</style>\n",
       "<table border=\"1\" class=\"dataframe\">\n",
       "  <thead>\n",
       "    <tr style=\"text-align: right;\">\n",
       "      <th></th>\n",
       "      <th>Specialty</th>\n",
       "      <th>CPT_Code</th>\n",
       "      <th>fin_aa_rec</th>\n",
       "      <th>is_PPL</th>\n",
       "    </tr>\n",
       "  </thead>\n",
       "  <tbody>\n",
       "    <tr>\n",
       "      <th>474</th>\n",
       "      <td>ENDOCRINOLOGY</td>\n",
       "      <td>36416</td>\n",
       "      <td>0</td>\n",
       "      <td>1</td>\n",
       "    </tr>\n",
       "    <tr>\n",
       "      <th>475</th>\n",
       "      <td>ENDOCRINOLOGY</td>\n",
       "      <td>81002</td>\n",
       "      <td>0</td>\n",
       "      <td>1</td>\n",
       "    </tr>\n",
       "    <tr>\n",
       "      <th>476</th>\n",
       "      <td>ENDOCRINOLOGY</td>\n",
       "      <td>82947</td>\n",
       "      <td>0</td>\n",
       "      <td>1</td>\n",
       "    </tr>\n",
       "    <tr>\n",
       "      <th>477</th>\n",
       "      <td>ENDOCRINOLOGY</td>\n",
       "      <td>82962</td>\n",
       "      <td>0</td>\n",
       "      <td>1</td>\n",
       "    </tr>\n",
       "    <tr>\n",
       "      <th>478</th>\n",
       "      <td>ENDOCRINOLOGY</td>\n",
       "      <td>83036</td>\n",
       "      <td>0</td>\n",
       "      <td>1</td>\n",
       "    </tr>\n",
       "    <tr>\n",
       "      <th>479</th>\n",
       "      <td>ENDOCRINOLOGY</td>\n",
       "      <td>95250</td>\n",
       "      <td>0</td>\n",
       "      <td>1</td>\n",
       "    </tr>\n",
       "    <tr>\n",
       "      <th>480</th>\n",
       "      <td>ENDOCRINOLOGY</td>\n",
       "      <td>95251</td>\n",
       "      <td>0</td>\n",
       "      <td>1</td>\n",
       "    </tr>\n",
       "    <tr>\n",
       "      <th>481</th>\n",
       "      <td>ENDOCRINOLOGY</td>\n",
       "      <td>99091</td>\n",
       "      <td>0</td>\n",
       "      <td>1</td>\n",
       "    </tr>\n",
       "    <tr>\n",
       "      <th>482</th>\n",
       "      <td>ENDOCRINOLOGY</td>\n",
       "      <td>J3489</td>\n",
       "      <td>0</td>\n",
       "      <td>1</td>\n",
       "    </tr>\n",
       "    <tr>\n",
       "      <th>541</th>\n",
       "      <td>ENDOCRINOLOGY</td>\n",
       "      <td>99204</td>\n",
       "      <td>1</td>\n",
       "      <td>1</td>\n",
       "    </tr>\n",
       "    <tr>\n",
       "      <th>542</th>\n",
       "      <td>ENDOCRINOLOGY</td>\n",
       "      <td>99214</td>\n",
       "      <td>1</td>\n",
       "      <td>1</td>\n",
       "    </tr>\n",
       "    <tr>\n",
       "      <th>543</th>\n",
       "      <td>ENDOCRINOLOGY</td>\n",
       "      <td>99215</td>\n",
       "      <td>1</td>\n",
       "      <td>1</td>\n",
       "    </tr>\n",
       "    <tr>\n",
       "      <th>1087</th>\n",
       "      <td>ENDOCRINOLOGY</td>\n",
       "      <td>Z7500</td>\n",
       "      <td>1</td>\n",
       "      <td>1</td>\n",
       "    </tr>\n",
       "    <tr>\n",
       "      <th>1088</th>\n",
       "      <td>ENDOCRINOLOGY</td>\n",
       "      <td>10022</td>\n",
       "      <td>1</td>\n",
       "      <td>1</td>\n",
       "    </tr>\n",
       "    <tr>\n",
       "      <th>1089</th>\n",
       "      <td>ENDOCRINOLOGY</td>\n",
       "      <td>76536</td>\n",
       "      <td>1</td>\n",
       "      <td>1</td>\n",
       "    </tr>\n",
       "    <tr>\n",
       "      <th>1090</th>\n",
       "      <td>ENDOCRINOLOGY</td>\n",
       "      <td>76942</td>\n",
       "      <td>1</td>\n",
       "      <td>1</td>\n",
       "    </tr>\n",
       "    <tr>\n",
       "      <th>1091</th>\n",
       "      <td>ENDOCRINOLOGY</td>\n",
       "      <td>96372</td>\n",
       "      <td>1</td>\n",
       "      <td>1</td>\n",
       "    </tr>\n",
       "    <tr>\n",
       "      <th>1092</th>\n",
       "      <td>ENDOCRINOLOGY</td>\n",
       "      <td>99203</td>\n",
       "      <td>1</td>\n",
       "      <td>1</td>\n",
       "    </tr>\n",
       "    <tr>\n",
       "      <th>1093</th>\n",
       "      <td>ENDOCRINOLOGY</td>\n",
       "      <td>99213</td>\n",
       "      <td>1</td>\n",
       "      <td>1</td>\n",
       "    </tr>\n",
       "  </tbody>\n",
       "</table>\n",
       "</div>"
      ],
      "text/plain": [
       "          Specialty CPT_Code  fin_aa_rec  is_PPL\n",
       "474   ENDOCRINOLOGY    36416           0       1\n",
       "475   ENDOCRINOLOGY    81002           0       1\n",
       "476   ENDOCRINOLOGY    82947           0       1\n",
       "477   ENDOCRINOLOGY    82962           0       1\n",
       "478   ENDOCRINOLOGY    83036           0       1\n",
       "479   ENDOCRINOLOGY    95250           0       1\n",
       "480   ENDOCRINOLOGY    95251           0       1\n",
       "481   ENDOCRINOLOGY    99091           0       1\n",
       "482   ENDOCRINOLOGY    J3489           0       1\n",
       "541   ENDOCRINOLOGY    99204           1       1\n",
       "542   ENDOCRINOLOGY    99214           1       1\n",
       "543   ENDOCRINOLOGY    99215           1       1\n",
       "1087  ENDOCRINOLOGY    Z7500           1       1\n",
       "1088  ENDOCRINOLOGY    10022           1       1\n",
       "1089  ENDOCRINOLOGY    76536           1       1\n",
       "1090  ENDOCRINOLOGY    76942           1       1\n",
       "1091  ENDOCRINOLOGY    96372           1       1\n",
       "1092  ENDOCRINOLOGY    99203           1       1\n",
       "1093  ENDOCRINOLOGY    99213           1       1"
      ]
     },
     "execution_count": 293,
     "metadata": {},
     "output_type": "execute_result"
    }
   ],
   "source": [
    "codes_to_pend[codes_to_pend['Specialty']=='ENDOCRINOLOGY']"
   ]
  },
  {
   "cell_type": "code",
   "execution_count": 294,
   "metadata": {},
   "outputs": [],
   "source": [
    "laurie_christel_dict_to_remove = create_dict_of_CPT_codes_v2(codes_to_pend, list_o_specs)"
   ]
  },
  {
   "cell_type": "code",
   "execution_count": 295,
   "metadata": {},
   "outputs": [
    {
     "data": {
      "text/plain": [
       "['36416',\n",
       " '81002',\n",
       " '82947',\n",
       " '82962',\n",
       " '83036',\n",
       " '95250',\n",
       " '95251',\n",
       " '99091',\n",
       " 'J3489']"
      ]
     },
     "execution_count": 295,
     "metadata": {},
     "output_type": "execute_result"
    }
   ],
   "source": [
    "laurie_christel_dict_to_remove['ENDOCRINOLOGY']"
   ]
  },
  {
   "cell_type": "code",
   "execution_count": 296,
   "metadata": {},
   "outputs": [],
   "source": [
    "list_o_specs_pend = codes_to_pend['Specialty'].unique().tolist()"
   ]
  },
  {
   "cell_type": "code",
   "execution_count": 297,
   "metadata": {},
   "outputs": [],
   "source": [
    "## Define function that takes specialty:cpt code list DICTIONARY, list of cpt\n",
    "## codes, and \"add\" or \"remove\" parameter and adjusts the dictionary\n",
    "def add_remove_cpt_codes_v2(spec_cpt_dict, spec_cpt_dict_added_removed, spec_list, cpt_to_add_remove_dict, add=True):\n",
    "    if add == True:\n",
    "        for spec in spec_list:\n",
    "            for code in cpt_to_add_remove_dict[spec]:\n",
    "                if code in spec_cpt_dict[spec]:\n",
    "                    continue\n",
    "                else:\n",
    "                    spec_cpt_dict[spec].append(code)\n",
    "                    spec_cpt_dict_added_removed[spec].append(code)\n",
    "    else:\n",
    "        for spec in spec_list:\n",
    "            for code in cpt_to_add_remove_dict[spec]:\n",
    "                if code in spec_cpt_dict[spec]:\n",
    "                    spec_cpt_dict[spec].remove(code)\n",
    "                    spec_cpt_dict_added_removed[spec].append(code)\n",
    "                else:\n",
    "                    continue\n",
    "    return spec_cpt_dict, spec_cpt_dict_added_removed        "
   ]
  },
  {
   "cell_type": "code",
   "execution_count": 298,
   "metadata": {},
   "outputs": [],
   "source": [
    "## Define function that takes specialty:cpt code list, list of cpt\n",
    "## codes, and \"add\" or \"remove\" parameter and adjusts the dictionary\n",
    "def add_remove_cpt_codes_v1(spec_cpt_dict, spec_cpt_dict_added_removed, spec_list, cpt_to_add_remove, add=True):\n",
    "    if add == True:\n",
    "        for spec in spec_list:\n",
    "            for code in cpt_to_add_remove:\n",
    "                if code in spec_cpt_dict[spec]:\n",
    "                    continue\n",
    "                else:\n",
    "                    spec_cpt_dict[spec].append(code)\n",
    "                    spec_cpt_dict_added_removed[spec].append(code)\n",
    "    else:\n",
    "        for spec in spec_list:\n",
    "            for code in cpt_to_add_remove:\n",
    "                if code in spec_cpt_dict[spec]:\n",
    "                    spec_cpt_dict[spec].remove(code)\n",
    "                    spec_cpt_dict_added_removed[spec].append(code)\n",
    "                else:\n",
    "                    continue\n",
    "    return spec_cpt_dict, spec_cpt_dict_added_removed        "
   ]
  },
  {
   "cell_type": "code",
   "execution_count": 299,
   "metadata": {},
   "outputs": [],
   "source": [
    "## add derm\n",
    "spec_dict_PPL, spec_dict_PPL_added = add_remove_cpt_codes_v1(spec_dict_PPL, spec_dict_PPL_added, ['DERMATOLOGY'], derm_add)\n",
    "spec_dict_EPL, spec_dict_EPL_added = add_remove_cpt_codes_v1(spec_dict_EPL, spec_dict_EPL_added, ['DERMATOLOGY'], derm_add)"
   ]
  },
  {
   "cell_type": "code",
   "execution_count": 300,
   "metadata": {},
   "outputs": [],
   "source": [
    "## add pain\n",
    "spec_dict_PPL, spec_dict_PPL_added = add_remove_cpt_codes_v1(spec_dict_PPL, spec_dict_PPL_added, ['PAIN MANAGEMENT'], pain_add0)\n",
    "spec_dict_EPL, spec_dict_EPL_added = add_remove_cpt_codes_v1(spec_dict_EPL, spec_dict_EPL_added, ['PAIN MANAGEMENT'], pain_add0)"
   ]
  },
  {
   "cell_type": "code",
   "execution_count": 301,
   "metadata": {},
   "outputs": [],
   "source": [
    "## add pain\n",
    "spec_dict_PPL, spec_dict_PPL_added = add_remove_cpt_codes_v1(spec_dict_PPL, spec_dict_PPL_added, \n",
    "                                                          ['GASTROENTEROLOGY','SURGERY - GENERAL'], gi_add0)\n",
    "spec_dict_EPL, spec_dict_EPL_added = add_remove_cpt_codes_v1(spec_dict_EPL, spec_dict_EPL_added, \n",
    "                                                          ['GASTROENTEROLOGY','SURGERY - GENERAL'], gi_add0)"
   ]
  },
  {
   "cell_type": "code",
   "execution_count": 302,
   "metadata": {},
   "outputs": [],
   "source": [
    "## add pain\n",
    "spec_dict_PPL, spec_dict_PPL_added = add_remove_cpt_codes_v1(spec_dict_PPL, spec_dict_PPL_added, ['PODIATRY'], podiatry_add0)\n",
    "spec_dict_EPL, spec_dict_EPL_added = add_remove_cpt_codes_v1(spec_dict_EPL, spec_dict_EPL_added, ['PODIATRY'], podiatry_add0)"
   ]
  },
  {
   "cell_type": "code",
   "execution_count": 303,
   "metadata": {},
   "outputs": [],
   "source": [
    "## remove codes from PPL\n",
    "spec_dict_PPL, spec_dict_PPL_removed = add_remove_cpt_codes_v1(spec_dict_PPL, spec_dict_PPL_removed, list_o_specs, codes_to_remove, add=False)"
   ]
  },
  {
   "cell_type": "code",
   "execution_count": 304,
   "metadata": {},
   "outputs": [],
   "source": [
    "## remove codes from EPL\n",
    "spec_dict_EPL, spec_dict_EPL_removed = add_remove_cpt_codes_v1(spec_dict_EPL, spec_dict_EPL_removed, list_o_specs, codes_to_remove, add=False)"
   ]
  },
  {
   "cell_type": "code",
   "execution_count": 305,
   "metadata": {},
   "outputs": [],
   "source": [
    "## Remove codes from dictionaries as chosen by Laurie and Christel\n",
    "spec_dict_PPL, spec_dict_PPL_removed = add_remove_cpt_codes_v2(spec_dict_PPL, spec_dict_PPL_removed, list_o_specs_pend, laurie_christel_dict_to_remove, add=False)"
   ]
  },
  {
   "cell_type": "code",
   "execution_count": 306,
   "metadata": {},
   "outputs": [
    {
     "data": {
      "text/plain": [
       "['10022',\n",
       " '76536',\n",
       " '76942',\n",
       " '96372',\n",
       " '99203',\n",
       " '99204',\n",
       " '99213',\n",
       " '99214',\n",
       " '99215',\n",
       " 'Z7500']"
      ]
     },
     "execution_count": 306,
     "metadata": {},
     "output_type": "execute_result"
    }
   ],
   "source": [
    "spec_dict_PPL['ENDOCRINOLOGY']"
   ]
  },
  {
   "cell_type": "code",
   "execution_count": 307,
   "metadata": {},
   "outputs": [
    {
     "data": {
      "text/plain": [
       "['PODIATRY',\n",
       " 'NUCLEAR MEDICINE',\n",
       " 'PATHOLOGY',\n",
       " 'PSYCHOLOGY',\n",
       " 'RADIOLOGY',\n",
       " 'NEPHROLOGY',\n",
       " 'MFCC (THERAPIST)',\n",
       " 'PEDS-DEVELOPMENTAL BEHAVIORAL',\n",
       " 'CLINICAL PSYCHOLOGIST',\n",
       " 'SURGERY - THORACIC',\n",
       " 'DIALYSIS',\n",
       " 'CARDIOLOGY',\n",
       " 'PHARMACY',\n",
       " 'SURGERY - VASCULAR',\n",
       " 'ENT-OTOLARYNGOLOGY',\n",
       " 'ORTHOTICS AND PROSTHETICS',\n",
       " 'PALLIATIVE CARE',\n",
       " 'HEPATOLOGY',\n",
       " 'ONCOLOGY - MEDICAL',\n",
       " 'GERIATRICS',\n",
       " 'NEONATOLOGY',\n",
       " 'EMERGENCY SERVICES',\n",
       " 'SURGERY - HAND',\n",
       " 'FACILITY SERVICES',\n",
       " 'INFERTILITY',\n",
       " 'INFECTIOUS DISEASE',\n",
       " 'MED SUPP COMP WITH PHARMACIST',\n",
       " 'SUPPLIERS - ALL OTHER',\n",
       " 'SURGERY - PLASTIC/RECONSTRUCT',\n",
       " 'SURGERY - ONCOLOGY',\n",
       " 'CERTIFIED NURSE MIDWIFE',\n",
       " 'HOSPITALIST',\n",
       " 'SURGERY - ORAL',\n",
       " 'ADDICTION MEDICINE',\n",
       " 'PUBLIC HEALTH/ WELFARE AGENCY',\n",
       " 'OPTICIAN',\n",
       " 'OCCUPATIONAL THERAPY',\n",
       " 'ONCOLOGY - GYN',\n",
       " 'ACUPUNCTURE',\n",
       " 'NURSING FACILITY - OTHER',\n",
       " 'INDIV CERTIFIED ORTHOTIST',\n",
       " 'PAIN MANAGEMENT',\n",
       " 'LICENSED CLIN SOCIAL WORKER',\n",
       " 'INFUSION THERAPY',\n",
       " 'GASTROENTEROLOGY',\n",
       " 'SURGERY - COLONRECTAL',\n",
       " 'DENTIST',\n",
       " 'INTERVENTIONAL PAIN MANAGEMENT',\n",
       " 'AMBULANCE',\n",
       " 'FAMILY PRACTICE',\n",
       " 'SURGERY - MAXILLOFACIAL ORAL',\n",
       " 'AMBULATORY SURGICAL CENTER',\n",
       " 'CARDIAC-ELECTROPHYSIOLOGY',\n",
       " 'SURGERY - NEURO',\n",
       " 'NEUROPSYCHIATRY',\n",
       " 'INTERVENTIONAL RADIOLOGY',\n",
       " 'MEDICAL SUPPLY COMPANY - OTHER',\n",
       " 'SENIOR WELLNESS VISIT',\n",
       " 'ALLERGY/IMMUNOLOGY',\n",
       " 'DERMATOLOGY',\n",
       " 'PSYCHIATRY',\n",
       " 'RHEUMATOLOGY',\n",
       " 'DME MAINTENANCE',\n",
       " 'OPHTHALMOLOGY',\n",
       " 'CONGESTIVE HEART FAILURE',\n",
       " 'PEDIATRICS',\n",
       " 'HEALTH ENHANCEMENT',\n",
       " 'LABORATORY',\n",
       " 'SUPPLIES ONLY',\n",
       " 'NURSING',\n",
       " 'PERINATOLOGY',\n",
       " 'INTERNAL MEDICINE',\n",
       " 'IMMEDIATE CARE NURSING',\n",
       " 'SURGERY - ORTHO',\n",
       " 'PHARMACY NOTES',\n",
       " 'AUDIOLOGY',\n",
       " 'URGENT/IMMEDIATE CARE',\n",
       " 'ENDOCRINOLOGY',\n",
       " 'CHIROPRACTIC',\n",
       " 'WOUND CARE',\n",
       " 'SURGERY - ORTHOPEDICS',\n",
       " 'PULMONARY DISEASE',\n",
       " 'INDPNDT DIAGNOSTIC TESTING FAC',\n",
       " 'SPORTS MEDICINE',\n",
       " 'CUSTODIAL CARE',\n",
       " 'PERIPHERAL VASCULAR DISEASE',\n",
       " 'SLEEP STUDY',\n",
       " 'UROLOGY',\n",
       " 'SURGERY - GENERAL',\n",
       " 'RADIATION ONCOLOGY',\n",
       " 'OBSTETRICS/GYNECOLOGY',\n",
       " 'BEHAVIORAL HEALTH',\n",
       " 'DME & MEDICAL SUPPLIES',\n",
       " 'SURGERY - CARDIAC',\n",
       " 'PHYSICIAN ASSISTANT',\n",
       " 'COUMADIN NURSE',\n",
       " 'COSMETIC PLASTIC SURGERY',\n",
       " 'COSMETIC DERMATOLOGY',\n",
       " 'HEMATOLOGY/ONCOLOGY',\n",
       " 'NEUROLOGY',\n",
       " 'ANESTHESIOLOGY',\n",
       " 'HOME HEALTH',\n",
       " 'PORTABLE X-RAY SUPPLIER',\n",
       " 'AMBULATORY CARE NOTES',\n",
       " 'OPTOMETRY',\n",
       " 'REGISTERED NURSE',\n",
       " 'GENERAL PRACTICE',\n",
       " 'NURSE PRACTITIONER',\n",
       " 'GENETICS',\n",
       " 'OSTEOPATH MANIP THERAPY',\n",
       " 'OCCUPATIONAL MEDICINE',\n",
       " 'PHYSIATRY',\n",
       " 'PHYSICAL THERAPY/REHAB',\n",
       " 'SNF - FAC',\n",
       " 'REGISTERED DIET/NUTRITION PROF',\n",
       " 'NON-CONTRACT UNKWN BILL AREA',\n",
       " 'PREVENTIVE MEDICINE',\n",
       " 'UNK PHYS SPEC']"
      ]
     },
     "execution_count": 307,
     "metadata": {},
     "output_type": "execute_result"
    }
   ],
   "source": [
    "list_o_specs"
   ]
  },
  {
   "cell_type": "code",
   "execution_count": 308,
   "metadata": {},
   "outputs": [],
   "source": [
    "## For specialties that UM clinical team deem necessary, empty dictionary\n",
    "## To ensure that no referrals are auto-approved from it\n",
    "specs_that_should_pend = ['ACUPUNCTURE', 'ADDICTION MEDICINE', 'ANESTHESIOLOGY',\n",
    "                         'BEHAVIORAL HEALTH', 'CHIROPRACTIC', 'DENTIST', 'DME MAINTENANCE',\n",
    "                         'LICENSED CLIN SOCIAL WORKER', 'MFCC (THERAPIST)', 'NON-CONTRACT UNKWN BILL AREA',\n",
    "                         'NURSE PRACTITIONER', 'NURSING FACILITY - OTHER', 'OPTICIAN',\n",
    "                        'PEDS-DEVELOPMENTAL BEHAVIORAL', 'PSYCHIATRY', 'PSYCHOLOGY', 'SENIOR WELLNESS VISIT',\n",
    "                         'SPORTS MEDICINE', 'SURGERY - ORAL', 'AMBULATORY SURGICAL CENTER', 'AMBULANCE', 'ALLERGY/IMMUNOLOGY',\n",
    "                         'CUSTODIAL CARE', 'HOME HEALTH', 'INFERTILITY', 'OPTOMETRY', 'PALLIATIVE CARE', 'PODIATRY', 'SLEEP STUDY',\n",
    "                         'SNF - FAC', 'OCCUPATIONAL THERAPY', 'PHYSICAL THERAPY/REHAB']"
   ]
  },
  {
   "cell_type": "code",
   "execution_count": 309,
   "metadata": {},
   "outputs": [],
   "source": [
    "def pend_specs_by_spec(list_o_specs, spec_dict):\n",
    "    for spec in list_o_specs:\n",
    "        spec_dict[spec] = []\n",
    "    return spec_dict"
   ]
  },
  {
   "cell_type": "code",
   "execution_count": 310,
   "metadata": {},
   "outputs": [],
   "source": [
    "spec_dict_PPL = pend_specs_by_spec(specs_that_should_pend, spec_dict_PPL)"
   ]
  },
  {
   "cell_type": "code",
   "execution_count": 311,
   "metadata": {},
   "outputs": [],
   "source": [
    "spec_dict_EPL = pend_specs_by_spec(specs_that_should_pend, spec_dict_EPL)"
   ]
  },
  {
   "cell_type": "code",
   "execution_count": 312,
   "metadata": {},
   "outputs": [],
   "source": [
    "#### Prepare a newer set of referrals to run through the new code."
   ]
  },
  {
   "cell_type": "code",
   "execution_count": 313,
   "metadata": {},
   "outputs": [],
   "source": [
    "## Assigns an auto-approve (1) or pend (0) status to each specialty / code group\n",
    "def assign_status(codes, spec_dict_PPL, spec_dict_EPL, list_of_types_pend):\n",
    "    status = list(np.zeros(codes.shape[0]))\n",
    "    specs_list = codes['Specialty'].unique().tolist()\n",
    "    print(len(status))\n",
    "    print(codes.shape[0])\n",
    "    for spec in specs_list:\n",
    "        if spec not in spec_dict_PPL:\n",
    "            spec_dict_PPL[spec] = []\n",
    "    for spec in specs_list:\n",
    "        if spec not in spec_dict_EPL:\n",
    "            spec_dict_EPL[spec] = []\n",
    "    for index, row in codes.iterrows():\n",
    "        if row['is_PPL'] == 1:\n",
    "            if row['CPT_Code'] in spec_dict_PPL[row['Specialty']]:\n",
    "                if row['Type'] not in list_of_types_pend:\n",
    "                    status[index] = 1\n",
    "        ##else:\n",
    "          ##  if row['CPT_Code'] in spec_dict_EPL[row['Specialty']]:\n",
    "            ##    status[index] = 0\n",
    "    return status"
   ]
  },
  {
   "cell_type": "code",
   "execution_count": 314,
   "metadata": {},
   "outputs": [
    {
     "name": "stdout",
     "output_type": "stream",
     "text": [
      "925792\n",
      "925792\n"
     ]
    }
   ],
   "source": [
    "auto_approve = assign_status(refs_new, spec_dict_PPL, \n",
    "                             spec_dict_EPL, list_o_types_to_pend)"
   ]
  },
  {
   "cell_type": "code",
   "execution_count": 315,
   "metadata": {},
   "outputs": [],
   "source": [
    "refs_new['auto_approvable'] = auto_approve"
   ]
  },
  {
   "cell_type": "code",
   "execution_count": 316,
   "metadata": {},
   "outputs": [
    {
     "data": {
      "text/html": [
       "<div>\n",
       "<style scoped>\n",
       "    .dataframe tbody tr th:only-of-type {\n",
       "        vertical-align: middle;\n",
       "    }\n",
       "\n",
       "    .dataframe tbody tr th {\n",
       "        vertical-align: top;\n",
       "    }\n",
       "\n",
       "    .dataframe thead th {\n",
       "        text-align: right;\n",
       "    }\n",
       "</style>\n",
       "<table border=\"1\" class=\"dataframe\">\n",
       "  <thead>\n",
       "    <tr style=\"text-align: right;\">\n",
       "      <th></th>\n",
       "      <th>CPT_Code</th>\n",
       "      <th>HCP_CONNECT_AUTH_NUMBER</th>\n",
       "      <th>Type</th>\n",
       "      <th>status_name</th>\n",
       "      <th>Specialty</th>\n",
       "      <th>region</th>\n",
       "      <th>UNITS</th>\n",
       "      <th>is_autoapp</th>\n",
       "      <th>is_PPL</th>\n",
       "      <th>is_app</th>\n",
       "      <th>is_den</th>\n",
       "      <th>auto_approvable</th>\n",
       "    </tr>\n",
       "  </thead>\n",
       "  <tbody>\n",
       "    <tr>\n",
       "      <th>0</th>\n",
       "      <td>99213</td>\n",
       "      <td>16132990H</td>\n",
       "      <td>PHYSICIAN</td>\n",
       "      <td>APPROVED - AUTO</td>\n",
       "      <td>OBSTETRICS/GYNECOLOGY</td>\n",
       "      <td>SOUTH BAY</td>\n",
       "      <td>1</td>\n",
       "      <td>1</td>\n",
       "      <td>1</td>\n",
       "      <td>1</td>\n",
       "      <td>0</td>\n",
       "      <td>1.0</td>\n",
       "    </tr>\n",
       "    <tr>\n",
       "      <th>1</th>\n",
       "      <td>99214</td>\n",
       "      <td>16113572H</td>\n",
       "      <td>PHYSICIAN</td>\n",
       "      <td>APPROVED - CARE COORDINATOR</td>\n",
       "      <td>SURGERY - NEURO</td>\n",
       "      <td>SAN GABRIEL VALLEY</td>\n",
       "      <td>1</td>\n",
       "      <td>0</td>\n",
       "      <td>1</td>\n",
       "      <td>1</td>\n",
       "      <td>0</td>\n",
       "      <td>1.0</td>\n",
       "    </tr>\n",
       "    <tr>\n",
       "      <th>2</th>\n",
       "      <td>45380</td>\n",
       "      <td>16121057H</td>\n",
       "      <td>OUTPT DIAG</td>\n",
       "      <td>APPROVED - CM</td>\n",
       "      <td>FACILITY SERVICES</td>\n",
       "      <td>SOUTH BAY</td>\n",
       "      <td>1</td>\n",
       "      <td>0</td>\n",
       "      <td>1</td>\n",
       "      <td>1</td>\n",
       "      <td>0</td>\n",
       "      <td>1.0</td>\n",
       "    </tr>\n",
       "    <tr>\n",
       "      <th>3</th>\n",
       "      <td>72040</td>\n",
       "      <td>16116056H</td>\n",
       "      <td>OUTPT DIAG</td>\n",
       "      <td>APPROVED - CARE COORDINATOR</td>\n",
       "      <td>RADIOLOGY</td>\n",
       "      <td>SAN FERNANDO VALLEY</td>\n",
       "      <td>1</td>\n",
       "      <td>0</td>\n",
       "      <td>1</td>\n",
       "      <td>1</td>\n",
       "      <td>0</td>\n",
       "      <td>1.0</td>\n",
       "    </tr>\n",
       "    <tr>\n",
       "      <th>4</th>\n",
       "      <td>31231</td>\n",
       "      <td>16120070H</td>\n",
       "      <td>PHYSICIAN</td>\n",
       "      <td>APPROVED - MD</td>\n",
       "      <td>FACILITY SERVICES</td>\n",
       "      <td>ORANGE COUNTY</td>\n",
       "      <td>1</td>\n",
       "      <td>0</td>\n",
       "      <td>0</td>\n",
       "      <td>1</td>\n",
       "      <td>0</td>\n",
       "      <td>0.0</td>\n",
       "    </tr>\n",
       "  </tbody>\n",
       "</table>\n",
       "</div>"
      ],
      "text/plain": [
       "  CPT_Code HCP_CONNECT_AUTH_NUMBER        Type                  status_name  \\\n",
       "0    99213               16132990H   PHYSICIAN              APPROVED - AUTO   \n",
       "1    99214               16113572H   PHYSICIAN  APPROVED - CARE COORDINATOR   \n",
       "2    45380               16121057H  OUTPT DIAG                APPROVED - CM   \n",
       "3    72040               16116056H  OUTPT DIAG  APPROVED - CARE COORDINATOR   \n",
       "4    31231               16120070H   PHYSICIAN                APPROVED - MD   \n",
       "\n",
       "               Specialty               region  UNITS  is_autoapp  is_PPL  \\\n",
       "0  OBSTETRICS/GYNECOLOGY            SOUTH BAY      1           1       1   \n",
       "1        SURGERY - NEURO   SAN GABRIEL VALLEY      1           0       1   \n",
       "2      FACILITY SERVICES            SOUTH BAY      1           0       1   \n",
       "3              RADIOLOGY  SAN FERNANDO VALLEY      1           0       1   \n",
       "4      FACILITY SERVICES        ORANGE COUNTY      1           0       0   \n",
       "\n",
       "   is_app  is_den  auto_approvable  \n",
       "0       1       0              1.0  \n",
       "1       1       0              1.0  \n",
       "2       1       0              1.0  \n",
       "3       1       0              1.0  \n",
       "4       1       0              0.0  "
      ]
     },
     "execution_count": 316,
     "metadata": {},
     "output_type": "execute_result"
    }
   ],
   "source": [
    "refs_new.head()"
   ]
  },
  {
   "cell_type": "code",
   "execution_count": 317,
   "metadata": {},
   "outputs": [],
   "source": [
    "## Find which (REFERRALS) not CPT codes have all cpt codes in the dictionary and thus, \"auto-approvable\""
   ]
  },
  {
   "cell_type": "code",
   "execution_count": 318,
   "metadata": {},
   "outputs": [],
   "source": [
    "refs_results = refs_new.groupby(['HCP_CONNECT_AUTH_NUMBER'], as_index=False).agg({'auto_approvable': 'mean'})"
   ]
  },
  {
   "cell_type": "code",
   "execution_count": 319,
   "metadata": {},
   "outputs": [],
   "source": [
    "refs_results['aa-yn'] = np.where(refs_results['auto_approvable']==1, 1, 0)"
   ]
  },
  {
   "cell_type": "code",
   "execution_count": 320,
   "metadata": {},
   "outputs": [],
   "source": [
    "refs_results.drop('auto_approvable', axis=1, inplace=True)"
   ]
  },
  {
   "cell_type": "code",
   "execution_count": 321,
   "metadata": {},
   "outputs": [
    {
     "data": {
      "text/html": [
       "<div>\n",
       "<style scoped>\n",
       "    .dataframe tbody tr th:only-of-type {\n",
       "        vertical-align: middle;\n",
       "    }\n",
       "\n",
       "    .dataframe tbody tr th {\n",
       "        vertical-align: top;\n",
       "    }\n",
       "\n",
       "    .dataframe thead th {\n",
       "        text-align: right;\n",
       "    }\n",
       "</style>\n",
       "<table border=\"1\" class=\"dataframe\">\n",
       "  <thead>\n",
       "    <tr style=\"text-align: right;\">\n",
       "      <th></th>\n",
       "      <th>HCP_CONNECT_AUTH_NUMBER</th>\n",
       "      <th>aa-yn</th>\n",
       "    </tr>\n",
       "  </thead>\n",
       "  <tbody>\n",
       "    <tr>\n",
       "      <th>550984</th>\n",
       "      <td>16505584H</td>\n",
       "      <td>0</td>\n",
       "    </tr>\n",
       "    <tr>\n",
       "      <th>550985</th>\n",
       "      <td>16506737H</td>\n",
       "      <td>0</td>\n",
       "    </tr>\n",
       "    <tr>\n",
       "      <th>550986</th>\n",
       "      <td>16507905H</td>\n",
       "      <td>0</td>\n",
       "    </tr>\n",
       "    <tr>\n",
       "      <th>550987</th>\n",
       "      <td>16513452H</td>\n",
       "      <td>0</td>\n",
       "    </tr>\n",
       "    <tr>\n",
       "      <th>550988</th>\n",
       "      <td>16513736H</td>\n",
       "      <td>1</td>\n",
       "    </tr>\n",
       "    <tr>\n",
       "      <th>550989</th>\n",
       "      <td>16528009H</td>\n",
       "      <td>0</td>\n",
       "    </tr>\n",
       "    <tr>\n",
       "      <th>550990</th>\n",
       "      <td>16555364H</td>\n",
       "      <td>1</td>\n",
       "    </tr>\n",
       "    <tr>\n",
       "      <th>550991</th>\n",
       "      <td>16586687H</td>\n",
       "      <td>1</td>\n",
       "    </tr>\n",
       "    <tr>\n",
       "      <th>550992</th>\n",
       "      <td>16602597H</td>\n",
       "      <td>0</td>\n",
       "    </tr>\n",
       "    <tr>\n",
       "      <th>550993</th>\n",
       "      <td>82728</td>\n",
       "      <td>0</td>\n",
       "    </tr>\n",
       "  </tbody>\n",
       "</table>\n",
       "</div>"
      ],
      "text/plain": [
       "       HCP_CONNECT_AUTH_NUMBER  aa-yn\n",
       "550984               16505584H      0\n",
       "550985               16506737H      0\n",
       "550986               16507905H      0\n",
       "550987               16513452H      0\n",
       "550988               16513736H      1\n",
       "550989               16528009H      0\n",
       "550990               16555364H      1\n",
       "550991               16586687H      1\n",
       "550992               16602597H      0\n",
       "550993                   82728      0"
      ]
     },
     "execution_count": 321,
     "metadata": {},
     "output_type": "execute_result"
    }
   ],
   "source": [
    "refs_results.tail(10)"
   ]
  },
  {
   "cell_type": "code",
   "execution_count": 322,
   "metadata": {},
   "outputs": [],
   "source": [
    "# refs_w_claims_dec = refs_w_claims_fin.drop(labels=['UNITS', 'is_autoapp', 'is_den', 'UNITS_man',\n",
    "#                               'cost_to_review', 'cnt_hcp_cost', 'sum_cost_denied'], axis=1)"
   ]
  },
  {
   "cell_type": "code",
   "execution_count": 323,
   "metadata": {},
   "outputs": [
    {
     "data": {
      "text/html": [
       "<div>\n",
       "<style scoped>\n",
       "    .dataframe tbody tr th:only-of-type {\n",
       "        vertical-align: middle;\n",
       "    }\n",
       "\n",
       "    .dataframe tbody tr th {\n",
       "        vertical-align: top;\n",
       "    }\n",
       "\n",
       "    .dataframe thead th {\n",
       "        text-align: right;\n",
       "    }\n",
       "</style>\n",
       "<table border=\"1\" class=\"dataframe\">\n",
       "  <thead>\n",
       "    <tr style=\"text-align: right;\">\n",
       "      <th></th>\n",
       "      <th>CPT_Code</th>\n",
       "      <th>HCP_CONNECT_AUTH_NUMBER</th>\n",
       "      <th>Type</th>\n",
       "      <th>status_name</th>\n",
       "      <th>Specialty</th>\n",
       "      <th>region</th>\n",
       "      <th>UNITS</th>\n",
       "      <th>is_autoapp</th>\n",
       "      <th>is_PPL</th>\n",
       "      <th>is_app</th>\n",
       "      <th>is_den</th>\n",
       "      <th>auto_approvable</th>\n",
       "    </tr>\n",
       "  </thead>\n",
       "  <tbody>\n",
       "    <tr>\n",
       "      <th>0</th>\n",
       "      <td>99213</td>\n",
       "      <td>16132990H</td>\n",
       "      <td>PHYSICIAN</td>\n",
       "      <td>APPROVED - AUTO</td>\n",
       "      <td>OBSTETRICS/GYNECOLOGY</td>\n",
       "      <td>SOUTH BAY</td>\n",
       "      <td>1</td>\n",
       "      <td>1</td>\n",
       "      <td>1</td>\n",
       "      <td>1</td>\n",
       "      <td>0</td>\n",
       "      <td>1.0</td>\n",
       "    </tr>\n",
       "    <tr>\n",
       "      <th>1</th>\n",
       "      <td>99214</td>\n",
       "      <td>16113572H</td>\n",
       "      <td>PHYSICIAN</td>\n",
       "      <td>APPROVED - CARE COORDINATOR</td>\n",
       "      <td>SURGERY - NEURO</td>\n",
       "      <td>SAN GABRIEL VALLEY</td>\n",
       "      <td>1</td>\n",
       "      <td>0</td>\n",
       "      <td>1</td>\n",
       "      <td>1</td>\n",
       "      <td>0</td>\n",
       "      <td>1.0</td>\n",
       "    </tr>\n",
       "    <tr>\n",
       "      <th>2</th>\n",
       "      <td>45380</td>\n",
       "      <td>16121057H</td>\n",
       "      <td>OUTPT DIAG</td>\n",
       "      <td>APPROVED - CM</td>\n",
       "      <td>FACILITY SERVICES</td>\n",
       "      <td>SOUTH BAY</td>\n",
       "      <td>1</td>\n",
       "      <td>0</td>\n",
       "      <td>1</td>\n",
       "      <td>1</td>\n",
       "      <td>0</td>\n",
       "      <td>1.0</td>\n",
       "    </tr>\n",
       "    <tr>\n",
       "      <th>3</th>\n",
       "      <td>72040</td>\n",
       "      <td>16116056H</td>\n",
       "      <td>OUTPT DIAG</td>\n",
       "      <td>APPROVED - CARE COORDINATOR</td>\n",
       "      <td>RADIOLOGY</td>\n",
       "      <td>SAN FERNANDO VALLEY</td>\n",
       "      <td>1</td>\n",
       "      <td>0</td>\n",
       "      <td>1</td>\n",
       "      <td>1</td>\n",
       "      <td>0</td>\n",
       "      <td>1.0</td>\n",
       "    </tr>\n",
       "    <tr>\n",
       "      <th>4</th>\n",
       "      <td>31231</td>\n",
       "      <td>16120070H</td>\n",
       "      <td>PHYSICIAN</td>\n",
       "      <td>APPROVED - MD</td>\n",
       "      <td>FACILITY SERVICES</td>\n",
       "      <td>ORANGE COUNTY</td>\n",
       "      <td>1</td>\n",
       "      <td>0</td>\n",
       "      <td>0</td>\n",
       "      <td>1</td>\n",
       "      <td>0</td>\n",
       "      <td>0.0</td>\n",
       "    </tr>\n",
       "  </tbody>\n",
       "</table>\n",
       "</div>"
      ],
      "text/plain": [
       "  CPT_Code HCP_CONNECT_AUTH_NUMBER        Type                  status_name  \\\n",
       "0    99213               16132990H   PHYSICIAN              APPROVED - AUTO   \n",
       "1    99214               16113572H   PHYSICIAN  APPROVED - CARE COORDINATOR   \n",
       "2    45380               16121057H  OUTPT DIAG                APPROVED - CM   \n",
       "3    72040               16116056H  OUTPT DIAG  APPROVED - CARE COORDINATOR   \n",
       "4    31231               16120070H   PHYSICIAN                APPROVED - MD   \n",
       "\n",
       "               Specialty               region  UNITS  is_autoapp  is_PPL  \\\n",
       "0  OBSTETRICS/GYNECOLOGY            SOUTH BAY      1           1       1   \n",
       "1        SURGERY - NEURO   SAN GABRIEL VALLEY      1           0       1   \n",
       "2      FACILITY SERVICES            SOUTH BAY      1           0       1   \n",
       "3              RADIOLOGY  SAN FERNANDO VALLEY      1           0       1   \n",
       "4      FACILITY SERVICES        ORANGE COUNTY      1           0       0   \n",
       "\n",
       "   is_app  is_den  auto_approvable  \n",
       "0       1       0              1.0  \n",
       "1       1       0              1.0  \n",
       "2       1       0              1.0  \n",
       "3       1       0              1.0  \n",
       "4       1       0              0.0  "
      ]
     },
     "execution_count": 323,
     "metadata": {},
     "output_type": "execute_result"
    }
   ],
   "source": [
    "refs_new.head()"
   ]
  },
  {
   "cell_type": "code",
   "execution_count": 324,
   "metadata": {},
   "outputs": [
    {
     "data": {
      "text/plain": [
       "925792"
      ]
     },
     "execution_count": 324,
     "metadata": {},
     "output_type": "execute_result"
    }
   ],
   "source": [
    "refs_new.shape[0]"
   ]
  },
  {
   "cell_type": "code",
   "execution_count": 325,
   "metadata": {},
   "outputs": [],
   "source": [
    "refs_new = refs_new.merge(refs_results, how='left', on=['HCP_CONNECT_AUTH_NUMBER'])"
   ]
  },
  {
   "cell_type": "code",
   "execution_count": 326,
   "metadata": {},
   "outputs": [
    {
     "data": {
      "text/html": [
       "<div>\n",
       "<style scoped>\n",
       "    .dataframe tbody tr th:only-of-type {\n",
       "        vertical-align: middle;\n",
       "    }\n",
       "\n",
       "    .dataframe tbody tr th {\n",
       "        vertical-align: top;\n",
       "    }\n",
       "\n",
       "    .dataframe thead th {\n",
       "        text-align: right;\n",
       "    }\n",
       "</style>\n",
       "<table border=\"1\" class=\"dataframe\">\n",
       "  <thead>\n",
       "    <tr style=\"text-align: right;\">\n",
       "      <th></th>\n",
       "      <th>Specialty</th>\n",
       "      <th>CPT_Code</th>\n",
       "      <th>is_PPL</th>\n",
       "      <th>UNITS</th>\n",
       "      <th>is_autoapp</th>\n",
       "      <th>is_den</th>\n",
       "      <th>UNITS_man</th>\n",
       "      <th>cost_to_review</th>\n",
       "      <th>cnt_hcp_cost</th>\n",
       "      <th>avg_hcp_cost</th>\n",
       "      <th>sum_cost_denied</th>\n",
       "      <th>ROI</th>\n",
       "      <th>fin_aa_rec</th>\n",
       "    </tr>\n",
       "  </thead>\n",
       "  <tbody>\n",
       "    <tr>\n",
       "      <th>16852</th>\n",
       "      <td>FACILITY SERVICES</td>\n",
       "      <td>J1561</td>\n",
       "      <td>0</td>\n",
       "      <td>12</td>\n",
       "      <td>0.0</td>\n",
       "      <td>0.250000</td>\n",
       "      <td>12.0</td>\n",
       "      <td>30.368924</td>\n",
       "      <td>105.0</td>\n",
       "      <td>2019.270300</td>\n",
       "      <td>6057.810900</td>\n",
       "      <td>199.474005</td>\n",
       "      <td>0</td>\n",
       "    </tr>\n",
       "    <tr>\n",
       "      <th>16853</th>\n",
       "      <td>FACILITY SERVICES</td>\n",
       "      <td>J1561</td>\n",
       "      <td>1</td>\n",
       "      <td>1</td>\n",
       "      <td>0.0</td>\n",
       "      <td>0.000000</td>\n",
       "      <td>1.0</td>\n",
       "      <td>2.530744</td>\n",
       "      <td>105.0</td>\n",
       "      <td>2019.270300</td>\n",
       "      <td>0.000000</td>\n",
       "      <td>0.000000</td>\n",
       "      <td>1</td>\n",
       "    </tr>\n",
       "    <tr>\n",
       "      <th>19914</th>\n",
       "      <td>HEMATOLOGY/ONCOLOGY</td>\n",
       "      <td>J1561</td>\n",
       "      <td>0</td>\n",
       "      <td>13</td>\n",
       "      <td>0.0</td>\n",
       "      <td>0.153846</td>\n",
       "      <td>13.0</td>\n",
       "      <td>32.899668</td>\n",
       "      <td>NaN</td>\n",
       "      <td>3831.021686</td>\n",
       "      <td>7662.043371</td>\n",
       "      <td>232.891209</td>\n",
       "      <td>0</td>\n",
       "    </tr>\n",
       "    <tr>\n",
       "      <th>20806</th>\n",
       "      <td>HOME HEALTH</td>\n",
       "      <td>J1561</td>\n",
       "      <td>0</td>\n",
       "      <td>37</td>\n",
       "      <td>0.0</td>\n",
       "      <td>0.000000</td>\n",
       "      <td>37.0</td>\n",
       "      <td>93.637516</td>\n",
       "      <td>20.0</td>\n",
       "      <td>4668.504000</td>\n",
       "      <td>0.000000</td>\n",
       "      <td>0.000000</td>\n",
       "      <td>1</td>\n",
       "    </tr>\n",
       "    <tr>\n",
       "      <th>20807</th>\n",
       "      <td>HOME HEALTH</td>\n",
       "      <td>J1561</td>\n",
       "      <td>1</td>\n",
       "      <td>14</td>\n",
       "      <td>0.0</td>\n",
       "      <td>0.000000</td>\n",
       "      <td>14.0</td>\n",
       "      <td>35.430411</td>\n",
       "      <td>20.0</td>\n",
       "      <td>4668.504000</td>\n",
       "      <td>0.000000</td>\n",
       "      <td>0.000000</td>\n",
       "      <td>1</td>\n",
       "    </tr>\n",
       "  </tbody>\n",
       "</table>\n",
       "</div>"
      ],
      "text/plain": [
       "                 Specialty CPT_Code  is_PPL  UNITS  is_autoapp    is_den  \\\n",
       "16852    FACILITY SERVICES    J1561       0     12         0.0  0.250000   \n",
       "16853    FACILITY SERVICES    J1561       1      1         0.0  0.000000   \n",
       "19914  HEMATOLOGY/ONCOLOGY    J1561       0     13         0.0  0.153846   \n",
       "20806          HOME HEALTH    J1561       0     37         0.0  0.000000   \n",
       "20807          HOME HEALTH    J1561       1     14         0.0  0.000000   \n",
       "\n",
       "       UNITS_man  cost_to_review  cnt_hcp_cost  avg_hcp_cost  sum_cost_denied  \\\n",
       "16852       12.0       30.368924         105.0   2019.270300      6057.810900   \n",
       "16853        1.0        2.530744         105.0   2019.270300         0.000000   \n",
       "19914       13.0       32.899668           NaN   3831.021686      7662.043371   \n",
       "20806       37.0       93.637516          20.0   4668.504000         0.000000   \n",
       "20807       14.0       35.430411          20.0   4668.504000         0.000000   \n",
       "\n",
       "              ROI  fin_aa_rec  \n",
       "16852  199.474005           0  \n",
       "16853    0.000000           1  \n",
       "19914  232.891209           0  \n",
       "20806    0.000000           1  \n",
       "20807    0.000000           1  "
      ]
     },
     "execution_count": 326,
     "metadata": {},
     "output_type": "execute_result"
    }
   ],
   "source": [
    "refs_w_claims_fin[refs_w_claims_fin['CPT_Code']=='J1561'].head()"
   ]
  },
  {
   "cell_type": "code",
   "execution_count": 327,
   "metadata": {},
   "outputs": [
    {
     "data": {
      "text/html": [
       "<div>\n",
       "<style scoped>\n",
       "    .dataframe tbody tr th:only-of-type {\n",
       "        vertical-align: middle;\n",
       "    }\n",
       "\n",
       "    .dataframe tbody tr th {\n",
       "        vertical-align: top;\n",
       "    }\n",
       "\n",
       "    .dataframe thead th {\n",
       "        text-align: right;\n",
       "    }\n",
       "</style>\n",
       "<table border=\"1\" class=\"dataframe\">\n",
       "  <thead>\n",
       "    <tr style=\"text-align: right;\">\n",
       "      <th></th>\n",
       "      <th>aa-yn</th>\n",
       "      <th>0</th>\n",
       "      <th>1</th>\n",
       "      <th>All</th>\n",
       "    </tr>\n",
       "    <tr>\n",
       "      <th>is_autoapp</th>\n",
       "      <th>is_den</th>\n",
       "      <th></th>\n",
       "      <th></th>\n",
       "      <th></th>\n",
       "    </tr>\n",
       "  </thead>\n",
       "  <tbody>\n",
       "    <tr>\n",
       "      <th rowspan=\"2\" valign=\"top\">0</th>\n",
       "      <th>0</th>\n",
       "      <td>447012</td>\n",
       "      <td>184683</td>\n",
       "      <td>631695</td>\n",
       "    </tr>\n",
       "    <tr>\n",
       "      <th>1</th>\n",
       "      <td>15799</td>\n",
       "      <td>1059</td>\n",
       "      <td>16858</td>\n",
       "    </tr>\n",
       "    <tr>\n",
       "      <th>1</th>\n",
       "      <th>0</th>\n",
       "      <td>81208</td>\n",
       "      <td>196031</td>\n",
       "      <td>277239</td>\n",
       "    </tr>\n",
       "    <tr>\n",
       "      <th>All</th>\n",
       "      <th></th>\n",
       "      <td>544019</td>\n",
       "      <td>381773</td>\n",
       "      <td>925792</td>\n",
       "    </tr>\n",
       "  </tbody>\n",
       "</table>\n",
       "</div>"
      ],
      "text/plain": [
       "aa-yn                   0       1     All\n",
       "is_autoapp is_den                        \n",
       "0          0       447012  184683  631695\n",
       "           1        15799    1059   16858\n",
       "1          0        81208  196031  277239\n",
       "All                544019  381773  925792"
      ]
     },
     "execution_count": 327,
     "metadata": {},
     "output_type": "execute_result"
    }
   ],
   "source": [
    "refs_new.pivot_table(values='UNITS', index=['is_autoapp', 'is_den'], columns='aa-yn', aggfunc='count', margins=True)##.to_csv('../Data/Outputs/costs_cm.csv')"
   ]
  },
  {
   "cell_type": "code",
   "execution_count": 328,
   "metadata": {},
   "outputs": [],
   "source": [
    "#refs_new.to_csv('../Data/Outputs/refs_new_from_script.csv', sep='|')"
   ]
  },
  {
   "cell_type": "code",
   "execution_count": 329,
   "metadata": {},
   "outputs": [],
   "source": [
    "# refs_new[(refs_new['is_autoapp']==1) &\n",
    "#          (refs_new['aa-yn']==0)].pivot_table(values='UNITS', index = 'is_den',\n",
    "#                     aggfunc='count', margins=True).to_csv('../Data/Outputs/2019_spec_cpt_results.csv', sep='|')"
   ]
  },
  {
   "cell_type": "code",
   "execution_count": 330,
   "metadata": {},
   "outputs": [
    {
     "data": {
      "text/plain": [
       "Index(['CPT_Code', 'HCP_CONNECT_AUTH_NUMBER', 'Type', 'status_name',\n",
       "       'Specialty', 'region', 'UNITS', 'is_autoapp', 'is_PPL', 'is_app',\n",
       "       'is_den', 'auto_approvable', 'aa-yn'],\n",
       "      dtype='object')"
      ]
     },
     "execution_count": 330,
     "metadata": {},
     "output_type": "execute_result"
    }
   ],
   "source": [
    "refs_new.columns"
   ]
  },
  {
   "cell_type": "code",
   "execution_count": 331,
   "metadata": {},
   "outputs": [],
   "source": [
    "# refs_new.pivot_table(values ='CPT_Code', index=['Type','auto_approvable'], columns='is_app'\n",
    "#                     ,aggfunc='count', margins=True).to_csv('../Data/Outputs/2019_project_cm_type.csv', sep='|')"
   ]
  },
  {
   "cell_type": "code",
   "execution_count": 332,
   "metadata": {},
   "outputs": [
    {
     "data": {
      "text/plain": [
       "925792"
      ]
     },
     "execution_count": 332,
     "metadata": {},
     "output_type": "execute_result"
    }
   ],
   "source": [
    "refs_new.shape[0]"
   ]
  },
  {
   "cell_type": "code",
   "execution_count": 333,
   "metadata": {},
   "outputs": [
    {
     "data": {
      "text/plain": [
       "550994"
      ]
     },
     "execution_count": 333,
     "metadata": {},
     "output_type": "execute_result"
    }
   ],
   "source": [
    "len(refs_new['HCP_CONNECT_AUTH_NUMBER'].unique())"
   ]
  },
  {
   "cell_type": "code",
   "execution_count": 334,
   "metadata": {},
   "outputs": [
    {
     "data": {
      "text/plain": [
       "Index(['CPT_Code', 'HCP_CONNECT_AUTH_NUMBER', 'Type', 'status_name',\n",
       "       'Specialty', 'region', 'UNITS', 'is_autoapp', 'is_PPL', 'is_app',\n",
       "       'is_den', 'auto_approvable', 'aa-yn'],\n",
       "      dtype='object')"
      ]
     },
     "execution_count": 334,
     "metadata": {},
     "output_type": "execute_result"
    }
   ],
   "source": [
    "refs_new.columns"
   ]
  },
  {
   "cell_type": "markdown",
   "metadata": {},
   "source": [
    "## Construct Specialty Summary"
   ]
  },
  {
   "cell_type": "code",
   "execution_count": 335,
   "metadata": {},
   "outputs": [],
   "source": [
    "refs_new_head = refs_new.groupby(['Specialty', 'Type', 'region', 'HCP_CONNECT_AUTH_NUMBER'], as_index=False).agg({\n",
    "    'UNITS': 'sum',\n",
    "    'is_autoapp': 'mean',\n",
    "    'is_PPL': 'mean',\n",
    "    'is_app': 'mean',\n",
    "    'is_den': 'mean',\n",
    "    'aa-yn': 'mean'\n",
    "})"
   ]
  },
  {
   "cell_type": "code",
   "execution_count": 336,
   "metadata": {},
   "outputs": [],
   "source": [
    "refs_new_head.pivot_table(values=['is_autoapp', 'aa-yn'], index='Specialty', aggfunc=['count', 'mean']).to_csv('../Data/Outputs/spec_rates.csv',\n",
    "                                                                                                              sep='|')"
   ]
  },
  {
   "cell_type": "code",
   "execution_count": 337,
   "metadata": {},
   "outputs": [],
   "source": [
    "specialty_summary = pd.read_csv('../Data/Outputs/spec_rates.csv', sep='|', skiprows=3, names=['Specialty',\n",
    "                                                                                             'ref_vol', 'ref_vol2',\n",
    "                                                                                             'new_rate', 'old_rate'])"
   ]
  },
  {
   "cell_type": "code",
   "execution_count": 338,
   "metadata": {},
   "outputs": [],
   "source": [
    "specialty_summary.drop('ref_vol2', axis=1, inplace=True)"
   ]
  },
  {
   "cell_type": "code",
   "execution_count": 339,
   "metadata": {},
   "outputs": [],
   "source": [
    "## Get counts of codes for each specialty"
   ]
  },
  {
   "cell_type": "code",
   "execution_count": 340,
   "metadata": {},
   "outputs": [
    {
     "data": {
      "text/html": [
       "<div>\n",
       "<style scoped>\n",
       "    .dataframe tbody tr th:only-of-type {\n",
       "        vertical-align: middle;\n",
       "    }\n",
       "\n",
       "    .dataframe tbody tr th {\n",
       "        vertical-align: top;\n",
       "    }\n",
       "\n",
       "    .dataframe thead th {\n",
       "        text-align: right;\n",
       "    }\n",
       "</style>\n",
       "<table border=\"1\" class=\"dataframe\">\n",
       "  <thead>\n",
       "    <tr style=\"text-align: right;\">\n",
       "      <th></th>\n",
       "      <th>Specialty</th>\n",
       "      <th>ref_vol</th>\n",
       "      <th>new_rate</th>\n",
       "      <th>old_rate</th>\n",
       "    </tr>\n",
       "  </thead>\n",
       "  <tbody>\n",
       "    <tr>\n",
       "      <th>101</th>\n",
       "      <td>SURGERY - VASCULAR</td>\n",
       "      <td>4050</td>\n",
       "      <td>0.295802</td>\n",
       "      <td>0.000247</td>\n",
       "    </tr>\n",
       "    <tr>\n",
       "      <th>102</th>\n",
       "      <td>UNK PHYS SPEC</td>\n",
       "      <td>1485</td>\n",
       "      <td>0.000000</td>\n",
       "      <td>0.005387</td>\n",
       "    </tr>\n",
       "    <tr>\n",
       "      <th>103</th>\n",
       "      <td>URGENT/IMMEDIATE CARE</td>\n",
       "      <td>99</td>\n",
       "      <td>0.121212</td>\n",
       "      <td>0.414141</td>\n",
       "    </tr>\n",
       "    <tr>\n",
       "      <th>104</th>\n",
       "      <td>UROLOGY</td>\n",
       "      <td>17400</td>\n",
       "      <td>0.695460</td>\n",
       "      <td>0.584368</td>\n",
       "    </tr>\n",
       "    <tr>\n",
       "      <th>105</th>\n",
       "      <td>WOUND CARE</td>\n",
       "      <td>1153</td>\n",
       "      <td>0.011275</td>\n",
       "      <td>0.267129</td>\n",
       "    </tr>\n",
       "  </tbody>\n",
       "</table>\n",
       "</div>"
      ],
      "text/plain": [
       "                 Specialty  ref_vol  new_rate  old_rate\n",
       "101     SURGERY - VASCULAR     4050  0.295802  0.000247\n",
       "102          UNK PHYS SPEC     1485  0.000000  0.005387\n",
       "103  URGENT/IMMEDIATE CARE       99  0.121212  0.414141\n",
       "104                UROLOGY    17400  0.695460  0.584368\n",
       "105             WOUND CARE     1153  0.011275  0.267129"
      ]
     },
     "execution_count": 340,
     "metadata": {},
     "output_type": "execute_result"
    }
   ],
   "source": [
    "specialty_summary.tail()"
   ]
  },
  {
   "cell_type": "code",
   "execution_count": 341,
   "metadata": {},
   "outputs": [],
   "source": [
    "def spec_code_counts(spec_dict, spec_summary):\n",
    "    counts = []\n",
    "    for index, row in spec_summary.iterrows():\n",
    "        counts.append(len(spec_dict[row['Specialty']]))\n",
    "    return counts"
   ]
  },
  {
   "cell_type": "code",
   "execution_count": 342,
   "metadata": {},
   "outputs": [],
   "source": [
    "PPL_counts = spec_code_counts(spec_dict_PPL, specialty_summary)"
   ]
  },
  {
   "cell_type": "code",
   "execution_count": 343,
   "metadata": {},
   "outputs": [],
   "source": [
    "specialty_summary['num_codes']=PPL_counts"
   ]
  },
  {
   "cell_type": "code",
   "execution_count": 344,
   "metadata": {},
   "outputs": [],
   "source": [
    "## get 'denied now approved'"
   ]
  },
  {
   "cell_type": "code",
   "execution_count": 345,
   "metadata": {},
   "outputs": [],
   "source": [
    "refs_new_head['denied_now_aa'] = refs_new_head['is_den'] * refs_new_head['aa-yn']"
   ]
  },
  {
   "cell_type": "code",
   "execution_count": 346,
   "metadata": {},
   "outputs": [],
   "source": [
    "refs_new_head.pivot_table('denied_now_aa', index='Specialty', aggfunc='sum').to_csv('../Data/Outputs/spec_den_now_aa.csv',\n",
    "                                                                                                      sep='|')"
   ]
  },
  {
   "cell_type": "code",
   "execution_count": 347,
   "metadata": {},
   "outputs": [],
   "source": [
    "ss_deny_now_aa = pd.read_csv('../Data/Outputs/spec_den_now_aa.csv', sep='|', skiprows=2, names=['Specialty', 'deny_now_aa'])"
   ]
  },
  {
   "cell_type": "code",
   "execution_count": 348,
   "metadata": {},
   "outputs": [],
   "source": [
    "specialty_summary = specialty_summary.merge(ss_deny_now_aa, how='inner', on='Specialty')"
   ]
  },
  {
   "cell_type": "code",
   "execution_count": 349,
   "metadata": {},
   "outputs": [
    {
     "data": {
      "text/html": [
       "<div>\n",
       "<style scoped>\n",
       "    .dataframe tbody tr th:only-of-type {\n",
       "        vertical-align: middle;\n",
       "    }\n",
       "\n",
       "    .dataframe tbody tr th {\n",
       "        vertical-align: top;\n",
       "    }\n",
       "\n",
       "    .dataframe thead th {\n",
       "        text-align: right;\n",
       "    }\n",
       "</style>\n",
       "<table border=\"1\" class=\"dataframe\">\n",
       "  <thead>\n",
       "    <tr style=\"text-align: right;\">\n",
       "      <th></th>\n",
       "      <th>Specialty</th>\n",
       "      <th>ref_vol</th>\n",
       "      <th>new_rate</th>\n",
       "      <th>old_rate</th>\n",
       "      <th>num_codes</th>\n",
       "      <th>deny_now_aa</th>\n",
       "    </tr>\n",
       "  </thead>\n",
       "  <tbody>\n",
       "    <tr>\n",
       "      <th>0</th>\n",
       "      <td>ADDICTION MEDICINE</td>\n",
       "      <td>114</td>\n",
       "      <td>0.0</td>\n",
       "      <td>0.000000</td>\n",
       "      <td>0</td>\n",
       "      <td>0</td>\n",
       "    </tr>\n",
       "    <tr>\n",
       "      <th>1</th>\n",
       "      <td>ALLERGY/IMMUNOLOGY</td>\n",
       "      <td>4048</td>\n",
       "      <td>0.0</td>\n",
       "      <td>0.650198</td>\n",
       "      <td>0</td>\n",
       "      <td>0</td>\n",
       "    </tr>\n",
       "    <tr>\n",
       "      <th>2</th>\n",
       "      <td>AMBULANCE</td>\n",
       "      <td>6264</td>\n",
       "      <td>0.0</td>\n",
       "      <td>0.064974</td>\n",
       "      <td>0</td>\n",
       "      <td>0</td>\n",
       "    </tr>\n",
       "    <tr>\n",
       "      <th>3</th>\n",
       "      <td>AMBULATORY SURGICAL CENTER</td>\n",
       "      <td>12102</td>\n",
       "      <td>0.0</td>\n",
       "      <td>0.000083</td>\n",
       "      <td>0</td>\n",
       "      <td>0</td>\n",
       "    </tr>\n",
       "    <tr>\n",
       "      <th>4</th>\n",
       "      <td>ANESTHESIOLOGY</td>\n",
       "      <td>48</td>\n",
       "      <td>0.0</td>\n",
       "      <td>0.000000</td>\n",
       "      <td>0</td>\n",
       "      <td>0</td>\n",
       "    </tr>\n",
       "  </tbody>\n",
       "</table>\n",
       "</div>"
      ],
      "text/plain": [
       "                    Specialty  ref_vol  new_rate  old_rate  num_codes  \\\n",
       "0          ADDICTION MEDICINE      114       0.0  0.000000          0   \n",
       "1          ALLERGY/IMMUNOLOGY     4048       0.0  0.650198          0   \n",
       "2                   AMBULANCE     6264       0.0  0.064974          0   \n",
       "3  AMBULATORY SURGICAL CENTER    12102       0.0  0.000083          0   \n",
       "4              ANESTHESIOLOGY       48       0.0  0.000000          0   \n",
       "\n",
       "   deny_now_aa  \n",
       "0            0  \n",
       "1            0  \n",
       "2            0  \n",
       "3            0  \n",
       "4            0  "
      ]
     },
     "execution_count": 349,
     "metadata": {},
     "output_type": "execute_result"
    }
   ],
   "source": [
    "specialty_summary.head()"
   ]
  },
  {
   "cell_type": "code",
   "execution_count": 350,
   "metadata": {},
   "outputs": [],
   "source": [
    "## Prep refs_w_claims_fin to merge into refs_new"
   ]
  },
  {
   "cell_type": "code",
   "execution_count": 351,
   "metadata": {},
   "outputs": [],
   "source": [
    "refs_w_claims_fin_select = refs_w_claims_fin.drop(['UNITS', 'is_autoapp', 'is_den',\n",
    "       'UNITS_man', 'cost_to_review', 'cnt_hcp_cost',\n",
    "       'sum_cost_denied'], axis=1)"
   ]
  },
  {
   "cell_type": "code",
   "execution_count": 352,
   "metadata": {},
   "outputs": [],
   "source": [
    "refs_new_w_fin = pd.merge(refs_new, refs_w_claims_fin_select, how='left', on=['Specialty', 'CPT_Code', 'is_PPL'])"
   ]
  },
  {
   "cell_type": "code",
   "execution_count": 353,
   "metadata": {},
   "outputs": [],
   "source": [
    "refs_new_w_fin['dollars_denied_now_app'] = refs_new_w_fin['is_den']*refs_new_w_fin['aa-yn']*refs_new_w_fin['avg_hcp_cost']"
   ]
  },
  {
   "cell_type": "code",
   "execution_count": 354,
   "metadata": {},
   "outputs": [],
   "source": [
    "refs_new_w_fin['cost_to_review_bene'] = (1-refs_new_w_fin['is_autoapp'])*refs_new_w_fin['aa-yn']*ga_cpt"
   ]
  },
  {
   "cell_type": "code",
   "execution_count": 355,
   "metadata": {},
   "outputs": [],
   "source": [
    "refs_new_w_fin['cost_to_review_loss'] = refs_new_w_fin['is_autoapp']*(1-refs_new_w_fin['aa-yn'])*ga_cpt"
   ]
  },
  {
   "cell_type": "code",
   "execution_count": 356,
   "metadata": {},
   "outputs": [],
   "source": [
    "refs_new_w_fin['new_denial_bene_est'] = refs_new_w_fin['is_autoapp']*(1-refs_new_w_fin['aa-yn'])*ga_cpt*refs_new_w_fin['ROI']*refs_new_w_fin['is_PPL']"
   ]
  },
  {
   "cell_type": "code",
   "execution_count": 357,
   "metadata": {},
   "outputs": [],
   "source": [
    "refs_new_w_fin.pivot_table(values=['dollars_denied_now_app', 'cost_to_review_bene', 'cost_to_review_loss',\n",
    "                                  'new_denial_bene_est'], index='Specialty', aggfunc='sum').to_csv('../Data/Outputs/specialty_fins.csv', sep='|')"
   ]
  },
  {
   "cell_type": "code",
   "execution_count": 358,
   "metadata": {},
   "outputs": [],
   "source": [
    "specialty_fins = pd.read_csv('../Data/Outputs/specialty_fins.csv', sep='|')"
   ]
  },
  {
   "cell_type": "code",
   "execution_count": 359,
   "metadata": {},
   "outputs": [],
   "source": [
    "specialty_summary = specialty_summary.merge(specialty_fins, how='inner', on='Specialty')"
   ]
  },
  {
   "cell_type": "code",
   "execution_count": 360,
   "metadata": {},
   "outputs": [],
   "source": [
    "specialty_summary['net_benefit'] = specialty_summary['cost_to_review_bene'] - specialty_summary['cost_to_review_loss'] - specialty_summary['dollars_denied_now_app']"
   ]
  },
  {
   "cell_type": "code",
   "execution_count": 361,
   "metadata": {},
   "outputs": [],
   "source": [
    "specialty_summary['net_benefit_w_new_den'] = specialty_summary['cost_to_review_bene'] - specialty_summary['cost_to_review_loss'] -specialty_summary['dollars_denied_now_app'] + specialty_summary['new_denial_bene_est']"
   ]
  },
  {
   "cell_type": "code",
   "execution_count": 362,
   "metadata": {},
   "outputs": [
    {
     "name": "stdout",
     "output_type": "stream",
     "text": [
      "WARNING: This file already exists!\n"
     ]
    }
   ],
   "source": [
    "# Give the filename you wish to save the file to\n",
    "spec_summary_filename = '../Data/Outputs/specialty_summary_fin.csv'\n",
    "\n",
    "# Use this function to search for any files which match your filename\n",
    "files_present = os.path.isfile(spec_summary_filename)\n",
    "\n",
    "# if no matching files, write to csv, if there are matching files, print statement\n",
    "if not files_present:\n",
    "    specialty_summary.to_csv(refs_w_claims_fin_filename)\n",
    "else:\n",
    "    print('WARNING: This file already exists!')"
   ]
  },
  {
   "cell_type": "code",
   "execution_count": 363,
   "metadata": {},
   "outputs": [
    {
     "data": {
      "text/plain": [
       "Index(['HCP_CONNECT_AUTH_NUMBER', 'aa-yn'], dtype='object')"
      ]
     },
     "execution_count": 363,
     "metadata": {},
     "output_type": "execute_result"
    }
   ],
   "source": [
    "refs_results.columns"
   ]
  },
  {
   "cell_type": "code",
   "execution_count": 364,
   "metadata": {},
   "outputs": [
    {
     "data": {
      "text/plain": [
       "0.45953131976028777"
      ]
     },
     "execution_count": 364,
     "metadata": {},
     "output_type": "execute_result"
    }
   ],
   "source": [
    "refs_results['aa-yn'].mean()"
   ]
  },
  {
   "cell_type": "code",
   "execution_count": 365,
   "metadata": {},
   "outputs": [
    {
     "name": "stdout",
     "output_type": "stream",
     "text": [
      "0.5741942843120527\n"
     ]
    }
   ],
   "source": [
    "## rate before laurie and chrisel's codes to pend\n",
    "v0 = 1198038/2086468\n",
    "print(v0)"
   ]
  },
  {
   "cell_type": "code",
   "execution_count": 366,
   "metadata": {},
   "outputs": [
    {
     "name": "stdout",
     "output_type": "stream",
     "text": [
      "0.5229454753200145\n"
     ]
    }
   ],
   "source": [
    "## rate after laurie and christels' codes to pend\n",
    "v1 = 1091109/2086468\n",
    "print(v1)"
   ]
  },
  {
   "cell_type": "code",
   "execution_count": 367,
   "metadata": {},
   "outputs": [
    {
     "name": "stdout",
     "output_type": "stream",
     "text": [
      "0.5260655806846786\n"
     ]
    }
   ],
   "source": [
    "v2 = 1097619/2086468\n",
    "print(v2)"
   ]
  },
  {
   "cell_type": "code",
   "execution_count": 368,
   "metadata": {},
   "outputs": [
    {
     "name": "stdout",
     "output_type": "stream",
     "text": [
      "0.5048245953119881\n"
     ]
    }
   ],
   "source": [
    "## using 2018 data to create rules, and then applying them to early 2019 data\n",
    "v3 = 274250/543258\n",
    "print(v3)"
   ]
  },
  {
   "cell_type": "code",
   "execution_count": 369,
   "metadata": {},
   "outputs": [
    {
     "data": {
      "text/plain": [
       "0.401"
      ]
     },
     "execution_count": 369,
     "metadata": {},
     "output_type": "execute_result"
    }
   ],
   "source": [
    "## using clinical review list from 20190501 from Rhoda \n",
    ".401"
   ]
  },
  {
   "cell_type": "code",
   "execution_count": 370,
   "metadata": {},
   "outputs": [
    {
     "data": {
      "text/plain": [
       "0.4532"
      ]
     },
     "execution_count": 370,
     "metadata": {},
     "output_type": "execute_result"
    }
   ],
   "source": [
    "## 20190503 V1 - More Conservative Version\n",
    ".4532"
   ]
  },
  {
   "cell_type": "code",
   "execution_count": 371,
   "metadata": {},
   "outputs": [
    {
     "data": {
      "text/plain": [
       "0.462"
      ]
     },
     "execution_count": 371,
     "metadata": {},
     "output_type": "execute_result"
    }
   ],
   "source": [
    "## 20190503 v2 - Baseline\n",
    ".462"
   ]
  },
  {
   "cell_type": "markdown",
   "metadata": {},
   "source": [
    "## Code Detail List"
   ]
  },
  {
   "cell_type": "code",
   "execution_count": 372,
   "metadata": {},
   "outputs": [],
   "source": [
    "refs_w_claims_fin[(refs_w_claims_fin['Specialty']=='PAIN MANAGEMENT')\n",
    "                 ##& (refs_w_claims_fin['UNITS']>30)\n",
    "                  & (refs_w_claims_fin['CPT_Code']=='J1885')\n",
    "                 ].to_csv('../Data/Outputs/code_detail_20190411.csv', sep='|')"
   ]
  },
  {
   "cell_type": "markdown",
   "metadata": {},
   "source": [
    "## Spot Check Specific Referrals"
   ]
  },
  {
   "cell_type": "code",
   "execution_count": 373,
   "metadata": {
    "scrolled": false
   },
   "outputs": [
    {
     "data": {
      "text/html": [
       "<div>\n",
       "<style scoped>\n",
       "    .dataframe tbody tr th:only-of-type {\n",
       "        vertical-align: middle;\n",
       "    }\n",
       "\n",
       "    .dataframe tbody tr th {\n",
       "        vertical-align: top;\n",
       "    }\n",
       "\n",
       "    .dataframe thead th {\n",
       "        text-align: right;\n",
       "    }\n",
       "</style>\n",
       "<table border=\"1\" class=\"dataframe\">\n",
       "  <thead>\n",
       "    <tr style=\"text-align: right;\">\n",
       "      <th></th>\n",
       "      <th>Specialty</th>\n",
       "      <th>Type</th>\n",
       "      <th>region</th>\n",
       "      <th>HCP_CONNECT_AUTH_NUMBER</th>\n",
       "      <th>UNITS</th>\n",
       "      <th>is_autoapp</th>\n",
       "      <th>is_PPL</th>\n",
       "      <th>is_app</th>\n",
       "      <th>is_den</th>\n",
       "      <th>aa-yn</th>\n",
       "      <th>denied_now_aa</th>\n",
       "    </tr>\n",
       "  </thead>\n",
       "  <tbody>\n",
       "  </tbody>\n",
       "</table>\n",
       "</div>"
      ],
      "text/plain": [
       "Empty DataFrame\n",
       "Columns: [Specialty, Type, region, HCP_CONNECT_AUTH_NUMBER, UNITS, is_autoapp, is_PPL, is_app, is_den, aa-yn, denied_now_aa]\n",
       "Index: []"
      ]
     },
     "execution_count": 373,
     "metadata": {},
     "output_type": "execute_result"
    }
   ],
   "source": [
    "refs_new_head[(refs_new_head['Specialty']=='OCCUPATIONAL THERAPY') \n",
    "             ##& (refs_results['status_name']=='DENIED - CM')\n",
    "            & (refs_new_head['aa-yn']==1)].tail(10)"
   ]
  },
  {
   "cell_type": "markdown",
   "metadata": {},
   "source": [
    "## Referral Detail Lookup (Enter Auth)"
   ]
  },
  {
   "cell_type": "code",
   "execution_count": 374,
   "metadata": {},
   "outputs": [
    {
     "data": {
      "text/html": [
       "<div>\n",
       "<style scoped>\n",
       "    .dataframe tbody tr th:only-of-type {\n",
       "        vertical-align: middle;\n",
       "    }\n",
       "\n",
       "    .dataframe tbody tr th {\n",
       "        vertical-align: top;\n",
       "    }\n",
       "\n",
       "    .dataframe thead th {\n",
       "        text-align: right;\n",
       "    }\n",
       "</style>\n",
       "<table border=\"1\" class=\"dataframe\">\n",
       "  <thead>\n",
       "    <tr style=\"text-align: right;\">\n",
       "      <th></th>\n",
       "      <th>CPT_Code</th>\n",
       "      <th>HCP_CONNECT_AUTH_NUMBER</th>\n",
       "      <th>Type</th>\n",
       "      <th>status_name</th>\n",
       "      <th>Specialty</th>\n",
       "      <th>region</th>\n",
       "      <th>UNITS</th>\n",
       "      <th>is_autoapp</th>\n",
       "      <th>is_PPL</th>\n",
       "      <th>is_app</th>\n",
       "      <th>is_den</th>\n",
       "      <th>auto_approvable</th>\n",
       "      <th>aa-yn</th>\n",
       "    </tr>\n",
       "  </thead>\n",
       "  <tbody>\n",
       "  </tbody>\n",
       "</table>\n",
       "</div>"
      ],
      "text/plain": [
       "Empty DataFrame\n",
       "Columns: [CPT_Code, HCP_CONNECT_AUTH_NUMBER, Type, status_name, Specialty, region, UNITS, is_autoapp, is_PPL, is_app, is_den, auto_approvable, aa-yn]\n",
       "Index: []"
      ]
     },
     "execution_count": 374,
     "metadata": {},
     "output_type": "execute_result"
    }
   ],
   "source": [
    "refs_new[refs_new['HCP_CONNECT_AUTH_NUMBER']=='14040476H']"
   ]
  },
  {
   "cell_type": "markdown",
   "metadata": {},
   "source": [
    "## Auth Lookup (Enter Specialty and Code)"
   ]
  },
  {
   "cell_type": "code",
   "execution_count": 375,
   "metadata": {},
   "outputs": [
    {
     "data": {
      "text/html": [
       "<div>\n",
       "<style scoped>\n",
       "    .dataframe tbody tr th:only-of-type {\n",
       "        vertical-align: middle;\n",
       "    }\n",
       "\n",
       "    .dataframe tbody tr th {\n",
       "        vertical-align: top;\n",
       "    }\n",
       "\n",
       "    .dataframe thead th {\n",
       "        text-align: right;\n",
       "    }\n",
       "</style>\n",
       "<table border=\"1\" class=\"dataframe\">\n",
       "  <thead>\n",
       "    <tr style=\"text-align: right;\">\n",
       "      <th></th>\n",
       "      <th>CPT_Code</th>\n",
       "      <th>HCP_CONNECT_AUTH_NUMBER</th>\n",
       "      <th>Type</th>\n",
       "      <th>status_name</th>\n",
       "      <th>Specialty</th>\n",
       "      <th>region</th>\n",
       "      <th>UNITS</th>\n",
       "      <th>is_autoapp</th>\n",
       "      <th>is_PPL</th>\n",
       "      <th>is_app</th>\n",
       "      <th>is_den</th>\n",
       "      <th>auto_approvable</th>\n",
       "      <th>aa-yn</th>\n",
       "    </tr>\n",
       "  </thead>\n",
       "  <tbody>\n",
       "    <tr>\n",
       "      <th>3019</th>\n",
       "      <td>13100</td>\n",
       "      <td>16281652H</td>\n",
       "      <td>PHYSICIAN</td>\n",
       "      <td>APPROVED - AUTO</td>\n",
       "      <td>DERMATOLOGY</td>\n",
       "      <td>SAN FERNANDO VALLEY</td>\n",
       "      <td>1</td>\n",
       "      <td>1</td>\n",
       "      <td>1</td>\n",
       "      <td>1</td>\n",
       "      <td>0</td>\n",
       "      <td>1.0</td>\n",
       "      <td>0</td>\n",
       "    </tr>\n",
       "    <tr>\n",
       "      <th>27983</th>\n",
       "      <td>13100</td>\n",
       "      <td>16134444H</td>\n",
       "      <td>PHYSICIAN</td>\n",
       "      <td>APPROVED - CM</td>\n",
       "      <td>DERMATOLOGY</td>\n",
       "      <td>SAN GABRIEL VALLEY</td>\n",
       "      <td>1</td>\n",
       "      <td>0</td>\n",
       "      <td>1</td>\n",
       "      <td>1</td>\n",
       "      <td>0</td>\n",
       "      <td>1.0</td>\n",
       "      <td>0</td>\n",
       "    </tr>\n",
       "    <tr>\n",
       "      <th>84714</th>\n",
       "      <td>13100</td>\n",
       "      <td>16133948H</td>\n",
       "      <td>PHYSICIAN</td>\n",
       "      <td>APPROVED - CM</td>\n",
       "      <td>DERMATOLOGY</td>\n",
       "      <td>SAN GABRIEL VALLEY</td>\n",
       "      <td>1</td>\n",
       "      <td>0</td>\n",
       "      <td>1</td>\n",
       "      <td>1</td>\n",
       "      <td>0</td>\n",
       "      <td>1.0</td>\n",
       "      <td>0</td>\n",
       "    </tr>\n",
       "    <tr>\n",
       "      <th>85487</th>\n",
       "      <td>13100</td>\n",
       "      <td>16133586H</td>\n",
       "      <td>PHYSICIAN</td>\n",
       "      <td>APPROVED - MD</td>\n",
       "      <td>DERMATOLOGY</td>\n",
       "      <td>SAN GABRIEL VALLEY</td>\n",
       "      <td>1</td>\n",
       "      <td>0</td>\n",
       "      <td>1</td>\n",
       "      <td>1</td>\n",
       "      <td>0</td>\n",
       "      <td>1.0</td>\n",
       "      <td>0</td>\n",
       "    </tr>\n",
       "    <tr>\n",
       "      <th>86660</th>\n",
       "      <td>13100</td>\n",
       "      <td>16133379H</td>\n",
       "      <td>PHYSICIAN</td>\n",
       "      <td>APPROVED - CM</td>\n",
       "      <td>DERMATOLOGY</td>\n",
       "      <td>SAN GABRIEL VALLEY</td>\n",
       "      <td>1</td>\n",
       "      <td>0</td>\n",
       "      <td>1</td>\n",
       "      <td>1</td>\n",
       "      <td>0</td>\n",
       "      <td>1.0</td>\n",
       "      <td>0</td>\n",
       "    </tr>\n",
       "    <tr>\n",
       "      <th>104595</th>\n",
       "      <td>13100</td>\n",
       "      <td>16034834H</td>\n",
       "      <td>PHYSICIAN</td>\n",
       "      <td>APPROVED - AUTO</td>\n",
       "      <td>DERMATOLOGY</td>\n",
       "      <td>SAN FERNANDO VALLEY</td>\n",
       "      <td>1</td>\n",
       "      <td>1</td>\n",
       "      <td>1</td>\n",
       "      <td>1</td>\n",
       "      <td>0</td>\n",
       "      <td>1.0</td>\n",
       "      <td>0</td>\n",
       "    </tr>\n",
       "    <tr>\n",
       "      <th>119816</th>\n",
       "      <td>13100</td>\n",
       "      <td>16042583H</td>\n",
       "      <td>PHYSICIAN</td>\n",
       "      <td>APPROVED - AUTO</td>\n",
       "      <td>DERMATOLOGY</td>\n",
       "      <td>LONG BEACH</td>\n",
       "      <td>1</td>\n",
       "      <td>1</td>\n",
       "      <td>1</td>\n",
       "      <td>1</td>\n",
       "      <td>0</td>\n",
       "      <td>1.0</td>\n",
       "      <td>0</td>\n",
       "    </tr>\n",
       "    <tr>\n",
       "      <th>132255</th>\n",
       "      <td>13100</td>\n",
       "      <td>15939071H</td>\n",
       "      <td>PHYSICIAN</td>\n",
       "      <td>APPROVED - CM</td>\n",
       "      <td>DERMATOLOGY</td>\n",
       "      <td>SAN GABRIEL VALLEY</td>\n",
       "      <td>1</td>\n",
       "      <td>0</td>\n",
       "      <td>1</td>\n",
       "      <td>1</td>\n",
       "      <td>0</td>\n",
       "      <td>1.0</td>\n",
       "      <td>0</td>\n",
       "    </tr>\n",
       "    <tr>\n",
       "      <th>155022</th>\n",
       "      <td>13100</td>\n",
       "      <td>15994230H</td>\n",
       "      <td>PHYSICIAN</td>\n",
       "      <td>APPROVED - CM</td>\n",
       "      <td>DERMATOLOGY</td>\n",
       "      <td>SAN GABRIEL VALLEY</td>\n",
       "      <td>1</td>\n",
       "      <td>0</td>\n",
       "      <td>1</td>\n",
       "      <td>1</td>\n",
       "      <td>0</td>\n",
       "      <td>1.0</td>\n",
       "      <td>0</td>\n",
       "    </tr>\n",
       "    <tr>\n",
       "      <th>186772</th>\n",
       "      <td>13100</td>\n",
       "      <td>15934963H</td>\n",
       "      <td>PHYSICIAN</td>\n",
       "      <td>APPROVED - CM</td>\n",
       "      <td>DERMATOLOGY</td>\n",
       "      <td>SAN GABRIEL VALLEY</td>\n",
       "      <td>1</td>\n",
       "      <td>0</td>\n",
       "      <td>1</td>\n",
       "      <td>1</td>\n",
       "      <td>0</td>\n",
       "      <td>1.0</td>\n",
       "      <td>0</td>\n",
       "    </tr>\n",
       "    <tr>\n",
       "      <th>194278</th>\n",
       "      <td>13100</td>\n",
       "      <td>15934659H</td>\n",
       "      <td>PHYSICIAN</td>\n",
       "      <td>APPROVED - CM</td>\n",
       "      <td>DERMATOLOGY</td>\n",
       "      <td>SAN GABRIEL VALLEY</td>\n",
       "      <td>1</td>\n",
       "      <td>0</td>\n",
       "      <td>1</td>\n",
       "      <td>1</td>\n",
       "      <td>0</td>\n",
       "      <td>1.0</td>\n",
       "      <td>0</td>\n",
       "    </tr>\n",
       "    <tr>\n",
       "      <th>205676</th>\n",
       "      <td>13100</td>\n",
       "      <td>15939030H</td>\n",
       "      <td>PHYSICIAN</td>\n",
       "      <td>APPROVED - CM</td>\n",
       "      <td>DERMATOLOGY</td>\n",
       "      <td>SAN GABRIEL VALLEY</td>\n",
       "      <td>1</td>\n",
       "      <td>0</td>\n",
       "      <td>1</td>\n",
       "      <td>1</td>\n",
       "      <td>0</td>\n",
       "      <td>1.0</td>\n",
       "      <td>0</td>\n",
       "    </tr>\n",
       "    <tr>\n",
       "      <th>221837</th>\n",
       "      <td>13100</td>\n",
       "      <td>15994247H</td>\n",
       "      <td>PHYSICIAN</td>\n",
       "      <td>APPROVED - CM</td>\n",
       "      <td>DERMATOLOGY</td>\n",
       "      <td>SAN GABRIEL VALLEY</td>\n",
       "      <td>1</td>\n",
       "      <td>0</td>\n",
       "      <td>1</td>\n",
       "      <td>1</td>\n",
       "      <td>0</td>\n",
       "      <td>1.0</td>\n",
       "      <td>0</td>\n",
       "    </tr>\n",
       "    <tr>\n",
       "      <th>222901</th>\n",
       "      <td>13100</td>\n",
       "      <td>15939253H</td>\n",
       "      <td>PHYSICIAN</td>\n",
       "      <td>APPROVED - MD</td>\n",
       "      <td>DERMATOLOGY</td>\n",
       "      <td>SAN GABRIEL VALLEY</td>\n",
       "      <td>1</td>\n",
       "      <td>0</td>\n",
       "      <td>1</td>\n",
       "      <td>1</td>\n",
       "      <td>0</td>\n",
       "      <td>1.0</td>\n",
       "      <td>0</td>\n",
       "    </tr>\n",
       "    <tr>\n",
       "      <th>226623</th>\n",
       "      <td>13100</td>\n",
       "      <td>15939001H</td>\n",
       "      <td>PHYSICIAN</td>\n",
       "      <td>APPROVED - MD</td>\n",
       "      <td>DERMATOLOGY</td>\n",
       "      <td>SAN GABRIEL VALLEY</td>\n",
       "      <td>1</td>\n",
       "      <td>0</td>\n",
       "      <td>1</td>\n",
       "      <td>1</td>\n",
       "      <td>0</td>\n",
       "      <td>1.0</td>\n",
       "      <td>0</td>\n",
       "    </tr>\n",
       "    <tr>\n",
       "      <th>229823</th>\n",
       "      <td>13100</td>\n",
       "      <td>15939109H</td>\n",
       "      <td>PHYSICIAN</td>\n",
       "      <td>APPROVED - CM</td>\n",
       "      <td>DERMATOLOGY</td>\n",
       "      <td>SAN GABRIEL VALLEY</td>\n",
       "      <td>1</td>\n",
       "      <td>0</td>\n",
       "      <td>1</td>\n",
       "      <td>1</td>\n",
       "      <td>0</td>\n",
       "      <td>1.0</td>\n",
       "      <td>0</td>\n",
       "    </tr>\n",
       "    <tr>\n",
       "      <th>248957</th>\n",
       "      <td>13100</td>\n",
       "      <td>15934706H</td>\n",
       "      <td>PHYSICIAN</td>\n",
       "      <td>APPROVED - CM</td>\n",
       "      <td>DERMATOLOGY</td>\n",
       "      <td>SAN GABRIEL VALLEY</td>\n",
       "      <td>1</td>\n",
       "      <td>0</td>\n",
       "      <td>1</td>\n",
       "      <td>1</td>\n",
       "      <td>0</td>\n",
       "      <td>1.0</td>\n",
       "      <td>0</td>\n",
       "    </tr>\n",
       "    <tr>\n",
       "      <th>251373</th>\n",
       "      <td>13100</td>\n",
       "      <td>16039611H</td>\n",
       "      <td>PHYSICIAN</td>\n",
       "      <td>APPROVED - CM</td>\n",
       "      <td>DERMATOLOGY</td>\n",
       "      <td>ORANGE COUNTY</td>\n",
       "      <td>1</td>\n",
       "      <td>0</td>\n",
       "      <td>0</td>\n",
       "      <td>1</td>\n",
       "      <td>0</td>\n",
       "      <td>0.0</td>\n",
       "      <td>0</td>\n",
       "    </tr>\n",
       "    <tr>\n",
       "      <th>259247</th>\n",
       "      <td>13100</td>\n",
       "      <td>15994215H</td>\n",
       "      <td>PHYSICIAN</td>\n",
       "      <td>APPROVED - CM</td>\n",
       "      <td>DERMATOLOGY</td>\n",
       "      <td>SAN GABRIEL VALLEY</td>\n",
       "      <td>1</td>\n",
       "      <td>0</td>\n",
       "      <td>1</td>\n",
       "      <td>1</td>\n",
       "      <td>0</td>\n",
       "      <td>1.0</td>\n",
       "      <td>0</td>\n",
       "    </tr>\n",
       "    <tr>\n",
       "      <th>267086</th>\n",
       "      <td>13100</td>\n",
       "      <td>16003641H</td>\n",
       "      <td>PHYSICIAN</td>\n",
       "      <td>APPROVED - CM</td>\n",
       "      <td>DERMATOLOGY</td>\n",
       "      <td>LA/DOWNTOWN</td>\n",
       "      <td>1</td>\n",
       "      <td>0</td>\n",
       "      <td>0</td>\n",
       "      <td>1</td>\n",
       "      <td>0</td>\n",
       "      <td>0.0</td>\n",
       "      <td>0</td>\n",
       "    </tr>\n",
       "    <tr>\n",
       "      <th>320864</th>\n",
       "      <td>13100</td>\n",
       "      <td>16200760H</td>\n",
       "      <td>PHYSICIAN</td>\n",
       "      <td>APPROVED - AUTO</td>\n",
       "      <td>DERMATOLOGY</td>\n",
       "      <td>SAN FERNANDO VALLEY</td>\n",
       "      <td>1</td>\n",
       "      <td>1</td>\n",
       "      <td>1</td>\n",
       "      <td>1</td>\n",
       "      <td>0</td>\n",
       "      <td>1.0</td>\n",
       "      <td>0</td>\n",
       "    </tr>\n",
       "    <tr>\n",
       "      <th>336387</th>\n",
       "      <td>13100</td>\n",
       "      <td>16134757H</td>\n",
       "      <td>PHYSICIAN</td>\n",
       "      <td>APPROVED - CM</td>\n",
       "      <td>DERMATOLOGY</td>\n",
       "      <td>SAN GABRIEL VALLEY</td>\n",
       "      <td>1</td>\n",
       "      <td>0</td>\n",
       "      <td>1</td>\n",
       "      <td>1</td>\n",
       "      <td>0</td>\n",
       "      <td>1.0</td>\n",
       "      <td>0</td>\n",
       "    </tr>\n",
       "    <tr>\n",
       "      <th>337353</th>\n",
       "      <td>13100</td>\n",
       "      <td>16134651H</td>\n",
       "      <td>PHYSICIAN</td>\n",
       "      <td>CANCEL</td>\n",
       "      <td>DERMATOLOGY</td>\n",
       "      <td>SAN GABRIEL VALLEY</td>\n",
       "      <td>1</td>\n",
       "      <td>0</td>\n",
       "      <td>1</td>\n",
       "      <td>0</td>\n",
       "      <td>0</td>\n",
       "      <td>1.0</td>\n",
       "      <td>0</td>\n",
       "    </tr>\n",
       "    <tr>\n",
       "      <th>368693</th>\n",
       "      <td>13100</td>\n",
       "      <td>16129430H</td>\n",
       "      <td>PHYSICIAN</td>\n",
       "      <td>CANCEL</td>\n",
       "      <td>DERMATOLOGY</td>\n",
       "      <td>SAN GABRIEL VALLEY</td>\n",
       "      <td>1</td>\n",
       "      <td>0</td>\n",
       "      <td>1</td>\n",
       "      <td>0</td>\n",
       "      <td>0</td>\n",
       "      <td>1.0</td>\n",
       "      <td>0</td>\n",
       "    </tr>\n",
       "    <tr>\n",
       "      <th>368826</th>\n",
       "      <td>13100</td>\n",
       "      <td>16128435H</td>\n",
       "      <td>PHYSICIAN</td>\n",
       "      <td>APPROVED - CM</td>\n",
       "      <td>DERMATOLOGY</td>\n",
       "      <td>SAN GABRIEL VALLEY</td>\n",
       "      <td>1</td>\n",
       "      <td>0</td>\n",
       "      <td>1</td>\n",
       "      <td>1</td>\n",
       "      <td>0</td>\n",
       "      <td>1.0</td>\n",
       "      <td>0</td>\n",
       "    </tr>\n",
       "    <tr>\n",
       "      <th>414788</th>\n",
       "      <td>13100</td>\n",
       "      <td>16134107H</td>\n",
       "      <td>PHYSICIAN</td>\n",
       "      <td>APPROVED - CM</td>\n",
       "      <td>DERMATOLOGY</td>\n",
       "      <td>SAN GABRIEL VALLEY</td>\n",
       "      <td>1</td>\n",
       "      <td>0</td>\n",
       "      <td>1</td>\n",
       "      <td>1</td>\n",
       "      <td>0</td>\n",
       "      <td>1.0</td>\n",
       "      <td>0</td>\n",
       "    </tr>\n",
       "    <tr>\n",
       "      <th>415019</th>\n",
       "      <td>13100</td>\n",
       "      <td>16128615H</td>\n",
       "      <td>PHYSICIAN</td>\n",
       "      <td>APPROVED - CM</td>\n",
       "      <td>DERMATOLOGY</td>\n",
       "      <td>SAN GABRIEL VALLEY</td>\n",
       "      <td>1</td>\n",
       "      <td>0</td>\n",
       "      <td>1</td>\n",
       "      <td>1</td>\n",
       "      <td>0</td>\n",
       "      <td>1.0</td>\n",
       "      <td>0</td>\n",
       "    </tr>\n",
       "    <tr>\n",
       "      <th>415858</th>\n",
       "      <td>13100</td>\n",
       "      <td>16132589H</td>\n",
       "      <td>PHYSICIAN</td>\n",
       "      <td>APPROVED - CM</td>\n",
       "      <td>DERMATOLOGY</td>\n",
       "      <td>SAN GABRIEL VALLEY</td>\n",
       "      <td>1</td>\n",
       "      <td>0</td>\n",
       "      <td>1</td>\n",
       "      <td>1</td>\n",
       "      <td>0</td>\n",
       "      <td>1.0</td>\n",
       "      <td>0</td>\n",
       "    </tr>\n",
       "    <tr>\n",
       "      <th>415919</th>\n",
       "      <td>13100</td>\n",
       "      <td>16129323H</td>\n",
       "      <td>PHYSICIAN</td>\n",
       "      <td>CANCEL</td>\n",
       "      <td>DERMATOLOGY</td>\n",
       "      <td>SAN GABRIEL VALLEY</td>\n",
       "      <td>1</td>\n",
       "      <td>0</td>\n",
       "      <td>1</td>\n",
       "      <td>0</td>\n",
       "      <td>0</td>\n",
       "      <td>1.0</td>\n",
       "      <td>0</td>\n",
       "    </tr>\n",
       "    <tr>\n",
       "      <th>417154</th>\n",
       "      <td>13100</td>\n",
       "      <td>16131992H</td>\n",
       "      <td>PHYSICIAN</td>\n",
       "      <td>APPROVED - CM</td>\n",
       "      <td>DERMATOLOGY</td>\n",
       "      <td>SAN GABRIEL VALLEY</td>\n",
       "      <td>1</td>\n",
       "      <td>0</td>\n",
       "      <td>1</td>\n",
       "      <td>1</td>\n",
       "      <td>0</td>\n",
       "      <td>1.0</td>\n",
       "      <td>0</td>\n",
       "    </tr>\n",
       "    <tr>\n",
       "      <th>417409</th>\n",
       "      <td>13100</td>\n",
       "      <td>16129119H</td>\n",
       "      <td>PHYSICIAN</td>\n",
       "      <td>APPROVED - CM</td>\n",
       "      <td>DERMATOLOGY</td>\n",
       "      <td>SAN GABRIEL VALLEY</td>\n",
       "      <td>1</td>\n",
       "      <td>0</td>\n",
       "      <td>1</td>\n",
       "      <td>1</td>\n",
       "      <td>0</td>\n",
       "      <td>1.0</td>\n",
       "      <td>0</td>\n",
       "    </tr>\n",
       "    <tr>\n",
       "      <th>417695</th>\n",
       "      <td>13100</td>\n",
       "      <td>16134279H</td>\n",
       "      <td>PHYSICIAN</td>\n",
       "      <td>APPROVED - CM</td>\n",
       "      <td>DERMATOLOGY</td>\n",
       "      <td>SAN GABRIEL VALLEY</td>\n",
       "      <td>1</td>\n",
       "      <td>0</td>\n",
       "      <td>1</td>\n",
       "      <td>1</td>\n",
       "      <td>0</td>\n",
       "      <td>1.0</td>\n",
       "      <td>0</td>\n",
       "    </tr>\n",
       "    <tr>\n",
       "      <th>418656</th>\n",
       "      <td>13100</td>\n",
       "      <td>16128989H</td>\n",
       "      <td>PHYSICIAN</td>\n",
       "      <td>APPROVED - CM</td>\n",
       "      <td>DERMATOLOGY</td>\n",
       "      <td>SAN GABRIEL VALLEY</td>\n",
       "      <td>1</td>\n",
       "      <td>0</td>\n",
       "      <td>1</td>\n",
       "      <td>1</td>\n",
       "      <td>0</td>\n",
       "      <td>1.0</td>\n",
       "      <td>0</td>\n",
       "    </tr>\n",
       "    <tr>\n",
       "      <th>421495</th>\n",
       "      <td>13100</td>\n",
       "      <td>16187311H</td>\n",
       "      <td>PHYSICIAN</td>\n",
       "      <td>APPROVED - CM</td>\n",
       "      <td>DERMATOLOGY</td>\n",
       "      <td>ORANGE COUNTY</td>\n",
       "      <td>1</td>\n",
       "      <td>0</td>\n",
       "      <td>0</td>\n",
       "      <td>1</td>\n",
       "      <td>0</td>\n",
       "      <td>0.0</td>\n",
       "      <td>0</td>\n",
       "    </tr>\n",
       "    <tr>\n",
       "      <th>421541</th>\n",
       "      <td>13100</td>\n",
       "      <td>16132432H</td>\n",
       "      <td>PHYSICIAN</td>\n",
       "      <td>APPROVED - CM</td>\n",
       "      <td>DERMATOLOGY</td>\n",
       "      <td>SAN GABRIEL VALLEY</td>\n",
       "      <td>1</td>\n",
       "      <td>0</td>\n",
       "      <td>1</td>\n",
       "      <td>1</td>\n",
       "      <td>0</td>\n",
       "      <td>1.0</td>\n",
       "      <td>0</td>\n",
       "    </tr>\n",
       "    <tr>\n",
       "      <th>421569</th>\n",
       "      <td>13100</td>\n",
       "      <td>16132258H</td>\n",
       "      <td>PHYSICIAN</td>\n",
       "      <td>APPROVED - CM</td>\n",
       "      <td>DERMATOLOGY</td>\n",
       "      <td>SAN GABRIEL VALLEY</td>\n",
       "      <td>1</td>\n",
       "      <td>0</td>\n",
       "      <td>1</td>\n",
       "      <td>1</td>\n",
       "      <td>0</td>\n",
       "      <td>1.0</td>\n",
       "      <td>0</td>\n",
       "    </tr>\n",
       "    <tr>\n",
       "      <th>422147</th>\n",
       "      <td>13100</td>\n",
       "      <td>16128825H</td>\n",
       "      <td>PHYSICIAN</td>\n",
       "      <td>APPROVED - CM</td>\n",
       "      <td>DERMATOLOGY</td>\n",
       "      <td>SAN GABRIEL VALLEY</td>\n",
       "      <td>1</td>\n",
       "      <td>0</td>\n",
       "      <td>1</td>\n",
       "      <td>1</td>\n",
       "      <td>0</td>\n",
       "      <td>1.0</td>\n",
       "      <td>0</td>\n",
       "    </tr>\n",
       "    <tr>\n",
       "      <th>425209</th>\n",
       "      <td>13100</td>\n",
       "      <td>16129481H</td>\n",
       "      <td>PHYSICIAN</td>\n",
       "      <td>APPROVED - CM</td>\n",
       "      <td>DERMATOLOGY</td>\n",
       "      <td>SAN GABRIEL VALLEY</td>\n",
       "      <td>1</td>\n",
       "      <td>0</td>\n",
       "      <td>1</td>\n",
       "      <td>1</td>\n",
       "      <td>0</td>\n",
       "      <td>1.0</td>\n",
       "      <td>0</td>\n",
       "    </tr>\n",
       "    <tr>\n",
       "      <th>427219</th>\n",
       "      <td>13100</td>\n",
       "      <td>16133780H</td>\n",
       "      <td>PHYSICIAN</td>\n",
       "      <td>APPROVED - CM</td>\n",
       "      <td>DERMATOLOGY</td>\n",
       "      <td>SAN GABRIEL VALLEY</td>\n",
       "      <td>1</td>\n",
       "      <td>0</td>\n",
       "      <td>1</td>\n",
       "      <td>1</td>\n",
       "      <td>0</td>\n",
       "      <td>1.0</td>\n",
       "      <td>0</td>\n",
       "    </tr>\n",
       "    <tr>\n",
       "      <th>429004</th>\n",
       "      <td>13100</td>\n",
       "      <td>16133186H</td>\n",
       "      <td>PHYSICIAN</td>\n",
       "      <td>APPROVED - CM</td>\n",
       "      <td>DERMATOLOGY</td>\n",
       "      <td>SAN GABRIEL VALLEY</td>\n",
       "      <td>1</td>\n",
       "      <td>0</td>\n",
       "      <td>1</td>\n",
       "      <td>1</td>\n",
       "      <td>0</td>\n",
       "      <td>1.0</td>\n",
       "      <td>0</td>\n",
       "    </tr>\n",
       "    <tr>\n",
       "      <th>549008</th>\n",
       "      <td>13100</td>\n",
       "      <td>16313512H</td>\n",
       "      <td>PHYSICIAN</td>\n",
       "      <td>APPROVED - CM</td>\n",
       "      <td>DERMATOLOGY</td>\n",
       "      <td>SAN FERNANDO VALLEY</td>\n",
       "      <td>1</td>\n",
       "      <td>0</td>\n",
       "      <td>0</td>\n",
       "      <td>1</td>\n",
       "      <td>0</td>\n",
       "      <td>0.0</td>\n",
       "      <td>0</td>\n",
       "    </tr>\n",
       "    <tr>\n",
       "      <th>610208</th>\n",
       "      <td>13100</td>\n",
       "      <td>16465445H</td>\n",
       "      <td>PHYSICIAN</td>\n",
       "      <td>APPROVED - AUTO</td>\n",
       "      <td>DERMATOLOGY</td>\n",
       "      <td>SAN FERNANDO VALLEY</td>\n",
       "      <td>1</td>\n",
       "      <td>1</td>\n",
       "      <td>1</td>\n",
       "      <td>1</td>\n",
       "      <td>0</td>\n",
       "      <td>1.0</td>\n",
       "      <td>0</td>\n",
       "    </tr>\n",
       "    <tr>\n",
       "      <th>656607</th>\n",
       "      <td>13100</td>\n",
       "      <td>16331190H</td>\n",
       "      <td>PHYSICIAN</td>\n",
       "      <td>APPROVED - CM</td>\n",
       "      <td>DERMATOLOGY</td>\n",
       "      <td>SAN GABRIEL VALLEY</td>\n",
       "      <td>1</td>\n",
       "      <td>0</td>\n",
       "      <td>0</td>\n",
       "      <td>1</td>\n",
       "      <td>0</td>\n",
       "      <td>0.0</td>\n",
       "      <td>0</td>\n",
       "    </tr>\n",
       "    <tr>\n",
       "      <th>656936</th>\n",
       "      <td>13100</td>\n",
       "      <td>16399684H</td>\n",
       "      <td>PHYSICIAN</td>\n",
       "      <td>DENIED - NOT A COVERED BENEFIT</td>\n",
       "      <td>DERMATOLOGY</td>\n",
       "      <td>SAN GABRIEL VALLEY</td>\n",
       "      <td>1</td>\n",
       "      <td>0</td>\n",
       "      <td>0</td>\n",
       "      <td>0</td>\n",
       "      <td>1</td>\n",
       "      <td>0.0</td>\n",
       "      <td>0</td>\n",
       "    </tr>\n",
       "    <tr>\n",
       "      <th>665844</th>\n",
       "      <td>13100</td>\n",
       "      <td>16444500H</td>\n",
       "      <td>PHYSICIAN</td>\n",
       "      <td>CANCEL</td>\n",
       "      <td>DERMATOLOGY</td>\n",
       "      <td>SAN GABRIEL VALLEY</td>\n",
       "      <td>1</td>\n",
       "      <td>0</td>\n",
       "      <td>0</td>\n",
       "      <td>0</td>\n",
       "      <td>0</td>\n",
       "      <td>0.0</td>\n",
       "      <td>0</td>\n",
       "    </tr>\n",
       "    <tr>\n",
       "      <th>700164</th>\n",
       "      <td>13100</td>\n",
       "      <td>16440804H</td>\n",
       "      <td>PHYSICIAN</td>\n",
       "      <td>APPROVED - AUTO</td>\n",
       "      <td>DERMATOLOGY</td>\n",
       "      <td>SAN GABRIEL VALLEY</td>\n",
       "      <td>1</td>\n",
       "      <td>1</td>\n",
       "      <td>1</td>\n",
       "      <td>1</td>\n",
       "      <td>0</td>\n",
       "      <td>1.0</td>\n",
       "      <td>0</td>\n",
       "    </tr>\n",
       "    <tr>\n",
       "      <th>719980</th>\n",
       "      <td>13100</td>\n",
       "      <td>16449752H</td>\n",
       "      <td>PHYSICIAN</td>\n",
       "      <td>APPROVED - CM</td>\n",
       "      <td>DERMATOLOGY</td>\n",
       "      <td>SAN GABRIEL VALLEY</td>\n",
       "      <td>1</td>\n",
       "      <td>0</td>\n",
       "      <td>0</td>\n",
       "      <td>1</td>\n",
       "      <td>0</td>\n",
       "      <td>0.0</td>\n",
       "      <td>0</td>\n",
       "    </tr>\n",
       "    <tr>\n",
       "      <th>738506</th>\n",
       "      <td>13100</td>\n",
       "      <td>16481482H</td>\n",
       "      <td>PHYSICIAN</td>\n",
       "      <td>APPROVED - CM</td>\n",
       "      <td>DERMATOLOGY</td>\n",
       "      <td>SAN GABRIEL VALLEY</td>\n",
       "      <td>1</td>\n",
       "      <td>0</td>\n",
       "      <td>1</td>\n",
       "      <td>1</td>\n",
       "      <td>0</td>\n",
       "      <td>1.0</td>\n",
       "      <td>0</td>\n",
       "    </tr>\n",
       "    <tr>\n",
       "      <th>739851</th>\n",
       "      <td>13100</td>\n",
       "      <td>16480688H</td>\n",
       "      <td>PHYSICIAN</td>\n",
       "      <td>APPROVED - CM</td>\n",
       "      <td>DERMATOLOGY</td>\n",
       "      <td>SAN GABRIEL VALLEY</td>\n",
       "      <td>1</td>\n",
       "      <td>0</td>\n",
       "      <td>1</td>\n",
       "      <td>1</td>\n",
       "      <td>0</td>\n",
       "      <td>1.0</td>\n",
       "      <td>0</td>\n",
       "    </tr>\n",
       "    <tr>\n",
       "      <th>740856</th>\n",
       "      <td>13100</td>\n",
       "      <td>16475155H</td>\n",
       "      <td>PHYSICIAN</td>\n",
       "      <td>APPROVED - CM</td>\n",
       "      <td>DERMATOLOGY</td>\n",
       "      <td>SAN GABRIEL VALLEY</td>\n",
       "      <td>1</td>\n",
       "      <td>0</td>\n",
       "      <td>1</td>\n",
       "      <td>1</td>\n",
       "      <td>0</td>\n",
       "      <td>1.0</td>\n",
       "      <td>0</td>\n",
       "    </tr>\n",
       "    <tr>\n",
       "      <th>758873</th>\n",
       "      <td>13100</td>\n",
       "      <td>16480746H</td>\n",
       "      <td>PHYSICIAN</td>\n",
       "      <td>APPROVED - CM</td>\n",
       "      <td>DERMATOLOGY</td>\n",
       "      <td>SAN GABRIEL VALLEY</td>\n",
       "      <td>1</td>\n",
       "      <td>0</td>\n",
       "      <td>1</td>\n",
       "      <td>1</td>\n",
       "      <td>0</td>\n",
       "      <td>1.0</td>\n",
       "      <td>0</td>\n",
       "    </tr>\n",
       "    <tr>\n",
       "      <th>792928</th>\n",
       "      <td>13100</td>\n",
       "      <td>16129382H</td>\n",
       "      <td>PHYSICIAN</td>\n",
       "      <td>APPROVED - CM</td>\n",
       "      <td>DERMATOLOGY</td>\n",
       "      <td>SAN GABRIEL VALLEY</td>\n",
       "      <td>1</td>\n",
       "      <td>0</td>\n",
       "      <td>1</td>\n",
       "      <td>1</td>\n",
       "      <td>0</td>\n",
       "      <td>1.0</td>\n",
       "      <td>0</td>\n",
       "    </tr>\n",
       "    <tr>\n",
       "      <th>793891</th>\n",
       "      <td>13100</td>\n",
       "      <td>16134560H</td>\n",
       "      <td>PHYSICIAN</td>\n",
       "      <td>APPROVED - MD</td>\n",
       "      <td>DERMATOLOGY</td>\n",
       "      <td>SAN GABRIEL VALLEY</td>\n",
       "      <td>1</td>\n",
       "      <td>0</td>\n",
       "      <td>1</td>\n",
       "      <td>1</td>\n",
       "      <td>0</td>\n",
       "      <td>1.0</td>\n",
       "      <td>0</td>\n",
       "    </tr>\n",
       "    <tr>\n",
       "      <th>797193</th>\n",
       "      <td>13100</td>\n",
       "      <td>16482072H</td>\n",
       "      <td>PHYSICIAN</td>\n",
       "      <td>APPROVED - CM</td>\n",
       "      <td>DERMATOLOGY</td>\n",
       "      <td>SAN GABRIEL VALLEY</td>\n",
       "      <td>1</td>\n",
       "      <td>0</td>\n",
       "      <td>1</td>\n",
       "      <td>1</td>\n",
       "      <td>0</td>\n",
       "      <td>1.0</td>\n",
       "      <td>0</td>\n",
       "    </tr>\n",
       "    <tr>\n",
       "      <th>797296</th>\n",
       "      <td>13100</td>\n",
       "      <td>16480294H</td>\n",
       "      <td>PHYSICIAN</td>\n",
       "      <td>APPROVED - CM</td>\n",
       "      <td>DERMATOLOGY</td>\n",
       "      <td>SAN GABRIEL VALLEY</td>\n",
       "      <td>1</td>\n",
       "      <td>0</td>\n",
       "      <td>1</td>\n",
       "      <td>1</td>\n",
       "      <td>0</td>\n",
       "      <td>1.0</td>\n",
       "      <td>0</td>\n",
       "    </tr>\n",
       "  </tbody>\n",
       "</table>\n",
       "</div>"
      ],
      "text/plain": [
       "       CPT_Code HCP_CONNECT_AUTH_NUMBER       Type  \\\n",
       "3019      13100               16281652H  PHYSICIAN   \n",
       "27983     13100               16134444H  PHYSICIAN   \n",
       "84714     13100               16133948H  PHYSICIAN   \n",
       "85487     13100               16133586H  PHYSICIAN   \n",
       "86660     13100               16133379H  PHYSICIAN   \n",
       "104595    13100               16034834H  PHYSICIAN   \n",
       "119816    13100               16042583H  PHYSICIAN   \n",
       "132255    13100               15939071H  PHYSICIAN   \n",
       "155022    13100               15994230H  PHYSICIAN   \n",
       "186772    13100               15934963H  PHYSICIAN   \n",
       "194278    13100               15934659H  PHYSICIAN   \n",
       "205676    13100               15939030H  PHYSICIAN   \n",
       "221837    13100               15994247H  PHYSICIAN   \n",
       "222901    13100               15939253H  PHYSICIAN   \n",
       "226623    13100               15939001H  PHYSICIAN   \n",
       "229823    13100               15939109H  PHYSICIAN   \n",
       "248957    13100               15934706H  PHYSICIAN   \n",
       "251373    13100               16039611H  PHYSICIAN   \n",
       "259247    13100               15994215H  PHYSICIAN   \n",
       "267086    13100               16003641H  PHYSICIAN   \n",
       "320864    13100               16200760H  PHYSICIAN   \n",
       "336387    13100               16134757H  PHYSICIAN   \n",
       "337353    13100               16134651H  PHYSICIAN   \n",
       "368693    13100               16129430H  PHYSICIAN   \n",
       "368826    13100               16128435H  PHYSICIAN   \n",
       "414788    13100               16134107H  PHYSICIAN   \n",
       "415019    13100               16128615H  PHYSICIAN   \n",
       "415858    13100               16132589H  PHYSICIAN   \n",
       "415919    13100               16129323H  PHYSICIAN   \n",
       "417154    13100               16131992H  PHYSICIAN   \n",
       "417409    13100               16129119H  PHYSICIAN   \n",
       "417695    13100               16134279H  PHYSICIAN   \n",
       "418656    13100               16128989H  PHYSICIAN   \n",
       "421495    13100               16187311H  PHYSICIAN   \n",
       "421541    13100               16132432H  PHYSICIAN   \n",
       "421569    13100               16132258H  PHYSICIAN   \n",
       "422147    13100               16128825H  PHYSICIAN   \n",
       "425209    13100               16129481H  PHYSICIAN   \n",
       "427219    13100               16133780H  PHYSICIAN   \n",
       "429004    13100               16133186H  PHYSICIAN   \n",
       "549008    13100               16313512H  PHYSICIAN   \n",
       "610208    13100               16465445H  PHYSICIAN   \n",
       "656607    13100               16331190H  PHYSICIAN   \n",
       "656936    13100               16399684H  PHYSICIAN   \n",
       "665844    13100               16444500H  PHYSICIAN   \n",
       "700164    13100               16440804H  PHYSICIAN   \n",
       "719980    13100               16449752H  PHYSICIAN   \n",
       "738506    13100               16481482H  PHYSICIAN   \n",
       "739851    13100               16480688H  PHYSICIAN   \n",
       "740856    13100               16475155H  PHYSICIAN   \n",
       "758873    13100               16480746H  PHYSICIAN   \n",
       "792928    13100               16129382H  PHYSICIAN   \n",
       "793891    13100               16134560H  PHYSICIAN   \n",
       "797193    13100               16482072H  PHYSICIAN   \n",
       "797296    13100               16480294H  PHYSICIAN   \n",
       "\n",
       "                           status_name    Specialty               region  \\\n",
       "3019                   APPROVED - AUTO  DERMATOLOGY  SAN FERNANDO VALLEY   \n",
       "27983                    APPROVED - CM  DERMATOLOGY   SAN GABRIEL VALLEY   \n",
       "84714                    APPROVED - CM  DERMATOLOGY   SAN GABRIEL VALLEY   \n",
       "85487                    APPROVED - MD  DERMATOLOGY   SAN GABRIEL VALLEY   \n",
       "86660                    APPROVED - CM  DERMATOLOGY   SAN GABRIEL VALLEY   \n",
       "104595                 APPROVED - AUTO  DERMATOLOGY  SAN FERNANDO VALLEY   \n",
       "119816                 APPROVED - AUTO  DERMATOLOGY           LONG BEACH   \n",
       "132255                   APPROVED - CM  DERMATOLOGY   SAN GABRIEL VALLEY   \n",
       "155022                   APPROVED - CM  DERMATOLOGY   SAN GABRIEL VALLEY   \n",
       "186772                   APPROVED - CM  DERMATOLOGY   SAN GABRIEL VALLEY   \n",
       "194278                   APPROVED - CM  DERMATOLOGY   SAN GABRIEL VALLEY   \n",
       "205676                   APPROVED - CM  DERMATOLOGY   SAN GABRIEL VALLEY   \n",
       "221837                   APPROVED - CM  DERMATOLOGY   SAN GABRIEL VALLEY   \n",
       "222901                   APPROVED - MD  DERMATOLOGY   SAN GABRIEL VALLEY   \n",
       "226623                   APPROVED - MD  DERMATOLOGY   SAN GABRIEL VALLEY   \n",
       "229823                   APPROVED - CM  DERMATOLOGY   SAN GABRIEL VALLEY   \n",
       "248957                   APPROVED - CM  DERMATOLOGY   SAN GABRIEL VALLEY   \n",
       "251373                   APPROVED - CM  DERMATOLOGY        ORANGE COUNTY   \n",
       "259247                   APPROVED - CM  DERMATOLOGY   SAN GABRIEL VALLEY   \n",
       "267086                   APPROVED - CM  DERMATOLOGY          LA/DOWNTOWN   \n",
       "320864                 APPROVED - AUTO  DERMATOLOGY  SAN FERNANDO VALLEY   \n",
       "336387                   APPROVED - CM  DERMATOLOGY   SAN GABRIEL VALLEY   \n",
       "337353                          CANCEL  DERMATOLOGY   SAN GABRIEL VALLEY   \n",
       "368693                          CANCEL  DERMATOLOGY   SAN GABRIEL VALLEY   \n",
       "368826                   APPROVED - CM  DERMATOLOGY   SAN GABRIEL VALLEY   \n",
       "414788                   APPROVED - CM  DERMATOLOGY   SAN GABRIEL VALLEY   \n",
       "415019                   APPROVED - CM  DERMATOLOGY   SAN GABRIEL VALLEY   \n",
       "415858                   APPROVED - CM  DERMATOLOGY   SAN GABRIEL VALLEY   \n",
       "415919                          CANCEL  DERMATOLOGY   SAN GABRIEL VALLEY   \n",
       "417154                   APPROVED - CM  DERMATOLOGY   SAN GABRIEL VALLEY   \n",
       "417409                   APPROVED - CM  DERMATOLOGY   SAN GABRIEL VALLEY   \n",
       "417695                   APPROVED - CM  DERMATOLOGY   SAN GABRIEL VALLEY   \n",
       "418656                   APPROVED - CM  DERMATOLOGY   SAN GABRIEL VALLEY   \n",
       "421495                   APPROVED - CM  DERMATOLOGY        ORANGE COUNTY   \n",
       "421541                   APPROVED - CM  DERMATOLOGY   SAN GABRIEL VALLEY   \n",
       "421569                   APPROVED - CM  DERMATOLOGY   SAN GABRIEL VALLEY   \n",
       "422147                   APPROVED - CM  DERMATOLOGY   SAN GABRIEL VALLEY   \n",
       "425209                   APPROVED - CM  DERMATOLOGY   SAN GABRIEL VALLEY   \n",
       "427219                   APPROVED - CM  DERMATOLOGY   SAN GABRIEL VALLEY   \n",
       "429004                   APPROVED - CM  DERMATOLOGY   SAN GABRIEL VALLEY   \n",
       "549008                   APPROVED - CM  DERMATOLOGY  SAN FERNANDO VALLEY   \n",
       "610208                 APPROVED - AUTO  DERMATOLOGY  SAN FERNANDO VALLEY   \n",
       "656607                   APPROVED - CM  DERMATOLOGY   SAN GABRIEL VALLEY   \n",
       "656936  DENIED - NOT A COVERED BENEFIT  DERMATOLOGY   SAN GABRIEL VALLEY   \n",
       "665844                          CANCEL  DERMATOLOGY   SAN GABRIEL VALLEY   \n",
       "700164                 APPROVED - AUTO  DERMATOLOGY   SAN GABRIEL VALLEY   \n",
       "719980                   APPROVED - CM  DERMATOLOGY   SAN GABRIEL VALLEY   \n",
       "738506                   APPROVED - CM  DERMATOLOGY   SAN GABRIEL VALLEY   \n",
       "739851                   APPROVED - CM  DERMATOLOGY   SAN GABRIEL VALLEY   \n",
       "740856                   APPROVED - CM  DERMATOLOGY   SAN GABRIEL VALLEY   \n",
       "758873                   APPROVED - CM  DERMATOLOGY   SAN GABRIEL VALLEY   \n",
       "792928                   APPROVED - CM  DERMATOLOGY   SAN GABRIEL VALLEY   \n",
       "793891                   APPROVED - MD  DERMATOLOGY   SAN GABRIEL VALLEY   \n",
       "797193                   APPROVED - CM  DERMATOLOGY   SAN GABRIEL VALLEY   \n",
       "797296                   APPROVED - CM  DERMATOLOGY   SAN GABRIEL VALLEY   \n",
       "\n",
       "        UNITS  is_autoapp  is_PPL  is_app  is_den  auto_approvable  aa-yn  \n",
       "3019        1           1       1       1       0              1.0      0  \n",
       "27983       1           0       1       1       0              1.0      0  \n",
       "84714       1           0       1       1       0              1.0      0  \n",
       "85487       1           0       1       1       0              1.0      0  \n",
       "86660       1           0       1       1       0              1.0      0  \n",
       "104595      1           1       1       1       0              1.0      0  \n",
       "119816      1           1       1       1       0              1.0      0  \n",
       "132255      1           0       1       1       0              1.0      0  \n",
       "155022      1           0       1       1       0              1.0      0  \n",
       "186772      1           0       1       1       0              1.0      0  \n",
       "194278      1           0       1       1       0              1.0      0  \n",
       "205676      1           0       1       1       0              1.0      0  \n",
       "221837      1           0       1       1       0              1.0      0  \n",
       "222901      1           0       1       1       0              1.0      0  \n",
       "226623      1           0       1       1       0              1.0      0  \n",
       "229823      1           0       1       1       0              1.0      0  \n",
       "248957      1           0       1       1       0              1.0      0  \n",
       "251373      1           0       0       1       0              0.0      0  \n",
       "259247      1           0       1       1       0              1.0      0  \n",
       "267086      1           0       0       1       0              0.0      0  \n",
       "320864      1           1       1       1       0              1.0      0  \n",
       "336387      1           0       1       1       0              1.0      0  \n",
       "337353      1           0       1       0       0              1.0      0  \n",
       "368693      1           0       1       0       0              1.0      0  \n",
       "368826      1           0       1       1       0              1.0      0  \n",
       "414788      1           0       1       1       0              1.0      0  \n",
       "415019      1           0       1       1       0              1.0      0  \n",
       "415858      1           0       1       1       0              1.0      0  \n",
       "415919      1           0       1       0       0              1.0      0  \n",
       "417154      1           0       1       1       0              1.0      0  \n",
       "417409      1           0       1       1       0              1.0      0  \n",
       "417695      1           0       1       1       0              1.0      0  \n",
       "418656      1           0       1       1       0              1.0      0  \n",
       "421495      1           0       0       1       0              0.0      0  \n",
       "421541      1           0       1       1       0              1.0      0  \n",
       "421569      1           0       1       1       0              1.0      0  \n",
       "422147      1           0       1       1       0              1.0      0  \n",
       "425209      1           0       1       1       0              1.0      0  \n",
       "427219      1           0       1       1       0              1.0      0  \n",
       "429004      1           0       1       1       0              1.0      0  \n",
       "549008      1           0       0       1       0              0.0      0  \n",
       "610208      1           1       1       1       0              1.0      0  \n",
       "656607      1           0       0       1       0              0.0      0  \n",
       "656936      1           0       0       0       1              0.0      0  \n",
       "665844      1           0       0       0       0              0.0      0  \n",
       "700164      1           1       1       1       0              1.0      0  \n",
       "719980      1           0       0       1       0              0.0      0  \n",
       "738506      1           0       1       1       0              1.0      0  \n",
       "739851      1           0       1       1       0              1.0      0  \n",
       "740856      1           0       1       1       0              1.0      0  \n",
       "758873      1           0       1       1       0              1.0      0  \n",
       "792928      1           0       1       1       0              1.0      0  \n",
       "793891      1           0       1       1       0              1.0      0  \n",
       "797193      1           0       1       1       0              1.0      0  \n",
       "797296      1           0       1       1       0              1.0      0  "
      ]
     },
     "execution_count": 375,
     "metadata": {},
     "output_type": "execute_result"
    }
   ],
   "source": [
    "refs_new[(refs_new['Specialty']=='DERMATOLOGY')\n",
    "        & (refs_new['CPT_Code']=='13100')\n",
    "        ##& (refs_det['auto_approvable'] == 0)\n",
    "        ]"
   ]
  },
  {
   "cell_type": "code",
   "execution_count": 376,
   "metadata": {},
   "outputs": [],
   "source": [
    "def create_final_statuses(ref_summary, spec_dict_PPL):\n",
    "    final_status=[]\n",
    "    for index, row in ref_summary.iterrows():\n",
    "        if row['is_PPL'] == 1:\n",
    "            if row['CPT_Code'] in spec_dict_PPL[row['Specialty']]:\n",
    "                final_status.append(1)\n",
    "            else:\n",
    "                final_status.append(0)\n",
    "        else:\n",
    "            final_status.append(0)\n",
    "    return final_status"
   ]
  },
  {
   "cell_type": "code",
   "execution_count": 377,
   "metadata": {},
   "outputs": [],
   "source": [
    "final_status = create_final_statuses(refs_w_claims_fin, spec_dict_PPL)"
   ]
  },
  {
   "cell_type": "code",
   "execution_count": 378,
   "metadata": {},
   "outputs": [],
   "source": [
    "refs_w_claims_fin['final_status'] = final_status"
   ]
  },
  {
   "cell_type": "code",
   "execution_count": 379,
   "metadata": {},
   "outputs": [
    {
     "data": {
      "text/html": [
       "<div>\n",
       "<style scoped>\n",
       "    .dataframe tbody tr th:only-of-type {\n",
       "        vertical-align: middle;\n",
       "    }\n",
       "\n",
       "    .dataframe tbody tr th {\n",
       "        vertical-align: top;\n",
       "    }\n",
       "\n",
       "    .dataframe thead th {\n",
       "        text-align: right;\n",
       "    }\n",
       "</style>\n",
       "<table border=\"1\" class=\"dataframe\">\n",
       "  <thead>\n",
       "    <tr style=\"text-align: right;\">\n",
       "      <th></th>\n",
       "      <th>Specialty</th>\n",
       "      <th>CPT_Code</th>\n",
       "      <th>is_PPL</th>\n",
       "      <th>UNITS</th>\n",
       "      <th>is_autoapp</th>\n",
       "      <th>is_den</th>\n",
       "      <th>UNITS_man</th>\n",
       "      <th>cost_to_review</th>\n",
       "      <th>cnt_hcp_cost</th>\n",
       "      <th>avg_hcp_cost</th>\n",
       "      <th>sum_cost_denied</th>\n",
       "      <th>ROI</th>\n",
       "      <th>fin_aa_rec</th>\n",
       "      <th>final_status</th>\n",
       "    </tr>\n",
       "  </thead>\n",
       "  <tbody>\n",
       "    <tr>\n",
       "      <th>0</th>\n",
       "      <td>ACUPUNCTURE</td>\n",
       "      <td>20550</td>\n",
       "      <td>1</td>\n",
       "      <td>1</td>\n",
       "      <td>0.0</td>\n",
       "      <td>0.000000</td>\n",
       "      <td>1.0</td>\n",
       "      <td>2.530744</td>\n",
       "      <td>NaN</td>\n",
       "      <td>53.542742</td>\n",
       "      <td>0.0</td>\n",
       "      <td>0.0</td>\n",
       "      <td>1</td>\n",
       "      <td>0</td>\n",
       "    </tr>\n",
       "    <tr>\n",
       "      <th>1</th>\n",
       "      <td>ACUPUNCTURE</td>\n",
       "      <td>20552</td>\n",
       "      <td>1</td>\n",
       "      <td>2</td>\n",
       "      <td>0.0</td>\n",
       "      <td>0.000000</td>\n",
       "      <td>2.0</td>\n",
       "      <td>5.061487</td>\n",
       "      <td>NaN</td>\n",
       "      <td>63.492905</td>\n",
       "      <td>0.0</td>\n",
       "      <td>0.0</td>\n",
       "      <td>1</td>\n",
       "      <td>0</td>\n",
       "    </tr>\n",
       "    <tr>\n",
       "      <th>2</th>\n",
       "      <td>ACUPUNCTURE</td>\n",
       "      <td>20610</td>\n",
       "      <td>1</td>\n",
       "      <td>2</td>\n",
       "      <td>0.0</td>\n",
       "      <td>0.000000</td>\n",
       "      <td>2.0</td>\n",
       "      <td>5.061487</td>\n",
       "      <td>NaN</td>\n",
       "      <td>144.180984</td>\n",
       "      <td>0.0</td>\n",
       "      <td>0.0</td>\n",
       "      <td>1</td>\n",
       "      <td>0</td>\n",
       "    </tr>\n",
       "    <tr>\n",
       "      <th>3</th>\n",
       "      <td>ACUPUNCTURE</td>\n",
       "      <td>2101</td>\n",
       "      <td>0</td>\n",
       "      <td>12</td>\n",
       "      <td>0.0</td>\n",
       "      <td>1.000000</td>\n",
       "      <td>12.0</td>\n",
       "      <td>30.368924</td>\n",
       "      <td>NaN</td>\n",
       "      <td>NaN</td>\n",
       "      <td>NaN</td>\n",
       "      <td>100.0</td>\n",
       "      <td>0</td>\n",
       "      <td>0</td>\n",
       "    </tr>\n",
       "    <tr>\n",
       "      <th>4</th>\n",
       "      <td>ACUPUNCTURE</td>\n",
       "      <td>2101</td>\n",
       "      <td>1</td>\n",
       "      <td>7</td>\n",
       "      <td>0.0</td>\n",
       "      <td>0.857143</td>\n",
       "      <td>7.0</td>\n",
       "      <td>17.715206</td>\n",
       "      <td>NaN</td>\n",
       "      <td>NaN</td>\n",
       "      <td>NaN</td>\n",
       "      <td>100.0</td>\n",
       "      <td>0</td>\n",
       "      <td>0</td>\n",
       "    </tr>\n",
       "  </tbody>\n",
       "</table>\n",
       "</div>"
      ],
      "text/plain": [
       "     Specialty CPT_Code  is_PPL  UNITS  is_autoapp    is_den  UNITS_man  \\\n",
       "0  ACUPUNCTURE    20550       1      1         0.0  0.000000        1.0   \n",
       "1  ACUPUNCTURE    20552       1      2         0.0  0.000000        2.0   \n",
       "2  ACUPUNCTURE    20610       1      2         0.0  0.000000        2.0   \n",
       "3  ACUPUNCTURE     2101       0     12         0.0  1.000000       12.0   \n",
       "4  ACUPUNCTURE     2101       1      7         0.0  0.857143        7.0   \n",
       "\n",
       "   cost_to_review  cnt_hcp_cost  avg_hcp_cost  sum_cost_denied    ROI  \\\n",
       "0        2.530744           NaN     53.542742              0.0    0.0   \n",
       "1        5.061487           NaN     63.492905              0.0    0.0   \n",
       "2        5.061487           NaN    144.180984              0.0    0.0   \n",
       "3       30.368924           NaN           NaN              NaN  100.0   \n",
       "4       17.715206           NaN           NaN              NaN  100.0   \n",
       "\n",
       "   fin_aa_rec  final_status  \n",
       "0           1             0  \n",
       "1           1             0  \n",
       "2           1             0  \n",
       "3           0             0  \n",
       "4           0             0  "
      ]
     },
     "execution_count": 379,
     "metadata": {},
     "output_type": "execute_result"
    }
   ],
   "source": [
    "refs_w_claims_fin.head()"
   ]
  },
  {
   "cell_type": "code",
   "execution_count": 380,
   "metadata": {},
   "outputs": [
    {
     "data": {
      "text/html": [
       "<div>\n",
       "<style scoped>\n",
       "    .dataframe tbody tr th:only-of-type {\n",
       "        vertical-align: middle;\n",
       "    }\n",
       "\n",
       "    .dataframe tbody tr th {\n",
       "        vertical-align: top;\n",
       "    }\n",
       "\n",
       "    .dataframe thead th {\n",
       "        text-align: right;\n",
       "    }\n",
       "</style>\n",
       "<table border=\"1\" class=\"dataframe\">\n",
       "  <thead>\n",
       "    <tr style=\"text-align: right;\">\n",
       "      <th></th>\n",
       "      <th>Specialty</th>\n",
       "      <th>CPT_Code</th>\n",
       "      <th>is_PPL</th>\n",
       "      <th>UNITS</th>\n",
       "      <th>is_autoapp</th>\n",
       "      <th>is_den</th>\n",
       "      <th>UNITS_man</th>\n",
       "      <th>cost_to_review</th>\n",
       "      <th>cnt_hcp_cost</th>\n",
       "      <th>avg_hcp_cost</th>\n",
       "      <th>sum_cost_denied</th>\n",
       "      <th>ROI</th>\n",
       "      <th>fin_aa_rec</th>\n",
       "      <th>final_status</th>\n",
       "    </tr>\n",
       "  </thead>\n",
       "  <tbody>\n",
       "    <tr>\n",
       "      <th>0</th>\n",
       "      <td>ACUPUNCTURE</td>\n",
       "      <td>20550</td>\n",
       "      <td>1</td>\n",
       "      <td>1</td>\n",
       "      <td>0.0</td>\n",
       "      <td>0.0</td>\n",
       "      <td>1.0</td>\n",
       "      <td>2.530744</td>\n",
       "      <td>NaN</td>\n",
       "      <td>53.542742</td>\n",
       "      <td>0.0</td>\n",
       "      <td>0.0</td>\n",
       "      <td>1</td>\n",
       "      <td>0</td>\n",
       "    </tr>\n",
       "    <tr>\n",
       "      <th>1</th>\n",
       "      <td>ACUPUNCTURE</td>\n",
       "      <td>20552</td>\n",
       "      <td>1</td>\n",
       "      <td>2</td>\n",
       "      <td>0.0</td>\n",
       "      <td>0.0</td>\n",
       "      <td>2.0</td>\n",
       "      <td>5.061487</td>\n",
       "      <td>NaN</td>\n",
       "      <td>63.492905</td>\n",
       "      <td>0.0</td>\n",
       "      <td>0.0</td>\n",
       "      <td>1</td>\n",
       "      <td>0</td>\n",
       "    </tr>\n",
       "    <tr>\n",
       "      <th>2</th>\n",
       "      <td>ACUPUNCTURE</td>\n",
       "      <td>20610</td>\n",
       "      <td>1</td>\n",
       "      <td>2</td>\n",
       "      <td>0.0</td>\n",
       "      <td>0.0</td>\n",
       "      <td>2.0</td>\n",
       "      <td>5.061487</td>\n",
       "      <td>NaN</td>\n",
       "      <td>144.180984</td>\n",
       "      <td>0.0</td>\n",
       "      <td>0.0</td>\n",
       "      <td>1</td>\n",
       "      <td>0</td>\n",
       "    </tr>\n",
       "    <tr>\n",
       "      <th>5</th>\n",
       "      <td>ACUPUNCTURE</td>\n",
       "      <td>27096</td>\n",
       "      <td>1</td>\n",
       "      <td>2</td>\n",
       "      <td>0.0</td>\n",
       "      <td>0.0</td>\n",
       "      <td>2.0</td>\n",
       "      <td>5.061487</td>\n",
       "      <td>NaN</td>\n",
       "      <td>283.243980</td>\n",
       "      <td>0.0</td>\n",
       "      <td>0.0</td>\n",
       "      <td>1</td>\n",
       "      <td>0</td>\n",
       "    </tr>\n",
       "    <tr>\n",
       "      <th>6</th>\n",
       "      <td>ACUPUNCTURE</td>\n",
       "      <td>62321</td>\n",
       "      <td>1</td>\n",
       "      <td>1</td>\n",
       "      <td>0.0</td>\n",
       "      <td>0.0</td>\n",
       "      <td>1.0</td>\n",
       "      <td>2.530744</td>\n",
       "      <td>NaN</td>\n",
       "      <td>165.405880</td>\n",
       "      <td>0.0</td>\n",
       "      <td>0.0</td>\n",
       "      <td>1</td>\n",
       "      <td>0</td>\n",
       "    </tr>\n",
       "  </tbody>\n",
       "</table>\n",
       "</div>"
      ],
      "text/plain": [
       "     Specialty CPT_Code  is_PPL  UNITS  is_autoapp  is_den  UNITS_man  \\\n",
       "0  ACUPUNCTURE    20550       1      1         0.0     0.0        1.0   \n",
       "1  ACUPUNCTURE    20552       1      2         0.0     0.0        2.0   \n",
       "2  ACUPUNCTURE    20610       1      2         0.0     0.0        2.0   \n",
       "5  ACUPUNCTURE    27096       1      2         0.0     0.0        2.0   \n",
       "6  ACUPUNCTURE    62321       1      1         0.0     0.0        1.0   \n",
       "\n",
       "   cost_to_review  cnt_hcp_cost  avg_hcp_cost  sum_cost_denied  ROI  \\\n",
       "0        2.530744           NaN     53.542742              0.0  0.0   \n",
       "1        5.061487           NaN     63.492905              0.0  0.0   \n",
       "2        5.061487           NaN    144.180984              0.0  0.0   \n",
       "5        5.061487           NaN    283.243980              0.0  0.0   \n",
       "6        2.530744           NaN    165.405880              0.0  0.0   \n",
       "\n",
       "   fin_aa_rec  final_status  \n",
       "0           1             0  \n",
       "1           1             0  \n",
       "2           1             0  \n",
       "5           1             0  \n",
       "6           1             0  "
      ]
     },
     "execution_count": 380,
     "metadata": {},
     "output_type": "execute_result"
    }
   ],
   "source": [
    "refs_w_claims_fin[(refs_w_claims_fin['final_status']==0) &\n",
    "                 (refs_w_claims_fin['fin_aa_rec']==1)].head()"
   ]
  },
  {
   "cell_type": "code",
   "execution_count": 381,
   "metadata": {},
   "outputs": [],
   "source": [
    "# Give the filename you wish to save the file to\n",
    "refs_w_claims_fin_filename = '../Data/Outputs/spec_cpt_summary.csv'\n",
    "\n",
    "# Use this function to search for any files which match your filename\n",
    "files_present = os.path.isfile(refs_w_claims_fin_filename)\n",
    "\n",
    "# if no matching files, write to csv, if there are matching files, print statement\n",
    "if not files_present:\n",
    "    refs_w_claims_fin.to_csv(refs_w_claims_fin_filename)\n",
    "else:\n",
    "    print('WARNING: This file already exists!')"
   ]
  },
  {
   "cell_type": "code",
   "execution_count": null,
   "metadata": {},
   "outputs": [],
   "source": []
  },
  {
   "cell_type": "code",
   "execution_count": null,
   "metadata": {},
   "outputs": [],
   "source": []
  }
 ],
 "metadata": {
  "kernelspec": {
   "display_name": "Python 3",
   "language": "python",
   "name": "python3"
  },
  "language_info": {
   "codemirror_mode": {
    "name": "ipython",
    "version": 3
   },
   "file_extension": ".py",
   "mimetype": "text/x-python",
   "name": "python",
   "nbconvert_exporter": "python",
   "pygments_lexer": "ipython3",
   "version": "3.7.3"
  }
 },
 "nbformat": 4,
 "nbformat_minor": 2
}
