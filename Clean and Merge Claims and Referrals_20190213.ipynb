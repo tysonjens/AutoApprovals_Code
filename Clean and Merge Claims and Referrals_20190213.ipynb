{
 "cells": [
  {
   "cell_type": "markdown",
   "metadata": {},
   "source": [
    "Separately run referrals and claims queries.\n",
    "This file imports the results of those queries, cleans and standardizes each, and merges them for analysis."
   ]
  },
  {
   "cell_type": "code",
   "execution_count": null,
   "metadata": {},
   "outputs": [],
   "source": [
    "import pandas as pd\n",
    "import numpy as np\n",
    "from datetime import datetime, timedelta"
   ]
  },
  {
   "cell_type": "markdown",
   "metadata": {},
   "source": [
    "## Import Data"
   ]
  },
  {
   "cell_type": "code",
   "execution_count": null,
   "metadata": {},
   "outputs": [],
   "source": [
    "refs = pd.read_csv('../data/referrals_2018_all.csv', sep='|')"
   ]
  },
  {
   "cell_type": "code",
   "execution_count": null,
   "metadata": {},
   "outputs": [],
   "source": [
    "claims = pd.read_csv('../data/claims_2018_all.csv', sep='|')"
   ]
  },
  {
   "cell_type": "code",
   "execution_count": null,
   "metadata": {},
   "outputs": [],
   "source": [
    "touches = pd.read_csv('../data/referral_count_user_event_final_no_view.txt', sep='|')"
   ]
  },
  {
   "cell_type": "code",
   "execution_count": null,
   "metadata": {},
   "outputs": [],
   "source": [
    "xwalk = pd.read_csv('../data/CPT_Description_xwalk.csv', sep='|')"
   ]
  },
  {
   "cell_type": "markdown",
   "metadata": {},
   "source": [
    "## Clean Refs"
   ]
  },
  {
   "cell_type": "code",
   "execution_count": null,
   "metadata": {},
   "outputs": [],
   "source": [
    "refs_head = refs.drop_duplicates(subset='HCP_CONNECT_AUTH_NUMBER').reset_index()\n",
    "\n",
    "refs_head.drop(columns = ['index', 'CPT_Code', 'Date_Decision',\n",
    "       'Date_Received', 'Type', 'region', 'UNITS'], inplace=True)\n",
    "\n",
    "refs_head = refs_head[refs_head['HCP_CONNECT_AUTH_NUMBER'].isna()==False].reset_index()"
   ]
  },
  {
   "cell_type": "code",
   "execution_count": null,
   "metadata": {},
   "outputs": [],
   "source": [
    "refs = pd.merge(refs, touches, left_on='HCP_CONNECT_AUTH_NUMBER', right_on='referral_ident', how='left')"
   ]
  },
  {
   "cell_type": "code",
   "execution_count": null,
   "metadata": {},
   "outputs": [],
   "source": [
    "# ## code below can be used to identify specialties that exist in referrals but not in claims.  \n",
    "\n",
    "# claim_specs = claims['Specialty'].unique().tolist()\n",
    "\n",
    "# ref_specs = refs['Specialty'].unique().tolist()\n",
    "\n",
    "# ref_spec_w_no_claim_spec = []\n",
    "\n",
    "# for spec in ref_specs:\n",
    "#     if spec in claim_specs:\n",
    "#         pass\n",
    "#     else:\n",
    "#         ref_spec_w_no_claim_spec.append(spec)\n",
    "\n",
    "# ref_spec_w_no_claim_spec"
   ]
  },
  {
   "cell_type": "code",
   "execution_count": null,
   "metadata": {},
   "outputs": [],
   "source": [
    "refs['Date_Decision'] = pd.to_datetime(refs['Date_Decision'])"
   ]
  },
  {
   "cell_type": "code",
   "execution_count": null,
   "metadata": {},
   "outputs": [],
   "source": [
    "refs['Date_Received'] = pd.to_datetime(refs['Date_Received'])"
   ]
  },
  {
   "cell_type": "code",
   "execution_count": null,
   "metadata": {},
   "outputs": [],
   "source": [
    "refs['TAT'] = (refs['Date_Decision']-refs['Date_Received']) / timedelta(days=1)"
   ]
  },
  {
   "cell_type": "markdown",
   "metadata": {},
   "source": [
    "### Clean Claims"
   ]
  },
  {
   "cell_type": "code",
   "execution_count": null,
   "metadata": {},
   "outputs": [],
   "source": [
    "claims_sum = claims.groupby(['CPT_Code'], as_index=False).agg({'avg_hcp_cost': 'mean'})"
   ]
  },
  {
   "cell_type": "markdown",
   "metadata": {},
   "source": [
    "## Feature Engineering"
   ]
  },
  {
   "cell_type": "code",
   "execution_count": null,
   "metadata": {},
   "outputs": [],
   "source": [
    "refs.shape[0]"
   ]
  },
  {
   "cell_type": "code",
   "execution_count": null,
   "metadata": {},
   "outputs": [],
   "source": [
    "## flag retro statuses with 1 and 0\n",
    "retro_conditions = [\n",
    " (refs['status_name'] == 'APPROVED - RETRO REVIEW') |\n",
    " (refs['status_name'] == 'DENIED - RETRO REVIEW') |\n",
    " (refs['status_name'] == 'APPROVED - COB RETRO') |\n",
    " (refs['status_name'] == 'PENDING - RETRO REVIEW') \n",
    "  ]"
   ]
  },
  {
   "cell_type": "code",
   "execution_count": null,
   "metadata": {},
   "outputs": [],
   "source": [
    "choices = [1]\n",
    "refs['is_retro'] = np.select(retro_conditions, choices, default=0)"
   ]
  },
  {
   "cell_type": "code",
   "execution_count": null,
   "metadata": {},
   "outputs": [],
   "source": [
    "## remove retros from list and drop 'is_retro' as it is no longer needed\n",
    "refs = refs[refs['is_retro']==0]\n",
    "\n",
    "refs.drop(columns='is_retro', inplace=True)"
   ]
  },
  {
   "cell_type": "code",
   "execution_count": null,
   "metadata": {},
   "outputs": [],
   "source": [
    "refs_det = refs\n",
    "\n",
    "refs_det.drop(columns = ['PPL', 'Date_Decision',\n",
    "       'Date_Received', 'Type', 'status_cat', 'status_name', 'Specialty',\n",
    "       'region', 'UNITS'])\n",
    "\n",
    "refs_det = refs_det[refs_det['HCP_CONNECT_AUTH_NUMBER'].isna()==False].reset_index()"
   ]
  },
  {
   "cell_type": "code",
   "execution_count": null,
   "metadata": {},
   "outputs": [],
   "source": [
    "refs['is_autoapp'] = np.where(refs['status_name']=='APPROVED - AUTO', 1, 0)"
   ]
  },
  {
   "cell_type": "code",
   "execution_count": null,
   "metadata": {},
   "outputs": [],
   "source": [
    "# refs['is_den_notcovben'] = np.where(refs['status_name']=='DENIED - NOT A COVERED BENEFIT', 1, 0)"
   ]
  },
  {
   "cell_type": "code",
   "execution_count": null,
   "metadata": {},
   "outputs": [],
   "source": [
    "# refs['is_den_notmednec'] = np.where(refs['status_name']=='DENIED - CM', 1, 0)"
   ]
  },
  {
   "cell_type": "code",
   "execution_count": null,
   "metadata": {},
   "outputs": [],
   "source": [
    "refs.PPL.fillna(\"N\", inplace=True)"
   ]
  },
  {
   "cell_type": "code",
   "execution_count": null,
   "metadata": {},
   "outputs": [],
   "source": [
    "refs['is_PPL'] = np.where(refs['PPL']=='Y', 1, 0)"
   ]
  },
  {
   "cell_type": "code",
   "execution_count": null,
   "metadata": {},
   "outputs": [],
   "source": [
    "den_conditions = [\n",
    " (refs['status_name'] == 'DENIED - CM') |\n",
    " (refs['status_name'] == 'DENIED - BENEFIT CARVE OUT') |\n",
    " (refs['status_name'] == 'DENIED - NOT A COVERED BENEFIT') |\n",
    " (refs['status_name'] == 'DENIED - APPEAL') |\n",
    " (refs['status_name'] == 'DENIED - CLINICAL TRIAL/EXP/INV') |\n",
    " (refs['status_name'] == 'DENIED - TRANSPLANT') |\n",
    " (refs['status_name'] == 'DENIED - MD') |\n",
    " (refs['status_name'] == 'DENIED - CM/MD') |\n",
    " (refs['status_name'] == 'DENIED - REDIRECT OSVN') |\n",
    " (refs['status_name'] == 'DENIED - TICKLER')\n",
    "  ]"
   ]
  },
  {
   "cell_type": "code",
   "execution_count": null,
   "metadata": {},
   "outputs": [],
   "source": [
    "choices = [1]\n",
    "refs['is_den'] = np.select(den_conditions, choices, default=0)"
   ]
  },
  {
   "cell_type": "code",
   "execution_count": null,
   "metadata": {},
   "outputs": [],
   "source": [
    "#refs['is_app'] = np.where(refs['status_cat']=='APPROVED', 1, 0)"
   ]
  },
  {
   "cell_type": "code",
   "execution_count": null,
   "metadata": {},
   "outputs": [],
   "source": [
    "#refs['is_notapp'] = np.where(refs['status_cat']!='APPROVED', 1, 0)"
   ]
  },
  {
   "cell_type": "code",
   "execution_count": null,
   "metadata": {},
   "outputs": [],
   "source": [
    "# mod_conditions = [\n",
    "#     (refs['status_name'] == 'DENIED - MODIFIED CM') | \n",
    "#     (refs['status_name'] == 'DENIED - MODIFIED')\n",
    "# ]"
   ]
  },
  {
   "cell_type": "code",
   "execution_count": null,
   "metadata": {},
   "outputs": [],
   "source": [
    "# choices = [1]\n",
    "# refs['is_den_mod'] = np.select(mod_conditions, choices, default=0)"
   ]
  },
  {
   "cell_type": "code",
   "execution_count": null,
   "metadata": {},
   "outputs": [],
   "source": [
    "# refs['is_den_bencarvout'] = np.where(refs['status_name']=='DENIED - BENEFIT CARVE OUT', 1, 0)"
   ]
  },
  {
   "cell_type": "code",
   "execution_count": null,
   "metadata": {},
   "outputs": [],
   "source": [
    "## find TAT and touches for manually reviewed referrals"
   ]
  },
  {
   "cell_type": "code",
   "execution_count": null,
   "metadata": {},
   "outputs": [],
   "source": [
    "refs_manual = refs[refs['is_autoapp']==0]"
   ]
  },
  {
   "cell_type": "code",
   "execution_count": null,
   "metadata": {},
   "outputs": [],
   "source": [
    "## Calculate Cost per manually reviewed CPT code\n",
    "\n",
    "ga_cpt = 6500000 / refs[refs['is_autoapp']==0].shape[0]"
   ]
  },
  {
   "cell_type": "code",
   "execution_count": null,
   "metadata": {},
   "outputs": [],
   "source": [
    "ga_cpt"
   ]
  },
  {
   "cell_type": "code",
   "execution_count": null,
   "metadata": {},
   "outputs": [],
   "source": [
    "refssum_manual = refs_manual.groupby(['Specialty', 'CPT_Code', 'is_PPL'], as_index=False).agg({\n",
    "    'TAT' : 'mean',\n",
    "    'NumberOfUserEventsNoViews': 'mean',\n",
    "    'UNITS' : 'count'\n",
    "})"
   ]
  },
  {
   "cell_type": "code",
   "execution_count": null,
   "metadata": {},
   "outputs": [],
   "source": [
    "refssum_manual.rename(index=str, columns={'UNITS': 'UNITS_man'}, inplace=True)"
   ]
  },
  {
   "cell_type": "code",
   "execution_count": null,
   "metadata": {},
   "outputs": [],
   "source": [
    "refssum_manual.rename(index=str, columns={'NumberOfUserEventsNoViews': 'mean_touches_manual'}, inplace=True)"
   ]
  },
  {
   "cell_type": "code",
   "execution_count": null,
   "metadata": {},
   "outputs": [],
   "source": [
    "refssum_manual['cost_to_review'] = refssum_manual['UNITS_man']*ga_cpt"
   ]
  },
  {
   "cell_type": "code",
   "execution_count": null,
   "metadata": {},
   "outputs": [],
   "source": [
    "refssum = refs.groupby(['Specialty', 'CPT_Code', 'is_PPL'], as_index=False).agg({\n",
    "    'UNITS': 'count',\n",
    "    'is_autoapp': 'mean',\n",
    "    'is_den': 'mean',\n",
    "})"
   ]
  },
  {
   "cell_type": "code",
   "execution_count": null,
   "metadata": {},
   "outputs": [],
   "source": [
    "refssum.head()"
   ]
  },
  {
   "cell_type": "code",
   "execution_count": null,
   "metadata": {},
   "outputs": [],
   "source": [
    "refssum_manual.head()"
   ]
  },
  {
   "cell_type": "code",
   "execution_count": null,
   "metadata": {},
   "outputs": [],
   "source": [
    "# refs_denTAT = refs[(refs['status_cat']!='APPROVED') & (refs['is_autoapp']==0)].groupby(['Specialty', 'CPT_Code', 'is_PPL'], as_index=False).agg({\n",
    "#     'TAT': 'mean',\n",
    "#     'NumberOfUserEventsNoViews': 'mean'\n",
    "# })"
   ]
  },
  {
   "cell_type": "code",
   "execution_count": null,
   "metadata": {},
   "outputs": [],
   "source": [
    "# refs_denTAT.rename(index=str, columns={'NumberOfUserEventsNoViews': 'mean_touches_manual_den'}, inplace=True)"
   ]
  },
  {
   "cell_type": "code",
   "execution_count": null,
   "metadata": {},
   "outputs": [],
   "source": [
    "# refs_denTAT.rename(index=str, columns={'TAT': 'den_TAT'}, inplace=True)"
   ]
  },
  {
   "cell_type": "code",
   "execution_count": null,
   "metadata": {},
   "outputs": [],
   "source": [
    "# refs_appTAT = refs[(refs['status_cat']=='APPROVED') & (refs['is_autoapp']==0)].groupby(['Specialty', 'CPT_Code', 'is_PPL'], as_index=False).agg({\n",
    "#     'TAT': 'mean',\n",
    "#     'NumberOfUserEventsNoViews': 'mean'\n",
    "# })"
   ]
  },
  {
   "cell_type": "code",
   "execution_count": null,
   "metadata": {},
   "outputs": [],
   "source": [
    "# refs_appTAT.rename(index=str, columns={'NumberOfUserEventsNoViews': 'mean_touches_manual_app'}, inplace=True)"
   ]
  },
  {
   "cell_type": "code",
   "execution_count": null,
   "metadata": {},
   "outputs": [],
   "source": [
    "# refs_appTAT.rename(index=str, columns={'TAT': 'app_TAT'}, inplace=True)"
   ]
  },
  {
   "cell_type": "code",
   "execution_count": null,
   "metadata": {},
   "outputs": [],
   "source": [
    "refs_w_claims0 = pd.merge(refssum, refssum_manual, on=['Specialty', 'CPT_Code', 'is_PPL'], how='left')"
   ]
  },
  {
   "cell_type": "code",
   "execution_count": null,
   "metadata": {},
   "outputs": [],
   "source": [
    "refs_w_claims1 = pd.merge(refs_w_claims0, claims, on=['Specialty', 'CPT_Code'], how='left')"
   ]
  },
  {
   "cell_type": "code",
   "execution_count": null,
   "metadata": {},
   "outputs": [],
   "source": [
    "refs_w_claims2 = pd.merge(refs_w_claims1, claims_sum, on='CPT_Code', how='left')"
   ]
  },
  {
   "cell_type": "code",
   "execution_count": null,
   "metadata": {},
   "outputs": [],
   "source": [
    "refs_w_claims2['avg_hcp_cost_x'] = np.where(refs_w_claims2['avg_hcp_cost_x'].isnull(), \n",
    "                                             refs_w_claims2['avg_hcp_cost_y'],\n",
    "                                             refs_w_claims2['avg_hcp_cost_x'])"
   ]
  },
  {
   "cell_type": "code",
   "execution_count": null,
   "metadata": {},
   "outputs": [],
   "source": [
    "refs_w_claims2.drop(columns=['avg_hcp_cost_y', 'sd_hcp_cost'], inplace=True)"
   ]
  },
  {
   "cell_type": "code",
   "execution_count": null,
   "metadata": {},
   "outputs": [],
   "source": [
    "refs_w_claims2.rename(index=str, columns={'avg_hcp_cost_x': 'avg_hcp_cost'}, inplace=True)"
   ]
  },
  {
   "cell_type": "code",
   "execution_count": null,
   "metadata": {},
   "outputs": [],
   "source": [
    "refs_w_claims3 = pd.merge(refs_w_claims2, xwalk, left_on='CPT_Code', right_on='PROCEDURE_CODE', how='left')"
   ]
  },
  {
   "cell_type": "code",
   "execution_count": null,
   "metadata": {},
   "outputs": [],
   "source": [
    "# refs_w_claims2 = pd.merge(refs_w_claims1, refs_denTAT, on=['Specialty', 'CPT_Code', 'is_PPL'], how='left')"
   ]
  },
  {
   "cell_type": "code",
   "execution_count": null,
   "metadata": {},
   "outputs": [],
   "source": [
    "# refs_w_claims_fin = pd.merge(refs_w_claims2, refs_appTAT, on=['Specialty', 'CPT_Code', 'is_PPL'], how='left')"
   ]
  },
  {
   "cell_type": "code",
   "execution_count": null,
   "metadata": {},
   "outputs": [],
   "source": [
    "refs_w_claims_fin = refs_w_claims3"
   ]
  },
  {
   "cell_type": "code",
   "execution_count": null,
   "metadata": {},
   "outputs": [],
   "source": [
    "refs_w_claims_fin['sum_cost_denied'] = refs_w_claims_fin['is_den']*refs_w_claims_fin['UNITS']*refs_w_claims_fin['avg_hcp_cost']"
   ]
  },
  {
   "cell_type": "code",
   "execution_count": null,
   "metadata": {},
   "outputs": [],
   "source": [
    "# refs_w_claims_fin['TAT_total'] = refs_w_claims_fin['UNITS_man']*refs_w_claims_fin['TAT']"
   ]
  },
  {
   "cell_type": "code",
   "execution_count": null,
   "metadata": {},
   "outputs": [],
   "source": [
    "# refs_w_claims_fin['dollars_denied_per_TAT'] = refs_w_claims_fin['sum_cost_denied']/refs_w_claims_fin['TAT_total']"
   ]
  },
  {
   "cell_type": "code",
   "execution_count": null,
   "metadata": {},
   "outputs": [],
   "source": [
    "refs_w_claims_fin['ROI'] = refs_w_claims_fin['sum_cost_denied']/refs_w_claims_fin['cost_to_review']"
   ]
  },
  {
   "cell_type": "code",
   "execution_count": null,
   "metadata": {},
   "outputs": [],
   "source": [
    "## For groups that were auto-approved at 100%, the denominator of ROI is 0, and ROI is undefined. \n",
    "## Update the ROI for those to = 0 so they are included in the dictionaries to auto-approve going forward.\n",
    "refs_w_claims_fin['ROI'] = np.where(refs_w_claims_fin['ROI'].isnull(), 0.01, refs_w_claims_fin['ROI'])\n",
    "        "
   ]
  },
  {
   "cell_type": "code",
   "execution_count": null,
   "metadata": {},
   "outputs": [],
   "source": [
    "refs_w_claims_fin['cost_to_review'].sum()"
   ]
  },
  {
   "cell_type": "code",
   "execution_count": null,
   "metadata": {},
   "outputs": [],
   "source": [
    "refs_w_claims_fin['auto_approve'] = np.where(refs_w_claims_fin['ROI']<1, 1, 0)"
   ]
  },
  {
   "cell_type": "code",
   "execution_count": null,
   "metadata": {},
   "outputs": [],
   "source": [
    "# refs_w_claims_fin['touches_total'] = refs_w_claims_fin['UNITS_man']*refs_w_claims_fin['mean_touches_manual_app']"
   ]
  },
  {
   "cell_type": "code",
   "execution_count": null,
   "metadata": {},
   "outputs": [],
   "source": [
    "# refs_w_claims_fin['Dollars_denied_per_touch'] = refs_w_claims_fin['sum_cost_denied']/refs_w_claims_fin['touches_total']"
   ]
  },
  {
   "cell_type": "code",
   "execution_count": null,
   "metadata": {},
   "outputs": [],
   "source": [
    "# refs_w_claims_fin.to_csv('../data/refs2018_w_claims_20190227.csv')"
   ]
  },
  {
   "cell_type": "code",
   "execution_count": null,
   "metadata": {},
   "outputs": [],
   "source": [
    "## Model Additional Auto Approvals when different thresholds are set.\n",
    "## Approach: use \"given\" threshold to determine which CPT codes are \"auto-approve\"-able for each specialty\n",
    "##  - For loop through referrals, return 1 if all CPT codes are on \"auto-approve\"-able list, else 0 "
   ]
  },
  {
   "cell_type": "code",
   "execution_count": null,
   "metadata": {},
   "outputs": [],
   "source": [
    "## Function that gathers CPT codes that are auto-approvable and stores them in a dictionary.\n",
    "def create_dict_of_CPT_codes(specialty_cpt, PPL=1):\n",
    "    list_o_specs = specialty_cpt['Specialty'].unique().tolist()\n",
    "    spec_dict = {k: [] for k in list_o_specs}\n",
    "    for index, row in specialty_cpt.iterrows():\n",
    "        if row['auto_approve'] == 1:\n",
    "            if row['is_PPL'] == PPL:\n",
    "                if row['UNITS'] > 30:\n",
    "                    spec_dict[row['Specialty']].append(row['CPT_Code'])\n",
    "    return spec_dict\n",
    "            "
   ]
  },
  {
   "cell_type": "code",
   "execution_count": null,
   "metadata": {},
   "outputs": [],
   "source": [
    "spec_dict_PPL = create_dict_of_CPT_codes(refs_w_claims_fin)"
   ]
  },
  {
   "cell_type": "code",
   "execution_count": null,
   "metadata": {},
   "outputs": [],
   "source": [
    "spec_dict_EPL = create_dict_of_CPT_codes(refs_w_claims_fin, PPL=0)"
   ]
  },
  {
   "cell_type": "code",
   "execution_count": null,
   "metadata": {},
   "outputs": [],
   "source": [
    "## Create dictionaries to store added and removed codes for EPL and PPL dictionaries\n",
    "list_o_specs = refs_w_claims_fin['Specialty'].unique().tolist()\n",
    "spec_dict_EPL_added = spec_dict = {k: [] for k in list_o_specs}\n",
    "spec_dict_EPL_removed = spec_dict = {k: [] for k in list_o_specs}\n",
    "spec_dict_PPL_added = spec_dict = {k: [] for k in list_o_specs}\n",
    "spec_dict_PPL_removed = spec_dict = {k: [] for k in list_o_specs}"
   ]
  },
  {
   "cell_type": "code",
   "execution_count": null,
   "metadata": {},
   "outputs": [],
   "source": [
    "## Ensure each list of codes has no repeats through the set function. This keeps things clean\n",
    "for spec in list_o_specs:\n",
    "    spec_dict_PPL[spec] = list(set(spec_dict_PPL[spec]))\n",
    "    spec_dict_EPL[spec] = list(set(spec_dict_EPL[spec]))"
   ]
  },
  {
   "cell_type": "code",
   "execution_count": null,
   "metadata": {},
   "outputs": [],
   "source": [
    "## Remove from EPL lists codes that don't appear in PPL list. \n",
    "## Spirit of this is to keep EPL lists more conservative\n",
    "for spec in list_o_specs:\n",
    "    epl_list = spec_dict_EPL[spec]\n",
    "    ppl_list = spec_dict_PPL[spec]\n",
    "    new_epl = [x for x in epl_list if x in ppl_list]\n",
    "    spec_dict_EPL[spec] = new_epl"
   ]
  },
  {
   "cell_type": "code",
   "execution_count": null,
   "metadata": {},
   "outputs": [],
   "source": [
    "refs_w_claims_fin[(refs_w_claims_fin['Specialty']=='PAIN MANAGEMENT') &\n",
    "                 (refs_w_claims_fin['is_PPL']==1) &\n",
    "                 (refs_w_claims_fin['auto_approve']==1) &\n",
    "                 (refs_w_claims_fin['UNITS']>30)].shape"
   ]
  },
  {
   "cell_type": "markdown",
   "metadata": {},
   "source": [
    "## Define codes to ADD or REMOVE from each list"
   ]
  },
  {
   "cell_type": "code",
   "execution_count": null,
   "metadata": {},
   "outputs": [],
   "source": [
    "## ADD Derm codes - provided my Christel McRae (124)\n",
    "derm_add0 = ['10060','10061','11000','11055','11057','11100','11101','11300','11301','11302','11303','11305',\n",
    "            '11306','11307','11308','11310','11311','11312','11313','11400','11401','11402','11403','11404',\n",
    "            '11406','11420','11421','11422','11423','11424','11426','11440','11441','11442','11443','11600',\n",
    "            '11601','11602','11603','11604','11606','11620','11621','11622','11623','11624','11626','11640',\n",
    "            '11641','11642','11643','11644','11646','11900','11901','29580','54050','54056','54100','67810',\n",
    "            '69100','87101','87220','J3301','10061','10080','10081','10140','10180','11055','11056','11057',\n",
    "            '11101','11300','11301','11302','11303','11305','11306','11307','11308','11310','11311','11312',\n",
    "            '11313','11400','11401','11401','11403','11404','11406','11420','11421','11422','11423','11424',\n",
    "            '11426','11440','11441','11442','11443','11444','11446','11600','11601','11602','11603','11604',\n",
    "            '11606','11620','11621','11622','11623','11624','11626','11640','11641','11642','11643','11644',\n",
    "            '11646','11900','11901','54105']\n"
   ]
  },
  {
   "cell_type": "code",
   "execution_count": null,
   "metadata": {},
   "outputs": [],
   "source": [
    "## find unique values (72)\n",
    "derm_add = list(set(derm_add0))"
   ]
  },
  {
   "cell_type": "code",
   "execution_count": null,
   "metadata": {},
   "outputs": [],
   "source": [
    "## ADD Pain Add for PPL\n",
    "pain_add0 = ['99203','99204','99213','99214']"
   ]
  },
  {
   "cell_type": "code",
   "execution_count": null,
   "metadata": {},
   "outputs": [],
   "source": [
    "## ADD Gastro and General Surgery for PPL and EPL\n",
    "gi_add0 = ['45378','45380','45385','G0105','G0121','00812']"
   ]
  },
  {
   "cell_type": "code",
   "execution_count": null,
   "metadata": {},
   "outputs": [],
   "source": [
    "## ADD Blood Transfusions - across all specialties PPL and EPL\n",
    "bt_add0 = ['36430','86900','86901','86902','86903','86904','86905','86906','86907','86908','86909','86910'\n",
    "          ,'86911','86912','86913','86914','86915','86916','86917','86918','86919','86920']"
   ]
  },
  {
   "cell_type": "code",
   "execution_count": null,
   "metadata": {},
   "outputs": [],
   "source": [
    "## ADD Podiatry\n",
    "podiatry_add0 = ['11055']"
   ]
  },
  {
   "cell_type": "code",
   "execution_count": null,
   "metadata": {},
   "outputs": [],
   "source": [
    "## REMOVE from all dictionaries\n",
    "codes_to_remove0 = ['97810','95115','95116','95117','95170','95180','95181','95182','95183','95184','95185','95186',\n",
    "                   '95187','95188','95199','95004','A0999','A0426','A0427','A0428','A0429','92590','92591','92592',\n",
    "                   '92593','92594','90901','90902','90903','90904','90905','90906','90907','90908','90909','90910',\n",
    "                   '90911','90875','90876','86890','93798','98940','J1050','58301','58565','58611','G0337',\n",
    "                   '74740','89320','J3490','J0717','J1438','J7321','J7322','J7323','J7324','J7325','J3489','J0135',\n",
    "                   'J3030','J1830','J9215','J9218','J0129','J9202','J3301','J1745','96365','96366','90378','J2505',\n",
    "                   'J1440','J1441','J0885','J0886','T1013','96118','96119','96120','97166','97167','97168','97110',\n",
    "                   '92015','97162','97163','97110','36468','92506','55250','59840',\n",
    "                   'S0199','S0618','92595','58300','J7300','57170','A4266','11981',\n",
    "                   'J7302','J7300','58670','59600','58605','64612','J0585','11055',\n",
    "                   '11057','11719','11721','G0127','S0390']"
   ]
  },
  {
   "cell_type": "code",
   "execution_count": null,
   "metadata": {},
   "outputs": [],
   "source": [
    "codes_to_remove = list(set(codes_to_remove0))"
   ]
  },
  {
   "cell_type": "code",
   "execution_count": null,
   "metadata": {},
   "outputs": [],
   "source": [
    "## Define function that takes specialty:cpt code list dictionary, list of cpt\n",
    "## codes, and \"add\" or \"remove\" parameter and adjusts the dictionary\n",
    "def add_remove_cpt_codes(spec_cpt_dict, spec_cpt_dict_add_remove, spec_list, cpt_list, add=True):\n",
    "    if add == True:\n",
    "        for spec in spec_list:\n",
    "            for code in cpt_list:\n",
    "                if code in spec_cpt_dict[spec]:\n",
    "                    continue\n",
    "                else:\n",
    "                    spec_cpt_dict[spec].append(code)\n",
    "                    spec_cpt_dict_add_remove[spec].append(code)\n",
    "    else:\n",
    "        for spec in spec_list:\n",
    "            for code in cpt_list:\n",
    "                if code in spec_cpt_dict[spec]:\n",
    "                    spec_cpt_dict[spec].remove(code)\n",
    "                    spec_cpt_dict_add_remove[spec].append(code)\n",
    "                else:\n",
    "                    continue\n",
    "    return spec_cpt_dict, spec_cpt_dict_add_remove\n",
    "\n",
    "        "
   ]
  },
  {
   "cell_type": "code",
   "execution_count": null,
   "metadata": {},
   "outputs": [],
   "source": [
    "## add derm\n",
    "spec_dict_PPL, spec_dict_PPL_added = add_remove_cpt_codes(spec_dict_PPL, spec_dict_PPL_added, ['DERMATOLOGY'], derm_add)\n",
    "spec_dict_EPL, spec_dict_EPL_added = add_remove_cpt_codes(spec_dict_EPL, spec_dict_EPL_added, ['DERMATOLOGY'], derm_add)"
   ]
  },
  {
   "cell_type": "code",
   "execution_count": null,
   "metadata": {},
   "outputs": [],
   "source": [
    "## add pain\n",
    "spec_dict_PPL, spec_dict_PPL_added = add_remove_cpt_codes(spec_dict_PPL, spec_dict_PPL_added, ['PAIN MANAGEMENT'], pain_add0)\n",
    "spec_dict_EPL, spec_dict_EPL_added = add_remove_cpt_codes(spec_dict_EPL, spec_dict_EPL_added, ['PAIN MANAGEMENT'], pain_add0)"
   ]
  },
  {
   "cell_type": "code",
   "execution_count": null,
   "metadata": {},
   "outputs": [],
   "source": [
    "## add pain\n",
    "spec_dict_PPL, spec_dict_PPL_added = add_remove_cpt_codes(spec_dict_PPL, spec_dict_PPL_added, \n",
    "                                                          ['GASTROENTEROLOGY','SURGERY - GENERAL'], gi_add0)\n",
    "spec_dict_EPL, spec_dict_EPL_added = add_remove_cpt_codes(spec_dict_EPL, spec_dict_EPL_added, \n",
    "                                                          ['GASTROENTEROLOGY','SURGERY - GENERAL'], gi_add0)"
   ]
  },
  {
   "cell_type": "code",
   "execution_count": null,
   "metadata": {},
   "outputs": [],
   "source": [
    "## add pain\n",
    "spec_dict_PPL, spec_dict_PPL_added = add_remove_cpt_codes(spec_dict_PPL, spec_dict_PPL_added, ['PODIATRY'], podiatry_add0)\n",
    "spec_dict_EPL, spec_dict_EPL_added = add_remove_cpt_codes(spec_dict_EPL, spec_dict_EPL_added, ['PODIATRY'], podiatry_add0)"
   ]
  },
  {
   "cell_type": "code",
   "execution_count": null,
   "metadata": {},
   "outputs": [],
   "source": [
    "## remove codes from PPL\n",
    "spec_dict_PPL, spec_dict_PPL_removed = add_remove_cpt_codes(spec_dict_PPL, spec_dict_PPL_removed, list_o_specs, codes_to_remove, add=False)"
   ]
  },
  {
   "cell_type": "code",
   "execution_count": null,
   "metadata": {},
   "outputs": [],
   "source": [
    "## remove codes from EPL\n",
    "spec_dict_EPL, spec_dict_EPL_removed = add_remove_cpt_codes(spec_dict_EPL, spec_dict_EPL_removed, list_o_specs, codes_to_remove, add=False)"
   ]
  },
  {
   "cell_type": "code",
   "execution_count": null,
   "metadata": {},
   "outputs": [],
   "source": [
    "def assign_status(codes, spec_dict_PPL, spec_dict_EPL):\n",
    "    status = list(np.zeros(codes.shape[0]))\n",
    "    for index, row in codes.iterrows():\n",
    "        if row['PPL'] == 'Y':\n",
    "            if row['CPT_Code'] in spec_dict_PPL[row['Specialty']]:\n",
    "                status[index] = 1\n",
    "        else:\n",
    "            if row['CPT_Code'] in spec_dict_EPL[row['Specialty']]:\n",
    "                status[index] = 1\n",
    "    return status"
   ]
  },
  {
   "cell_type": "code",
   "execution_count": null,
   "metadata": {},
   "outputs": [],
   "source": [
    "auto_approve = assign_status(refs_det, spec_dict_PPL, spec_dict_EPL)"
   ]
  },
  {
   "cell_type": "code",
   "execution_count": null,
   "metadata": {},
   "outputs": [],
   "source": [
    "refs_det['auto_approvable'] = auto_approve"
   ]
  },
  {
   "cell_type": "code",
   "execution_count": null,
   "metadata": {},
   "outputs": [],
   "source": [
    "refs_results = refs_det.groupby(['HCP_CONNECT_AUTH_NUMBER', 'Specialty','status_name', 'PPL'], as_index=False).agg({'auto_approvable': 'mean'})"
   ]
  },
  {
   "cell_type": "code",
   "execution_count": null,
   "metadata": {},
   "outputs": [],
   "source": []
  },
  {
   "cell_type": "code",
   "execution_count": null,
   "metadata": {},
   "outputs": [],
   "source": [
    "refs_results['aa-yn'] = np.where(refs_results['auto_approvable']==1, 1, 0)"
   ]
  },
  {
   "cell_type": "code",
   "execution_count": null,
   "metadata": {},
   "outputs": [],
   "source": [
    "refs_det.head()"
   ]
  },
  {
   "cell_type": "code",
   "execution_count": null,
   "metadata": {},
   "outputs": [],
   "source": [
    "refs_results.head()\n"
   ]
  },
  {
   "cell_type": "code",
   "execution_count": null,
   "metadata": {},
   "outputs": [],
   "source": [
    "# refs_results.pivot_table(values='aa-yn', index=['status_name', 'PPL'], aggfunc=['count', 'sum'], margins=True).to_csv('Data/results_100_percent.csv', sep='|')"
   ]
  },
  {
   "cell_type": "code",
   "execution_count": null,
   "metadata": {
    "scrolled": false
   },
   "outputs": [],
   "source": [
    "refs_results.pivot_table(values='aa-yn', index=['status_name', 'PPL'], aggfunc=['count', 'sum'], margins=True)"
   ]
  },
  {
   "cell_type": "code",
   "execution_count": null,
   "metadata": {},
   "outputs": [],
   "source": [
    "1379064/2086468"
   ]
  },
  {
   "cell_type": "code",
   "execution_count": null,
   "metadata": {},
   "outputs": [],
   "source": [
    "refs_results.pivot_table(values='aa-yn', index=['PPL'], aggfunc=['count', 'sum'], margins=True) ##.to_csv('../Data/spec_summary_20190227.csv')"
   ]
  },
  {
   "cell_type": "code",
   "execution_count": null,
   "metadata": {},
   "outputs": [],
   "source": [
    "# spec_dict_PPL_removed['OPHTHALMOLOGY']"
   ]
  },
  {
   "cell_type": "code",
   "execution_count": null,
   "metadata": {},
   "outputs": [],
   "source": [
    "# spec_dict_PPL_added['OPHTHALMOLOGY']"
   ]
  },
  {
   "cell_type": "code",
   "execution_count": null,
   "metadata": {},
   "outputs": [],
   "source": [
    "# spec_dict_PPL['OPHTHALMOLOGY']"
   ]
  },
  {
   "cell_type": "code",
   "execution_count": null,
   "metadata": {},
   "outputs": [],
   "source": [
    "# spec_dict_EPL_removed['OPHTHALMOLOGY']"
   ]
  },
  {
   "cell_type": "code",
   "execution_count": null,
   "metadata": {},
   "outputs": [],
   "source": [
    "# spec_dict_EPL_added['OPHTHALMOLOGY']"
   ]
  },
  {
   "cell_type": "code",
   "execution_count": null,
   "metadata": {},
   "outputs": [],
   "source": [
    "# spec_dict_EPL['OPHTHALMOLOGY']"
   ]
  },
  {
   "cell_type": "markdown",
   "metadata": {},
   "source": [
    "## Code Detail List"
   ]
  },
  {
   "cell_type": "code",
   "execution_count": null,
   "metadata": {},
   "outputs": [],
   "source": [
    "refs_w_claims_fin[(refs_w_claims_fin['Specialty']=='DERMATOLOGY')\n",
    "                 ##& (refs_w_claims_fin['UNITS']>30)\n",
    "                  & (refs_w_claims_fin['CPT_Code']=='11421')\n",
    "                 ] ##.to_csv('../Data/code_detail_20190228.csv', sep='|')"
   ]
  },
  {
   "cell_type": "markdown",
   "metadata": {},
   "source": [
    "## Spot Check Specific Referrals"
   ]
  },
  {
   "cell_type": "code",
   "execution_count": null,
   "metadata": {
    "scrolled": true
   },
   "outputs": [],
   "source": [
    "refs_results[(refs_results['Specialty']=='DERMATOLOGY') \n",
    "             & (refs_results['status_name']=='DENIED - CM')\n",
    "            & (refs_results['aa-yn']==1)].tail(10)"
   ]
  },
  {
   "cell_type": "markdown",
   "metadata": {},
   "source": [
    "## Referral Detail Lookup (Enter Auth)"
   ]
  },
  {
   "cell_type": "code",
   "execution_count": null,
   "metadata": {},
   "outputs": [],
   "source": [
    "refs_det[refs_det['HCP_CONNECT_AUTH_NUMBER']=='14931407H']"
   ]
  },
  {
   "cell_type": "markdown",
   "metadata": {},
   "source": [
    "## Auth Lookup (Enter Specialty and Code)"
   ]
  },
  {
   "cell_type": "code",
   "execution_count": null,
   "metadata": {},
   "outputs": [],
   "source": [
    "refs_det[(refs_det['Specialty']=='RHEUMATOLOGY')\n",
    "        & (refs_det['CPT_Code']=='73620')\n",
    "        ##& (refs_det['auto_approvable'] == 0)\n",
    "        ]"
   ]
  },
  {
   "cell_type": "code",
   "execution_count": null,
   "metadata": {},
   "outputs": [],
   "source": [
    "refs_w_claims_fin.head()"
   ]
  },
  {
   "cell_type": "code",
   "execution_count": null,
   "metadata": {},
   "outputs": [],
   "source": []
  }
 ],
 "metadata": {
  "kernelspec": {
   "display_name": "Python 3",
   "language": "python",
   "name": "python3"
  }
 },
 "nbformat": 4,
 "nbformat_minor": 2
}
